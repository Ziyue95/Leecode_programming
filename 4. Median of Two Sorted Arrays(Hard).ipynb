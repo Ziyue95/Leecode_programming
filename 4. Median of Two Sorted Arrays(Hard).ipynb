{
 "cells": [
  {
   "cell_type": "markdown",
   "metadata": {},
   "source": [
    "Given two sorted arrays nums1 and nums2 of size m and n respectively, return the median of the two sorted arrays.\n",
    "\n",
    "Example 1:\n",
    "\n",
    "Input: nums1 = [1,3], nums2 = [2]\n",
    "    \n",
    "Output: 2.00000\n",
    "    \n",
    "Explanation: merged array = [1,2,3] and median is 2.\n",
    "    \n",
    "Example 2:\n",
    "\n",
    "Input: nums1 = [1,2], nums2 = [3,4]\n",
    "    \n",
    "Output: 2.50000\n",
    "    \n",
    "Explanation: merged array = [1,2,3,4] and median is (2 + 3) / 2 = 2.5.\n",
    "    \n",
    "Example 3:\n",
    "\n",
    "Input: nums1 = [0,0], nums2 = [0,0]\n",
    "    \n",
    "Output: 0.00000\n",
    "    \n",
    "Example 4:\n",
    "\n",
    "Input: nums1 = [], nums2 = [1]\n",
    "    \n",
    "Output: 1.00000\n",
    "    \n",
    "Example 5:\n",
    "\n",
    "Input: nums1 = [2], nums2 = []\n",
    "    \n",
    "Output: 2.00000\n",
    " \n",
    "\n",
    "Constraints:\n",
    "\n",
    "nums1.length == m\n",
    "\n",
    "nums2.length == n\n",
    "\n",
    "0 <= m <= 1000\n",
    "\n",
    "0 <= n <= 1000\n",
    "\n",
    "1 <= m + n <= 2000\n",
    "\n",
    "-106 <= nums1[i], nums2[i] <= 106"
   ]
  },
  {
   "cell_type": "code",
   "execution_count": 6,
   "metadata": {},
   "outputs": [
    {
     "data": {
      "text/plain": [
       "[1, 2]"
      ]
     },
     "execution_count": 6,
     "metadata": {},
     "output_type": "execute_result"
    }
   ],
   "source": [
    "nums1 = [1,1]\n",
    "nums2 = [1,2]\n",
    "num = sorted(set(nums1+nums2))\n",
    "num"
   ]
  },
  {
   "cell_type": "code",
   "execution_count": 5,
   "metadata": {},
   "outputs": [
    {
     "data": {
      "text/plain": [
       "2.0"
      ]
     },
     "execution_count": 5,
     "metadata": {},
     "output_type": "execute_result"
    }
   ],
   "source": [
    "4/2"
   ]
  }
 ],
 "metadata": {
  "kernelspec": {
   "display_name": "Python 3",
   "language": "python",
   "name": "python3"
  },
  "language_info": {
   "codemirror_mode": {
    "name": "ipython",
    "version": 3
   },
   "file_extension": ".py",
   "mimetype": "text/x-python",
   "name": "python",
   "nbconvert_exporter": "python",
   "pygments_lexer": "ipython3",
   "version": "3.8.5"
  }
 },
 "nbformat": 4,
 "nbformat_minor": 4
}
