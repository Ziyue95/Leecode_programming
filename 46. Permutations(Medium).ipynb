{
 "cells": [
  {
   "cell_type": "markdown",
   "metadata": {},
   "source": [
    "Given an array nums of distinct integers, return all the possible permutations. You can return the answer in any order.\n",
    "\n",
    "Example 1:\n",
    "\n",
    "Input: nums = [1,2,3]\n",
    "    \n",
    "Output: [[1,2,3],[1,3,2],[2,1,3],[2,3,1],[3,1,2],[3,2,1]]\n",
    "    \n",
    "Example 2:\n",
    "\n",
    "Input: nums = [0,1]\n",
    "    \n",
    "Output: [[0,1],[1,0]]\n",
    "    \n",
    "Example 3:\n",
    "\n",
    "Input: nums = [1]\n",
    "    \n",
    "Output: [[1]]\n",
    " \n",
    "\n",
    "Constraints:\n",
    "\n",
    "1 <= nums.length <= 6\n",
    "\n",
    "-10 <= nums[i] <= 10\n",
    "\n",
    "All the integers of nums are unique."
   ]
  },
  {
   "cell_type": "markdown",
   "metadata": {},
   "source": [
    "My Solution: Backtracking"
   ]
  },
  {
   "cell_type": "code",
   "execution_count": 2,
   "metadata": {},
   "outputs": [
    {
     "name": "stdout",
     "output_type": "stream",
     "text": [
      "[[1, 2], [2, 1]]\n",
      "[[1, 2, 3], [1, 3, 2], [2, 1, 3], [2, 3, 1], [3, 2, 1], [3, 1, 2]]\n"
     ]
    }
   ],
   "source": [
    "class Solution:\n",
    "    def permute(self, nums):\n",
    "        result = []\n",
    "        lenNums = len(nums)\n",
    "        #nums.sort()\n",
    "        def backTracking(index):\n",
    "            if index == lenNums:\n",
    "                result.append(nums[:])\n",
    "                return\n",
    "            for i in range(index, lenNums):\n",
    "                nums[i], nums[index] = nums[index], nums[i]# swap elements\n",
    "                backTracking(index + 1)\n",
    "                nums[i], nums[index] = nums[index], nums[i]# swap elements back\n",
    "            return\n",
    "        backTracking(0)\n",
    "        return result\n",
    "    \n",
    "if __name__ == '__main__':\n",
    "    # begin\n",
    "    s = Solution()\n",
    "    print(s.permute([1,2]))\n",
    "    print(s.permute([1,2,3]))"
   ]
  },
  {
   "cell_type": "markdown",
   "metadata": {},
   "source": [
    "### Result"
   ]
  },
  {
   "cell_type": "markdown",
   "metadata": {},
   "source": [
    "Runtime: 16 ms, faster than 100.00% of Python online submissions for Permutations.\n",
    "    \n",
    "Memory Usage: 13.5 MB, less than 64.92% of Python online submissions for Permutations."
   ]
  },
  {
   "cell_type": "markdown",
   "metadata": {},
   "source": [
    "Good Solutions:"
   ]
  },
  {
   "cell_type": "markdown",
   "metadata": {},
   "source": [
    "1. Using same idea but more simple code:"
   ]
  },
  {
   "cell_type": "code",
   "execution_count": 4,
   "metadata": {},
   "outputs": [
    {
     "name": "stdout",
     "output_type": "stream",
     "text": [
      "[[1, 2], [2, 1]]\n",
      "[[1, 2, 3], [1, 3, 2], [2, 1, 3], [2, 3, 1], [3, 1, 2], [3, 2, 1]]\n"
     ]
    }
   ],
   "source": [
    "class Solution(object):\n",
    "    def permute(self, nums):\n",
    "        return [[n] + p\n",
    "                for i, n in enumerate(nums)\n",
    "                for p in self.permute(nums[:i] + nums[i+1:])] or [[]]\n",
    "        \n",
    "if __name__ == '__main__':\n",
    "    # begin\n",
    "    s = Solution()\n",
    "    print(s.permute([1,2]))\n",
    "    print(s.permute([1,2,3]))"
   ]
  },
  {
   "cell_type": "markdown",
   "metadata": {},
   "source": [
    "### Result"
   ]
  },
  {
   "cell_type": "markdown",
   "metadata": {},
   "source": [
    "Runtime: 32 ms, faster than 36.05% of Python online submissions for Permutations.\n",
    "    \n",
    "Memory Usage: 13.6 MB, less than 37.71% of Python online submissions for Permutations."
   ]
  },
  {
   "cell_type": "markdown",
   "metadata": {},
   "source": [
    "2. Use reduce function"
   ]
  },
  {
   "cell_type": "code",
   "execution_count": 20,
   "metadata": {},
   "outputs": [
    {
     "name": "stdout",
     "output_type": "stream",
     "text": [
      "[[2, 1], [1, 2]]\n",
      "[[3, 2, 1], [2, 3, 1], [2, 1, 3], [3, 1, 2], [1, 3, 2], [1, 2, 3]]\n"
     ]
    }
   ],
   "source": [
    "from functools import reduce\n",
    "class Solution(object):\n",
    "    def permute(self, nums):\n",
    "        return reduce(lambda P,n: [p[:i] + [n] + p[i:]\n",
    "                                    for p in P for i in range(len(p)+1)],\n",
    "                      nums, [[]])\n",
    "\n",
    "if __name__ == '__main__':\n",
    "    # begin\n",
    "    s = Solution()\n",
    "    print(s.permute([1,2]))\n",
    "    print(s.permute([1,2,3]))"
   ]
  }
 ],
 "metadata": {
  "kernelspec": {
   "display_name": "Python 3",
   "language": "python",
   "name": "python3"
  },
  "language_info": {
   "codemirror_mode": {
    "name": "ipython",
    "version": 3
   },
   "file_extension": ".py",
   "mimetype": "text/x-python",
   "name": "python",
   "nbconvert_exporter": "python",
   "pygments_lexer": "ipython3",
   "version": "3.8.8"
  }
 },
 "nbformat": 4,
 "nbformat_minor": 4
}
