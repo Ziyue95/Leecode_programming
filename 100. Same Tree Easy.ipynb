{
 "cells": [
  {
   "cell_type": "markdown",
   "id": "8de6876f",
   "metadata": {},
   "source": [
    "Given the roots of two binary trees p and q, write a function to check if they are the same or not.\n",
    "\n",
    "Two binary trees are considered the same if they are structurally identical, and the nodes have the same value.\n",
    "\n",
    " \n",
    "\n",
    "Example 1:\n",
    "\n",
    "\n",
    "    Input: p = [1,2,3], q = [1,2,3]\n",
    "    Output: true\n",
    "Example 2:\n",
    "\n",
    "\n",
    "    Input: p = [1,2], q = [1,null,2]\n",
    "    Output: false\n",
    "Example 3:\n",
    "\n",
    "\n",
    "    Input: p = [1,2,1], q = [1,1,2]\n",
    "    Output: false\n",
    " \n",
    "\n",
    "Constraints:\n",
    "\n",
    "    The number of nodes in both trees is in the range [0, 100].\n",
    "    -10**4 <= Node.val <= 10**4"
   ]
  },
  {
   "cell_type": "markdown",
   "id": "cf89b1c1",
   "metadata": {},
   "source": [
    "My Solution:"
   ]
  },
  {
   "cell_type": "code",
   "execution_count": null,
   "id": "bc8346dc",
   "metadata": {},
   "outputs": [],
   "source": [
    "# Definition for a binary tree node.\n",
    "# class TreeNode:\n",
    "#     def __init__(self, val=0, left=None, right=None):\n",
    "#         self.val = val\n",
    "#         self.left = left\n",
    "#         self.right = right\n",
    "class Solution:\n",
    "    def isSameTree(self, p, q):\n",
    "        \"\"\"\n",
    "        :type p: TreeNode\n",
    "        :type q: TreeNode\n",
    "        :rtype: bool\n",
    "        \"\"\"    \n",
    "        #base case:\n",
    "        if not p and not q:\n",
    "            return True\n",
    "        elif not p or not q:\n",
    "            return False\n",
    "        #compare root val and existence of left/right subtree\n",
    "        def compare_node(node_p,node_q):\n",
    "            if node_p.val != node_q.val or (node_p.left == None and node_q.left != None) or (node_p.left != None and node_q.left == None) or (node_p.right == None and node_q.right != None) or (node_p.right != None and node_q.right == None):\n",
    "                return False\n",
    "            return True\n",
    "            \n",
    "        queue_p,queue_q = [p],[q]\n",
    "        while queue_p:\n",
    "            next_level_p, next_level_q = [],[]\n",
    "            while queue_p:\n",
    "                p = queue_p.pop(0)\n",
    "                q = queue_q.pop(0)\n",
    "                if not compare_node(p,q):\n",
    "                    return False\n",
    "                if p.left:\n",
    "                    next_level_p += [p.left]\n",
    "                    next_level_q += [q.left]\n",
    "                if p.right:\n",
    "                    next_level_p += [p.right]\n",
    "                    next_level_q += [q.right]\n",
    "            queue_p,queue_q = next_level_p,next_level_q\n",
    "        return True"
   ]
  },
  {
   "cell_type": "markdown",
   "id": "61737e10",
   "metadata": {},
   "source": [
    "Good Solution: Recursive"
   ]
  },
  {
   "cell_type": "code",
   "execution_count": null,
   "id": "bffd0afe",
   "metadata": {},
   "outputs": [],
   "source": [
    "class Solution:\n",
    "    def isSameTree(self, p, q):\n",
    "        \"\"\"\n",
    "        :type p: TreeNode\n",
    "        :type q: TreeNode\n",
    "        :rtype: bool\n",
    "        \"\"\"    \n",
    "        # p and q are both None\n",
    "        if not p and not q:\n",
    "            return True\n",
    "        # one of p and q is None\n",
    "        if not q or not p:\n",
    "            return False\n",
    "        if p.val != q.val:\n",
    "            return False\n",
    "        return self.isSameTree(p.right, q.right) and \\\n",
    "               self.isSameTree(p.left, q.left)"
   ]
  },
  {
   "cell_type": "markdown",
   "id": "c359f24f",
   "metadata": {},
   "source": [
    "Good Solution: Iteration"
   ]
  },
  {
   "cell_type": "code",
   "execution_count": null,
   "id": "0f9e8a54",
   "metadata": {},
   "outputs": [],
   "source": [
    "from collections import deque\n",
    "class Solution:\n",
    "    def isSameTree(self, p, q):\n",
    "        \"\"\"\n",
    "        :type p: TreeNode\n",
    "        :type q: TreeNode\n",
    "        :rtype: bool\n",
    "        \"\"\"    \n",
    "        def check(p, q):\n",
    "            # if both are None\n",
    "            if not p and not q:\n",
    "                return True\n",
    "            # one of p and q is None\n",
    "            if not q or not p:\n",
    "                return False\n",
    "            if p.val != q.val:\n",
    "                return False\n",
    "            return True\n",
    "        \n",
    "        deq = deque([(p, q),])\n",
    "        while deq:\n",
    "            p, q = deq.popleft()\n",
    "            if not check(p, q):\n",
    "                return False\n",
    "            \n",
    "            if p:\n",
    "                deq.append((p.left, q.left))\n",
    "                deq.append((p.right, q.right))\n",
    "                    \n",
    "        return True"
   ]
  },
  {
   "cell_type": "code",
   "execution_count": null,
   "id": "2fab140e",
   "metadata": {},
   "outputs": [],
   "source": []
  }
 ],
 "metadata": {
  "kernelspec": {
   "display_name": "Python 3",
   "language": "python",
   "name": "python3"
  },
  "language_info": {
   "codemirror_mode": {
    "name": "ipython",
    "version": 3
   },
   "file_extension": ".py",
   "mimetype": "text/x-python",
   "name": "python",
   "nbconvert_exporter": "python",
   "pygments_lexer": "ipython3",
   "version": "3.8.8"
  }
 },
 "nbformat": 4,
 "nbformat_minor": 5
}
