{
 "cells": [
  {
   "cell_type": "markdown",
   "metadata": {},
   "source": [
    "### 125. Valid Palindrome\n",
    "Given a string, determine if it is a palindrome, considering only alphanumeric characters and ignoring cases.\n",
    "\n",
    "Note: For the purpose of this problem, we define empty string as valid palindrome.\n",
    "\n",
    "Example 1:\n",
    "\n",
    "Input: \"A man, a plan, a canal: Panama\"\n",
    "\n",
    "Output: true\n",
    "\n",
    "Example 2:\n",
    "\n",
    "Input: \"race a car\"\n",
    "\n",
    "Output: false"
   ]
  },
  {
   "cell_type": "markdown",
   "metadata": {},
   "source": [
    "#### My solution"
   ]
  },
  {
   "cell_type": "code",
   "execution_count": 19,
   "metadata": {},
   "outputs": [],
   "source": [
    "class Solution(object):\n",
    "    def isPalindrome(self, s):\n",
    "        \"\"\"\n",
    "        :type s: str\n",
    "        :rtype: bool\n",
    "        \"\"\"\n",
    "        s = [ele for ele in s if ele.isalnum()]\n",
    "        pointer_1 = 0\n",
    "        pointer_2 = len(s)-1\n",
    "        while pointer_1 < pointer_2:\n",
    "            s1 = s2 = False\n",
    "            while not s1:\n",
    "                if ord(s[pointer_1]) >= 65 and ord(s[pointer_1]) <= 90:\n",
    "                    s1 = ord(s[pointer_1]) + 32\n",
    "                    pointer_1 += 1\n",
    "                else:\n",
    "                    s1 = ord(s[pointer_1])\n",
    "                    pointer_1 += 1\n",
    "            while not s2:\n",
    "                if ord(s[pointer_2]) >= 65 and ord(s[pointer_2]) <= 90:\n",
    "                    s2 = ord(s[pointer_2]) + 32\n",
    "                    pointer_2 -= 1\n",
    "                else:\n",
    "                    s2 = ord(s[pointer_2])\n",
    "                    pointer_2 -= 1\n",
    "            if s1 != s2:\n",
    "                return False\n",
    "        return True"
   ]
  },
  {
   "cell_type": "markdown",
   "metadata": {},
   "source": [
    "### Result\n",
    "Runtime: 64 ms, faster than 36.43% of Python online submissions for Valid Palindrome.\n",
    "    \n",
    "Memory Usage: 13.8 MB, less than 60.51% of Python online submissions for Valid Palindrome."
   ]
  },
  {
   "cell_type": "markdown",
   "metadata": {},
   "source": [
    "#### Good Solution:"
   ]
  },
  {
   "cell_type": "code",
   "execution_count": 23,
   "metadata": {},
   "outputs": [],
   "source": [
    "class Solution:\n",
    "    def isPalindrome(self, s):\n",
    "        beg, end = 0, len(s) - 1\n",
    "        while beg <= end:\n",
    "            while not s[beg].isalnum() and beg < end: beg += 1\n",
    "            while not s[end].isalnum() and beg < end: end -= 1\n",
    "            if s[beg] == s[end] or s[beg].upper() == s[end].upper():\n",
    "                beg, end = beg + 1, end - 1\n",
    "            else:\n",
    "                return False\n",
    "        return True"
   ]
  },
  {
   "cell_type": "code",
   "execution_count": 28,
   "metadata": {},
   "outputs": [
    {
     "data": {
      "text/plain": [
       "'5'"
      ]
     },
     "execution_count": 28,
     "metadata": {},
     "output_type": "execute_result"
    }
   ],
   "source": [
    "\"5\".lower()"
   ]
  },
  {
   "cell_type": "markdown",
   "metadata": {},
   "source": [
    "### Result\n",
    "Runtime: 32 ms, faster than 91.87% of Python online submissions for Valid Palindrome.\n",
    "    \n",
    "Memory Usage: 13.5 MB, less than 92.14% of Python online submissions for Valid Palindrome.\n",
    "### Summary\n",
    "Use .isalum() function of select only alphanumeric (either alphabets or numbers) elements\n",
    "\n",
    "Use .upper()/.lower() to ignoring cases."
   ]
  }
 ],
 "metadata": {
  "kernelspec": {
   "display_name": "Python 3",
   "language": "python",
   "name": "python3"
  },
  "language_info": {
   "codemirror_mode": {
    "name": "ipython",
    "version": 3
   },
   "file_extension": ".py",
   "mimetype": "text/x-python",
   "name": "python",
   "nbconvert_exporter": "python",
   "pygments_lexer": "ipython3",
   "version": "3.8.5"
  }
 },
 "nbformat": 4,
 "nbformat_minor": 2
}
