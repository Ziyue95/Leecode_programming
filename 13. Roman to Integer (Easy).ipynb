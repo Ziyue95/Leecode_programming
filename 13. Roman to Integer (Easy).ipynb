{
 "cells": [
  {
   "cell_type": "markdown",
   "metadata": {},
   "source": [
    "### 13. Roman to Integer (Easy)\n",
    "Roman numerals are represented by seven different symbols: I, V, X, L, C, D and M.\n",
    "\n",
    "    Symbol       Value\n",
    "    I             1\n",
    "    V             5\n",
    "    X             10\n",
    "    L             50\n",
    "    C             100\n",
    "    D             500\n",
    "    M             1000\n",
    "For example, two is written as II in Roman numeral, just two one's added together. Twelve is written as, XII, which is simply X + II. \n",
    "\n",
    "The number twenty seven is written as XXVII, which is XX + V + II.\n",
    "\n",
    "Roman numerals are usually written largest to smallest from left to right. However, the numeral for four is not IIII. Instead, the \n",
    "\n",
    "number four is written as IV. Because the one is before the five we subtract it making four. The same principle applies to the number \n",
    "\n",
    "nine, which is written as IX. There are six instances where subtraction is used:\n",
    "\n",
    "    I can be placed before V (5) and X (10) to make 4 and 9. \n",
    "    X can be placed before L (50) and C (100) to make 40 and 90. \n",
    "    C can be placed before D (500) and M (1000) to make 400 and 900.\n",
    "    Given a roman numeral, convert it to an integer. Input is guaranteed to be within the range from 1 to 3999.\n",
    "\n",
    "Example 1:\n",
    "\n",
    "    Input: \"III\"\n",
    "    Output: 3\n",
    "Example 2:\n",
    "\n",
    "    Input: \"IV\"\n",
    "    Output: 4\n",
    "Example 3:\n",
    "\n",
    "    Input: \"IX\"\n",
    "    Output: 9\n",
    "Example 4:\n",
    "\n",
    "    Input: \"LVIII\"\n",
    "    Output: 58\n",
    "    Explanation: L = 50, V= 5, III = 3.\n",
    "Example 5:\n",
    "\n",
    "    Input: \"MCMXCIV\"\n",
    "    Output: 1994\n",
    "    Explanation: M = 1000, CM = 900, XC = 90 and IV = 4."
   ]
  },
  {
   "cell_type": "markdown",
   "metadata": {},
   "source": [
    "#### My Solution"
   ]
  },
  {
   "cell_type": "code",
   "execution_count": 16,
   "metadata": {},
   "outputs": [
    {
     "name": "stdout",
     "output_type": "stream",
     "text": [
      "3\n",
      "4\n",
      "9\n",
      "58\n",
      "1994\n"
     ]
    }
   ],
   "source": [
    "class Solution(object):\n",
    "    def romanToInt(self, s):\n",
    "        \"\"\"\n",
    "        :type s: str\n",
    "        :rtype: int\n",
    "        \"\"\"\n",
    "        R_dict = {\"M\":1000,\"D\":500,\"C\":100,\"L\":50,\"X\":10,\"V\":5,\"I\":1}\n",
    "        num = 0\n",
    "        while len(s) > 1:\n",
    "            old_R,new_R = s[0],s[1]\n",
    "            if R_dict[old_R] >= R_dict[new_R]:\n",
    "                num += R_dict[old_R]\n",
    "            else:\n",
    "                num -= R_dict[old_R]\n",
    "                \n",
    "            s = s[1:]\n",
    "        return num+R_dict[s[0]]\n",
    "        \n",
    "if __name__ == '__main__':\n",
    "    # begin\n",
    "    s = Solution()\n",
    "    print(s.romanToInt(\"III\")) \n",
    "    print(s.romanToInt(\"IV\"))\n",
    "    print(s.romanToInt(\"IX\")) \n",
    "    print(s.romanToInt(\"LVIII\"))\n",
    "    print(s.romanToInt(\"MCMXCIV\"))     "
   ]
  },
  {
   "cell_type": "markdown",
   "metadata": {},
   "source": [
    "### Result\n",
    "Runtime: 52 ms, faster than 49.14% of Python online submissions for Roman to Integer.\n",
    "    \n",
    "Memory Usage: 12.6 MB, less than 99.03% of Python online submissions for Roman to Integer."
   ]
  },
  {
   "cell_type": "markdown",
   "metadata": {},
   "source": [
    "My solution 2:"
   ]
  },
  {
   "cell_type": "code",
   "execution_count": null,
   "metadata": {},
   "outputs": [],
   "source": [
    "class Solution(object):\n",
    "    def romanToInt(self, s):\n",
    "        if not s:\n",
    "            return 0\n",
    "        digit_s = list(s)\n",
    "        symbol = [(\"M\",\"N\",\"Z\"),(\"C\",\"D\",\"M\"),(\"X\",\"L\",\"C\"),(\"I\",\"V\",\"X\")]\n",
    "        sums = 0\n",
    "        i = 0\n",
    "        while digit_s:\n",
    "            one,five,ten = symbol[i]\n",
    "            digit = digit_s[0]\n",
    "            if digit in (one,five):\n",
    "                digit_s.pop(0)\n",
    "                if digit == one:\n",
    "                    if digit_s and digit_s[0] == five:\n",
    "                        digit_s.pop(0)\n",
    "                        sums += 4\n",
    "                    elif digit_s and digit_s[0] == ten:\n",
    "                        digit_s.pop(0)\n",
    "                        sums += 9\n",
    "                    else:\n",
    "                        sums += 1\n",
    "                if digit == five:\n",
    "                    sums += 5\n",
    "            else:\n",
    "                sums *= 10\n",
    "                i += 1\n",
    "        while i < 3:\n",
    "            sums *= 10\n",
    "            i += 1\n",
    "        return sums                          "
   ]
  },
  {
   "cell_type": "markdown",
   "metadata": {},
   "source": [
    "### Result"
   ]
  },
  {
   "cell_type": "markdown",
   "metadata": {},
   "source": [
    "Runtime: 24 ms, faster than 98.39% of Python online submissions for Roman to Integer.\n",
    "    \n",
    "Memory Usage: 13.5 MB, less than 28.70% of Python online submissions for Roman to Integer."
   ]
  }
 ],
 "metadata": {
  "kernelspec": {
   "display_name": "Python 3",
   "language": "python",
   "name": "python3"
  },
  "language_info": {
   "codemirror_mode": {
    "name": "ipython",
    "version": 3
   },
   "file_extension": ".py",
   "mimetype": "text/x-python",
   "name": "python",
   "nbconvert_exporter": "python",
   "pygments_lexer": "ipython3",
   "version": "3.8.5"
  }
 },
 "nbformat": 4,
 "nbformat_minor": 2
}
