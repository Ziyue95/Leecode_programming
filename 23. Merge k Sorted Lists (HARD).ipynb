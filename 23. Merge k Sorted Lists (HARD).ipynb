{
 "cells": [
  {
   "cell_type": "markdown",
   "metadata": {},
   "source": [
    "### 23. Merge k Sorted Lists (HARD)\n",
    "Given an array of linked-lists lists, each linked list is sorted in ascending order.\n",
    "\n",
    "Merge all the linked-lists into one sort linked-list and return it.\n",
    "\n",
    " \n",
    "\n",
    "Example 1:\n",
    "\n",
    "    Input: lists = [[1,4,5],[1,3,4],[2,6]]\n",
    "    Output: [1,1,2,3,4,4,5,6]\n",
    "    Explanation: The linked-lists are:\n",
    "    [\n",
    "      1->4->5,\n",
    "      1->3->4,\n",
    "      2->6\n",
    "    ]\n",
    "    merging them into one sorted list:\n",
    "    1->1->2->3->4->4->5->6\n",
    "Example 2:\n",
    "\n",
    "    Input: lists = []\n",
    "    Output: []\n",
    "Example 3:\n",
    "\n",
    "    Input: lists = [[]]\n",
    "    Output: []\n",
    "    \n",
    "Constraints:\n",
    "\n",
    "    k == lists.length\n",
    "    0 <= k <= 10^4\n",
    "    0 <= lists[i].length <= 500\n",
    "    $-10^4$ <= lists[i][j] <= $10^4$\n",
    "    lists[i] is sorted in ascending order.\n",
    "    The sum of lists[i].length won't exceed $10^4$."
   ]
  },
  {
   "cell_type": "code",
   "execution_count": 2,
   "metadata": {},
   "outputs": [],
   "source": [
    "if []:\n",
    "    print(1)"
   ]
  },
  {
   "cell_type": "markdown",
   "metadata": {},
   "source": [
    "#### My Solution"
   ]
  },
  {
   "cell_type": "code",
   "execution_count": 61,
   "metadata": {},
   "outputs": [
    {
     "name": "stdout",
     "output_type": "stream",
     "text": [
      "[-10, -10, -9, -9, -9, -9, -9, -7, -7, -6, -6, -3, -2, -2, -1, -1, 0, 1, 1, 2, 3, 3, 4]\n",
      "[1, 1, 2, 3, 4, 4, 5, 6]\n"
     ]
    }
   ],
   "source": [
    "class ListNode(object):\n",
    "    def __init__(self, val=0, next=None):\n",
    "        self.val = val\n",
    "        self.next = next\n",
    "def list_to_Node(lists):\n",
    "    poi = Node = ListNode(0,ListNode())\n",
    "    while len(lists) > 0:\n",
    "        poi = poi.next\n",
    "        poi.val = lists[0]\n",
    "        poi.next = ListNode()\n",
    "        lists = lists[1:]\n",
    "    poi.next = None\n",
    "    return Node.next\n",
    "def print_Node(Node):\n",
    "    lists = []\n",
    "    while Node is not None:\n",
    "        lists.append(Node.val)\n",
    "        Node = Node.next\n",
    "    print(lists)\n",
    "\n",
    "class Solution(object):\n",
    "    def mergeKLists(self, lists):\n",
    "        \"\"\"\n",
    "        :type lists: List[ListNode]\n",
    "        :rtype: ListNode\n",
    "        \"\"\"\n",
    "        currs = -10001\n",
    "        pos = sort_list = ListNode(0,ListNode())\n",
    "        while len(lists)> 1:\n",
    "            if None in lists:\n",
    "                lists.remove(None)\n",
    "                continue\n",
    "            curr = lists[0].val\n",
    "            poi = []\n",
    "            for index,llist in enumerate(lists):\n",
    "                if llist.val == currs:\n",
    "                    curr = currs\n",
    "                    poi = []\n",
    "                    pos = pos.next\n",
    "                    pos.val = currs\n",
    "                    pos.next = ListNode()\n",
    "                    lists[index] = lists[index].next\n",
    "                elif llist.val < curr:\n",
    "                    curr = llist.val\n",
    "                    poi = [index]\n",
    "                elif llist.val == curr:\n",
    "                    poi.append(index)\n",
    "            currs = curr\n",
    "            for index in poi:\n",
    "                pos = pos.next\n",
    "                pos.val = lists[index].val\n",
    "                pos.next = ListNode()\n",
    "                lists[index] = lists[index].next\n",
    "        if (lists == [] or lists == [[]]) and (sort_list.next.next is None) :\n",
    "            return None\n",
    "        if len(lists) == 0:\n",
    "            pos.next = None\n",
    "            return sort_list.next\n",
    "        if len(lists) == 1:\n",
    "            pos.next = lists[0]\n",
    "            return sort_list.next\n",
    "        \n",
    "if __name__ == '__main__':\n",
    "    # begin\n",
    "    s = Solution()\n",
    "    a = [[-10,-9,-9,-9,-7,-2,-1,2,4],[-9,-7,-6,-6,-3,0,1,3],[-10,-9,-2,-1,1,3]]\n",
    "    print_Node(s.mergeKLists([list_to_Node(i) for i in a])) \n",
    "    a = [[1,4,5],[1,3,4],[2,6]]\n",
    "    print_Node(s.mergeKLists([list_to_Node(i) for i in a])) "
   ]
  },
  {
   "cell_type": "markdown",
   "metadata": {},
   "source": [
    "### Result"
   ]
  },
  {
   "cell_type": "markdown",
   "metadata": {},
   "source": [
    "Runtime: 160 ms, faster than 24.59% of Python online submissions for Merge k Sorted Lists.\n",
    "    \n",
    "Memory Usage: 19.1 MB, less than 95.86% of Python online submissions for Merge k Sorted Lists."
   ]
  },
  {
   "cell_type": "code",
   "execution_count": 20,
   "metadata": {},
   "outputs": [
    {
     "name": "stdout",
     "output_type": "stream",
     "text": [
      "[-10, -10, -9, -9, -9, -9, -9, -7, -7, -6, -6, -3, -2, -2, -1, -1, 0, 1, 1, 2, 3, 3, 4]\n",
      "[1, 1, 2, 3, 4, 4, 5, 6]\n"
     ]
    }
   ],
   "source": [
    "class ListNode(object):\n",
    "    def __init__(self, val=0, next=None):\n",
    "        self.val = val\n",
    "        self.next = next\n",
    "def list_to_Node(lists):\n",
    "    poi = Node = ListNode(0,ListNode())\n",
    "    while len(lists) > 0:\n",
    "        poi = poi.next\n",
    "        poi.val = lists[0]\n",
    "        poi.next = ListNode()\n",
    "        lists = lists[1:]\n",
    "    poi.next = None\n",
    "    return Node.next\n",
    "def print_Node(Node):\n",
    "    lists = []\n",
    "    while Node is not None:\n",
    "        lists.append(Node.val)\n",
    "        Node = Node.next\n",
    "    print(lists)\n",
    "\n",
    "class Solution(object):\n",
    "    def mergeKLists(self, lists): \n",
    "        if lists is None:\n",
    "            return None\n",
    "        \n",
    "        sorted_list = ListNode(0)\n",
    "        \n",
    "        stored_elements = {}\n",
    "        for index,linked_list in enumerate(lists):\n",
    "            if linked_list is None:\n",
    "                try:\n",
    "                    stored_elements[10**4 + 1].append(index)\n",
    "                except:\n",
    "                    stored_elements[10**4 + 1] = [index]\n",
    "            else:\n",
    "                try:\n",
    "                    stored_elements[linked_list.val].append(index)\n",
    "                except:\n",
    "                    stored_elements[linked_list.val] = [index]\n",
    "                lists[index] = lists[index].next\n",
    "                \n",
    "        pointer = sorted_list\n",
    "        while list(stored_elements.keys())!=[10**4 + 1]:\n",
    "            min_val = min(stored_elements.keys())\n",
    "            pointer.next = ListNode(min_val)\n",
    "            pointer = pointer.next\n",
    "            next_index = stored_elements[min_val].pop()\n",
    "            if lists[next_index] is None:\n",
    "                try:\n",
    "                    stored_elements[10**4 + 1].append(next_index)\n",
    "                except:\n",
    "                    stored_elements[10**4 + 1] = [next_index]\n",
    "            else:\n",
    "                try:\n",
    "                    stored_elements[lists[next_index].val].append(next_index)\n",
    "                except:\n",
    "                    stored_elements[lists[next_index].val] = [next_index]\n",
    "                lists[next_index] = lists[next_index].next\n",
    "            if stored_elements[min_val] == []:\n",
    "                del stored_elements[min_val]\n",
    "        return sorted_list.next\n",
    "        \n",
    "if __name__ == '__main__':\n",
    "    # begin\n",
    "    s = Solution()\n",
    "    a = [[-10,-9,-9,-9,-7,-2,-1,2,4],[-9,-7,-6,-6,-3,0,1,3],[-10,-9,-2,-1,1,3]]\n",
    "    print_Node(s.mergeKLists([list_to_Node(i) for i in a])) \n",
    "    a = [[1,4,5],[1,3,4],[2,6]]\n",
    "    print_Node(s.mergeKLists([list_to_Node(i) for i in a])) "
   ]
  },
  {
   "cell_type": "markdown",
   "metadata": {},
   "source": [
    "### Result\n",
    "\n",
    "Runtime: 744 ms, faster than 7.82% of Python online submissions for Merge k Sorted Lists.\n",
    "    \n",
    "Memory Usage: 18.9 MB, less than 77.43% of Python online submissions for Merge k Sorted Lists."
   ]
  },
  {
   "cell_type": "markdown",
   "metadata": {},
   "source": [
    "### Good Solution"
   ]
  },
  {
   "cell_type": "markdown",
   "metadata": {},
   "source": [
    "#### Approach 1: Brute Force"
   ]
  },
  {
   "cell_type": "code",
   "execution_count": null,
   "metadata": {},
   "outputs": [],
   "source": [
    "class Solution(object):\n",
    "    def mergeKLists(self, lists):\n",
    "        \"\"\"\n",
    "        :type lists: List[ListNode]\n",
    "        :rtype: ListNode\n",
    "        \"\"\"\n",
    "        self.nodes = []\n",
    "        head = point = ListNode(0)\n",
    "        for l in lists:\n",
    "            while l:\n",
    "                self.nodes.append(l.val)\n",
    "                l = l.next\n",
    "        for x in sorted(self.nodes):\n",
    "            point.next = ListNode(x)\n",
    "            point = point.next\n",
    "        return head.next"
   ]
  },
  {
   "cell_type": "markdown",
   "metadata": {},
   "source": [
    "#### Result\n",
    "Runtime: 88 ms, faster than 95.06% of Python online submissions for Merge k Sorted Lists.\n",
    "    \n",
    "Memory Usage: 21.4 MB, less than 43.51% of Python online submissions for Merge k Sorted Lists."
   ]
  },
  {
   "cell_type": "markdown",
   "metadata": {},
   "source": [
    "#### Approach 2: Compare one by one"
   ]
  },
  {
   "cell_type": "markdown",
   "metadata": {},
   "source": [
    "#### Approach 3: Optimize Approach 2 by Priority Queue"
   ]
  },
  {
   "cell_type": "code",
   "execution_count": null,
   "metadata": {},
   "outputs": [],
   "source": [
    "from Queue import PriorityQueue\n",
    "\n",
    "class Solution(object):\n",
    "    def mergeKLists(self, lists):\n",
    "        \"\"\"\n",
    "        :type lists: List[ListNode]\n",
    "        :rtype: ListNode\n",
    "        \"\"\"\n",
    "        head = point = ListNode(0)\n",
    "        q = PriorityQueue()\n",
    "        for l in lists:\n",
    "            if l:\n",
    "                q.put((l.val, l))\n",
    "        while not q.empty():\n",
    "            val, node = q.get()\n",
    "            point.next = ListNode(val)\n",
    "            point = point.next\n",
    "            node = node.next\n",
    "            if node:\n",
    "                q.put((node.val, node))\n",
    "        return head.next"
   ]
  },
  {
   "cell_type": "markdown",
   "metadata": {},
   "source": [
    "#### Approach 5: Merge with Divide And Conquer"
   ]
  },
  {
   "cell_type": "markdown",
   "metadata": {},
   "source": [
    "Intuition & Algorithm\n",
    "\n",
    "This approach walks alongside the one above but is improved a lot. We don't need to traverse most nodes many times repeatedly\n",
    "\n",
    "   Pair up $\\text{k}$ lists and merge each pair.\n",
    "\n",
    "   After the first pairing, $\\text{k}$ lists are merged into k/2 lists with average 2N/k length, then k/4, k/8 and so on.\n",
    "\n",
    "   Repeat this procedure until we get the final sorted linked list.\n",
    "\n",
    "Thus, we'll traverse almost N nodes per pairing and merging, and repeat this procedure about $\\log_{2}{k}$ times."
   ]
  },
  {
   "cell_type": "code",
   "execution_count": 70,
   "metadata": {},
   "outputs": [],
   "source": [
    "class Solution(object):\n",
    "    def mergeKLists(self, lists):\n",
    "        if lists is None:\n",
    "            return None\n",
    "        elif len(lists) == 0:\n",
    "            return None\n",
    "        while len(lists) > 1:\n",
    "            if len(lists) % 2 == 1:\n",
    "                lists2 = [self.mergeTwolists(lists[i],lists[i+1]) for i in list(range(0,len(lists)-1,2))]\n",
    "                lists2.append(lists[-1])\n",
    "                lists = lists2\n",
    "            else:\n",
    "                lists = [self.mergeTwolists(lists[i],lists[i+1]) for i in list(range(0,len(lists)-1,2))]\n",
    "                \n",
    "        return lists[0]\n",
    "\n",
    "    def mergeTwolists(self, l1, l2):\n",
    "        if l1 is None:\n",
    "            return l2\n",
    "        if l2 is None:\n",
    "            return l1\n",
    "        head = curr = ListNode(-1)\n",
    "        while l1 is not None and l2 is not None:\n",
    "            if l1.val <= l2.val:\n",
    "                curr.next = l1\n",
    "                l1 = l1.next\n",
    "            else:\n",
    "                curr.next = l2\n",
    "                l2 = l2.next\n",
    "            curr = curr.next\n",
    "        if l1 is not None:\n",
    "            curr.next = l1\n",
    "        if l2 is not None:\n",
    "            curr.next = l2\n",
    "        return head.next"
   ]
  },
  {
   "cell_type": "markdown",
   "metadata": {},
   "source": [
    "### Result\n",
    "Runtime: 116 ms, faster than 65.88% of Python online submissions for Merge k Sorted Lists.\n",
    "    \n",
    "Memory Usage: 18.8 MB, less than 87.37% of Python online submissions for Merge k Sorted Lists."
   ]
  },
  {
   "cell_type": "markdown",
   "metadata": {},
   "source": [
    "#### Other solution:"
   ]
  },
  {
   "cell_type": "code",
   "execution_count": 63,
   "metadata": {},
   "outputs": [],
   "source": [
    "class Solution(object):\n",
    "    def mergeKLists(self, lists):\n",
    "        # recursive\n",
    "        if lists is None:\n",
    "            return None\n",
    "        elif len(lists) == 0:\n",
    "            return None\n",
    "        return self.mergeK(lists, 0, len(lists) - 1)\n",
    "\n",
    "    def mergeK(self, lists, low, high):\n",
    "        if low == high:\n",
    "            return lists[low]\n",
    "        elif low + 1 == high:\n",
    "            return self.mergeTwolists(lists[low], lists[high])\n",
    "        mid = (low + high) / 2\n",
    "        return self.mergeTwolists(self.mergeK(lists, low, mid), self.mergeK(lists, mid + 1, high))\n",
    "\n",
    "    def mergeTwolists(self, l1, l2):\n",
    "        if l1 is None:\n",
    "            return l2\n",
    "        if l2 is None:\n",
    "            return l1\n",
    "        head = curr = ListNode(-1)\n",
    "        while l1 is not None and l2 is not None:\n",
    "            if l1.val <= l2.val:\n",
    "                curr.next = l1\n",
    "                l1 = l1.next\n",
    "            else:\n",
    "                curr.next = l2\n",
    "                l2 = l2.next\n",
    "            curr = curr.next\n",
    "        if l1 is not None:\n",
    "            curr.next = l1\n",
    "        if l2 is not None:\n",
    "            curr.next = l2\n",
    "        return head.next"
   ]
  },
  {
   "cell_type": "markdown",
   "metadata": {},
   "source": [
    "### Result\n",
    "Runtime: 112 ms, faster than 70.04% of Python online submissions for Merge k Sorted Lists.\n",
    "    \n",
    "Memory Usage: 18.7 MB, less than 97.29% of Python online submissions for Merge k Sorted Lists."
   ]
  }
 ],
 "metadata": {
  "kernelspec": {
   "display_name": "Python 3",
   "language": "python",
   "name": "python3"
  },
  "language_info": {
   "codemirror_mode": {
    "name": "ipython",
    "version": 3
   },
   "file_extension": ".py",
   "mimetype": "text/x-python",
   "name": "python",
   "nbconvert_exporter": "python",
   "pygments_lexer": "ipython3",
   "version": "3.8.5"
  }
 },
 "nbformat": 4,
 "nbformat_minor": 2
}
