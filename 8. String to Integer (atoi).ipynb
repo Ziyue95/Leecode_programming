{
 "cells": [
  {
   "cell_type": "markdown",
   "metadata": {},
   "source": [
    "### 8. String to Integer (atoi)\n",
    "Implement atoi which converts a string to an integer.\n",
    "\n",
    "The function first discards as many whitespace characters as necessary until the first non-whitespace character is found. Then, starting from this character, takes an optional initial plus or minus sign followed by as many numerical digits as possible, and interprets them as a numerical value.\n",
    "\n",
    "The string can contain additional characters after those that form the integral number, which are ignored and have no effect on the behavior of this function.\n",
    "\n",
    "If the first sequence of non-whitespace characters in str is not a valid integral number, or if no such sequence exists because either str is empty or it contains only whitespace characters, no conversion is performed.\n",
    "\n",
    "If no valid conversion could be performed, a zero value is returned.\n",
    "\n",
    "Note:\n",
    "\n",
    "Only the space character ' ' is considered as whitespace character.\n",
    "Assume we are dealing with an environment which could only store integers within the 32-bit signed integer range: [−$2^{31}$,  $2^{31}$ − 1]. If the numerical value is out of the range of representable values, INT_MAX ($2^{31}$ − 1) or INT_MIN (−$2^{31}$) is returned."
   ]
  },
  {
   "cell_type": "markdown",
   "metadata": {},
   "source": [
    "My solution:"
   ]
  },
  {
   "cell_type": "code",
   "execution_count": 2,
   "metadata": {},
   "outputs": [
    {
     "data": {
      "text/plain": [
       "str"
      ]
     },
     "execution_count": 2,
     "metadata": {},
     "output_type": "execute_result"
    }
   ],
   "source": [
    "a = \"04\"\n",
    "type(a[0])"
   ]
  },
  {
   "cell_type": "code",
   "execution_count": 1,
   "metadata": {},
   "outputs": [
    {
     "name": "stdout",
     "output_type": "stream",
     "text": [
      "42\n",
      "-42\n",
      "4193\n",
      "0\n",
      "-2147483648\n",
      "31\n"
     ]
    }
   ],
   "source": [
    "class Solution(object):\n",
    "    def myAtoi(self, strs):\n",
    "        \"\"\"\n",
    "        :type str: str\n",
    "        :rtype: int\n",
    "        :type pointer_loc:int\n",
    "        \"\"\"   \n",
    "        global num\n",
    "        pointer_loc = 0\n",
    "        minus = 1\n",
    "        if strs == \"\":\n",
    "            return 0\n",
    "        while strs[pointer_loc] == \" \" and pointer_loc < len(strs):\n",
    "            pointer_loc += 1\n",
    "            if pointer_loc == len(strs):\n",
    "                return 0      \n",
    "            \n",
    "        if strs[pointer_loc] == \"-\":\n",
    "            minus *= -1\n",
    "            pointer_loc += 1  \n",
    "        elif strs[pointer_loc] == \"+\":\n",
    "            pointer_loc += 1 \n",
    "        if pointer_loc == len(strs):\n",
    "            return 0\n",
    "                \n",
    "        if strs[pointer_loc].isnumeric() == False:\n",
    "            return 0\n",
    "        else:\n",
    "            start = pointer_loc\n",
    "            end = pointer_loc\n",
    "            #print(end)\n",
    "            while strs[end].isnumeric():\n",
    "                end += 1\n",
    "                if end == len(strs):\n",
    "                    break\n",
    "            #print(end)\n",
    "            if end > start:\n",
    "                num = int(strs[start:end])\n",
    "            if minus == 1:\n",
    "                if num < 2**31-1:\n",
    "                    return num\n",
    "                else:\n",
    "                    return 2**31-1\n",
    "            else:\n",
    "                if -num > -2**31:\n",
    "                    return -num\n",
    "                else:\n",
    "                    return -2**31\n",
    "                \n",
    "if __name__ == '__main__':\n",
    "    # begin\n",
    "    s = Solution()\n",
    "    print(s.myAtoi(\"42\"))\n",
    "    print(s.myAtoi(\"   -42\"))\n",
    "    print(s.myAtoi(\"4193 with words\"))\n",
    "    print(s.myAtoi(\"words and 987\"))\n",
    "    print(s.myAtoi(\"-91283472332\"))\n",
    "    print(s.myAtoi(\"+31\"))"
   ]
  },
  {
   "cell_type": "markdown",
   "metadata": {},
   "source": [
    "Good Solutions:"
   ]
  },
  {
   "cell_type": "code",
   "execution_count": 2,
   "metadata": {},
   "outputs": [
    {
     "name": "stdout",
     "output_type": "stream",
     "text": [
      "42\n",
      "-42\n",
      "4193\n",
      "0\n",
      "-2147483648\n",
      "31\n"
     ]
    }
   ],
   "source": [
    "class Solution(object):\n",
    "    def myAtoi(self, str):\n",
    "        \"\"\"\n",
    "        :type str: str\n",
    "        :rtype: int\n",
    "        \"\"\"\n",
    "        sign = 1\n",
    "        max_int, min_int = 2147483647, -2147483648\n",
    "        result, pos = 0, 0\n",
    "        ls = len(str)\n",
    "        while pos < ls and str[pos] == ' ':\n",
    "            pos += 1\n",
    "        if pos < ls and str[pos] == '-':\n",
    "            sign = -1\n",
    "            pos += 1\n",
    "        elif pos < ls and str[pos] == '+':\n",
    "            pos += 1\n",
    "        while pos < ls and ord(str[pos]) >= ord('0') and ord(str[pos]) <= ord('9'):\n",
    "            num = ord(str[pos]) - ord('0')\n",
    "            if result > max_int / 10 or ( result == max_int / 10 and num >= 8):\n",
    "                if sign == -1:\n",
    "                    return min_int\n",
    "                return max_int\n",
    "            result = result * 10 + num\n",
    "            pos += 1\n",
    "        return sign * result\n",
    "if __name__ == '__main__':\n",
    "    # begin\n",
    "    s = Solution()\n",
    "    print(s.myAtoi(\"42\"))\n",
    "    print(s.myAtoi(\"   -42\"))\n",
    "    print(s.myAtoi(\"4193 with words\"))\n",
    "    print(s.myAtoi(\"words and 987\"))\n",
    "    print(s.myAtoi(\"-91283472332\"))\n",
    "    print(s.myAtoi(\"+31\"))"
   ]
  },
  {
   "cell_type": "markdown",
   "metadata": {},
   "source": [
    "### Summary\n",
    "\n",
    "ord() function can give a unique index for all string elements"
   ]
  }
 ],
 "metadata": {
  "kernelspec": {
   "display_name": "Python 3",
   "language": "python",
   "name": "python3"
  },
  "language_info": {
   "codemirror_mode": {
    "name": "ipython",
    "version": 3
   },
   "file_extension": ".py",
   "mimetype": "text/x-python",
   "name": "python",
   "nbconvert_exporter": "python",
   "pygments_lexer": "ipython3",
   "version": "3.8.5"
  }
 },
 "nbformat": 4,
 "nbformat_minor": 2
}
