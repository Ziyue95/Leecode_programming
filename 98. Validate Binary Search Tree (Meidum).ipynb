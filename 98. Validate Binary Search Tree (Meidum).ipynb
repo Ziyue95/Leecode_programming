{
 "cells": [
  {
   "cell_type": "markdown",
   "metadata": {},
   "source": [
    "### 98. Validate Binary Search Tree(Meidum)\n",
    "\n",
    "Given a binary tree, determine if it is a valid binary search tree (BST).\n",
    "\n",
    "Assume a BST is defined as follows:\n",
    "\n",
    "    The left subtree of a node contains only nodes with keys less than the node's key.\n",
    "\n",
    "    The right subtree of a node contains only nodes with keys greater than the node's key.\n",
    "\n",
    "    Both the left and right subtrees must also be binary search trees."
   ]
  },
  {
   "cell_type": "markdown",
   "metadata": {},
   "source": [
    "### My Solution "
   ]
  },
  {
   "cell_type": "code",
   "execution_count": 6,
   "metadata": {},
   "outputs": [],
   "source": [
    "# Definition for a binary tree node.\n",
    "# class TreeNode(object):\n",
    "#     def __init__(self, val=0, left=None, right=None):\n",
    "#         self.val = val\n",
    "#         self.left = left\n",
    "#         self.right = right\n",
    "class Solution:\n",
    "    def isValidBST(self, root):\n",
    "        \"\"\"\n",
    "        :type root: TreeNode\n",
    "        :rtype: bool\n",
    "        \"\"\"\n",
    "        def BST_helper(root,low = float(\"-inf\"),upper =  float(\"inf\")):\n",
    "            if not root:\n",
    "                return True\n",
    "            val = root.val\n",
    "            if val <= low or val >= upper:\n",
    "                return False\n",
    "            return BST_helper(root.left,low,val) and BST_helper(root.right,val,upper)\n",
    "        return BST_helper(root)"
   ]
  },
  {
   "cell_type": "markdown",
   "metadata": {},
   "source": [
    "#### Result\n",
    "Runtime: 32 ms, faster than 91.60% of Python online submissions for Validate Binary Search Tree.\n",
    "    \n",
    "Memory Usage: 17.5 MB, less than 46.40% of Python online submissions for Validate Binary Search Tree."
   ]
  },
  {
   "cell_type": "markdown",
   "metadata": {},
   "source": [
    "### Good Solution:"
   ]
  },
  {
   "cell_type": "markdown",
   "metadata": {},
   "source": [
    "#### 1.Recursion"
   ]
  },
  {
   "cell_type": "code",
   "execution_count": null,
   "metadata": {},
   "outputs": [],
   "source": [
    "class Solution:\n",
    "    def isValidBST(self, root):\n",
    "        \"\"\"\n",
    "        :type root: TreeNode\n",
    "        :rtype: bool\n",
    "        \"\"\"\n",
    "        def helper(node, lower = float('-inf'), upper = float('inf')):\n",
    "            if not node:\n",
    "                return True\n",
    "            \n",
    "            val = node.val\n",
    "            if val <= lower or val >= upper:\n",
    "                return False\n",
    "\n",
    "            if not helper(node.right, val, upper):\n",
    "                return False\n",
    "            if not helper(node.left, lower, val):\n",
    "                return False\n",
    "            return True\n",
    "\n",
    "        return helper(root)"
   ]
  },
  {
   "cell_type": "markdown",
   "metadata": {},
   "source": [
    "#### Result\n",
    "Runtime: 40 ms, faster than 60.59% of Python online submissions for Validate Binary Search Tree.\n",
    "    \n",
    "Memory Usage: 17.3 MB, less than 83.38% of Python online submissions for Validate Binary Search Tree."
   ]
  },
  {
   "cell_type": "markdown",
   "metadata": {},
   "source": [
    "#### 2.Iteration"
   ]
  },
  {
   "cell_type": "code",
   "execution_count": null,
   "metadata": {},
   "outputs": [],
   "source": [
    "class Solution:\n",
    "    def isValidBST(self, root):\n",
    "        \"\"\"\n",
    "        :type root: TreeNode\n",
    "        :rtype: bool\n",
    "        \"\"\"\n",
    "        if not root:\n",
    "            return True\n",
    "            \n",
    "        stack = [(root, float('-inf'), float('inf')),] \n",
    "        while stack:\n",
    "            root, lower, upper = stack.pop()\n",
    "            if not root:\n",
    "                continue\n",
    "            val = root.val\n",
    "            if val <= lower or val >= upper:\n",
    "                return False\n",
    "            stack.append((root.right, val, upper))\n",
    "            stack.append((root.left, lower, val))\n",
    "        return True  "
   ]
  },
  {
   "cell_type": "markdown",
   "metadata": {},
   "source": [
    "#### Result\n",
    "Runtime: 36 ms, faster than 78.37% of Python online submissions for Validate Binary Search Tree.\n",
    "    \n",
    "Memory Usage: 17.3 MB, less than 90.49% of Python online submissions for Validate Binary Search Tree."
   ]
  },
  {
   "cell_type": "markdown",
   "metadata": {},
   "source": [
    "#### 3.Inorder traversal"
   ]
  },
  {
   "cell_type": "code",
   "execution_count": null,
   "metadata": {},
   "outputs": [],
   "source": [
    "class Solution:\n",
    "    def isValidBST(self, root):\n",
    "        \"\"\"\n",
    "        :type root: TreeNode\n",
    "        :rtype: bool\n",
    "        \"\"\"\n",
    "        stack, inorder = [], float('-inf')\n",
    "        \n",
    "        while stack or root:\n",
    "            while root:\n",
    "                stack.append(root)\n",
    "                root = root.left\n",
    "            root = stack.pop()\n",
    "            # If next element in inorder traversal\n",
    "            # is smaller than the previous one\n",
    "            # that's not BST.\n",
    "            if root.val <= inorder:\n",
    "                return False\n",
    "            inorder = root.val\n",
    "            root = root.right\n",
    " \n",
    "        return True"
   ]
  },
  {
   "cell_type": "markdown",
   "metadata": {},
   "source": [
    "#### Result\n",
    "Runtime: 32 ms, faster than 91.60% of Python online submissions for Validate Binary Search Tree.\n",
    "    \n",
    "Memory Usage: 17.4 MB, less than 77.95% of Python online submissions for Validate Binary Search Tree."
   ]
  }
 ],
 "metadata": {
  "kernelspec": {
   "display_name": "Python 3",
   "language": "python",
   "name": "python3"
  },
  "language_info": {
   "codemirror_mode": {
    "name": "ipython",
    "version": 3
   },
   "file_extension": ".py",
   "mimetype": "text/x-python",
   "name": "python",
   "nbconvert_exporter": "python",
   "pygments_lexer": "ipython3",
   "version": "3.8.8"
  }
 },
 "nbformat": 4,
 "nbformat_minor": 2
}
