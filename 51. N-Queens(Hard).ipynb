{
 "cells": [
  {
   "cell_type": "markdown",
   "metadata": {},
   "source": [
    "The n-queens puzzle is the problem of placing n queens on an n x n chessboard such that no two queens attack each other.\n",
    "\n",
    "Given an integer n, return all distinct solutions to the n-queens puzzle.\n",
    "\n",
    "Each solution contains a distinct board configuration of the n-queens' placement, where 'Q' and '.' both indicate a queen and an empty space, respectively.\n",
    "\n",
    " \n",
    "\n",
    "Example 1:\n",
    "\n",
    "\n",
    "    Input: n = 4\n",
    "    Output: [[\".Q..\",\"...Q\",\"Q...\",\"..Q.\"],[\"..Q.\",\"Q...\",\"...Q\",\".Q..\"]]\n",
    "    Explanation: There exist two distinct solutions to the 4-queens puzzle as shown above\n",
    "Example 2:\n",
    "\n",
    "    Input: n = 1\n",
    "    Output: [[\"Q\"]]\n",
    " \n",
    "\n",
    "Constraints:\n",
    "\n",
    "    1 <= n <= 9"
   ]
  },
  {
   "cell_type": "markdown",
   "metadata": {},
   "source": [
    "Good Solution: Using Backtracking"
   ]
  },
  {
   "cell_type": "code",
   "execution_count": null,
   "metadata": {},
   "outputs": [],
   "source": [
    "class Solution:\n",
    "    def solveNQueens(self, n: int) -> List[List[str]]:\n",
    "        def could_place(row,col):\n",
    "            return not (cols[col] + hill_diag[row + col] + dale_diag[row-col])\n",
    "        def place_queen(row,col):\n",
    "            queens_pos.append([row,col])\n",
    "            cols[col] = hill_diag[row + col] = dale_diag[row-col] = 1\n",
    "        def remove_queen(row,col):\n",
    "            queens_pos.remove([row,col])\n",
    "            cols[col] = hill_diag[row + col] = dale_diag[row-col] = 0\n",
    "        def add_solution():\n",
    "            sol = []\n",
    "            for _,col in sorted(queens_pos):\n",
    "                sol.append(\".\"*col+\"Q\"+\".\"*(n-col-1))\n",
    "            solutions.append(sol)\n",
    "        def back_tracking(row):\n",
    "            for col in range(n):\n",
    "                if could_place(row,col):\n",
    "                    place_queen(row,col)\n",
    "                    if row + 1 == n:\n",
    "                        add_solution()\n",
    "                    else:\n",
    "                        back_tracking(row + 1)\n",
    "                    remove_queen(row,col)\n",
    "            \n",
    "            \n",
    "        cols = [0]*n\n",
    "        hill_diag = [0]*(2*n-1)\n",
    "        dale_diag = [0]*(2*n-1)\n",
    "        queens_pos = []\n",
    "        solutions = []\n",
    "        back_tracking(0)\n",
    "        return solutions"
   ]
  },
  {
   "cell_type": "markdown",
   "metadata": {},
   "source": [
    "### Result\n",
    "Runtime: 60 ms, faster than 78.26% of Python3 online submissions for N-Queens.\n",
    "    \n",
    "Memory Usage: 14.8 MB, less than 56.55% of Python3 online submissions for N-Queens."
   ]
  },
  {
   "cell_type": "code",
   "execution_count": 40,
   "metadata": {},
   "outputs": [
    {
     "name": "stdout",
     "output_type": "stream",
     "text": [
      "Before calling bar:  20\n",
      "Calling bar now\n",
      "After calling bar:  20\n",
      "x in main:  1\n"
     ]
    }
   ],
   "source": [
    "global x\n",
    "x = 0\n",
    "\n",
    "def foo():\n",
    "    x = 20\n",
    "\n",
    "    def bar():\n",
    "        global x\n",
    "        x += 1\n",
    "    \n",
    "    print(\"Before calling bar: \", x)\n",
    "    print(\"Calling bar now\")\n",
    "    bar()\n",
    "    print(\"After calling bar: \", x)\n",
    "\n",
    "foo()\n",
    "print(\"x in main: \", x)"
   ]
  }
 ],
 "metadata": {
  "kernelspec": {
   "display_name": "Python 3",
   "language": "python",
   "name": "python3"
  },
  "language_info": {
   "codemirror_mode": {
    "name": "ipython",
    "version": 3
   },
   "file_extension": ".py",
   "mimetype": "text/x-python",
   "name": "python",
   "nbconvert_exporter": "python",
   "pygments_lexer": "ipython3",
   "version": "3.8.5"
  }
 },
 "nbformat": 4,
 "nbformat_minor": 4
}
