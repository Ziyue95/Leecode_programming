{
 "cells": [
  {
   "cell_type": "markdown",
   "metadata": {},
   "source": [
    "Given two integers dividend and divisor, divide two integers without using multiplication, division, and mod operator.\n",
    "\n",
    "Return the quotient after dividing dividend by divisor.\n",
    "\n",
    "The integer division should truncate toward zero, which means losing its fractional part. For example, truncate(8.345) = 8 and truncate(-2.7335) = -2.\n",
    "\n",
    "Note: Assume we are dealing with an environment that could only store integers within the 32-bit signed integer range: [−$2^{31}$, $2^{31}$ − 1]. For this problem, assume that your function returns $2^{31}$ − 1 when the division result overflows.\n",
    "\n",
    " \n",
    "\n",
    "Example 1:\n",
    "\n",
    "    Input: dividend = 10, divisor = 3\n",
    "    Output: 3\n",
    "    Explanation: 10/3 = truncate(3.33333..) = 3.\n",
    "Example 2:\n",
    "\n",
    "    Input: dividend = 7, divisor = -3\n",
    "    Output: -2\n",
    "    Explanation: 7/-3 = truncate(-2.33333..) = -2.\n",
    "Example 3:\n",
    "\n",
    "    Input: dividend = 0, divisor = 1\n",
    "    Output: 0\n",
    "Example 4:\n",
    "\n",
    "    Input: dividend = 1, divisor = 1\n",
    "    Output: 1\n",
    " \n",
    "\n",
    "Constraints:\n",
    "\n",
    "    -$2^{31}$ <= dividend, divisor <= $2^{31}$ - 1\n",
    "    divisor != 0"
   ]
  },
  {
   "cell_type": "code",
   "execution_count": 1,
   "metadata": {},
   "outputs": [],
   "source": [
    "import bisect\n",
    "class Solution:\n",
    "    def divide(self, dividend: int, divisor: int) -> int:\n",
    "        if dividend == 0 or abs(dividend) < abs(divisor):\n",
    "            return 0\n",
    "        if dividend > 0 and divisor > 0 or dividend < 0 and divisor < 0:\n",
    "            sign = 1\n",
    "        else:\n",
    "            sign = -1\n",
    "            \n",
    "        dividend = abs(dividend)        \n",
    "        divisor = abs(divisor)\n",
    "        quotient = 0 # this is our result\n",
    "        mod = (2 ** 31) - 1\n",
    "        \n",
    "        doubles = [divisor]\n",
    "        \n",
    "        # we don`t want to have doubles greater than dividend\n",
    "        # as those big doubles are definitly going to go 0 times into dividend\n",
    "        while doubles[-1] < dividend:\n",
    "            # take the previous entry and multiply it by two (intuition 7)\n",
    "            doubles.append(doubles[-1] << 1)\n",
    "        \n",
    "        while dividend >= divisor:\n",
    "            # with binary search find entry in doubles\n",
    "            # which is less than or equals to dividend\n",
    "            # subtract 1 as  bisect_right is going to return the next index, not the one we need\n",
    "            i = bisect_right(doubles, dividend) - 1\n",
    "            dividend -= doubles[i]\n",
    "            # how many times divisor goes into that particular doubles entry? (intuition 5)\n",
    "            quotient += 1 << i\n",
    "\n",
    "        quotient *= sign\n",
    "\n",
    "        # in the problem discription: \n",
    "        # 'assume that your function returns 2 ** 31 − 1 when the division result overflows'\n",
    "        if quotient < -2**31:\n",
    "            return -2**31\n",
    "        if quotient > 2**31 -1:\n",
    "            return 2**31-1\n",
    "        \n",
    "        return quotient "
   ]
  },
  {
   "cell_type": "markdown",
   "metadata": {},
   "source": [
    "### Result\n",
    "Runtime: 32 ms, faster than 72.37% of Python3 online submissions for Divide Two Integers.\n",
    "\n",
    "Memory Usage: 14.1 MB, less than 81.96% of Python3 online submissions for Divide Two Integers."
   ]
  }
 ],
 "metadata": {
  "kernelspec": {
   "display_name": "Python 3",
   "language": "python",
   "name": "python3"
  },
  "language_info": {
   "codemirror_mode": {
    "name": "ipython",
    "version": 3
   },
   "file_extension": ".py",
   "mimetype": "text/x-python",
   "name": "python",
   "nbconvert_exporter": "python",
   "pygments_lexer": "ipython3",
   "version": "3.8.5"
  }
 },
 "nbformat": 4,
 "nbformat_minor": 4
}
