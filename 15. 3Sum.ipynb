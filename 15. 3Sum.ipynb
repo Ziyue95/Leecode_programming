{
 "cells": [
  {
   "cell_type": "markdown",
   "metadata": {},
   "source": [
    "### 15. 3Sum\n",
    "Given an array nums of n integers, are there elements a, b, c in nums such that a + b + c = 0? Find all unique triplets in the array which gives the sum of zero.\n",
    "\n",
    "Note:\n",
    "\n",
    "The solution set must not contain duplicate triplets.\n",
    "\n",
    "Example:\n",
    "\n",
    "Given array nums = [-1, 0, 1, 2, -1, -4],\n",
    "\n",
    "A solution set is:\n",
    "[\n",
    "  [-1, 0, 1],\n",
    "  [-1, -1, 2]\n",
    "]"
   ]
  },
  {
   "cell_type": "markdown",
   "metadata": {},
   "source": [
    "My Second Round Solution:"
   ]
  },
  {
   "cell_type": "code",
   "execution_count": null,
   "metadata": {},
   "outputs": [],
   "source": [
    "class Solution:\n",
    "    def threeSum(self, nums: List[int]) -> List[List[int]]:\n",
    "        \n",
    "        def TwoSum(sub_nums,target):\n",
    "            left_pointer,right_pointer = 0,len(sub_nums)-1\n",
    "            while left_pointer<right_pointer:\n",
    "                sums = sub_nums[left_pointer] + sub_nums[right_pointer]\n",
    "                if sums == target:\n",
    "                    solutions.append([-target,sub_nums[left_pointer],sub_nums[right_pointer]])\n",
    "                    left_pointer += 1\n",
    "                    while left_pointer<right_pointer and sub_nums[left_pointer] == sub_nums[left_pointer-1]:\n",
    "                        left_pointer += 1\n",
    "                elif sums<target:\n",
    "                    left_pointer += 1\n",
    "                    while left_pointer<right_pointer and sub_nums[left_pointer] == sub_nums[left_pointer-1]:\n",
    "                        left_pointer += 1\n",
    "                else:\n",
    "                    right_pointer -= 1\n",
    "                    while left_pointer<right_pointer and sub_nums[right_pointer] == sub_nums[right_pointer+1]:\n",
    "                        right_pointer -= 1\n",
    "            \n",
    "        solutions = []\n",
    "        \n",
    "        nums = sorted(nums)\n",
    "        if len(nums) < 3 or nums[-1] < 0 or nums[0] > 0:\n",
    "            return []\n",
    "        if nums[0] == nums[-1]:\n",
    "            return [[0,0,0]]\n",
    "        \n",
    "        first_index = 0\n",
    "        while nums[first_index] <= 0 and first_index < len(nums)-2:\n",
    "            if first_index == 0:\n",
    "                TwoSum(nums[first_index+1:],-nums[first_index])\n",
    "            else:\n",
    "                if nums[first_index] != nums[first_index-1]:\n",
    "                    TwoSum(nums[first_index+1:],-nums[first_index])\n",
    "            first_index += 1\n",
    "            \n",
    "        return solutions"
   ]
  },
  {
   "cell_type": "markdown",
   "metadata": {},
   "source": [
    "Runtime: 940 ms, faster than 59.21% of Python3 online submissions for 3Sum.\n",
    "    \n",
    "Memory Usage: 18 MB, less than 26.57% of Python3 online submissions for 3Sum."
   ]
  },
  {
   "cell_type": "code",
   "execution_count": 2,
   "metadata": {},
   "outputs": [
    {
     "name": "stdout",
     "output_type": "stream",
     "text": [
      "[[0, 0, 0], [-5, 1, 4], [-4, 0, 4], [-4, 1, 3], [-2, -2, 4], [-2, 1, 1]]\n"
     ]
    }
   ],
   "source": [
    "class Solution(object):\n",
    "    def threeSum(self, nums):\n",
    "        \"\"\"\n",
    "        :type neg_pointer\n",
    "        :type nums: List[int]\n",
    "        :type sorted_nums\n",
    "        :rtype: List[List[int]]\n",
    "        \"\"\"\n",
    "        \n",
    "        def twoSums(sums,subnums):\n",
    "            global high_pointer\n",
    "\n",
    "            combines = []\n",
    "            high_pointer = len(subnums) -1\n",
    "            for low_pointer, num in enumerate(subnums):\n",
    "                #print(\"low_pointer:\",low_pointer)\n",
    "                if low_pointer > high_pointer:\n",
    "                    break\n",
    "                if low_pointer > 0 and num == subnums[low_pointer-1]:\n",
    "                    continue\n",
    "                #print(\"run\")\n",
    "                diff = sums - num\n",
    "                while high_pointer > low_pointer and (num + subnums[high_pointer]) >= sums:\n",
    "                    if subnums[high_pointer] == diff:\n",
    "                        combines.append([num, subnums[high_pointer]])\n",
    "                        #print(\"find comb\",[num, subnums[high_pointer]])\n",
    "                        high_pointer -= 1\n",
    "                        break\n",
    "                    else:\n",
    "                        high_pointer -= 1\n",
    "                    #print(\"high_pointer :\",high_pointer)\n",
    "            return  combines  \n",
    "        \n",
    "        if len(nums) < 3:\n",
    "            return []\n",
    "        nums.sort()\n",
    "            \n",
    "        #print(nums)\n",
    "        if nums[0] > 0 or nums[-1] < 0 :\n",
    "            return []\n",
    "        elif nums[0] == nums[1] == nums[2] == 0 or nums[-1] == nums[-2] == nums[-3] == 0:\n",
    "            return [[0,0,0]]\n",
    "        else:\n",
    "            three_combs = []\n",
    "            \n",
    "            count = 0\n",
    "            for num in nums:\n",
    "                if num == 0:\n",
    "                    count += 1\n",
    "            if count >= 3 :\n",
    "                three_combs.append([0,0,0])\n",
    "            neg_pointer = 0\n",
    "            while nums[neg_pointer] < 0:\n",
    "                #print(\"nums[neg_pointer]\",nums[neg_pointer])\n",
    "                if neg_pointer >0 and nums[neg_pointer] == nums[neg_pointer-1] :\n",
    "                    neg_pointer+=1\n",
    "                    continue\n",
    "                else:\n",
    "                    two_sum_combs = twoSums(-nums[neg_pointer],nums[neg_pointer+1:])\n",
    "                    #print(two_sum_combs)\n",
    "                    for two_sum_comb in two_sum_combs:\n",
    "                        three_comb = [nums[neg_pointer]]\n",
    "                        three_comb.extend(two_sum_comb)\n",
    "                        three_combs.append(three_comb)\n",
    "                        #print(\"find\",three_comb)\n",
    "                    \n",
    "                    neg_pointer+=1\n",
    "                \n",
    "            return three_combs\n",
    "                \n",
    "if __name__ == '__main__':\n",
    "    # begin\n",
    "    s = Solution()\n",
    "    print(s.threeSum([-4,-2,1,-5,-4,-4,4,-2,0,4,0,-2,3,1,-5,0]))        "
   ]
  },
  {
   "cell_type": "markdown",
   "metadata": {},
   "source": [
    "### Advice\n",
    "Use dichotomy to find the initial location of high_pointer"
   ]
  },
  {
   "cell_type": "markdown",
   "metadata": {},
   "source": [
    "Good Solution:"
   ]
  },
  {
   "cell_type": "code",
   "execution_count": 3,
   "metadata": {},
   "outputs": [
    {
     "name": "stdout",
     "output_type": "stream",
     "text": [
      "[[-5, 1, 4], [-4, 0, 4], [-4, 1, 3], [-2, -2, 4], [-2, 1, 1], [0, 0, 0]]\n"
     ]
    }
   ],
   "source": [
    "class Solution(object):\n",
    "\n",
    "    def threeSum(self, nums):\n",
    "        res = []\n",
    "        nums.sort()\n",
    "        ls = len(nums)\n",
    "        for i in range(ls - 2):\n",
    "            if i > 0 and nums[i] == nums[i - 1]:\n",
    "                continue\n",
    "            j = i + 1\n",
    "            k = ls - 1\n",
    "            while j < k:\n",
    "                curr = nums[i] + nums[j] + nums[k]\n",
    "                if curr == 0:\n",
    "                    res.append([nums[i], nums[j], nums[k]])\n",
    "                    while j < k and nums[j] == nums[j + 1]:\n",
    "                        j += 1\n",
    "                    while j < k and nums[k] == nums[k - 1]:\n",
    "                        k -= 1\n",
    "                    j += 1\n",
    "                    k -= 1\n",
    "                elif curr < 0:\n",
    "                    j += 1\n",
    "                else:\n",
    "                    k -= 1\n",
    "        return res\n",
    "    \n",
    "if __name__ == '__main__':\n",
    "    # begin\n",
    "    s = Solution()\n",
    "    print(s.threeSum([-4,-2,1,-5,-4,-4,4,-2,0,4,0,-2,3,1,-5,0]))  "
   ]
  },
  {
   "cell_type": "code",
   "execution_count": 12,
   "metadata": {},
   "outputs": [
    {
     "name": "stdout",
     "output_type": "stream",
     "text": [
      "[[-4, 1, 3], [-2, 1, 1], [0, 0, 0], [-2, -2, 4], [-4, 0, 4], [-5, 1, 4]]\n"
     ]
    }
   ],
   "source": [
    "class Solution(object):\n",
    "    \n",
    "    def threeSum(self, nums):\n",
    "        \"\"\"\n",
    "        :type nums: List[int]\n",
    "        :rtype: List[List[int]]\n",
    "        \"\"\"\n",
    "        if len(nums) < 3:\n",
    "            return []\n",
    "        nums.sort()\n",
    "        res = set()\n",
    "        for i, v in enumerate(nums[:-2]):\n",
    "            if i >= 1 and v == nums[i-1]:\n",
    "                continue\n",
    "            d = {}\n",
    "            for x in nums[i+1:]:\n",
    "                if x not in d:\n",
    "                    d[-v-x] = 1\n",
    "                else:\n",
    "                    res.add((v, -v-x, x))\n",
    "        return list(map(list, res))\n",
    "\n",
    "if __name__ == '__main__':\n",
    "    # begin\n",
    "    s = Solution()\n",
    "    print(s.threeSum([-4,-2,1,-5,-4,-4,4,-2,0,4,0,-2,3,1,-5,0]))  "
   ]
  },
  {
   "cell_type": "code",
   "execution_count": null,
   "metadata": {},
   "outputs": [],
   "source": []
  }
 ],
 "metadata": {
  "kernelspec": {
   "display_name": "Python 3",
   "language": "python",
   "name": "python3"
  },
  "language_info": {
   "codemirror_mode": {
    "name": "ipython",
    "version": 3
   },
   "file_extension": ".py",
   "mimetype": "text/x-python",
   "name": "python",
   "nbconvert_exporter": "python",
   "pygments_lexer": "ipython3",
   "version": "3.8.5"
  }
 },
 "nbformat": 4,
 "nbformat_minor": 2
}
