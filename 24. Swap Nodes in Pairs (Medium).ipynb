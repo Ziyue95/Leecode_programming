{
 "cells": [
  {
   "cell_type": "markdown",
   "metadata": {},
   "source": [
    "### 24. Swap Nodes in Pairs (Medium)\n",
    "Given a linked list, swap every two adjacent nodes and return its head.\n",
    "\n",
    "You may not modify the values in the list's nodes, only nodes itself may be changed.\n",
    "\n",
    "Example:\n",
    "\n",
    "Given 1->2->3->4, you should return the list as 2->1->4->3."
   ]
  },
  {
   "cell_type": "code",
   "execution_count": 3,
   "metadata": {},
   "outputs": [],
   "source": [
    "class ListNode(object):\n",
    "    def __init__(self, val=0, next=None):\n",
    "        self.val = val\n",
    "        self.next = next\n",
    "def list_to_Node(lists):\n",
    "    poi = Node = ListNode(0,ListNode())\n",
    "    while len(lists) > 0:\n",
    "        poi = poi.next\n",
    "        poi.val = lists[0]\n",
    "        poi.next = ListNode()\n",
    "        lists = lists[1:]\n",
    "    poi.next = None\n",
    "    return Node.next\n",
    "def print_Node(Node):\n",
    "    lists = []\n",
    "    while Node is not None:\n",
    "        lists.append(Node.val)\n",
    "        Node = Node.next\n",
    "    print(lists)"
   ]
  },
  {
   "cell_type": "markdown",
   "metadata": {},
   "source": [
    "#### My Solution: Recursion"
   ]
  },
  {
   "cell_type": "code",
   "execution_count": 17,
   "metadata": {},
   "outputs": [
    {
     "name": "stdout",
     "output_type": "stream",
     "text": [
      "[2, 1, 4, 3]\n",
      "[2, 1, 3]\n"
     ]
    }
   ],
   "source": [
    "# Definition for singly-linked list.\n",
    "# class ListNode(object):\n",
    "#     def __init__(self, val=0, next=None):\n",
    "#         self.val = val\n",
    "#         self.next = next\n",
    "class Solution(object):\n",
    "    def swapPairs(self, head):\n",
    "        \"\"\"\n",
    "        :type head: ListNode\n",
    "        :rtype: ListNode\n",
    "        \"\"\"\n",
    "        if (head is None) or (head.next is None):\n",
    "            return head\n",
    "        else:\n",
    "            b,head.next = head.next,head.next.next\n",
    "            b.next = head\n",
    "            b.next.next = self.swapPairs(b.next.next)\n",
    "            return b\n",
    "if __name__ == '__main__':\n",
    "    # begin\n",
    "    s = Solution()\n",
    "    print_Node(s.swapPairs(list_to_Node([1,2,3,4])))\n",
    "    print_Node(s.swapPairs(list_to_Node([1,2,3]))) "
   ]
  },
  {
   "cell_type": "markdown",
   "metadata": {},
   "source": [
    "### Result\n",
    "Runtime: 24 ms, faster than 51.28% of Python online submissions for Swap Nodes in Pairs.\n",
    "    \n",
    "Memory Usage: 12.8 MB, less than 33.55% of Python online submissions for Swap Nodes in Pairs."
   ]
  },
  {
   "cell_type": "markdown",
   "metadata": {},
   "source": [
    "#### My Solution: Iteration"
   ]
  },
  {
   "cell_type": "code",
   "execution_count": 23,
   "metadata": {},
   "outputs": [
    {
     "name": "stdout",
     "output_type": "stream",
     "text": [
      "[2, 1, 4, 3]\n",
      "[2, 1, 3]\n"
     ]
    }
   ],
   "source": [
    "class Solution(object):\n",
    "    def swapPairs(self, head):\n",
    "        dummyHead = ListNode(-1)\n",
    "        dummyHead.next = head\n",
    "        prev, p = dummyHead, head\n",
    "        while p != None and p.next != None:\n",
    "            q, r = p.next, p.next.next\n",
    "            prev.next = q\n",
    "            q.next = p\n",
    "            p.next = r\n",
    "            prev = p\n",
    "            p = r\n",
    "        return dummyHead.next\n",
    "if __name__ == '__main__':\n",
    "    # begin\n",
    "    s = Solution()\n",
    "    print_Node(s.swapPairs(list_to_Node([1,2,3,4])))\n",
    "    print_Node(s.swapPairs(list_to_Node([1,2,3]))) "
   ]
  },
  {
   "cell_type": "code",
   "execution_count": 4,
   "metadata": {},
   "outputs": [
    {
     "name": "stdout",
     "output_type": "stream",
     "text": [
      "[1, 2, 3]\n",
      "[1, 2]\n"
     ]
    }
   ],
   "source": [
    "a = [1,2,3]\n",
    "c=a[:]\n",
    "c.pop()\n",
    "print(a)\n",
    "print(c)"
   ]
  },
  {
   "cell_type": "markdown",
   "metadata": {},
   "source": [
    "### Result\n",
    "Runtime: 24 ms, faster than 51.28% of Python online submissions for Swap Nodes in Pairs.\n",
    "    \n",
    "Memory Usage: 12.8 MB, less than 33.55% of Python online submissions for Swap Nodes in Pairs.\n",
    "### Summary\n",
    "Involving 4 pointers, make sure there is no inner loop in the LinkedList."
   ]
  }
 ],
 "metadata": {
  "kernelspec": {
   "display_name": "Python 3",
   "language": "python",
   "name": "python3"
  },
  "language_info": {
   "codemirror_mode": {
    "name": "ipython",
    "version": 3
   },
   "file_extension": ".py",
   "mimetype": "text/x-python",
   "name": "python",
   "nbconvert_exporter": "python",
   "pygments_lexer": "ipython3",
   "version": "3.8.5"
  }
 },
 "nbformat": 4,
 "nbformat_minor": 2
}
