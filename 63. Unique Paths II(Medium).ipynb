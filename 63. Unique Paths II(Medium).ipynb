{
 "cells": [
  {
   "cell_type": "markdown",
   "metadata": {},
   "source": [
    "A robot is located at the top-left corner of a m x n grid (marked 'Start' in the diagram below).\n",
    "\n",
    "The robot can only move either down or right at any point in time. The robot is trying to reach the bottom-right corner of the grid (marked 'Finish' in the diagram below).\n",
    "\n",
    "Now consider if some obstacles are added to the grids. How many unique paths would there be?\n",
    "\n",
    "An obstacle and space is marked as 1 and 0 respectively in the grid.\n",
    "\n",
    " \n",
    "\n",
    "Example 1:\n",
    "\n",
    "\n",
    "    Input: obstacleGrid = [[0,0,0],[0,1,0],[0,0,0]]\n",
    "    Output: 2\n",
    "    Explanation: There is one obstacle in the middle of the 3x3 grid above.\n",
    "    There are two ways to reach the bottom-right corner:\n",
    "    1. Right -> Right -> Down -> Down\n",
    "    2. Down -> Down -> Right -> Right\n",
    "Example 2:\n",
    "\n",
    "\n",
    "    Input: obstacleGrid = [[0,1],[0,0]]\n",
    "    Output: 1\n",
    " \n",
    "\n",
    "Constraints:\n",
    "\n",
    "    m == obstacleGrid.length\n",
    "    n == obstacleGrid[i].length\n",
    "    1 <= m, n <= 100\n",
    "    obstacleGrid[i][j] is 0 or 1."
   ]
  },
  {
   "cell_type": "markdown",
   "metadata": {},
   "source": [
    "My Solution: Dynamic Programming (space complexity 0(m*n))"
   ]
  },
  {
   "cell_type": "code",
   "execution_count": null,
   "metadata": {},
   "outputs": [],
   "source": [
    "class Solution:\n",
    "    def uniquePathsWithObstacles(self, obstacleGrid: List[List[int]]) -> int:\n",
    "        if obstacleGrid[0][0] == 1:\n",
    "            return 0\n",
    "        matrix = obstacleGrid.copy()\n",
    "        matrix[0][0] = 1\n",
    "        for i in range(len(matrix)):\n",
    "            for j in range(len(matrix[0])):\n",
    "                if i == 0 and j == 0:continue\n",
    "                if obstacleGrid[i][j] == 1:\n",
    "                    matrix[i][j] = 0\n",
    "                else:\n",
    "                    if i == 0: matrix[i][j] = matrix[i][j-1]\n",
    "                    elif j ==0 : matrix[i][j] = matrix[i-1][j]\n",
    "                    else: matrix[i][j] = matrix[i-1][j] + matrix[i][j-1]\n",
    "        return matrix[-1][-1]"
   ]
  },
  {
   "cell_type": "markdown",
   "metadata": {},
   "source": [
    "### Result\n",
    "Runtime: 44 ms, faster than 49.87% of Python3 online submissions for Unique Paths II.\n",
    "\n",
    "Memory Usage: 14.3 MB, less than 84.00% of Python3 online submissions for Unique Paths II."
   ]
  },
  {
   "cell_type": "markdown",
   "metadata": {},
   "source": [
    "My Solution: optimized"
   ]
  },
  {
   "cell_type": "code",
   "execution_count": null,
   "metadata": {},
   "outputs": [],
   "source": [
    "class Solution:\n",
    "    def uniquePathsWithObstacles(self, obstacleGrid: List[List[int]]) -> int:\n",
    "        if obstacleGrid[0][0] == 1:\n",
    "            return 0\n",
    "        matrix = obstacleGrid.copy()\n",
    "        matrix[0][0] = 1\n",
    "        for i in range(1,len(matrix)):\n",
    "            if obstacleGrid[i][0] == 1:\n",
    "                matrix[i][0] = 0\n",
    "            else:\n",
    "                matrix[i][0] = matrix[i-1][0]\n",
    "        for j in range(1,len(matrix[0])):\n",
    "            if obstacleGrid[0][j] == 1:\n",
    "                matrix[0][j] = 0\n",
    "            else:\n",
    "                matrix[0][j] = matrix[0][j-1]  \n",
    "        for i in range(1,len(matrix)):\n",
    "            for j in range(1,len(matrix[0])):\n",
    "                if obstacleGrid[i][j] == 1:\n",
    "                    matrix[i][j] = 0\n",
    "                else:\n",
    "                    matrix[i][j] = matrix[i-1][j] + matrix[i][j-1]\n",
    "        return matrix[-1][-1]       "
   ]
  },
  {
   "cell_type": "markdown",
   "metadata": {},
   "source": [
    "### Result\n",
    "Runtime: 40 ms, faster than 78.35% of Python3 online submissions for Unique Paths II.\n",
    "    \n",
    "Memory Usage: 14.4 MB, less than 33.52% of Python3 online submissions for Unique Paths II."
   ]
  },
  {
   "cell_type": "markdown",
   "metadata": {},
   "source": [
    "Good Solution: Using dynamic programming (optimized)"
   ]
  },
  {
   "cell_type": "code",
   "execution_count": null,
   "metadata": {},
   "outputs": [],
   "source": [
    "class Solution(object):\n",
    "    def uniquePathsWithObstacles(self, obstacleGrid):\n",
    "        \"\"\"\n",
    "        :type obstacleGrid: List[List[int]]\n",
    "        :rtype: int\n",
    "        \"\"\"\n",
    "\n",
    "        m = len(obstacleGrid)\n",
    "        n = len(obstacleGrid[0])\n",
    "\n",
    "        # If the starting cell has an obstacle, then simply return as there would be\n",
    "        # no paths to the destination.\n",
    "        if obstacleGrid[0][0] == 1:\n",
    "            return 0\n",
    "\n",
    "        # Number of ways of reaching the starting cell = 1.\n",
    "        obstacleGrid[0][0] = 1\n",
    "\n",
    "        # Filling the values for the first column\n",
    "        for i in range(1,m):\n",
    "            obstacleGrid[i][0] = int(obstacleGrid[i][0] == 0 and obstacleGrid[i-1][0] == 1)\n",
    "\n",
    "        # Filling the values for the first row        \n",
    "        for j in range(1, n):\n",
    "            obstacleGrid[0][j] = int(obstacleGrid[0][j] == 0 and obstacleGrid[0][j-1] == 1)\n",
    "\n",
    "        # Starting from cell(1,1) fill up the values\n",
    "        # No. of ways of reaching cell[i][j] = cell[i - 1][j] + cell[i][j - 1]\n",
    "        # i.e. From above and left.\n",
    "        for i in range(1,m):\n",
    "            for j in range(1,n):\n",
    "                if obstacleGrid[i][j] == 0:\n",
    "                    obstacleGrid[i][j] = obstacleGrid[i-1][j] + obstacleGrid[i][j-1]\n",
    "                else:\n",
    "                    obstacleGrid[i][j] = 0\n",
    "\n",
    "        # Return value stored in rightmost bottommost cell. That is the destination.            \n",
    "        return obstacleGrid[m-1][n-1]                       "
   ]
  },
  {
   "cell_type": "markdown",
   "metadata": {},
   "source": [
    "### Result\n",
    "Runtime: 32 ms, faster than 98.52% of Python3 online submissions for Unique Paths II.\n",
    "\n",
    "Memory Usage: 14.4 MB, less than 61.16% of Python3 online submissions for Unique Paths II."
   ]
  }
 ],
 "metadata": {
  "kernelspec": {
   "display_name": "Python 3",
   "language": "python",
   "name": "python3"
  },
  "language_info": {
   "codemirror_mode": {
    "name": "ipython",
    "version": 3
   },
   "file_extension": ".py",
   "mimetype": "text/x-python",
   "name": "python",
   "nbconvert_exporter": "python",
   "pygments_lexer": "ipython3",
   "version": "3.8.5"
  }
 },
 "nbformat": 4,
 "nbformat_minor": 4
}
