{
 "cells": [
  {
   "cell_type": "markdown",
   "metadata": {},
   "source": [
    "Write an efficient algorithm that searches for a value in an m x n matrix. This matrix has the following properties:\n",
    "\n",
    "Integers in each row are sorted from left to right.\n",
    "The first integer of each row is greater than the last integer of the previous row.\n",
    " \n",
    "\n",
    "Example 1:\n",
    "\n",
    "\n",
    "    Input: matrix = [[1,3,5,7],[10,11,16,20],[23,30,34,60]], target = 3\n",
    "    Output: true\n",
    "Example 2:\n",
    "\n",
    "\n",
    "    Input: matrix = [[1,3,5,7],[10,11,16,20],[23,30,34,60]], target = 13\n",
    "    Output: false\n",
    " \n",
    "\n",
    "Constraints:\n",
    "\n",
    "    m == matrix.length\n",
    "    n == matrix[i].length\n",
    "    1 <= m, n <= 100\n",
    "    -10**4 <= matrix[i][j], target <= 10**4"
   ]
  },
  {
   "cell_type": "markdown",
   "metadata": {},
   "source": [
    "My Solution: twice binary search with time complexity O(log n)"
   ]
  },
  {
   "cell_type": "code",
   "execution_count": null,
   "metadata": {},
   "outputs": [],
   "source": [
    "class Solution:\n",
    "    def searchMatrix(self, matrix: List[List[int]], target: int) -> bool:\n",
    "        m,n = len(matrix),len(matrix[0])\n",
    "        row_index = bisect.bisect([matrix[i][0] for i in range(m)],target)\n",
    "        #if target < matrix[0][0] or target > matrix[-1][-1]:\n",
    "        #    return False\n",
    "        start,end = 0,n-1\n",
    "        while start <= end:\n",
    "            mid = (start + end)//2\n",
    "            if matrix[row_index-1][mid] == target:\n",
    "                return True\n",
    "            else:\n",
    "                if matrix[row_index-1][mid] > target:\n",
    "                    end = mid -1\n",
    "                else:\n",
    "                    start = mid + 1\n",
    "        return False"
   ]
  },
  {
   "cell_type": "markdown",
   "metadata": {},
   "source": [
    "### Result\n",
    "Runtime: 36 ms, faster than 95.42% of Python3 online submissions for Search a 2D Matrix.\n",
    "\n",
    "Memory Usage: 14.8 MB, less than 33.00% of Python3 online submissions for Search a 2D Matrix."
   ]
  }
 ],
 "metadata": {
  "kernelspec": {
   "display_name": "Python 3",
   "language": "python",
   "name": "python3"
  },
  "language_info": {
   "codemirror_mode": {
    "name": "ipython",
    "version": 3
   },
   "file_extension": ".py",
   "mimetype": "text/x-python",
   "name": "python",
   "nbconvert_exporter": "python",
   "pygments_lexer": "ipython3",
   "version": "3.8.5"
  }
 },
 "nbformat": 4,
 "nbformat_minor": 4
}
