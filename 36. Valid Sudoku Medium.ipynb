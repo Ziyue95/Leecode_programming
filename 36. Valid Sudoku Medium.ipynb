{
 "cells": [
  {
   "cell_type": "markdown",
   "metadata": {},
   "source": [
    "Determine if a 9 x 9 Sudoku board is valid. Only the filled cells need to be validated according to the following rules:\n",
    "\n",
    "    Each row must contain the digits 1-9 without repetition.\n",
    "    Each column must contain the digits 1-9 without repetition.\n",
    "    Each of the nine 3 x 3 sub-boxes of the grid must contain the digits 1-9 without repetition.\n",
    "Note:\n",
    "\n",
    "    A Sudoku board (partially filled) could be valid but is not necessarily solvable.\n",
    "    Only the filled cells need to be validated according to the mentioned rules.\n",
    " \n",
    "\n",
    "Example 1:\n",
    "\n",
    "\n",
    "    Input: board = \n",
    "    [[\"5\",\"3\",\".\",\".\",\"7\",\".\",\".\",\".\",\".\"]\n",
    "    ,[\"6\",\".\",\".\",\"1\",\"9\",\"5\",\".\",\".\",\".\"]\n",
    "    ,[\".\",\"9\",\"8\",\".\",\".\",\".\",\".\",\"6\",\".\"]\n",
    "    ,[\"8\",\".\",\".\",\".\",\"6\",\".\",\".\",\".\",\"3\"]\n",
    "    ,[\"4\",\".\",\".\",\"8\",\".\",\"3\",\".\",\".\",\"1\"]\n",
    "    ,[\"7\",\".\",\".\",\".\",\"2\",\".\",\".\",\".\",\"6\"]\n",
    "    ,[\".\",\"6\",\".\",\".\",\".\",\".\",\"2\",\"8\",\".\"]\n",
    "    ,[\".\",\".\",\".\",\"4\",\"1\",\"9\",\".\",\".\",\"5\"]\n",
    "    ,[\".\",\".\",\".\",\".\",\"8\",\".\",\".\",\"7\",\"9\"]]\n",
    "    Output: true\n",
    "Example 2:\n",
    "\n",
    "    Input: board = \n",
    "    [[\"8\",\"3\",\".\",\".\",\"7\",\".\",\".\",\".\",\".\"]\n",
    "    ,[\"6\",\".\",\".\",\"1\",\"9\",\"5\",\".\",\".\",\".\"]\n",
    "    ,[\".\",\"9\",\"8\",\".\",\".\",\".\",\".\",\"6\",\".\"]\n",
    "    ,[\"8\",\".\",\".\",\".\",\"6\",\".\",\".\",\".\",\"3\"]\n",
    "    ,[\"4\",\".\",\".\",\"8\",\".\",\"3\",\".\",\".\",\"1\"]\n",
    "    ,[\"7\",\".\",\".\",\".\",\"2\",\".\",\".\",\".\",\"6\"]\n",
    "    ,[\".\",\"6\",\".\",\".\",\".\",\".\",\"2\",\"8\",\".\"]\n",
    "    ,[\".\",\".\",\".\",\"4\",\"1\",\"9\",\".\",\".\",\"5\"]\n",
    "    ,[\".\",\".\",\".\",\".\",\"8\",\".\",\".\",\"7\",\"9\"]]\n",
    "    Output: false\n",
    "    Explanation: Same as Example 1, except with the 5 in the top left corner being modified to 8. Since there are two 8's in the top left 3x3 sub-box, it is invalid.\n",
    "\n",
    "\n",
    "Constraints:\n",
    "\n",
    "    board.length == 9\n",
    "    board[i].length == 9\n",
    "    board[i][j] is a digit or '.'."
   ]
  },
  {
   "cell_type": "markdown",
   "metadata": {},
   "source": [
    "My Solution:"
   ]
  },
  {
   "cell_type": "code",
   "execution_count": null,
   "metadata": {},
   "outputs": [],
   "source": [
    "class Solution:\n",
    "    def isValidSudoku(self, board: List[List[str]]) -> bool:\n",
    "        if_valid = {\"1\":False,\"2\":False,\"3\":False,\"4\":False,\"5\":False,\"6\":False,\"7\":False,\"8\":False,\"9\":False}\n",
    "        row = {}\n",
    "        col = {}\n",
    "        block = {}\n",
    "        for i in range(9):\n",
    "            row[i] = if_valid.copy()\n",
    "            col[i] = if_valid.copy()\n",
    "            block[i] = if_valid.copy()\n",
    "        for i in range(9):\n",
    "            for j in range(9):\n",
    "                val = board[i][j]\n",
    "                if val != '.':\n",
    "                    if row[i][val] or col[j][val] or block[int(i / 3) * 3 + int(j / 3)][val]:\n",
    "                        return False\n",
    "                    else:\n",
    "                        row[i][val] = True\n",
    "                        col[j][val] = True\n",
    "                        block[int(i / 3) * 3 + int(j / 3)][val] = True\n",
    "                        \n",
    "        return True"
   ]
  },
  {
   "cell_type": "markdown",
   "metadata": {},
   "source": [
    "Runtime: 92 ms, faster than 82.97% of Python3 online submissions for Valid Sudoku.\n",
    "    \n",
    "Memory Usage: 14.3 MB, less than 68.16% of Python3 online submissions for Valid Sudoku."
   ]
  },
  {
   "cell_type": "markdown",
   "metadata": {},
   "source": [
    "other solution:"
   ]
  },
  {
   "cell_type": "code",
   "execution_count": null,
   "metadata": {},
   "outputs": [],
   "source": [
    "class Solution:\n",
    "    def isValidSudoku(self, board: List[List[str]]) -> bool:\n",
    "        \n",
    "        # dictionaries to store seen digits\n",
    "        row = {}\n",
    "        col = {}\n",
    "        block = {}\n",
    "        # initiate dict\n",
    "        for i in range(9):\n",
    "            row[i] = []\n",
    "            col[i] = []\n",
    "            block[i] = []\n",
    "        \n",
    "        # for each grid\n",
    "        for i in range(9):\n",
    "            for j in range(9):\n",
    "                val = board[i][j]\n",
    "                if val != '.':\n",
    "                    # check whether digit has appeared before\n",
    "                    if val in row[i] or val in col[j] or val in block[int(i / 3) * 3 + int(j / 3)]:\n",
    "                        return False\n",
    "                    # if not, add digit to dict\n",
    "                    else:\n",
    "                        row[i].append(val)\n",
    "                        col[j].append(val)\n",
    "                        block[int(i / 3) * 3 + int(j / 3)].append(val)\n",
    "        \n",
    "        return True"
   ]
  }
 ],
 "metadata": {
  "kernelspec": {
   "display_name": "Python 3",
   "language": "python",
   "name": "python3"
  },
  "language_info": {
   "codemirror_mode": {
    "name": "ipython",
    "version": 3
   },
   "file_extension": ".py",
   "mimetype": "text/x-python",
   "name": "python",
   "nbconvert_exporter": "python",
   "pygments_lexer": "ipython3",
   "version": "3.8.5"
  }
 },
 "nbformat": 4,
 "nbformat_minor": 4
}
