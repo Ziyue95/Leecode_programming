{
 "cells": [
  {
   "cell_type": "markdown",
   "id": "478262e9",
   "metadata": {},
   "source": [
    "My Solution: recursion"
   ]
  },
  {
   "cell_type": "code",
   "execution_count": null,
   "id": "f3549cb0",
   "metadata": {},
   "outputs": [],
   "source": [
    "# Definition for a binary tree node.\n",
    "# class TreeNode:\n",
    "#     def __init__(self, val=0, left=None, right=None):\n",
    "#         self.val = val\n",
    "#         self.left = left\n",
    "#         self.right = right\n",
    "class Solution:\n",
    "    def generateTrees(self, n: int) -> List[TreeNode]:\n",
    "        def recursion(array):\n",
    "            lenArray = len(array)\n",
    "            if lenArray == 0:\n",
    "                return [None]\n",
    "            elif lenArray == 1:\n",
    "                return [TreeNode(array[0])]\n",
    "            else:\n",
    "                treeList = []\n",
    "                for i in range(lenArray):\n",
    "                    leftTreeList = recursion(array[0:i])\n",
    "                    rightTreeList = recursion(array[i+1:])\n",
    "                    for leftTree in leftTreeList:\n",
    "                        for rightTree in rightTreeList:\n",
    "                            newTree = TreeNode(array[i])\n",
    "                            newTree.left = leftTree\n",
    "                            newTree.right = rightTree\n",
    "                            treeList.append(newTree)\n",
    "                return treeList\n",
    "        return recursion(list(range(1,n + 1)))"
   ]
  }
 ],
 "metadata": {
  "kernelspec": {
   "display_name": "Python 3",
   "language": "python",
   "name": "python3"
  },
  "language_info": {
   "codemirror_mode": {
    "name": "ipython",
    "version": 3
   },
   "file_extension": ".py",
   "mimetype": "text/x-python",
   "name": "python",
   "nbconvert_exporter": "python",
   "pygments_lexer": "ipython3",
   "version": "3.8.8"
  }
 },
 "nbformat": 4,
 "nbformat_minor": 5
}
