{
 "cells": [
  {
   "cell_type": "markdown",
   "id": "98838f60",
   "metadata": {},
   "source": [
    "Given the root of a binary tree, return its maximum depth.\n",
    "\n",
    "A binary tree's maximum depth is the number of nodes along the longest path from the root node down to the farthest leaf node.\n",
    "\n",
    " \n",
    "\n",
    "Example 1:\n",
    "\n",
    "\n",
    "    Input: root = [3,9,20,null,null,15,7]\n",
    "    Output: 3\n",
    "Example 2:\n",
    "\n",
    "    Input: root = [1,null,2]\n",
    "    Output: 2\n",
    "Example 3:\n",
    "\n",
    "    Input: root = []\n",
    "    Output: 0\n",
    "Example 4:\n",
    "\n",
    "    Input: root = [0]\n",
    "    Output: 1\n",
    " \n",
    "\n",
    "Constraints:\n",
    "\n",
    "    The number of nodes in the tree is in the range [0, 10**4].\n",
    "    -100 <= Node.val <= 100"
   ]
  },
  {
   "cell_type": "markdown",
   "id": "b592cfab",
   "metadata": {},
   "source": [
    "My Solution:"
   ]
  },
  {
   "cell_type": "code",
   "execution_count": null,
   "id": "3c415bc5",
   "metadata": {},
   "outputs": [],
   "source": [
    "# Definition for a binary tree node.\n",
    "# class TreeNode:\n",
    "#     def __init__(self, val=0, left=None, right=None):\n",
    "#         self.val = val\n",
    "#         self.left = left\n",
    "#         self.right = right\n",
    "class Solution:\n",
    "    def maxDepth(self, root: TreeNode) -> int:\n",
    "        max_depth = 0\n",
    "        if not root:\n",
    "            return 0\n",
    "        root_queue = [root]\n",
    "        while root_queue:\n",
    "            next_queue = []\n",
    "            while root_queue:\n",
    "                node = root_queue.pop()\n",
    "                if node.left:\n",
    "                    next_queue += [node.left]\n",
    "                if node.right:\n",
    "                    next_queue += [node.right]\n",
    "            root_queue = next_queue\n",
    "            max_depth += 1\n",
    "        return max_depth"
   ]
  }
 ],
 "metadata": {
  "kernelspec": {
   "display_name": "Python 3",
   "language": "python",
   "name": "python3"
  },
  "language_info": {
   "codemirror_mode": {
    "name": "ipython",
    "version": 3
   },
   "file_extension": ".py",
   "mimetype": "text/x-python",
   "name": "python",
   "nbconvert_exporter": "python",
   "pygments_lexer": "ipython3",
   "version": "3.8.8"
  }
 },
 "nbformat": 4,
 "nbformat_minor": 5
}
