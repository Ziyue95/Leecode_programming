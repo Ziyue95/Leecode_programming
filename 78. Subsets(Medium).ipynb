{
 "cells": [
  {
   "cell_type": "markdown",
   "metadata": {},
   "source": [
    "Given an integer array nums of unique elements, return all possible subsets (the power set).\n",
    "\n",
    "The solution set must not contain duplicate subsets. Return the solution in any order.\n",
    "\n",
    " \n",
    "\n",
    "Example 1:\n",
    "\n",
    "Input: nums = [1,2,3]\n",
    "    \n",
    "Output: [[],[1],[2],[1,2],[3],[1,3],[2,3],[1,2,3]]\n",
    "\n",
    "Example 2:\n",
    "\n",
    "Input: nums = [0]\n",
    "\n",
    "Output: [[],[0]]\n",
    " \n",
    "\n",
    "Constraints:\n",
    "\n",
    "1 <= nums.length <= 10\n",
    "\n",
    "-10 <= nums[i] <= 10\n",
    "\n",
    "All the numbers of nums are unique."
   ]
  },
  {
   "cell_type": "markdown",
   "metadata": {},
   "source": [
    "My Solutions:"
   ]
  },
  {
   "cell_type": "code",
   "execution_count": 2,
   "metadata": {},
   "outputs": [
    {
     "name": "stdout",
     "output_type": "stream",
     "text": [
      "[[], [1]]\n",
      "[[], [1], [2], [2, 1]]\n",
      "[[], [1], [2], [2, 1], [3], [3, 1], [3, 2], [3, 2, 1]]\n"
     ]
    }
   ],
   "source": [
    "class Solution:\n",
    "    def subsets(self, nums):\n",
    "        combs = [[]]\n",
    "        for i in nums:\n",
    "            combs.extend([[i] + item for item in combs])\n",
    "        return combs\n",
    "    \n",
    "if __name__ == '__main__':\n",
    "    # begin\n",
    "    s = Solution()\n",
    "    print(s.subsets([1]))\n",
    "    print(s.subsets([1,2]))\n",
    "    print(s.subsets([1,2,3]))"
   ]
  },
  {
   "cell_type": "markdown",
   "metadata": {},
   "source": [
    "### Result"
   ]
  },
  {
   "cell_type": "markdown",
   "metadata": {},
   "source": [
    "Runtime: 32 ms, faster than 77.13% of Python3 online submissions for Subsets.\n",
    "    \n",
    "Memory Usage: 14.4 MB, less than 51.71% of Python3 online submissions for Subsets."
   ]
  },
  {
   "cell_type": "markdown",
   "metadata": {},
   "source": [
    "Good Solutions:"
   ]
  },
  {
   "cell_type": "markdown",
   "metadata": {},
   "source": [
    "Using Back Tracking algorithm:"
   ]
  },
  {
   "cell_type": "code",
   "execution_count": 4,
   "metadata": {},
   "outputs": [
    {
     "name": "stdout",
     "output_type": "stream",
     "text": [
      "[[], [1]]\n",
      "[[], [1], [2], [1, 2]]\n",
      "[[], [1], [2], [3], [1, 2], [1, 3], [2, 3], [1, 2, 3]]\n"
     ]
    }
   ],
   "source": [
    "class Solution:\n",
    "    def subsets(self, nums):\n",
    "        def backtrack(first = 0, curr = [], lens = 0):\n",
    "            # if the combination is done\n",
    "            if lens == k:  \n",
    "                output.append(curr[:])\n",
    "                return\n",
    "            for i in range(first, n):\n",
    "                # add nums[i] into the current combination\n",
    "                curr.append(nums[i])\n",
    "                # use next integers to complete the combination\n",
    "                backtrack(i + 1, curr, lens + 1)\n",
    "                # backtrack\n",
    "                curr.pop()\n",
    "        \n",
    "        output = []\n",
    "        n = len(nums)\n",
    "        for k in range(n + 1):\n",
    "            backtrack()\n",
    "        return output\n",
    "\n",
    "if __name__ == '__main__':\n",
    "    # begin\n",
    "    s = Solution()\n",
    "    print(s.subsets([1]))\n",
    "    print(s.subsets([1,2]))\n",
    "    print(s.subsets([1,2,3]))"
   ]
  },
  {
   "cell_type": "markdown",
   "metadata": {},
   "source": [
    "### Result\n",
    "Runtime: 32 ms, faster than 77.13% of Python3 online submissions for Subsets.\n",
    "    \n",
    "Memory Usage: 14.4 MB, less than 51.71% of Python3 online submissions for Subsets."
   ]
  },
  {
   "cell_type": "markdown",
   "metadata": {},
   "source": [
    "Using Binary Sorted:"
   ]
  },
  {
   "cell_type": "code",
   "execution_count": 15,
   "metadata": {},
   "outputs": [
    {
     "data": {
      "text/plain": [
       "'0b11'"
      ]
     },
     "execution_count": 15,
     "metadata": {},
     "output_type": "execute_result"
    }
   ],
   "source": [
    "class Solution:\n",
    "    def subsets(self, nums: List[int]) -> List[List[int]]:\n",
    "        n = len(nums)\n",
    "        output = []\n",
    "        \n",
    "        for i in range(2**n, 2**(n + 1)):\n",
    "            # generate bitmask, from 0..00 to 1..11\n",
    "            bitmask = bin(i)[3:]\n",
    "            \n",
    "            # append subset corresponding to that bitmask\n",
    "            output.append([nums[j] for j in range(n) if bitmask[j] == '1'])\n",
    "        \n",
    "        return output\n",
    "\n",
    "if __name__ == '__main__':\n",
    "    # begin\n",
    "    s = Solution()\n",
    "    print(s.subsets([1]))\n",
    "    print(s.subsets([1,2]))\n",
    "    print(s.subsets([1,2,3]))"
   ]
  },
  {
   "cell_type": "markdown",
   "metadata": {},
   "source": [
    "### Result\n",
    "Runtime: 32 ms, faster than 77.13% of Python3 online submissions for Subsets.\n",
    "\n",
    "Memory Usage: 14.6 MB, less than 19.38% of Python3 online submissions for Subsets."
   ]
  }
 ],
 "metadata": {
  "kernelspec": {
   "display_name": "Python 3",
   "language": "python",
   "name": "python3"
  },
  "language_info": {
   "codemirror_mode": {
    "name": "ipython",
    "version": 3
   },
   "file_extension": ".py",
   "mimetype": "text/x-python",
   "name": "python",
   "nbconvert_exporter": "python",
   "pygments_lexer": "ipython3",
   "version": "3.8.5"
  }
 },
 "nbformat": 4,
 "nbformat_minor": 4
}
