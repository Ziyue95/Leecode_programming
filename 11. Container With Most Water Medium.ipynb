{
 "cells": [
  {
   "cell_type": "markdown",
   "metadata": {},
   "source": [
    "Given n non-negative integers a1, a2, ..., an , where each represents a point at coordinate (i, ai). n vertical lines are drawn such that the two endpoints of the line i is at (i, ai) and (i, 0). Find two lines, which, together with the x-axis forms a container, such that the container contains the most water.\n",
    "\n",
    "Notice that you may not slant the container.\n",
    "\n",
    " \n",
    "\n",
    "Example 1:\n",
    "\n",
    "\n",
    "    Input: height = [1,8,6,2,5,4,8,3,7]\n",
    "    Output: 49\n",
    "    Explanation: The above vertical lines are represented by array [1,8,6,2,5,4,8,3,7]. In this case, the max area of water (blue section) the container can contain is 49.\n",
    "Example 2:\n",
    "\n",
    "    Input: height = [1,1]\n",
    "    Output: 1\n",
    "Example 3:\n",
    "\n",
    "    Input: height = [4,3,2,1,4]\n",
    "    Output: 16\n",
    "Example 4:\n",
    "\n",
    "    Input: height = [1,2,1]\n",
    "    Output: 2\n",
    " \n",
    "\n",
    "Constraints:\n",
    "\n",
    "    n == height.length\n",
    "    2 <= n <= 10**5\n",
    "    0 <= height[i] <= 10**4"
   ]
  },
  {
   "cell_type": "markdown",
   "metadata": {},
   "source": [
    "My Solution:"
   ]
  },
  {
   "cell_type": "code",
   "execution_count": null,
   "metadata": {},
   "outputs": [],
   "source": [
    "class Solution:\n",
    "    def maxArea(self, height: List[int]) -> int:\n",
    "        start,end = 0,len(height)-1\n",
    "        maxArea = 0\n",
    "        while end-start > 0:\n",
    "            new_Area = min(height[start],height[end])*(end - start)\n",
    "            maxArea = max(new_Area,maxArea)\n",
    "            if height[start] >= height[end]:\n",
    "                end -= 1\n",
    "            else:\n",
    "                start+= 1\n",
    "        \n",
    "        return maxArea"
   ]
  },
  {
   "cell_type": "markdown",
   "metadata": {},
   "source": [
    "Runtime: 760 ms, faster than 34.24% of Python3 online submissions for Container With Most Water.\n",
    "    \n",
    "Memory Usage: 26.6 MB, less than 70.59% of Python3 online submissions for Container With Most Water."
   ]
  }
 ],
 "metadata": {
  "kernelspec": {
   "display_name": "Python 3",
   "language": "python",
   "name": "python3"
  },
  "language_info": {
   "codemirror_mode": {
    "name": "ipython",
    "version": 3
   },
   "file_extension": ".py",
   "mimetype": "text/x-python",
   "name": "python",
   "nbconvert_exporter": "python",
   "pygments_lexer": "ipython3",
   "version": "3.8.5"
  }
 },
 "nbformat": 4,
 "nbformat_minor": 4
}
