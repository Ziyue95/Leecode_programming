{
 "cells": [
  {
   "cell_type": "markdown",
   "id": "e15b9be0",
   "metadata": {},
   "source": [
    "BackTracking with index jump"
   ]
  },
  {
   "cell_type": "code",
   "execution_count": 27,
   "id": "b1d99e1d",
   "metadata": {},
   "outputs": [],
   "source": [
    "class Solution:\n",
    "    def combinationSum2(self, candidates: List[int], target: int) -> List[List[int]]:\n",
    "        result = []\n",
    "        candidates.sort()\n",
    "        lenCands = len(candidates)\n",
    "        def backTracking(cur,remain, pos):\n",
    "            \n",
    "            if remain == 0:\n",
    "                result.append(cur[:])\n",
    "                return\n",
    "            for curPos in range(pos, lenCands):\n",
    "                if curPos > pos and candidates[curPos] == candidates[curPos - 1]:\n",
    "                    continue\n",
    "                if remain < candidates[curPos]:\n",
    "                    break\n",
    "                cur.append(candidates[curPos])\n",
    "                backTracking(cur, remain - candidates[curPos], curPos + 1)\n",
    "                cur.pop()\n",
    "            return\n",
    "        backTracking([], target, 0)\n",
    "        return result"
   ]
  },
  {
   "cell_type": "markdown",
   "id": "8079d8aa",
   "metadata": {},
   "source": [
    "BackTracking with Counter"
   ]
  },
  {
   "cell_type": "code",
   "execution_count": null,
   "id": "d1be2ee7",
   "metadata": {},
   "outputs": [],
   "source": [
    "class Solution:\n",
    "    def combinationSum2(self, candidates: List[int], target: int) -> List[List[int]]:\n",
    "\n",
    "        def backtrack(comb, remain, curr, counter, results):\n",
    "            if remain == 0:\n",
    "                # make a deep copy of the current combination\n",
    "                #   rather than keeping the reference.\n",
    "                results.append(list(comb))\n",
    "                return\n",
    "\n",
    "            for next_curr in range(curr, len(counter)):\n",
    "                candidate, freq = counter[next_curr]\n",
    "\n",
    "                if freq <= 0 or remain < candidate:\n",
    "                    continue\n",
    "\n",
    "                # add a new element to the current combination\n",
    "                comb.append(candidate)\n",
    "                counter[next_curr] = (candidate, freq-1)\n",
    "\n",
    "                # continue the exploration with the updated combination\n",
    "                backtrack(comb, remain - candidate, next_curr, counter, results)\n",
    "\n",
    "                # backtrack the changes, so that we can try another candidate\n",
    "                counter[next_curr] = (candidate, freq)\n",
    "                comb.pop()\n",
    "\n",
    "        results = []  # container to hold the final combinations\n",
    "        \n",
    "        # Create Counter\n",
    "        counter = {}\n",
    "        for i in candidates:\n",
    "            try:\n",
    "                counter[i] += 1\n",
    "            except:\n",
    "                counter[i] = 1\n",
    "                \n",
    "        # convert the counter table to a list of (num, count) tuples\n",
    "        counter = [(c, counter[c]) for c in counter]\n",
    "\n",
    "        backtrack(comb = [], remain = target, curr = 0,\n",
    "                  counter = counter, results = results)\n",
    "\n",
    "        return results"
   ]
  }
 ],
 "metadata": {
  "kernelspec": {
   "display_name": "Python 3",
   "language": "python",
   "name": "python3"
  },
  "language_info": {
   "codemirror_mode": {
    "name": "ipython",
    "version": 3
   },
   "file_extension": ".py",
   "mimetype": "text/x-python",
   "name": "python",
   "nbconvert_exporter": "python",
   "pygments_lexer": "ipython3",
   "version": "3.8.8"
  }
 },
 "nbformat": 4,
 "nbformat_minor": 5
}
