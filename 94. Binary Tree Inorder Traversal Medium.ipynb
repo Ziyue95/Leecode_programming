{
 "cells": [
  {
   "cell_type": "markdown",
   "metadata": {},
   "source": [
    "Given the root of a binary tree, return the inorder traversal of its nodes' values.\n",
    "\n",
    " \n",
    "\n",
    "Example 1:\n",
    "\n",
    "\n",
    "    Input: root = [1,null,2,3]\n",
    "    Output: [1,3,2]\n",
    "Example 2:\n",
    "\n",
    "    Input: root = []\n",
    "    Output: []\n",
    "Example 3:\n",
    "\n",
    "    Input: root = [1]\n",
    "    Output: [1]\n",
    "Example 4:\n",
    "\n",
    "\n",
    "    Input: root = [1,2]\n",
    "    Output: [2,1]\n",
    "Example 5:\n",
    "\n",
    "\n",
    "    Input: root = [1,null,2]\n",
    "    Output: [1,2]\n",
    " \n",
    "\n",
    "Constraints:\n",
    "\n",
    "    The number of nodes in the tree is in the range [0, 100].\n",
    "    -100 <= Node.val <= 100"
   ]
  },
  {
   "cell_type": "markdown",
   "metadata": {},
   "source": [
    "My Solution: Iterating method using Stack"
   ]
  },
  {
   "cell_type": "code",
   "execution_count": null,
   "metadata": {},
   "outputs": [],
   "source": [
    "# Definition for a binary tree node.\n",
    "# class TreeNode:\n",
    "#     def __init__(self, val=0, left=None, right=None):\n",
    "#         self.val = val\n",
    "#         self.left = left\n",
    "#         self.right = right\n",
    "class Solution:\n",
    "    def inorderTraversal(self, root: TreeNode) -> List[int]:\n",
    "        node_list = []\n",
    "        parents = []\n",
    "        while parents != [] or root is not None:\n",
    "            while root is not None:\n",
    "                parents.append(root)\n",
    "                root = root.left\n",
    "            root = parents.pop()\n",
    "            node_list.append(root.val)\n",
    "            root = root.right\n",
    "        return node_list"
   ]
  },
  {
   "cell_type": "markdown",
   "metadata": {},
   "source": [
    "### Result\n",
    "Runtime: 28 ms, faster than 80.85% of Python3 online submissions for Binary Tree Inorder Traversal.\n",
    "\n",
    "Memory Usage: 14.3 MB, less than 12.96% of Python3 online submissions for Binary Tree Inorder Traversal."
   ]
  },
  {
   "cell_type": "markdown",
   "metadata": {},
   "source": [
    "Good Solution: Recursion"
   ]
  },
  {
   "cell_type": "code",
   "execution_count": null,
   "metadata": {},
   "outputs": [],
   "source": [
    "# Definition for a binary tree node.\n",
    "# class TreeNode:\n",
    "#     def __init__(self, val=0, left=None, right=None):\n",
    "#         self.val = val\n",
    "#         self.left = left\n",
    "#         self.right = right\n",
    "class Solution:\n",
    "    def inorderTraversal(self, root: TreeNode) -> List[int]:\n",
    "        return  self.inorderTraversal(root.left) + [root.val] + self.inorderTraversal(root.right) if root else []"
   ]
  },
  {
   "cell_type": "markdown",
   "metadata": {},
   "source": [
    "### Result\n",
    "Runtime: 32 ms, faster than 52.54% of Python3 online submissions for Binary Tree Inorder Traversal.\n",
    "\n",
    "Memory Usage: 14.2 MB, less than 47.63% of Python3 online submissions for Binary Tree Inorder Traversal."
   ]
  }
 ],
 "metadata": {
  "kernelspec": {
   "display_name": "Python 3",
   "language": "python",
   "name": "python3"
  },
  "language_info": {
   "codemirror_mode": {
    "name": "ipython",
    "version": 3
   },
   "file_extension": ".py",
   "mimetype": "text/x-python",
   "name": "python",
   "nbconvert_exporter": "python",
   "pygments_lexer": "ipython3",
   "version": "3.8.5"
  }
 },
 "nbformat": 4,
 "nbformat_minor": 4
}
