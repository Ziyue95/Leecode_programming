{
 "cells": [
  {
   "cell_type": "markdown",
   "metadata": {},
   "source": [
    "Given a string containing digits from 2-9 inclusive, return all possible letter combinations that the number could represent. Return the answer in any order.\n",
    "\n",
    "A mapping of digit to letters (just like on the telephone buttons) is given below. Note that 1 does not map to any letters.\n",
    "\n",
    "Example 1:\n",
    "\n",
    "    Input: digits = \"23\"   \n",
    "    Output: [\"ad\",\"ae\",\"af\",\"bd\",\"be\",\"bf\",\"cd\",\"ce\",\"cf\"]\n",
    "    \n",
    "Example 2:\n",
    "\n",
    "    Input: digits = \"\"    \n",
    "    Output: []\n",
    "    \n",
    "Example 3:\n",
    "\n",
    "    Input: digits = \"2\"   \n",
    "    Output: [\"a\",\"b\",\"c\"]\n",
    " \n",
    "\n",
    "Constraints:\n",
    "\n",
    "    0 <= digits.length <= 4\n",
    "    digits[i] is a digit in the range ['2', '9']."
   ]
  },
  {
   "cell_type": "markdown",
   "metadata": {},
   "source": [
    "My Solution:Using backtracking"
   ]
  },
  {
   "cell_type": "code",
   "execution_count": 4,
   "metadata": {},
   "outputs": [
    {
     "name": "stdout",
     "output_type": "stream",
     "text": [
      "['a', 'b', 'c']\n",
      "['ad', 'ae', 'af', 'bd', 'be', 'bf', 'cd', 'ce', 'cf']\n"
     ]
    }
   ],
   "source": [
    "class Solution:\n",
    "    def letterCombinations(self, digits):\n",
    "        if digits == \"\":\n",
    "            return []\n",
    "        digiToChar = {\"2\":\"abc\",\"3\":\"def\",\"4\":\"ghi\",\"5\":\"jkl\",\"6\":\"mno\",\"7\":\"pqrs\",\"8\":\"tuv\",\"9\":\"wxyz\"}\n",
    "        result = []\n",
    "        lens_digit = len(digits)\n",
    "        def backtracking(current,index):\n",
    "            if index == lens_digit: \n",
    "                result.append(current)\n",
    "            else:\n",
    "                for i in digiToChar[digits[index]]:\n",
    "                    current = current + i\n",
    "                    backtracking(current[:],index + 1)\n",
    "                    current = current[:-1]\n",
    "        backtracking(\"\",0)\n",
    "        return result\n",
    "\n",
    "if __name__ == '__main__':\n",
    "    # begin\n",
    "    s = Solution()\n",
    "    print(s.letterCombinations(\"2\")) \n",
    "    print(s.letterCombinations(\"23\")) "
   ]
  },
  {
   "cell_type": "markdown",
   "metadata": {},
   "source": [
    "### Result\n",
    "Runtime: 32 ms, faster than 53.36% of Python3 online submissions for Letter Combinations of a Phone Number.\n",
    "\n",
    "Memory Usage: 14.4 MB, less than 32.06% of Python3 online submissions for Letter Combinations of a Phone Number."
   ]
  },
  {
   "cell_type": "markdown",
   "metadata": {},
   "source": [
    "Using Dynammic Programming"
   ]
  },
  {
   "cell_type": "code",
   "execution_count": 6,
   "metadata": {},
   "outputs": [
    {
     "name": "stdout",
     "output_type": "stream",
     "text": [
      "['a', 'b', 'c']\n",
      "['ad', 'bd', 'cd', 'ae', 'be', 'ce', 'af', 'bf', 'cf']\n"
     ]
    }
   ],
   "source": [
    "class Solution:\n",
    "    def letterCombinations(self, digits):\n",
    "        digiToChar = {\"2\":\"abc\",\"3\":\"def\",\"4\":\"ghi\",\"5\":\"jkl\",\"6\":\"mno\",\"7\":\"pqrs\",\"8\":\"tuv\",\"9\":\"wxyz\"}\n",
    "        len_digits = len(digits)\n",
    "        if len_digits == 0:\n",
    "            return []\n",
    "        result = [[] for i in range(len_digits)]\n",
    "        result[0] = [i for i in digiToChar[digits[0]]]\n",
    "        for i in range(1,len_digits):\n",
    "            for j in digiToChar[digits[i]]:\n",
    "                result[i].extend([item + j for item in result[i-1]])\n",
    "        return result[-1]\n",
    "    \n",
    "if __name__ == '__main__':\n",
    "    # begin\n",
    "    s = Solution()\n",
    "    print(s.letterCombinations(\"2\")) \n",
    "    print(s.letterCombinations(\"23\")) "
   ]
  },
  {
   "cell_type": "markdown",
   "metadata": {},
   "source": [
    "### Result\n",
    "Runtime: 24 ms, faster than 94.61% of Python3 online submissions for Letter Combinations of a Phone Number.\n",
    "\n",
    "Memory Usage: 14.4 MB, less than 32.06% of Python3 online submissions for Letter Combinations of a Phone Number."
   ]
  }
 ],
 "metadata": {
  "kernelspec": {
   "display_name": "Python 3",
   "language": "python",
   "name": "python3"
  },
  "language_info": {
   "codemirror_mode": {
    "name": "ipython",
    "version": 3
   },
   "file_extension": ".py",
   "mimetype": "text/x-python",
   "name": "python",
   "nbconvert_exporter": "python",
   "pygments_lexer": "ipython3",
   "version": "3.8.8"
  }
 },
 "nbformat": 4,
 "nbformat_minor": 4
}
