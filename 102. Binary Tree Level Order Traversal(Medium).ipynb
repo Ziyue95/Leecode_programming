{
 "cells": [
  {
   "cell_type": "markdown",
   "metadata": {},
   "source": [
    "Given the root of a binary tree, return the level order traversal of its nodes' values. (i.e., from left to right, level by level).\n",
    "\n",
    "Example 1:\n",
    "\n",
    "\n",
    "Input: root = [3,9,20,null,null,15,7]\n",
    "    \n",
    "Output: [[3],[9,20],[15,7]]\n",
    "    \n",
    "Example 2:\n",
    "\n",
    "Input: root = [1]\n",
    "    \n",
    "Output: [[1]]\n",
    "    \n",
    "Example 3:\n",
    "\n",
    "Input: root = []\n",
    "    \n",
    "Output: []\n",
    " \n",
    "\n",
    "Constraints:\n",
    "\n",
    "The number of nodes in the tree is in the range [0, 2000].\n",
    "\n",
    "-1000 <= Node.val <= 1000"
   ]
  },
  {
   "cell_type": "markdown",
   "metadata": {},
   "source": [
    "My Solution: Using Queue and BFS"
   ]
  },
  {
   "cell_type": "code",
   "execution_count": null,
   "metadata": {},
   "outputs": [],
   "source": [
    "# Definition for a binary tree node.\n",
    "# class TreeNode:\n",
    "#     def __init__(self, val=0, left=None, right=None):\n",
    "#         self.val = val\n",
    "#         self.left = left\n",
    "#         self.right = right\n",
    "class Solution:\n",
    "    def levelOrder(self, root: TreeNode) -> List[List[int]]:\n",
    "        if not root:\n",
    "            return []\n",
    "        results = []\n",
    "        queue = [root]\n",
    "        while queue:\n",
    "            nextQueue = []\n",
    "            result = []\n",
    "            while queue:\n",
    "                node = queue.pop(0)\n",
    "                if node.left:\n",
    "                    nextQueue.append(node.left)\n",
    "                if node.right:\n",
    "                    nextQueue.append(node.right)\n",
    "                result.append(node.val)\n",
    "            queue = nextQueue\n",
    "            results.append(result)\n",
    "        return results\n",
    "        "
   ]
  },
  {
   "cell_type": "markdown",
   "metadata": {},
   "source": [
    "Runtime: 16 ms, faster than 99.99% of Python3 online submissions for Binary Tree Level Order Traversal.\n",
    "    \n",
    "Memory Usage: 14.5 MB, less than 69.01% of Python3 online submissions for Binary Tree Level Order Traversal."
   ]
  },
  {
   "cell_type": "markdown",
   "metadata": {},
   "source": [
    "My Solutions:"
   ]
  },
  {
   "cell_type": "code",
   "execution_count": null,
   "metadata": {},
   "outputs": [],
   "source": [
    "# Definition for a binary tree node.\n",
    "# class TreeNode:\n",
    "#     def __init__(self, val=0, left=None, right=None):\n",
    "#         self.val = val\n",
    "#         self.left = left\n",
    "#         self.right = right\n",
    "class Solution:\n",
    "    def levelOrder(self, root: TreeNode) -> List[List[int]]:\n",
    "        if root is None:\n",
    "            return []\n",
    "        solution = {}\n",
    "        stack = []\n",
    "        level = 0\n",
    "        while root or stack:\n",
    "            while root:\n",
    "                stack.append([root,level])\n",
    "                root = root.left\n",
    "                level += 1\n",
    "            root,level = stack.pop()\n",
    "            try:\n",
    "                solution[level].append(root.val)\n",
    "            except:\n",
    "                solution[level] = [root.val]\n",
    "            root = root.right\n",
    "            level += 1\n",
    "        \n",
    "        return [solution[i] for i in range(max(solution.keys())+1)] "
   ]
  },
  {
   "cell_type": "markdown",
   "metadata": {},
   "source": [
    "### Result\n",
    "Runtime: 32 ms, faster than 79.69% of Python3 online submissions for Binary Tree Level Order Traversal.\n",
    "\n",
    "Memory Usage: 14.7 MB, less than 26.27% of Python3 online submissions for Binary Tree Level Order Traversal."
   ]
  },
  {
   "cell_type": "markdown",
   "metadata": {},
   "source": [
    "Good Solution:"
   ]
  },
  {
   "cell_type": "markdown",
   "metadata": {},
   "source": [
    "Record level by level:"
   ]
  },
  {
   "cell_type": "code",
   "execution_count": null,
   "metadata": {},
   "outputs": [],
   "source": [
    "# Definition for a binary tree node.\n",
    "# class TreeNode:\n",
    "#     def __init__(self, val=0, left=None, right=None):\n",
    "#         self.val = val\n",
    "#         self.left = left\n",
    "#         self.right = right\n",
    "class Solution:\n",
    "    def levelOrder(self, root):\n",
    "        # Use a queue to keep track of the node and it's depth in the tree\n",
    "        q = deque([(root, 0)])\n",
    "        # Dictionary to keep track of the the values at each depth\n",
    "        results = {}\n",
    "\n",
    "        while q:\n",
    "            node, i = q.popleft()\n",
    "            # If this is the first visit to this depth set to empty list\n",
    "            if i not in results:\n",
    "                results[i] = []\n",
    "            if node:\n",
    "                # Add each value to it's corresponding list within the dictionary\n",
    "                results[i].append(node.val)\n",
    "                # Add the left and right value to the queue and increment the depth\n",
    "                q.append((node.left, i+1))\n",
    "                q.append((node.right, i+1))\n",
    "\n",
    "        # List comprehension to change the Dictionary of lists to a list of lists\n",
    "        return [results[key] for key in results if results[key]]"
   ]
  },
  {
   "cell_type": "markdown",
   "metadata": {},
   "source": [
    "### Result\n",
    "Runtime: 24 ms, faster than 98.58% of Python3 online submissions for Binary Tree Level Order Traversal.\n",
    "\n",
    "Memory Usage: 14.7 MB, less than 26.27% of Python3 online submissions for Binary Tree Level Order Traversal."
   ]
  }
 ],
 "metadata": {
  "kernelspec": {
   "display_name": "Python 3",
   "language": "python",
   "name": "python3"
  },
  "language_info": {
   "codemirror_mode": {
    "name": "ipython",
    "version": 3
   },
   "file_extension": ".py",
   "mimetype": "text/x-python",
   "name": "python",
   "nbconvert_exporter": "python",
   "pygments_lexer": "ipython3",
   "version": "3.8.8"
  }
 },
 "nbformat": 4,
 "nbformat_minor": 4
}
