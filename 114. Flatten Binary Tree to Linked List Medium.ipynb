{
 "cells": [
  {
   "cell_type": "markdown",
   "metadata": {},
   "source": [
    "Given the root of a binary tree, flatten the tree into a \"linked list\":\n",
    "\n",
    "    The \"linked list\" should use the same TreeNode class where the right child pointer points to the next node in the list and the left child pointer is always null.\n",
    "    The \"linked list\" should be in the same order as a pre-order traversal of the binary tree.\n",
    " \n",
    "\n",
    "Example 1:\n",
    "\n",
    "\n",
    "    Input: root = [1,2,5,3,4,null,6]\n",
    "    Output: [1,null,2,null,3,null,4,null,5,null,6]\n",
    "Example 2:\n",
    "\n",
    "    Input: root = []\n",
    "    Output: []\n",
    "Example 3:\n",
    "\n",
    "    Input: root = [0]\n",
    "    Output: [0]\n",
    " \n",
    "\n",
    "Constraints:\n",
    "\n",
    "    The number of nodes in the tree is in the range [0, 2000].\n",
    "    -100 <= Node.val <= 100"
   ]
  },
  {
   "cell_type": "markdown",
   "metadata": {},
   "source": [
    "My Solution: DFS"
   ]
  },
  {
   "cell_type": "code",
   "execution_count": null,
   "metadata": {},
   "outputs": [],
   "source": [
    "# Definition for a binary tree node.\n",
    "# class TreeNode:\n",
    "#     def __init__(self, val=0, left=None, right=None):\n",
    "#         self.val = val\n",
    "#         self.left = left\n",
    "#         self.right = right\n",
    "class Solution:\n",
    "    def flatten(self, root: TreeNode) -> None:\n",
    "        \"\"\"\n",
    "        Do not return anything, modify root in-place instead.\n",
    "        \"\"\"\n",
    "        if not root:\n",
    "            return None\n",
    "        def dfsWithMemory(root, cur):\n",
    "            if not root:\n",
    "                return cur\n",
    "            if not root.left and not root.right:\n",
    "                root.right = cur\n",
    "                cur = root\n",
    "                return cur\n",
    "            cur = dfsWithMemory(root.right, cur)\n",
    "            cur = dfsWithMemory(root.left, cur)\n",
    "            root.left = None\n",
    "            root.right = cur\n",
    "            cur = root\n",
    "            return cur\n",
    "        dfsWithMemory(root, None)"
   ]
  },
  {
   "cell_type": "markdown",
   "metadata": {},
   "source": [
    "Runtime: 52 ms, faster than 7.50% of Python3 online submissions for Flatten Binary Tree to Linked List.\n",
    "    \n",
    "Memory Usage: 15 MB, less than 92.35% of Python3 online submissions for Flatten Binary Tree to Linked List."
   ]
  },
  {
   "cell_type": "markdown",
   "metadata": {},
   "source": [
    "My Solution:"
   ]
  },
  {
   "cell_type": "code",
   "execution_count": null,
   "metadata": {},
   "outputs": [],
   "source": [
    "class Solution:\n",
    "    def flatten(self, root: TreeNode) -> None:\n",
    "        \"\"\"\n",
    "        Do not return anything, modify root in-place instead.\n",
    "        \"\"\"\n",
    "        self.node = None\n",
    "        def traversal(root):\n",
    "            if not root:\n",
    "                return None\n",
    "            traversal(root.right)\n",
    "            traversal(root.left)\n",
    "            \n",
    "            root.right = self.node\n",
    "            root.left = None\n",
    "            self.node = root\n",
    "        traversal(root)\n",
    "        root = self.node"
   ]
  },
  {
   "cell_type": "markdown",
   "metadata": {},
   "source": [
    "### Result\n",
    "Runtime: 36 ms, faster than 74.23% of Python3 online submissions for Flatten Binary Tree to Linked List.\n",
    "\n",
    "Memory Usage: 15.1 MB, less than 74.51% of Python3 online submissions for Flatten Binary Tree to Linked List."
   ]
  },
  {
   "cell_type": "markdown",
   "metadata": {},
   "source": [
    "Other Solution:"
   ]
  },
  {
   "cell_type": "code",
   "execution_count": null,
   "metadata": {},
   "outputs": [],
   "source": [
    "class Solution:\n",
    "    def __init__(self):\n",
    "        self.prev = None\n",
    "\n",
    "    def flatten(self, root):\n",
    "        if not root:\n",
    "            return None\n",
    "        self.flatten(root.right)\n",
    "        self.flatten(root.left)\n",
    "\n",
    "        root.right = self.prev\n",
    "        root.left = None\n",
    "        self.prev = root"
   ]
  },
  {
   "cell_type": "code",
   "execution_count": null,
   "metadata": {},
   "outputs": [],
   "source": [
    "class Solution:\n",
    "    def flatten(self, root):\n",
    "        if not root:\n",
    "            return\n",
    "        self.prev = root\n",
    "        ###1.First flatten left subtree\n",
    "        self.flatten(root.left)\n",
    "        # or self.flatten(self.prev.left)\n",
    "        ###2.Copy unflattened right tree and wait to be further flattened\n",
    "        temp = root.right\n",
    "        ###3.Move the flatten left subtree to the right and change left to None\n",
    "        root.right, root.left = root.left, None\n",
    "        #at this time self.prev should be the right most leaf of flattened left\n",
    "        ###4.Place original right after current right\n",
    "        self.prev.right = temp\n",
    "        ###5.Flatten the placed part\n",
    "        self.flatten(temp)"
   ]
  },
  {
   "cell_type": "markdown",
   "metadata": {},
   "source": [
    "### Result\n",
    "Runtime: 32 ms, faster than 91.60% of Python3 online submissions for Flatten Binary Tree to Linked List.\n",
    "\n",
    "Memory Usage: 15 MB, less than 91.29% of Python3 online submissions for Flatten Binary Tree to Linked List."
   ]
  }
 ],
 "metadata": {
  "kernelspec": {
   "display_name": "Python 3",
   "language": "python",
   "name": "python3"
  },
  "language_info": {
   "codemirror_mode": {
    "name": "ipython",
    "version": 3
   },
   "file_extension": ".py",
   "mimetype": "text/x-python",
   "name": "python",
   "nbconvert_exporter": "python",
   "pygments_lexer": "ipython3",
   "version": "3.8.8"
  }
 },
 "nbformat": 4,
 "nbformat_minor": 4
}
