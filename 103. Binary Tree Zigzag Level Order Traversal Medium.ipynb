{
 "cells": [
  {
   "cell_type": "markdown",
   "metadata": {},
   "source": [
    "Given the root of a binary tree, return the zigzag level order traversal of its nodes' values. (i.e., from left to right, then right to left for the next level and alternate between).\n",
    "\n",
    " \n",
    "\n",
    "Example 1:\n",
    "\n",
    "\n",
    "    Input: root = [3,9,20,null,null,15,7]\n",
    "    Output: [[3],[20,9],[15,7]]\n",
    "Example 2:\n",
    "\n",
    "    Input: root = [1]\n",
    "    Output: [[1]]\n",
    "Example 3:\n",
    "\n",
    "    Input: root = []\n",
    "    Output: []\n",
    " \n",
    "\n",
    "Constraints:\n",
    "\n",
    "    The number of nodes in the tree is in the range [0, 2000].\n",
    "    -100 <= Node.val <= 100"
   ]
  },
  {
   "cell_type": "markdown",
   "metadata": {},
   "source": [
    "My Solution: Using Stack + BFS"
   ]
  },
  {
   "cell_type": "code",
   "execution_count": 1,
   "metadata": {},
   "outputs": [
    {
     "data": {
      "text/plain": [
       "True"
      ]
     },
     "execution_count": 1,
     "metadata": {},
     "output_type": "execute_result"
    }
   ],
   "source": [
    "# Definition for a binary tree node.\n",
    "# class TreeNode:\n",
    "#     def __init__(self, val=0, left=None, right=None):\n",
    "#         self.val = val\n",
    "#         self.left = left\n",
    "#         self.right = right\n",
    "class Solution:\n",
    "    def zigzagLevelOrder(self, root: TreeNode) -> List[List[int]]:\n",
    "        if not root:\n",
    "            return []\n",
    "        stack = [root]\n",
    "        results = []\n",
    "        isEven = False\n",
    "        while stack:\n",
    "            result = []\n",
    "            nextStack = []\n",
    "            while stack:\n",
    "                node = stack.pop()\n",
    "                if isEven:\n",
    "                    if node.right:\n",
    "                        nextStack.append(node.right)\n",
    "                    if node.left:\n",
    "                        nextStack.append(node.left)\n",
    "                else:\n",
    "                    if node.left:\n",
    "                        nextStack.append(node.left)\n",
    "                    if node.right:\n",
    "                        nextStack.append(node.right)\n",
    "                result.append(node.val)\n",
    "            isEven = not isEven\n",
    "            stack = nextStack\n",
    "            results.append(result)\n",
    "        return results"
   ]
  },
  {
   "cell_type": "markdown",
   "metadata": {},
   "source": [
    "Runtime: 36 ms, faster than 40.01% of Python3 online submissions for Binary Tree Zigzag Level Order Traversal.\n",
    "    \n",
    "Memory Usage: 14.6 MB, less than 11.45% of Python3 online submissions for Binary Tree Zigzag Level Order Traversal."
   ]
  },
  {
   "cell_type": "markdown",
   "metadata": {},
   "source": [
    "My Solution: Using Inorder traversal"
   ]
  },
  {
   "cell_type": "code",
   "execution_count": null,
   "metadata": {},
   "outputs": [],
   "source": [
    "# Definition for a binary tree node.\n",
    "# class TreeNode:\n",
    "#     def __init__(self, val=0, left=None, right=None):\n",
    "#         self.val = val\n",
    "#         self.left = left\n",
    "#         self.right = right\n",
    "class Solution:\n",
    "    def zigzagLevelOrder(self, root: TreeNode) -> List[List[int]]:\n",
    "        Output = {}\n",
    "        parents = []\n",
    "        level = 0\n",
    "        while root is not None or parents != []:\n",
    "            while root is not None:\n",
    "                parents.append([level,root])\n",
    "                level += 1\n",
    "                root = root.left\n",
    "            level,root = parents.pop()\n",
    "            try:\n",
    "                #Changing the order to record nodes value\n",
    "                Output[level].insert(3000*((1+level)%2),root.val)\n",
    "            except:\n",
    "                Output[level] = [root.val]\n",
    "            root = root.right\n",
    "            level += 1\n",
    "        return [Output[i] for i in sorted(Output.keys())]"
   ]
  },
  {
   "cell_type": "markdown",
   "metadata": {},
   "source": [
    "### Result\n",
    "Runtime: 32 ms, faster than 65.65% of Python3 online submissions for Binary Tree Zigzag Level Order Traversal.\n",
    "\n",
    "Memory Usage: 14.4 MB, less than 90.87% of Python3 online submissions for Binary Tree Zigzag Level Order Traversal."
   ]
  },
  {
   "cell_type": "markdown",
   "metadata": {},
   "source": [
    "Other Solutions: Iteration + Record layer by layer"
   ]
  },
  {
   "cell_type": "code",
   "execution_count": null,
   "metadata": {},
   "outputs": [],
   "source": [
    "class Solution:\n",
    "    def zigzagLevelOrder(self, root: TreeNode) -> List[List[int]]:\n",
    "        if not root: return []\n",
    "        queue = collections.deque([root])\n",
    "        res = []\n",
    "        even_level = False\n",
    "        while queue:\n",
    "            n = len(queue)\n",
    "            level = []\n",
    "            for _ in range(n):\n",
    "                node = queue.popleft()\n",
    "                level.append(node.val)\n",
    "                if node.left:\n",
    "                    queue.append(node.left)\n",
    "                if node.right:\n",
    "                    queue.append(node.right)\n",
    "            if even_level:\n",
    "                res.append(level[::-1])\n",
    "            else:\n",
    "                res.append(level)\n",
    "            even_level = not even_level\n",
    "        return res"
   ]
  }
 ],
 "metadata": {
  "kernelspec": {
   "display_name": "Python 3",
   "language": "python",
   "name": "python3"
  },
  "language_info": {
   "codemirror_mode": {
    "name": "ipython",
    "version": 3
   },
   "file_extension": ".py",
   "mimetype": "text/x-python",
   "name": "python",
   "nbconvert_exporter": "python",
   "pygments_lexer": "ipython3",
   "version": "3.8.8"
  }
 },
 "nbformat": 4,
 "nbformat_minor": 4
}
