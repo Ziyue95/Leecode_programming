{
 "cells": [
  {
   "cell_type": "markdown",
   "id": "90c10666",
   "metadata": {},
   "source": [
    "Given a binary tree, find its minimum depth.\n",
    "\n",
    "The minimum depth is the number of nodes along the shortest path from the root node down to the nearest leaf node.\n",
    "\n",
    "Note: A leaf is a node with no children.\n",
    "\n",
    " \n",
    "\n",
    "Example 1:\n",
    "\n",
    "\n",
    "    Input: root = [3,9,20,null,null,15,7]\n",
    "    Output: 2\n",
    "Example 2:\n",
    "\n",
    "    Input: root = [2,null,3,null,4,null,5,null,6]\n",
    "    Output: 5\n",
    " \n",
    "\n",
    "Constraints:\n",
    "\n",
    "    The number of nodes in the tree is in the range [0, 10**5].\n",
    "    -1000 <= Node.val <= 1000"
   ]
  },
  {
   "cell_type": "markdown",
   "id": "d6c02cc4",
   "metadata": {},
   "source": [
    "My Solution: iteration"
   ]
  },
  {
   "cell_type": "code",
   "execution_count": null,
   "id": "f76d195f",
   "metadata": {},
   "outputs": [],
   "source": [
    "# Definition for a binary tree node.\n",
    "# class TreeNode:\n",
    "#     def __init__(self, val=0, left=None, right=None):\n",
    "#         self.val = val\n",
    "#         self.left = left\n",
    "#         self.right = right\n",
    "class Solution:\n",
    "    def minDepth(self, root: TreeNode) -> int:\n",
    "        if not root:\n",
    "            return 0\n",
    "        mini_length = 1\n",
    "        queue = [root]\n",
    "        while queue:\n",
    "            next_queue = []\n",
    "            #print(\"len:\",mini_length)\n",
    "            while queue:\n",
    "                node = queue.pop()\n",
    "                #print(node.val)\n",
    "                if not node.left and not node.right:\n",
    "                    #print(node.val)\n",
    "                    return mini_length\n",
    "                elif not node.left:\n",
    "                    next_queue += [node.right]\n",
    "                elif not node.right:\n",
    "                    next_queue += [node.left]\n",
    "                else:\n",
    "                    next_queue += [node.right,node.left]\n",
    "            queue = next_queue\n",
    "            mini_length += 1\n",
    "        #print(\"empty queue\")\n",
    "        return mini_length"
   ]
  },
  {
   "cell_type": "markdown",
   "id": "1c9d6c2f",
   "metadata": {},
   "source": [
    "Runtime: 464 ms, faster than 95.50% of Python3 online submissions for Minimum Depth of Binary Tree.\n",
    "    \n",
    "Memory Usage: 49.2 MB, less than 76.91% of Python3 online submissions for Minimum Depth of Binary Tree."
   ]
  }
 ],
 "metadata": {
  "kernelspec": {
   "display_name": "Python 3",
   "language": "python",
   "name": "python3"
  },
  "language_info": {
   "codemirror_mode": {
    "name": "ipython",
    "version": 3
   },
   "file_extension": ".py",
   "mimetype": "text/x-python",
   "name": "python",
   "nbconvert_exporter": "python",
   "pygments_lexer": "ipython3",
   "version": "3.8.8"
  }
 },
 "nbformat": 4,
 "nbformat_minor": 5
}
