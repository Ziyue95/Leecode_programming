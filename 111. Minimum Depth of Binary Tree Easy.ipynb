{
 "cells": [
  {
   "cell_type": "markdown",
   "id": "90c10666",
   "metadata": {},
   "source": [
    "Given a binary tree, find its minimum depth.\n",
    "\n",
    "The minimum depth is the number of nodes along the shortest path from the root node down to the nearest leaf node.\n",
    "\n",
    "Note: A leaf is a node with no children.\n",
    "\n",
    " \n",
    "\n",
    "Example 1:\n",
    "\n",
    "\n",
    "    Input: root = [3,9,20,null,null,15,7]\n",
    "    Output: 2\n",
    "Example 2:\n",
    "\n",
    "    Input: root = [2,null,3,null,4,null,5,null,6]\n",
    "    Output: 5\n",
    " \n",
    "\n",
    "Constraints:\n",
    "\n",
    "    The number of nodes in the tree is in the range [0, 10**5].\n",
    "    -1000 <= Node.val <= 1000"
   ]
  },
  {
   "cell_type": "markdown",
   "id": "b01584a4",
   "metadata": {},
   "source": [
    "My Solution: DFS"
   ]
  },
  {
   "cell_type": "code",
   "execution_count": null,
   "id": "6fb75807",
   "metadata": {},
   "outputs": [],
   "source": [
    "# Definition for a binary tree node.\n",
    "# class TreeNode:\n",
    "#     def __init__(self, val=0, left=None, right=None):\n",
    "#         self.val = val\n",
    "#         self.left = left\n",
    "#         self.right = right\n",
    "class Solution:\n",
    "    def minDepth(self, root: TreeNode) -> int:\n",
    "        if not root:\n",
    "            return 0\n",
    "        if not root.right and not root.left:\n",
    "            return 1\n",
    "        if not root.right:\n",
    "            return 1 + self.minDepth(root.left)\n",
    "        if not root.left:\n",
    "            return 1 + self.minDepth(root.right)\n",
    "        return 1 + min(self.minDepth(root.left), self.minDepth(root.right))"
   ]
  },
  {
   "cell_type": "markdown",
   "id": "3502052b",
   "metadata": {},
   "source": [
    "Runtime: 568 ms, faster than 61.08% of Python3 online submissions for Minimum Depth of Binary Tree.\n",
    "\n",
    "Memory Usage: 53.1 MB, less than 17.73% of Python3 online submissions for Minimum Depth of Binary Tree."
   ]
  },
  {
   "cell_type": "markdown",
   "id": "5407df15",
   "metadata": {},
   "source": [
    "My Solution: Using BFS"
   ]
  },
  {
   "cell_type": "code",
   "execution_count": null,
   "id": "eca42b0f",
   "metadata": {},
   "outputs": [],
   "source": [
    "# Definition for a binary tree node.\n",
    "# class TreeNode:\n",
    "#     def __init__(self, val=0, left=None, right=None):\n",
    "#         self.val = val\n",
    "#         self.left = left\n",
    "#         self.right = right\n",
    "class Solution:\n",
    "    def minDepth(self, root: TreeNode) -> int:\n",
    "        if not root:\n",
    "            return 0\n",
    "        queue = [root]\n",
    "        depth = 1\n",
    "        while queue:\n",
    "            nextQueue = []\n",
    "            while queue:\n",
    "                isLeaf = True\n",
    "                node = queue.pop(0)\n",
    "                if node.left:\n",
    "                    nextQueue.append(node.left)\n",
    "                    isLeaf = False\n",
    "                if node.right:\n",
    "                    nextQueue.append(node.right)\n",
    "                    isLeaf = False\n",
    "                if isLeaf:\n",
    "                    return depth\n",
    "            queue = nextQueue\n",
    "            depth += 1\n",
    "        return -1"
   ]
  },
  {
   "cell_type": "markdown",
   "id": "5220b50f",
   "metadata": {},
   "source": [
    "Runtime: 456 ms, faster than 97.58% of Python3 online submissions for Minimum Depth of Binary Tree.\n",
    "    \n",
    "Memory Usage: 49.1 MB, less than 72.87% of Python3 online submissions for Minimum Depth of Binary Tree."
   ]
  }
 ],
 "metadata": {
  "kernelspec": {
   "display_name": "Python 3",
   "language": "python",
   "name": "python3"
  },
  "language_info": {
   "codemirror_mode": {
    "name": "ipython",
    "version": 3
   },
   "file_extension": ".py",
   "mimetype": "text/x-python",
   "name": "python",
   "nbconvert_exporter": "python",
   "pygments_lexer": "ipython3",
   "version": "3.8.8"
  }
 },
 "nbformat": 4,
 "nbformat_minor": 5
}
