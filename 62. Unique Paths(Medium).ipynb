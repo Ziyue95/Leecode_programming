{
 "cells": [
  {
   "cell_type": "markdown",
   "metadata": {},
   "source": [
    "A robot is located at the top-left corner of a m x n grid (marked 'Start' in the diagram below).\n",
    "\n",
    "The robot can only move either down or right at any point in time. The robot is trying to reach the bottom-right corner of the grid (marked 'Finish' in the diagram below).\n",
    "\n",
    "How many possible unique paths are there?\n",
    "\n",
    " \n",
    "\n",
    "Example 1:\n",
    "\n",
    "\n",
    "    Input: m = 3, n = 7\n",
    "    Output: 28\n",
    "Example 2:\n",
    "\n",
    "    Input: m = 3, n = 2\n",
    "    Output: 3\n",
    "    Explanation:\n",
    "    From the top-left corner, there are a total of 3 ways to reach the bottom-right corner:\n",
    "    1. Right -> Down -> Down\n",
    "    2. Down -> Down -> Right\n",
    "    3. Down -> Right -> Down\n",
    "Example 3:\n",
    "\n",
    "    Input: m = 7, n = 3\n",
    "    Output: 28\n",
    "Example 4:\n",
    "\n",
    "    Input: m = 3, n = 3\n",
    "    Output: 6\n",
    " \n",
    "\n",
    "Constraints:\n",
    "\n",
    "    1 <= m, n <= 100\n",
    "    It's guaranteed that the answer will be less than or equal to 2 * 10**9."
   ]
  },
  {
   "cell_type": "markdown",
   "metadata": {},
   "source": [
    "My Solution: Using math"
   ]
  },
  {
   "cell_type": "code",
   "execution_count": null,
   "metadata": {},
   "outputs": [],
   "source": [
    "class Solution:\n",
    "    def uniquePaths(self, m: int, n: int) -> int:\n",
    "        return int(factorial(m+n-2)/(factorial(m-1)*factorial(n-1)))"
   ]
  },
  {
   "cell_type": "markdown",
   "metadata": {},
   "source": [
    "### Result\n",
    "Runtime: 24 ms, faster than 95.80% of Python3 online submissions for Unique Paths.\n",
    "    \n",
    "Memory Usage: 14.2 MB, less than 86.81% of Python3 online submissions for Unique Paths."
   ]
  },
  {
   "cell_type": "markdown",
   "metadata": {},
   "source": [
    "My Solution: Using dynamic programming (space complexity O(n*m))"
   ]
  },
  {
   "cell_type": "code",
   "execution_count": null,
   "metadata": {},
   "outputs": [],
   "source": [
    "class Solution:\n",
    "    def uniquePaths(self, m: int, n: int) -> int:\n",
    "        if n == 1 or m == 1:\n",
    "            return 1\n",
    "        matrix = [[1]*n for _ in range(m)]\n",
    "        for i in range(1,m):\n",
    "            for j in range(1,n):\n",
    "                matrix[i][j] = matrix[i-1][j] + matrix[i][j-1]\n",
    "        return matrix[-1][-1]"
   ]
  },
  {
   "cell_type": "markdown",
   "metadata": {},
   "source": [
    "### Result\n",
    "Runtime: 32 ms, faster than 59.18% of Python3 online submissions for Unique Paths.\n",
    "\n",
    "Memory Usage: 14.4 MB, less than 38.77% of Python3 online submissions for Unique Paths."
   ]
  },
  {
   "cell_type": "markdown",
   "metadata": {},
   "source": [
    "Good Solution: Dynamic programming (space complexity O(n))"
   ]
  },
  {
   "cell_type": "code",
   "execution_count": null,
   "metadata": {},
   "outputs": [],
   "source": [
    "class Solution(object):\n",
    "    def uniquePaths(self, m, n):\n",
    "\n",
    "        # DP Solution\n",
    "        if m == 1 or n == 1:\n",
    "            return 1\n",
    "        \n",
    "        # O(n) Space Complexity \n",
    "        dp = [1] * n\n",
    "        for i in range(1, m):\n",
    "            for j in range(1, n):\n",
    "                dp[j] += dp[j-1]\n",
    "        return dp[n-1]"
   ]
  },
  {
   "cell_type": "markdown",
   "metadata": {},
   "source": [
    "### Result\n",
    "Runtime: 28 ms, faster than 84.68% of Python3 online submissions for Unique Paths.\n",
    "\n",
    "Memory Usage: 14.3 MB, less than 67.32% of Python3 online submissions for Unique Paths."
   ]
  }
 ],
 "metadata": {
  "kernelspec": {
   "display_name": "Python 3",
   "language": "python",
   "name": "python3"
  },
  "language_info": {
   "codemirror_mode": {
    "name": "ipython",
    "version": 3
   },
   "file_extension": ".py",
   "mimetype": "text/x-python",
   "name": "python",
   "nbconvert_exporter": "python",
   "pygments_lexer": "ipython3",
   "version": "3.8.5"
  }
 },
 "nbformat": 4,
 "nbformat_minor": 4
}
