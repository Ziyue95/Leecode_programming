{
 "cells": [
  {
   "cell_type": "markdown",
   "metadata": {},
   "source": [
    "Given an integer array nums where the elements are sorted in ascending order, convert it to a height-balanced binary search tree.\n",
    "\n",
    "A height-balanced binary tree is a binary tree in which the depth of the two subtrees of every node never differs by more than one.\n",
    "\n",
    " \n",
    "\n",
    "Example 1:\n",
    "\n",
    "\n",
    "    Input: nums = [-10,-3,0,5,9]\n",
    "    Output: [0,-3,9,-10,null,5]\n",
    "    Explanation: [0,-10,5,null,-3,null,9] is also accepted:\n",
    "\n",
    "Example 2:\n",
    "\n",
    "\n",
    "    Input: nums = [1,3]\n",
    "    Output: [3,1]\n",
    "    Explanation: [1,3] and [3,1] are both a height-balanced BSTs.\n",
    " \n",
    "\n",
    "Constraints:\n",
    "\n",
    "    1 <= nums.length <= 104\n",
    "    -104 <= nums[i] <= 104\n",
    "    nums is sorted in a strictly increasing order."
   ]
  },
  {
   "cell_type": "markdown",
   "metadata": {},
   "source": [
    "My Solution:"
   ]
  },
  {
   "cell_type": "code",
   "execution_count": null,
   "metadata": {},
   "outputs": [],
   "source": [
    "# Definition for a binary tree node.\n",
    "# class TreeNode:\n",
    "#     def __init__(self, val=0, left=None, right=None):\n",
    "#         self.val = val\n",
    "#         self.left = left\n",
    "#         self.right = right\n",
    "class Solution:\n",
    "    def sortedArrayToBST(self, nums: List[int]) -> TreeNode:\n",
    "        def buildBST(nums):\n",
    "            if nums == []:\n",
    "                return None\n",
    "            val_ind = len(nums) // 2\n",
    "            obj = TreeNode(val = nums[val_ind], left = buildBST(nums[0:val_ind]),right = buildBST(nums[val_ind+1:]))\n",
    "            return obj\n",
    "        return buildBST(nums)"
   ]
  },
  {
   "cell_type": "markdown",
   "metadata": {},
   "source": [
    "### Result\n",
    "Runtime: 60 ms, faster than 62.42% of Python3 online submissions for Convert Sorted Array to Binary Search Tree.\n",
    "\n",
    "Memory Usage: 15.7 MB, less than 60.41% of Python3 online submissions for Convert Sorted Array to Binary Search Tree."
   ]
  },
  {
   "cell_type": "markdown",
   "metadata": {},
   "source": [
    "My Improved Solution: dont always call len() function"
   ]
  },
  {
   "cell_type": "code",
   "execution_count": null,
   "metadata": {},
   "outputs": [],
   "source": [
    "# Definition for a binary tree node.\n",
    "# class TreeNode:\n",
    "#     def __init__(self, val=0, left=None, right=None):\n",
    "#         self.val = val\n",
    "#         self.left = left\n",
    "#         self.right = right\n",
    "class Solution:\n",
    "    def sortedArrayToBST(self, nums: List[int]) -> TreeNode:\n",
    "        def rec(nums, start, end):\n",
    "            if start <= end:\n",
    "                mid = (start + end) // 2\n",
    "                node = TreeNode(nums[mid])\n",
    "                node.left = rec(nums, start, mid - 1)\n",
    "                node.right = rec(nums, mid + 1, end)\n",
    "                return node\n",
    "        return rec(nums, 0, len(nums) - 1)"
   ]
  },
  {
   "cell_type": "markdown",
   "metadata": {},
   "source": [
    "### Result\n",
    "Runtime: 60 ms, faster than 62.42% of Python3 online submissions for Convert Sorted Array to Binary Search Tree.\n",
    "\n",
    "Memory Usage: 15.6 MB, less than 60.41% of Python3 online submissions for Convert Sorted Array to Binary Search Tree."
   ]
  }
 ],
 "metadata": {
  "kernelspec": {
   "display_name": "Python 3",
   "language": "python",
   "name": "python3"
  },
  "language_info": {
   "codemirror_mode": {
    "name": "ipython",
    "version": 3
   },
   "file_extension": ".py",
   "mimetype": "text/x-python",
   "name": "python",
   "nbconvert_exporter": "python",
   "pygments_lexer": "ipython3",
   "version": "3.8.5"
  }
 },
 "nbformat": 4,
 "nbformat_minor": 4
}
