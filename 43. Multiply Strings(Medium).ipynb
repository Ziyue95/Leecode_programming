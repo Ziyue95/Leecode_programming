{
 "cells": [
  {
   "cell_type": "markdown",
   "metadata": {},
   "source": [
    "Given two non-negative integers num1 and num2 represented as strings, return the product of num1 and num2, also represented as a string.\n",
    "\n",
    "Note: You must not use any built-in BigInteger library or convert the inputs to integer directly.\n",
    "\n",
    " \n",
    "\n",
    "Example 1:\n",
    "\n",
    "    Input: num1 = \"2\", num2 = \"3\"\n",
    "    Output: \"6\"\n",
    "Example 2:\n",
    "\n",
    "    Input: num1 = \"123\", num2 = \"456\"\n",
    "    Output: \"56088\"\n",
    " \n",
    "\n",
    "Constraints:\n",
    "\n",
    "    1 <= num1.length, num2.length <= 200\n",
    "    num1 and num2 consist of digits only.\n",
    "    Both num1 and num2 do not contain any leading zero, except the number 0 itself."
   ]
  },
  {
   "cell_type": "markdown",
   "metadata": {},
   "source": [
    "Good Solution:"
   ]
  },
  {
   "cell_type": "code",
   "execution_count": null,
   "metadata": {},
   "outputs": [],
   "source": [
    "class Solution:\n",
    "\n",
    "    def strToDigit(self, n: int):\n",
    "        return ord(n)-ord('0')\n",
    "    \n",
    "    def getDigitVals(self, arr: List[int]) -> List[int]:\n",
    "        l = len(arr)\n",
    "        return [self.strToDigit(arr[i])*(10**(l-i-1)) for i in range(l)]\n",
    "    \n",
    "    def multiply(self, num1: str, num2: str) -> str:\n",
    "        return str(sum([x*y for x in self.getDigitVals(num1) for y in self.getDigitVals(num2)]))"
   ]
  }
 ],
 "metadata": {
  "kernelspec": {
   "display_name": "Python 3",
   "language": "python",
   "name": "python3"
  },
  "language_info": {
   "codemirror_mode": {
    "name": "ipython",
    "version": 3
   },
   "file_extension": ".py",
   "mimetype": "text/x-python",
   "name": "python",
   "nbconvert_exporter": "python",
   "pygments_lexer": "ipython3",
   "version": "3.8.5"
  }
 },
 "nbformat": 4,
 "nbformat_minor": 4
}
