{
 "cells": [
  {
   "cell_type": "markdown",
   "metadata": {},
   "source": [
    "Given a sorted array nums, remove the duplicates in-place such that each element appears only once and returns the new length.\n",
    "\n",
    "Do not allocate extra space for another array, you must do this by modifying the input array in-place with O(1) extra memory.\n",
    "\n",
    "Example 1:\n",
    "\n",
    "    Input: nums = [1,1,2]\n",
    "    Output: 2, nums = [1,2]\n",
    "    Explanation: Your function should return length = 2, with the first two elements of nums being 1 and 2 respectively. It doesn't matter what you leave beyond the returned length.\n",
    "Example 2:\n",
    "\n",
    "    Input: nums = [0,0,1,1,1,2,2,3,3,4]\n",
    "    Output: 5, nums = [0,1,2,3,4]\n",
    "    Explanation: Your function should return length = 5, with the first five elements of nums being modified to 0, 1, 2, 3, and 4 respectively. It doesn't matter what values are set beyond the returned length.\n",
    " \n",
    "\n",
    "Constraints:\n",
    "\n",
    "    0 <= nums.length <= 3 * 104\n",
    "    -104 <= nums[i] <= 104\n",
    "    nums is sorted in ascending order."
   ]
  },
  {
   "cell_type": "markdown",
   "metadata": {},
   "source": [
    "My Solution: Using pop()"
   ]
  },
  {
   "cell_type": "code",
   "execution_count": null,
   "metadata": {},
   "outputs": [],
   "source": [
    "class Solution:\n",
    "    def removeDuplicates(self, nums):\n",
    "        lens_nums = len(nums)\n",
    "        pop_index = 1\n",
    "        while pop_index < lens_nums:\n",
    "            if nums[pop_index] == nums[pop_index-1]:\n",
    "                nums.pop(pop_index)\n",
    "                lens_nums -= 1\n",
    "            else:\n",
    "                pop_index += 1\n",
    "        return lens_nums"
   ]
  },
  {
   "cell_type": "markdown",
   "metadata": {},
   "source": [
    "### Result\n",
    "Runtime: 96 ms, faster than 35.44% of Python3 online submissions for Remove Duplicates from Sorted Array.\n",
    "\n",
    "Memory Usage: 15.9 MB, less than 51.84% of Python3 online submissions for Remove Duplicates from Sorted Array."
   ]
  },
  {
   "cell_type": "markdown",
   "metadata": {},
   "source": [
    "Using two pointers"
   ]
  },
  {
   "cell_type": "code",
   "execution_count": null,
   "metadata": {},
   "outputs": [],
   "source": [
    "class Solution:\n",
    "    def removeDuplicates(self, nums):\n",
    "        if nums == []:\n",
    "            return 0\n",
    "        i = 0\n",
    "        j = 1\n",
    "        while j < len(nums):\n",
    "            if nums[j] != nums[i]:\n",
    "                i+=1\n",
    "                nums[i] = nums[j]\n",
    "            j+=1\n",
    "        return i + 1"
   ]
  },
  {
   "cell_type": "markdown",
   "metadata": {},
   "source": [
    "### Result\n",
    "Runtime: 84 ms, faster than 61.11% of Python3 online submissions for Remove Duplicates from Sorted Array.\n",
    "\n",
    "Memory Usage: 15.9 MB, less than 51.84% of Python3 online submissions for Remove Duplicates from Sorted Array."
   ]
  }
 ],
 "metadata": {
  "kernelspec": {
   "display_name": "Python 3",
   "language": "python",
   "name": "python3"
  },
  "language_info": {
   "codemirror_mode": {
    "name": "ipython",
    "version": 3
   },
   "file_extension": ".py",
   "mimetype": "text/x-python",
   "name": "python",
   "nbconvert_exporter": "python",
   "pygments_lexer": "ipython3",
   "version": "3.8.5"
  }
 },
 "nbformat": 4,
 "nbformat_minor": 4
}
