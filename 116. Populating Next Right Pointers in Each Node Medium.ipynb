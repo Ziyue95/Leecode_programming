{
 "cells": [
  {
   "cell_type": "markdown",
   "metadata": {},
   "source": [
    "You are given a perfect binary tree where all leaves are on the same level, and every parent has two children. The binary tree has the following definition:\n",
    "\n",
    "struct Node {\n",
    "      int val;\n",
    "      Node *left;\n",
    "      Node *right;\n",
    "      Node *next;\n",
    "}\n",
    "Populate each next pointer to point to its next right node. If there is no next right node, the next pointer should be set to NULL.\n",
    "\n",
    "Initially, all next pointers are set to NULL.\n",
    "\n",
    " \n",
    "\n",
    "Follow up:\n",
    "\n",
    "    You may only use constant extra space.\n",
    "    Recursive approach is fine, you may assume implicit stack space does not count as extra space for this problem.\n",
    " \n",
    "\n",
    "Example 1:\n",
    "\n",
    "\n",
    "\n",
    "    Input: root = [1,2,3,4,5,6,7]\n",
    "    Output: [1,#,2,3,#,4,5,6,7,#]\n",
    "    Explanation: Given the above perfect binary tree (Figure A), your function should populate each next pointer to point to its next right node, just like in Figure B. The serialized output is in level order as connected by the next pointers, with '#' signifying the end of each level.\n",
    " \n",
    "\n",
    "Constraints:\n",
    "\n",
    "    The number of nodes in the given tree is less than 4096.\n",
    "    -1000 <= node.val <= 1000"
   ]
  },
  {
   "cell_type": "code",
   "execution_count": null,
   "metadata": {},
   "outputs": [],
   "source": [
    "My Solution: Using iteration + stacking"
   ]
  },
  {
   "cell_type": "code",
   "execution_count": null,
   "metadata": {},
   "outputs": [],
   "source": [
    "\"\"\"\n",
    "# Definition for a Node.\n",
    "class Node:\n",
    "    def __init__(self, val: int = 0, left: 'Node' = None, right: 'Node' = None, next: 'Node' = None):\n",
    "        self.val = val\n",
    "        self.left = left\n",
    "        self.right = right\n",
    "        self.next = next\n",
    "\"\"\"\n",
    "\n",
    "class Solution:\n",
    "    def connect(self, root: 'Node') -> 'Node':\n",
    "        num_level,start = 0,root\n",
    "        while start:\n",
    "            num_level += 1\n",
    "            start = start.right\n",
    "        roots = [root]\n",
    "        num_node = 1\n",
    "        for level in range(num_level):\n",
    "            for index in range(num_node-1):\n",
    "                sub_root = roots.pop(0)\n",
    "                sub_root.next = roots[0]\n",
    "                roots.append(sub_root.left)\n",
    "                roots.append(sub_root.right)\n",
    "            sub_root = roots.pop(0)\n",
    "            sub_root.next = None\n",
    "            roots.append(sub_root.left)\n",
    "            roots.append(sub_root.right)\n",
    "            num_node *= 2\n",
    "        return root"
   ]
  },
  {
   "cell_type": "markdown",
   "metadata": {},
   "source": [
    "### Result\n",
    "Runtime: 60 ms, faster than 77.86% of Python3 online submissions for Populating Next Right Pointers in Each Node.\n",
    "\n",
    "Memory Usage: 15.6 MB, less than 91.40% of Python3 online submissions for Populating Next Right Pointers in Each Node."
   ]
  },
  {
   "cell_type": "markdown",
   "metadata": {},
   "source": [
    "Other Solution: without using stacking"
   ]
  },
  {
   "cell_type": "code",
   "execution_count": null,
   "metadata": {},
   "outputs": [],
   "source": [
    "class Solution(object):\n",
    "    def connect(self, root):\n",
    "        \"\"\"\n",
    "        :type root: TreeLinkNode\n",
    "        :rtype: nothing\n",
    "        \"\"\"\n",
    "        \n",
    "        if not root:\n",
    "            return None\n",
    "        cur  = root\n",
    "        next = root.left\n",
    "\n",
    "        while cur.left :\n",
    "            cur.left.next = cur.right\n",
    "            if cur.next:\n",
    "                cur.right.next = cur.next.left\n",
    "                cur = cur.next\n",
    "            else:\n",
    "                cur = next\n",
    "                next = cur.left\n",
    "        return root"
   ]
  },
  {
   "cell_type": "markdown",
   "metadata": {},
   "source": [
    "### Result\n",
    "Runtime: 52 ms, faster than 98.04% of Python3 online submissions for Populating Next Right Pointers in Each Node.\n",
    "\n",
    "Memory Usage: 15.6 MB, less than 70.61% of Python3 online submissions for Populating Next Right Pointers in Each Node."
   ]
  }
 ],
 "metadata": {
  "kernelspec": {
   "display_name": "Python 3",
   "language": "python",
   "name": "python3"
  },
  "language_info": {
   "codemirror_mode": {
    "name": "ipython",
    "version": 3
   },
   "file_extension": ".py",
   "mimetype": "text/x-python",
   "name": "python",
   "nbconvert_exporter": "python",
   "pygments_lexer": "ipython3",
   "version": "3.8.5"
  }
 },
 "nbformat": 4,
 "nbformat_minor": 4
}
