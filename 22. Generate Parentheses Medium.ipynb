{
 "cells": [
  {
   "cell_type": "markdown",
   "id": "be202cb0",
   "metadata": {},
   "source": [
    "My Solution: recursion"
   ]
  },
  {
   "cell_type": "code",
   "execution_count": null,
   "id": "6b4cdfe0",
   "metadata": {},
   "outputs": [],
   "source": [
    "class Solution:\n",
    "    def generateParenthesis(self, n: int) -> List[str]:\n",
    "        result = []\n",
    "        self.backTracking(result, n, 2*n, 0, \"\")\n",
    "        return result\n",
    "    def backTracking(self, result, n, remain, sums, cur):\n",
    "        if remain == 0:\n",
    "            if sums == 0:\n",
    "                result.append(cur[:])\n",
    "            return\n",
    "        if sums == 0:\n",
    "            self.backTracking(result, n, remain - 1, sums + 1, cur + \"(\")\n",
    "        elif sums >= remain:\n",
    "            self.backTracking(result, n, remain - 1, sums - 1 , cur + \")\")\n",
    "        else:\n",
    "            self.backTracking(result, n, remain - 1, sums + 1, cur + \"(\")\n",
    "            self.backTracking(result, n, remain - 1, sums - 1, cur + \")\")"
   ]
  }
 ],
 "metadata": {
  "kernelspec": {
   "display_name": "Python 3",
   "language": "python",
   "name": "python3"
  },
  "language_info": {
   "codemirror_mode": {
    "name": "ipython",
    "version": 3
   },
   "file_extension": ".py",
   "mimetype": "text/x-python",
   "name": "python",
   "nbconvert_exporter": "python",
   "pygments_lexer": "ipython3",
   "version": "3.8.8"
  }
 },
 "nbformat": 4,
 "nbformat_minor": 5
}
