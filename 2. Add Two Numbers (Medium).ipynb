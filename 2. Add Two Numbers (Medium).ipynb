{
 "cells": [
  {
   "cell_type": "markdown",
   "metadata": {},
   "source": [
    "### 2. Add Two Numbers (Medium)\n",
    "You are given two non-empty linked lists representing two non-negative integers. The digits are stored in reverse order and each of their nodes contain a single digit. Add the two numbers and return it as a linked list.\n",
    "\n",
    "You may assume the two numbers do not contain any leading zero, except the number 0 itself.\n",
    "\n",
    "Example:\n",
    "\n",
    "Input: (2 -> 4 -> 3) + (5 -> 6 -> 4)\n",
    "    \n",
    "Output: 7 -> 0 -> 8\n",
    "    \n",
    "Explanation: 342 + 465 = 807."
   ]
  },
  {
   "cell_type": "markdown",
   "metadata": {},
   "source": [
    "#### My solution:"
   ]
  },
  {
   "cell_type": "code",
   "execution_count": 9,
   "metadata": {},
   "outputs": [],
   "source": [
    "# Definition for singly-linked list.\n",
    "# class ListNode(object):\n",
    "#     def __init__(self, val=0, next=None):\n",
    "#         self.val = val\n",
    "#         self.next = next\n",
    "class Solution(object):\n",
    "    def addTwoNumbers(self, l1, l2):\n",
    "        \"\"\"\n",
    "        :type l1: ListNode\n",
    "        :type l2: ListNode\n",
    "        :rtype: ListNode\n",
    "        \"\"\"\n",
    "        TwoSums = WholeSums = ListNode()\n",
    "        first = True\n",
    "        Plus = False\n",
    "        count = 0\n",
    "        while l1 is not None and l2 is not None:\n",
    "            if not first:\n",
    "                TwoSums.next = ListNode(99)\n",
    "                TwoSums = TwoSums.next\n",
    "            first = False    \n",
    "            if Plus:\n",
    "                sums = l1.val + l2.val + 1\n",
    "                Plus = False\n",
    "            else:\n",
    "                sums = l1.val + l2.val\n",
    "            l1 = l1.next\n",
    "            l2 = l2.next\n",
    "            if sums < 10:\n",
    "                TwoSums.val  = sums\n",
    "            elif sums >= 10:\n",
    "                TwoSums.val  = sums - 10\n",
    "                Plus = True\n",
    "            count += 1\n",
    "        if not l1 and not l2:\n",
    "            if Plus:\n",
    "                TwoSums.next = ListNode(1)\n",
    "            return WholeSums\n",
    "        if l1:\n",
    "            while Plus :\n",
    "                TwoSums.next = ListNode()\n",
    "                TwoSums = TwoSums.next\n",
    "                if  l1:\n",
    "                    sums = l1.val + 1\n",
    "                    l1 = l1.next\n",
    "                    Plus = False\n",
    "                    if sums < 10:\n",
    "                        TwoSums.val = sums\n",
    "                    else:\n",
    "                        TwoSums.val = sums - 10\n",
    "                        Plus = True\n",
    "                else:\n",
    "                    TwoSums.val = 1\n",
    "                    Plus = False\n",
    "            if l1:\n",
    "                TwoSums.next = l1\n",
    "        if l2:\n",
    "            while Plus :\n",
    "                TwoSums.next = ListNode()\n",
    "                TwoSums = TwoSums.next\n",
    "                if  l2:\n",
    "                    sums = l2.val + 1\n",
    "                    l2 = l2.next\n",
    "                    Plus = False\n",
    "                    if sums < 10:\n",
    "                        TwoSums.val = sums\n",
    "                    else:\n",
    "                        TwoSums.val = sums - 10\n",
    "                        Plus = True\n",
    "                else:\n",
    "                    TwoSums.val = 1\n",
    "                    Plus = False\n",
    "            if l2:\n",
    "                TwoSums.next = l2\n",
    "        return WholeSums"
   ]
  },
  {
   "cell_type": "markdown",
   "metadata": {},
   "source": [
    "### Result\n",
    "Runtime: 108 ms, faster than 11.86% of Python online submissions for Add Two Numbers.\n",
    "    \n",
    "Memory Usage: 12.8 MB, less than 44.02% of Python online submissions for Add Two Numbers."
   ]
  },
  {
   "cell_type": "markdown",
   "metadata": {},
   "source": [
    "My solution 2:"
   ]
  },
  {
   "cell_type": "code",
   "execution_count": null,
   "metadata": {},
   "outputs": [],
   "source": [
    "# Definition for singly-linked list.\n",
    "# class ListNode(object):\n",
    "#     def __init__(self, val=0, next=None):\n",
    "#         self.val = val\n",
    "#         self.next = next\n",
    "class Solution:\n",
    "    def addTwoNumbers(self, l1, l2):\n",
    "        if l1.val == 0 and l1.next is None:\n",
    "            return l2\n",
    "        if l2.val == 0  and l1.next is None:\n",
    "            return l1\n",
    "        more_than_ten = 0\n",
    "        m = l1\n",
    "        while m.next is not None:\n",
    "            try:\n",
    "                m.val += more_than_ten + l2.val\n",
    "                more_than_ten = 0\n",
    "                l2 = l2.next\n",
    "            except:\n",
    "                m.val += more_than_ten\n",
    "                more_than_ten = 0\n",
    "            if m.val >= 10:\n",
    "                m.val -= 10\n",
    "                more_than_ten = 1\n",
    "            m = m.next\n",
    "        if l2 is None:\n",
    "            if m.val == 9 and more_than_ten:\n",
    "                m.val,m.next = 0,ListNode(1)\n",
    "                return l1\n",
    "            else:\n",
    "                m.val += more_than_ten\n",
    "                return l1\n",
    "        m.next = l2.next\n",
    "        m.val += l2.val + more_than_ten\n",
    "        more_than_ten = 0\n",
    "        if m.val < 10:\n",
    "            return l1\n",
    "        else:\n",
    "            m.val -= 10\n",
    "            more_than_ten = 1\n",
    "        while m.next is not None:\n",
    "            m = m.next\n",
    "            m.val += 1\n",
    "            if m.val != 10:\n",
    "                return l1\n",
    "            else:\n",
    "                m.val = 0\n",
    "        m.next = ListNode(1)\n",
    "        return l1\n",
    "            "
   ]
  },
  {
   "cell_type": "markdown",
   "metadata": {},
   "source": [
    "### Result:"
   ]
  },
  {
   "cell_type": "markdown",
   "metadata": {},
   "source": [
    "Runtime: 56 ms, faster than 83.57% of Python online submissions for Add Two Numbers.\n",
    "    \n",
    "Memory Usage: 13.5 MB, less than 70.59% of Python online submissions for Add Two Numbers."
   ]
  },
  {
   "cell_type": "markdown",
   "metadata": {},
   "source": [
    "My Second Round Solution:"
   ]
  },
  {
   "cell_type": "code",
   "execution_count": null,
   "metadata": {},
   "outputs": [],
   "source": [
    "# Definition for singly-linked list.\n",
    "# class ListNode:\n",
    "#     def __init__(self, val=0, next=None):\n",
    "#         self.val = val\n",
    "#         self.next = next\n",
    "class Solution:\n",
    "    def addTwoNumbers(self, l1: ListNode, l2: ListNode) -> ListNode:\n",
    "        def length_of_linkedlist(l):\n",
    "            length = 1\n",
    "            while l.next:\n",
    "                length += 1\n",
    "                l = l.next\n",
    "            return length\n",
    "        len1,len2 = length_of_linkedlist(l1),length_of_linkedlist(l2)\n",
    "        def padzeros(l,num):\n",
    "            tail = l\n",
    "            while tail.next:\n",
    "                tail = tail.next\n",
    "            for i in range(num):\n",
    "                tail.next = ListNode(0)\n",
    "                tail = tail.next\n",
    "            return l\n",
    "        if len1 > len2:\n",
    "            l2 = padzeros(l2,len1-len2)\n",
    "        elif len2 > len1:\n",
    "            l1 = padzeros(l1,len2-len1)\n",
    "        pointer1,pointer2,plus_one = l1,l2,0\n",
    "        while pointer1 and pointer2:\n",
    "            sums = pointer1.val + pointer2.val + plus_one\n",
    "            plus_one = sums // 10\n",
    "            pointer1.val = sums % 10\n",
    "            if pointer1.next:\n",
    "                pointer1 = pointer1.next\n",
    "                pointer2 = pointer2.next\n",
    "            else:\n",
    "                break\n",
    "        if plus_one:\n",
    "            pointer1.next = ListNode(1)\n",
    "        return l1"
   ]
  },
  {
   "cell_type": "markdown",
   "metadata": {},
   "source": [
    "Runtime: 64 ms, faster than 87.91% of Python3 online submissions for Add Two Numbers.\n",
    "    \n",
    "Memory Usage: 14.2 MB, less than 90.20% of Python3 online submissions for Add Two Numbers."
   ]
  },
  {
   "cell_type": "markdown",
   "metadata": {},
   "source": [
    "#### Good Solution:"
   ]
  },
  {
   "cell_type": "code",
   "execution_count": null,
   "metadata": {},
   "outputs": [],
   "source": [
    "class Solution:\n",
    "    def addTwoNumbers(self, l1, l2):\n",
    "        def toint(node):\n",
    "            return node.val + 10 * toint(node.next) if node else 0\n",
    "        n = toint(l1) + toint(l2)\n",
    "        first = last = ListNode(n % 10)\n",
    "        while n > 9:\n",
    "            n /= 10\n",
    "            last.next = last = ListNode(n % 10)\n",
    "        return first"
   ]
  },
  {
   "cell_type": "markdown",
   "metadata": {},
   "source": [
    "### Result\n",
    "Runtime: 104 ms, faster than 14.26% of Python online submissions for Add Two Numbers.\n",
    "    \n",
    "Memory Usage: 12.9 MB, less than 22.95% of Python online submissions for Add Two Numbers.\n",
    "### Summary:\n",
    "Turn NodeList into integer then go back to NodeList"
   ]
  },
  {
   "cell_type": "markdown",
   "metadata": {},
   "source": [
    "#### Good Solution2:"
   ]
  },
  {
   "cell_type": "code",
   "execution_count": null,
   "metadata": {},
   "outputs": [],
   "source": [
    "class Solution(object):\n",
    "\n",
    "    def addTwoNumbers(self, l1, l2):\n",
    "        carry = 0\n",
    "        # dummy head\n",
    "        head = curr = ListNode(0)\n",
    "        while l1 or l2:\n",
    "            val = carry\n",
    "            if l1:\n",
    "                val += l1.val\n",
    "                l1 = l1.next\n",
    "            if l2:\n",
    "                val += l2.val\n",
    "                l2 = l2.next\n",
    "            curr.next = ListNode(val % 10)\n",
    "            curr = curr.next\n",
    "            carry = val / 10\n",
    "        if carry > 0:\n",
    "            curr.next = ListNode(carry)\n",
    "        return head.next"
   ]
  },
  {
   "cell_type": "markdown",
   "metadata": {},
   "source": [
    "### Summary:\n",
    "Use or in while loop instead of and, making code simpler"
   ]
  }
 ],
 "metadata": {
  "kernelspec": {
   "display_name": "Python 3",
   "language": "python",
   "name": "python3"
  },
  "language_info": {
   "codemirror_mode": {
    "name": "ipython",
    "version": 3
   },
   "file_extension": ".py",
   "mimetype": "text/x-python",
   "name": "python",
   "nbconvert_exporter": "python",
   "pygments_lexer": "ipython3",
   "version": "3.8.5"
  }
 },
 "nbformat": 4,
 "nbformat_minor": 2
}
