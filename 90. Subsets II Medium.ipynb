{
 "cells": [
  {
   "cell_type": "markdown",
   "id": "6f4717a6",
   "metadata": {},
   "source": [
    "Using Backtracking with counter"
   ]
  },
  {
   "cell_type": "code",
   "execution_count": 6,
   "id": "7c0afd22",
   "metadata": {},
   "outputs": [
    {
     "data": {
      "text/plain": [
       "dict_keys([1, 2])"
      ]
     },
     "execution_count": 6,
     "metadata": {},
     "output_type": "execute_result"
    }
   ],
   "source": [
    "class Solution:\n",
    "    def subsetsWithDup(self, nums: List[int]) -> List[List[int]]:\n",
    "        counter = {}\n",
    "        for num in nums:\n",
    "            try:\n",
    "                counter[num] += 1\n",
    "            except:\n",
    "                counter[num] = 1\n",
    "        counter = [(num, counter[num]) for num in counter]\n",
    "        lenCounter = len(counter)\n",
    "        result = []\n",
    "        def backTracking(cur,pos):\n",
    "            if pos == lenCounter:\n",
    "                result.append(cur[:])\n",
    "                return\n",
    "            for pos in range(pos,lenCounter):\n",
    "                (num, count) = counter[pos]\n",
    "                if count > 0:\n",
    "                    cur += [num]\n",
    "                    counter[pos] = (num, count - 1)\n",
    "                    backTracking(cur,pos)\n",
    "                    cur.pop()\n",
    "                    counter[pos] = (num, count)\n",
    "            backTracking(cur,lenCounter)\n",
    "            return\n",
    "        backTracking([], 0)\n",
    "        return result"
   ]
  },
  {
   "cell_type": "markdown",
   "id": "169364c5",
   "metadata": {},
   "source": [
    "Runtime: 40 ms, faster than 51.87% of Python3 online submissions for Subsets II.\n",
    "    \n",
    "Memory Usage: 14.6 MB, less than 5.69% of Python3 online submissions for Subsets II."
   ]
  },
  {
   "cell_type": "markdown",
   "id": "e60b4a24",
   "metadata": {},
   "source": [
    "Approach 2: Cascading (Iterative)"
   ]
  },
  {
   "cell_type": "code",
   "execution_count": null,
   "id": "f0522cbe",
   "metadata": {},
   "outputs": [],
   "source": [
    "class Solution:\n",
    "    def subsetsWithDup(self, nums: List[int]) -> List[List[int]]:\n",
    "        nums.sort()\n",
    "        result = [[]]\n",
    "        resultSize = 0\n",
    "        for i in range(0, len(nums)):\n",
    "            if i > 0 and nums[i] == nums[i-1]:\n",
    "                startPos = resultSize\n",
    "            else:\n",
    "                startPos = 0\n",
    "            resultSize = len(result)\n",
    "            for j in range(startPos, resultSize):\n",
    "                curSet = result[j][:]\n",
    "                curSet.append(nums[i])\n",
    "                result.append(curSet)\n",
    "        \n",
    "        return result"
   ]
  },
  {
   "cell_type": "markdown",
   "id": "e7566af1",
   "metadata": {},
   "source": [
    "Runtime: 32 ms, faster than 92.31% of Python3 online submissions for Subsets II.\n",
    "    \n",
    "Memory Usage: 14.4 MB, less than 81.58% of Python3 online submissions for Subsets II."
   ]
  }
 ],
 "metadata": {
  "kernelspec": {
   "display_name": "Python 3",
   "language": "python",
   "name": "python3"
  },
  "language_info": {
   "codemirror_mode": {
    "name": "ipython",
    "version": 3
   },
   "file_extension": ".py",
   "mimetype": "text/x-python",
   "name": "python",
   "nbconvert_exporter": "python",
   "pygments_lexer": "ipython3",
   "version": "3.8.8"
  }
 },
 "nbformat": 4,
 "nbformat_minor": 5
}
