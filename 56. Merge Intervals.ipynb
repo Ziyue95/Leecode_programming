{
 "cells": [
  {
   "cell_type": "markdown",
   "metadata": {},
   "source": [
    "### 56. Merge Intervals\n",
    "Given a collection of intervals, merge all overlapping intervals.\n",
    "\n",
    "Example 1:\n",
    "\n",
    "Input: intervals = [[1,3],[2,6],[8,10],[15,18]]\n",
    "    \n",
    "Output: [[1,6],[8,10],[15,18]]\n",
    "    \n",
    "Explanation: Since intervals [1,3] and [2,6] overlaps, merge them into [1,6].\n",
    "    \n",
    "Example 2:\n",
    "\n",
    "Input: intervals = [[1,4],[4,5]]\n",
    "    \n",
    "Output: [[1,5]]\n",
    "    \n",
    "Explanation: Intervals [1,4] and [4,5] are considered overlapping.\n",
    "    \n",
    "NOTE: input types have been changed on April 15, 2019. Please reset to default code definition to get new method signature."
   ]
  },
  {
   "cell_type": "markdown",
   "metadata": {},
   "source": [
    "My Solution:"
   ]
  },
  {
   "cell_type": "code",
   "execution_count": 11,
   "metadata": {},
   "outputs": [
    {
     "ename": "AttributeError",
     "evalue": "'list' object has no attribute 'start'",
     "output_type": "error",
     "traceback": [
      "\u001b[0;31m---------------------------------------------------------------------------\u001b[0m",
      "\u001b[0;31mAttributeError\u001b[0m                            Traceback (most recent call last)",
      "\u001b[0;32m<ipython-input-11-85c9e4ce24fa>\u001b[0m in \u001b[0;36m<module>\u001b[0;34m\u001b[0m\n\u001b[1;32m      1\u001b[0m \u001b[0ma\u001b[0m \u001b[0;34m=\u001b[0m \u001b[0;34m[\u001b[0m\u001b[0;36m1\u001b[0m\u001b[0;34m,\u001b[0m\u001b[0;36m2\u001b[0m\u001b[0;34m,\u001b[0m\u001b[0;36m3\u001b[0m\u001b[0;34m]\u001b[0m\u001b[0;34m\u001b[0m\u001b[0;34m\u001b[0m\u001b[0m\n\u001b[0;32m----> 2\u001b[0;31m \u001b[0ma\u001b[0m\u001b[0;34m.\u001b[0m\u001b[0mstart\u001b[0m\u001b[0;34m\u001b[0m\u001b[0;34m\u001b[0m\u001b[0m\n\u001b[0m",
      "\u001b[0;31mAttributeError\u001b[0m: 'list' object has no attribute 'start'"
     ]
    }
   ],
   "source": [
    "a = [1,2,3]\n",
    "a.start"
   ]
  },
  {
   "cell_type": "code",
   "execution_count": 1,
   "metadata": {},
   "outputs": [
    {
     "name": "stdout",
     "output_type": "stream",
     "text": [
      "[[1, 6], [8, 10], [15, 18]]\n",
      "[[1, 5]]\n",
      "[[0, 4]]\n"
     ]
    }
   ],
   "source": [
    "class Solution(object):\n",
    "    def merge(self, intervals):\n",
    "        \"\"\"\n",
    "        :type intervals: List[List[int]]\n",
    "        :rtype: List[List[int]]\n",
    "        \"\"\"\n",
    "        if intervals is None:\n",
    "            return\n",
    "        ls = len(intervals)\n",
    "        if ls <= 1:\n",
    "            return intervals\n",
    "        sorted_intervals = []\n",
    "        hash_map = {}\n",
    "        sorted_left = []\n",
    "        for inter in intervals:\n",
    "            sorted_left.append(inter[0])\n",
    "            try:\n",
    "                hash_map[inter[0]].append(inter[1])\n",
    "            except:\n",
    "                hash_map[inter[0]] = [inter[1]]\n",
    "        sorted_left = sorted(sorted_left)\n",
    "        for left in sorted_left:\n",
    "            sorted_intervals.append([left,hash_map[left].pop()])\n",
    "        \n",
    "        index = 0\n",
    "        while index < len(sorted_intervals)-1:\n",
    "            if sorted_intervals[index][1] < sorted_intervals[index+1][0]:\n",
    "                index += 1\n",
    "            else:\n",
    "                sorted_intervals[index] = [min(sorted_intervals[index][0],sorted_intervals[index+1][0]),max(sorted_intervals[index][1],sorted_intervals[index+1][1])]\n",
    "                if index < len(sorted_intervals)-2:\n",
    "                    sorted_intervals[index+1:] = sorted_intervals[index+2:]\n",
    "                else:\n",
    "                    sorted_intervals = sorted_intervals[0:index+1]\n",
    "        return sorted_intervals\n",
    "if __name__ == '__main__':\n",
    "    # begin\n",
    "    s = Solution()\n",
    "    print(s.merge([[1,3],[2,6],[8,10],[15,18]]))  \n",
    "    print(s.merge([[1,4],[4,5]]))\n",
    "    print(s.merge([[1,4],[0,1]]))"
   ]
  },
  {
   "cell_type": "markdown",
   "metadata": {},
   "source": [
    "### Result\n",
    "Runtime: 756 ms, faster than 5.25% of Python online submissions for Merge Intervals.\n",
    "    \n",
    "Memory Usage: 15.1 MB, less than 19.20% of Python online submissions for Merge Intervals."
   ]
  },
  {
   "cell_type": "markdown",
   "metadata": {},
   "source": [
    "Good Solution:"
   ]
  },
  {
   "cell_type": "code",
   "execution_count": 2,
   "metadata": {},
   "outputs": [],
   "source": [
    "class Solution(object):\n",
    "    def merge(self, intervals):\n",
    "        \"\"\"\n",
    "        :type intervals: List[Interval]\n",
    "        :rtype: List[Interval]\n",
    "        \"\"\"\n",
    "        if intervals is None:\n",
    "            return\n",
    "        ls = len(intervals)\n",
    "        if ls <= 1:\n",
    "            return intervals\n",
    "        # sort by start\n",
    "        intervals.sort(key=lambda x: x[0])\n",
    "        pos = 0\n",
    "        while pos < len(intervals) - 1:\n",
    "            # check overlap\n",
    "            if intervals[pos][1] >= intervals[pos + 1][0]:\n",
    "                next = intervals.pop(pos + 1)\n",
    "                # check next is overlap or totally covered by pos\n",
    "                if next[1] > intervals[pos][1]:\n",
    "                    intervals[pos][1] = next[1]\n",
    "            # print [(t[0], t[1]) for t in intervals], pos\n",
    "            else:\n",
    "                pos += 1\n",
    "        return intervals"
   ]
  },
  {
   "cell_type": "markdown",
   "metadata": {},
   "source": [
    "### Summary:\n",
    "Use intervals.sort(key=lambda x: x[0]) instead of the way I create sorted_intervals(long code)\n",
    "\n",
    "Ideas is the same"
   ]
  },
  {
   "cell_type": "code",
   "execution_count": null,
   "metadata": {},
   "outputs": [],
   "source": []
  }
 ],
 "metadata": {
  "kernelspec": {
   "display_name": "Python 3",
   "language": "python",
   "name": "python3"
  },
  "language_info": {
   "codemirror_mode": {
    "name": "ipython",
    "version": 3
   },
   "file_extension": ".py",
   "mimetype": "text/x-python",
   "name": "python",
   "nbconvert_exporter": "python",
   "pygments_lexer": "ipython3",
   "version": "3.8.5"
  }
 },
 "nbformat": 4,
 "nbformat_minor": 2
}
