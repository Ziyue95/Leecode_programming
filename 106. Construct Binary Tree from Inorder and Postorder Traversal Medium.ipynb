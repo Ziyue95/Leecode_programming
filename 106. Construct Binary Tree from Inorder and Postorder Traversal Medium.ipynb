{
 "cells": [
  {
   "cell_type": "markdown",
   "metadata": {},
   "source": [
    "Given two integer arrays inorder and postorder where inorder is the inorder traversal of a binary tree and postorder is the postorder traversal of the same tree, construct and return the binary tree.\n",
    "\n",
    " \n",
    "\n",
    "Example 1:\n",
    "\n",
    "\n",
    "    Input: inorder = [9,3,15,20,7], postorder = [9,15,7,20,3]\n",
    "    Output: [3,9,20,null,null,15,7]\n",
    "Example 2:\n",
    "\n",
    "    Input: inorder = [-1], postorder = [-1]\n",
    "    Output: [-1]\n",
    " \n",
    "\n",
    "Constraints:\n",
    "\n",
    "    1 <= inorder.length <= 3000\n",
    "    postorder.length == inorder.length\n",
    "    -3000 <= inorder[i], postorder[i] <= 3000\n",
    "    inorder and postorder consist of unique values.\n",
    "    Each value of postorder also appears in inorder.\n",
    "    inorder is guaranteed to be the inorder traversal of the tree.\n",
    "    postorder is guaranteed to be the postorder traversal of the tree."
   ]
  },
  {
   "cell_type": "markdown",
   "metadata": {},
   "source": [
    "My Solution:"
   ]
  },
  {
   "cell_type": "code",
   "execution_count": null,
   "metadata": {},
   "outputs": [],
   "source": [
    "# Definition for a binary tree node.\n",
    "# class TreeNode:\n",
    "#     def __init__(self, val=0, left=None, right=None):\n",
    "#         self.val = val\n",
    "#         self.left = left\n",
    "#         self.right = right\n",
    "class Solution:\n",
    "    def buildTree(self, inorder: List[int], postorder: List[int]) -> TreeNode:\n",
    "        def array_to_tree(left, right):\n",
    "            \n",
    "            nonlocal postorder_index\n",
    "            # if there are no elements to construct the tree\n",
    "            if left > right: return None\n",
    "            \n",
    "            # select the postorder_index element as the root and increment it\n",
    "            root_value = postorder[postorder_index]\n",
    "            root = TreeNode(root_value)\n",
    "            \n",
    "            postorder_index -= 1\n",
    "            # build left and right subtree\n",
    "            # excluding inorder_index_map[root_value] element because it's the root\n",
    "            root.right = array_to_tree(inorder_index_map[root_value] + 1, right)\n",
    "            root.left = array_to_tree(left, inorder_index_map[root_value] - 1)\n",
    "            \n",
    "            return root\n",
    "        \n",
    "        postorder_index = len(inorder) - 1\n",
    "        # build a hashmap to store value -> its index relations\n",
    "        inorder_index_map = {}\n",
    "        for index, value in enumerate(inorder):\n",
    "            inorder_index_map[value] = index\n",
    "        \n",
    "        return array_to_tree(0, postorder_index)    "
   ]
  },
  {
   "cell_type": "markdown",
   "metadata": {},
   "source": [
    "### Result\n",
    "Runtime: 48 ms, faster than 97.53% of Python3 online submissions for Construct Binary Tree from Inorder and Postorder Traversal.\n",
    "\n",
    "Memory Usage: 19 MB, less than 67.70% of Python3 online submissions for Construct Binary Tree from Inorder and Postorder Traversal."
   ]
  }
 ],
 "metadata": {
  "kernelspec": {
   "display_name": "Python 3",
   "language": "python",
   "name": "python3"
  },
  "language_info": {
   "codemirror_mode": {
    "name": "ipython",
    "version": 3
   },
   "file_extension": ".py",
   "mimetype": "text/x-python",
   "name": "python",
   "nbconvert_exporter": "python",
   "pygments_lexer": "ipython3",
   "version": "3.8.5"
  }
 },
 "nbformat": 4,
 "nbformat_minor": 4
}
