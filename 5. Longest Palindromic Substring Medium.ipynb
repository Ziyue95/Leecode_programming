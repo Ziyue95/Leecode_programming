{
 "cells": [
  {
   "cell_type": "markdown",
   "metadata": {},
   "source": [
    "Given a string s, return the longest palindromic substring in s.\n",
    "\n",
    " \n",
    "\n",
    "Example 1:\n",
    "\n",
    "    Input: s = \"babad\"\n",
    "    Output: \"bab\"\n",
    "    Note: \"aba\" is also a valid answer.\n",
    "Example 2:\n",
    "\n",
    "    Input: s = \"cbbd\"\n",
    "    Output: \"bb\"\n",
    "Example 3:\n",
    "\n",
    "    Input: s = \"a\"\n",
    "    Output: \"a\"\n",
    "Example 4:\n",
    "\n",
    "    Input: s = \"ac\"\n",
    "    Output: \"a\"\n",
    " \n",
    "\n",
    "Constraints:\n",
    "\n",
    "    1 <= s.length <= 1000\n",
    "    s consist of only digits and English letters (lower-case and/or upper-case),"
   ]
  },
  {
   "cell_type": "markdown",
   "metadata": {},
   "source": [
    "My Solution: Using binary search on length of the longest palindromic and return it (time complexity O(n*logn))"
   ]
  },
  {
   "cell_type": "code",
   "execution_count": 15,
   "metadata": {},
   "outputs": [
    {
     "name": "stdout",
     "output_type": "stream",
     "text": [
      "bab bab\n"
     ]
    },
    {
     "data": {
      "text/plain": [
       "True"
      ]
     },
     "execution_count": 15,
     "metadata": {},
     "output_type": "execute_result"
    }
   ],
   "source": [
    "class Solution:\n",
    "    def longestPalindrome(self, s: str) -> str:\n",
    "        len_s = len(s)\n",
    "        \n",
    "        def check_n_pali(n):\n",
    "            for i in range(len_s - n + 1):\n",
    "                k = s[i:i+n]\n",
    "                if k == k[::-1]:\n",
    "                    return True\n",
    "            return False\n",
    "        \n",
    "        def return_n_pali(n):\n",
    "            for i in range(len_s - n + 1):\n",
    "                k = s[i:i+n]\n",
    "                if k == k[::-1]:\n",
    "                    return k\n",
    "            return False\n",
    "        \n",
    "        low,high = 1,len_s\n",
    "        # check both odd palindrome and even palindrome\n",
    "        while high - low > 1:\n",
    "            if check_n_pali(high):\n",
    "                break\n",
    "            elif check_n_pali(high-1):\n",
    "                break\n",
    "            \n",
    "            mid = (low + high) //2\n",
    "            if check_n_pali(mid):\n",
    "                low = mid        \n",
    "            elif check_n_pali(mid+1):\n",
    "                low = mid + 1\n",
    "            else: \n",
    "                high = mid - 1\n",
    "            \n",
    "        high = max(high,low)        \n",
    "        \n",
    "        return return_n_pali(high) or return_n_pali(high-1)\n",
    "        "
   ]
  },
  {
   "cell_type": "markdown",
   "metadata": {},
   "source": [
    "### Result\n",
    "Runtime: 424 ms, faster than 92.15% of Python3 online submissions for Longest Palindromic Substring.\n",
    "\n",
    "Memory Usage: 14.7 MB, less than 21.24% of Python3 online submissions for Longest Palindromic Substring."
   ]
  },
  {
   "cell_type": "code",
   "execution_count": null,
   "metadata": {},
   "outputs": [],
   "source": []
  }
 ],
 "metadata": {
  "kernelspec": {
   "display_name": "Python 3",
   "language": "python",
   "name": "python3"
  },
  "language_info": {
   "codemirror_mode": {
    "name": "ipython",
    "version": 3
   },
   "file_extension": ".py",
   "mimetype": "text/x-python",
   "name": "python",
   "nbconvert_exporter": "python",
   "pygments_lexer": "ipython3",
   "version": "3.8.5"
  }
 },
 "nbformat": 4,
 "nbformat_minor": 4
}
