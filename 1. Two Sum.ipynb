{
 "cells": [
  {
   "cell_type": "markdown",
   "metadata": {},
   "source": [
    "### 1. Two Sum\n",
    "Given an array of integers, return indices of the two numbers such that they add up to a specific target.\n",
    "\n",
    "Example:\n",
    "\n",
    "Given nums = [2, 7, 11, 15], target = 9,\n",
    "\n",
    "Because nums[0] + nums[1] = 2 + 7 = 9,\n",
    "return [0, 1]."
   ]
  },
  {
   "cell_type": "markdown",
   "metadata": {},
   "source": [
    "My solution :"
   ]
  },
  {
   "cell_type": "code",
   "execution_count": 40,
   "metadata": {},
   "outputs": [
    {
     "name": "stdout",
     "output_type": "stream",
     "text": [
      "[1, 0]\n"
     ]
    }
   ],
   "source": [
    "def twoSum(self, nums, target):\n",
    "    \"\"\"\n",
    "    :type nums: List[int]\n",
    "    :type target: int\n",
    "    :rtype: List[int]\n",
    "    \"\"\"\n",
    "    for i in range(len(nums)):\n",
    "        sub_target = target - nums[i]\n",
    "        for j in range(i,len(nums)):\n",
    "            if sub_target == nums[j]:\n",
    "                return [i,j]\n",
    "if __name__ == '__main__':\n",
    "    # begin\n",
    "    s = Solution()\n",
    "    print(s.twoSum([2, 7, 11, 15], 9))"
   ]
  },
  {
   "cell_type": "markdown",
   "metadata": {},
   "source": [
    "Complexity is  $𝑛^2$ , too slow"
   ]
  },
  {
   "cell_type": "markdown",
   "metadata": {},
   "source": [
    "My Second Round Solution:"
   ]
  },
  {
   "cell_type": "code",
   "execution_count": null,
   "metadata": {},
   "outputs": [],
   "source": [
    "class Solution:\n",
    "    def twoSum(self, nums: List[int], target: int) -> List[int]:\n",
    "        Hash_map = {}\n",
    "        for index,i in enumerate(nums):\n",
    "            if i not in Hash_map:\n",
    "                Hash_map[target - i] = index\n",
    "            else:\n",
    "                return [Hash_map[i],index]"
   ]
  },
  {
   "cell_type": "markdown",
   "metadata": {},
   "source": [
    "Runtime: 48 ms, faster than 57.65% of Python3 online submissions for Two Sum.\n",
    "    \n",
    "Memory Usage: 14.4 MB, less than 71.33% of Python3 online submissions for Two Sum."
   ]
  },
  {
   "cell_type": "markdown",
   "metadata": {},
   "source": [
    "Good Solutions:"
   ]
  },
  {
   "cell_type": "code",
   "execution_count": 3,
   "metadata": {},
   "outputs": [
    {
     "name": "stdout",
     "output_type": "stream",
     "text": [
      "[0, 3]\n"
     ]
    }
   ],
   "source": [
    "class Solution(object):\n",
    "    def twoSum(self, nums, target):\n",
    "        # hash 1\n",
    "        hash_nums = {}\n",
    "        for index, num in enumerate(nums):\n",
    "            try:\n",
    "                hash_nums[num].append(index)\n",
    "            except KeyError:\n",
    "                hash_nums[num] = [index]\n",
    "        for index, num in enumerate(nums):\n",
    "            another = target - num\n",
    "            try:\n",
    "                candicate = hash_nums[another]\n",
    "                if another == num:\n",
    "                    if len(candicate) > 1:\n",
    "                        return candicate\n",
    "                    else:\n",
    "                        continue\n",
    "                else:\n",
    "                    return [index, candicate[0]]\n",
    "            except KeyError:\n",
    "                pass\n",
    "\n",
    "if __name__ == '__main__':\n",
    "    # begin\n",
    "    s = Solution()\n",
    "    print(s.twoSum([-1,0,1,2,-1,-4], 1))"
   ]
  },
  {
   "cell_type": "markdown",
   "metadata": {},
   "source": [
    "Complexity is n\n",
    "\n",
    "Create a complete hash map after the first iteration; find the second part in the second iteration;"
   ]
  },
  {
   "cell_type": "code",
   "execution_count": 22,
   "metadata": {
    "scrolled": true
   },
   "outputs": [
    {
     "name": "stdout",
     "output_type": "stream",
     "text": [
      "[2, 1]\n"
     ]
    }
   ],
   "source": [
    "class Solution(object):\n",
    "    def twoSum(self,nums, target):\n",
    "        # hash 2\n",
    "        hash_nums = {}\n",
    "        for index, num in enumerate(nums):\n",
    "            sub_target = target - num\n",
    "            try:\n",
    "                hash_nums[sub_target]\n",
    "                return([index,hash_nums[sub_target]])\n",
    "            except KeyError:\n",
    "                hash_nums[num] = index\n",
    "if __name__ == '__main__':\n",
    "    # begin\n",
    "    s = Solution()\n",
    "    print(s.twoSum([-1,0,1,2,-1,-4], 1))            "
   ]
  },
  {
   "cell_type": "markdown",
   "metadata": {},
   "source": [
    "Complexity is n + only one iteration\n",
    "\n",
    "Check if second part is already stored in the hash map when target each element, if not include the new element to the hash map.\n",
    "\n"
   ]
  }
 ],
 "metadata": {
  "kernelspec": {
   "display_name": "Python 3",
   "language": "python",
   "name": "python3"
  },
  "language_info": {
   "codemirror_mode": {
    "name": "ipython",
    "version": 3
   },
   "file_extension": ".py",
   "mimetype": "text/x-python",
   "name": "python",
   "nbconvert_exporter": "python",
   "pygments_lexer": "ipython3",
   "version": "3.8.8"
  }
 },
 "nbformat": 4,
 "nbformat_minor": 2
}
