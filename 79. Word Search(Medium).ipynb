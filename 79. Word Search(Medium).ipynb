{
 "cells": [
  {
   "cell_type": "markdown",
   "metadata": {},
   "source": [
    "Given an m x n grid of characters board and a string word, return true if word exists in the grid.\n",
    "\n",
    "The word can be constructed from letters of sequentially adjacent cells, where adjacent cells are horizontally or vertically neighboring. The same letter cell may not be used more than once.\n",
    "\n",
    " \n",
    "\n",
    "Example 1:\n",
    "\n",
    "\n",
    "Input: board = [[\"A\",\"B\",\"C\",\"E\"],[\"S\",\"F\",\"C\",\"S\"],[\"A\",\"D\",\"E\",\"E\"]], word = \"ABCCED\"\n",
    "    \n",
    "Output: true\n",
    "    \n",
    "Example 2:\n",
    "\n",
    "\n",
    "Input: board = [[\"A\",\"B\",\"C\",\"E\"],[\"S\",\"F\",\"C\",\"S\"],[\"A\",\"D\",\"E\",\"E\"]], word = \"SEE\"\n",
    "    \n",
    "Output: true\n",
    "    \n",
    "Example 3:\n",
    "\n",
    "\n",
    "Input: board = [[\"A\",\"B\",\"C\",\"E\"],[\"S\",\"F\",\"C\",\"S\"],[\"A\",\"D\",\"E\",\"E\"]], word = \"ABCB\"\n",
    "    \n",
    "Output: false\n",
    " \n",
    "\n",
    "Constraints:\n",
    "\n",
    "m == board.length\n",
    "\n",
    "n = board[i].length\n",
    "\n",
    "1 <= m, n <= 6\n",
    "\n",
    "1 <= word.length <= 15\n",
    "\n",
    "board and word consists of only lowercase and uppercase English letters."
   ]
  },
  {
   "cell_type": "markdown",
   "metadata": {},
   "source": [
    "My Solution:"
   ]
  },
  {
   "cell_type": "code",
   "execution_count": 1,
   "metadata": {},
   "outputs": [
    {
     "name": "stdout",
     "output_type": "stream",
     "text": [
      "True\n",
      "True\n",
      "False\n"
     ]
    }
   ],
   "source": [
    "class Solution:\n",
    "    def exist(self, board, word):#board is the global variable\n",
    "        \n",
    "        row_num = len(board)\n",
    "        col_num = len(board[0])\n",
    "        word = list(word)\n",
    "        result = [] #check if path is valid\n",
    "        def check_path(loc,history,remain):\n",
    "            #loc is the location of check-point;\n",
    "            #history is the current visit state of the map;\n",
    "            #remain is the remaining part of word;            \n",
    "            if remain == []:\n",
    "                return True\n",
    "            possible_locs = [i for i in [[loc[0]-1,loc[1]],[loc[0]+1,loc[1]],[loc[0],loc[1]-1],[loc[0],loc[1]+1]] if 0 <= i[0] < row_num and 0<= i[1] <col_num]\n",
    "            for location in possible_locs:\n",
    "                if board[location[0]][location[1]] == remain[0] and location not in history:\n",
    "                    re = remain.copy()\n",
    "                    his = history.copy()\n",
    "                    his.append(location)\n",
    "                    re.pop(0)\n",
    "                    if check_path(location,his,re):\n",
    "                        return True\n",
    "            return False\n",
    "        locs = [[i,j] for i in range(row_num) for j in range(col_num) if board[i][j] == word[0]]\n",
    "        if len(word) == 1:\n",
    "            if len(locs) > 0:\n",
    "                return True\n",
    "            else:\n",
    "                return False\n",
    "        for loc in locs:\n",
    "            History = [loc] #contains [i,j] meaning that element on location [i,j] has been visited   \n",
    "            result.append(check_path(loc,History,word[1:]))\n",
    "        return len(locs) > 0 and max(result) == 1\n",
    "    \n",
    "if __name__ == '__main__':\n",
    "    # begin\n",
    "    s = Solution()\n",
    "    print(s.exist([[\"A\",\"B\",\"C\",\"E\"],[\"S\",\"F\",\"C\",\"S\"],[\"A\",\"D\",\"E\",\"E\"]],\"ABCCED\"))\n",
    "    print(s.exist([[\"A\",\"B\",\"C\",\"E\"],[\"S\",\"F\",\"C\",\"S\"],[\"A\",\"D\",\"E\",\"E\"]],\"SEE\"))\n",
    "    print(s.exist([[\"A\",\"B\",\"C\",\"E\"],[\"S\",\"F\",\"C\",\"S\"],[\"A\",\"D\",\"E\",\"E\"]],\"ABCB\"))"
   ]
  },
  {
   "cell_type": "markdown",
   "metadata": {},
   "source": [
    "### Result\n",
    "Runtime: 5332 ms, faster than 10.34% of Python3 online submissions for Word Search.\n",
    "\n",
    "Memory Usage: 14.4 MB, less than 67.70% of Python3 online submissions for Word Search."
   ]
  },
  {
   "cell_type": "markdown",
   "metadata": {},
   "source": [
    "Good Solution:"
   ]
  },
  {
   "cell_type": "markdown",
   "metadata": {},
   "source": [
    "Similar idea but better realization: involving backstracking"
   ]
  },
  {
   "cell_type": "code",
   "execution_count": 3,
   "metadata": {},
   "outputs": [
    {
     "name": "stdout",
     "output_type": "stream",
     "text": [
      "True\n",
      "True\n",
      "False\n"
     ]
    }
   ],
   "source": [
    "class Solution:\n",
    "    def exist(self, board, word):\n",
    "        if not word:\n",
    "            return True\n",
    "        if not board:\n",
    "            return False\n",
    "        for i in range(len(board)):\n",
    "            for j in range(len(board[0])):\n",
    "                if self.exist_helper(board, word, i, j):\n",
    "                    return True\n",
    "        return False\n",
    "\n",
    "    def exist_helper(self, board, word, i, j):\n",
    "        if board[i][j] == word[0]:\n",
    "            if not word[1:]:\n",
    "                return True\n",
    "            board[i][j] = \" \" # indicate used cell\n",
    "            # check all adjacent cells\n",
    "            if i > 0 and self.exist_helper(board, word[1:], i-1, j):\n",
    "                return True\n",
    "            if i < len(board)-1 and self.exist_helper(board, word[1:], i+1, j):\n",
    "                return True\n",
    "            if j > 0 and self.exist_helper(board, word[1:], i, j-1):\n",
    "                return True\n",
    "            if j < len(board[0])-1 and self.exist_helper(board, word[1:], i, j+1):\n",
    "                return True\n",
    "            board[i][j] = word[0] # update the cell to its original value\n",
    "            return False\n",
    "        else:\n",
    "            return False\n",
    "    \n",
    "if __name__ == '__main__':\n",
    "    # begin\n",
    "    s = Solution()\n",
    "    print(s.exist([[\"A\",\"B\",\"C\",\"E\"],[\"S\",\"F\",\"C\",\"S\"],[\"A\",\"D\",\"E\",\"E\"]],\"ABCCED\"))\n",
    "    print(s.exist([[\"A\",\"B\",\"C\",\"E\"],[\"S\",\"F\",\"C\",\"S\"],[\"A\",\"D\",\"E\",\"E\"]],\"SEE\"))\n",
    "    print(s.exist([[\"A\",\"B\",\"C\",\"E\"],[\"S\",\"F\",\"C\",\"S\"],[\"A\",\"D\",\"E\",\"E\"]],\"ABCB\"))    "
   ]
  },
  {
   "cell_type": "markdown",
   "metadata": {},
   "source": [
    "### Result\n",
    "Runtime: 2804 ms, faster than 71.53% of Python3 online submissions for Word Search.\n",
    "    \n",
    "Memory Usage: 14.3 MB, less than 79.26% of Python3 online submissions for Word Search."
   ]
  }
 ],
 "metadata": {
  "kernelspec": {
   "display_name": "Python 3",
   "language": "python",
   "name": "python3"
  },
  "language_info": {
   "codemirror_mode": {
    "name": "ipython",
    "version": 3
   },
   "file_extension": ".py",
   "mimetype": "text/x-python",
   "name": "python",
   "nbconvert_exporter": "python",
   "pygments_lexer": "ipython3",
   "version": "3.8.5"
  }
 },
 "nbformat": 4,
 "nbformat_minor": 4
}
