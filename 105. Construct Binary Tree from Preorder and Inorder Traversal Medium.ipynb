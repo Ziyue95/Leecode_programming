{
 "cells": [
  {
   "cell_type": "markdown",
   "metadata": {},
   "source": [
    "Given two integer arrays preorder and inorder where preorder is the preorder traversal of a binary tree and inorder is the inorder traversal of the same tree, construct and return the binary tree.\n",
    "\n",
    " \n",
    "\n",
    "Example 1:\n",
    "\n",
    "\n",
    "    Input: preorder = [3,9,20,15,7], inorder = [9,3,15,20,7]\n",
    "    Output: [3,9,20,null,null,15,7]\n",
    "Example 2:\n",
    "\n",
    "    Input: preorder = [-1], inorder = [-1]\n",
    "    Output: [-1]\n",
    " \n",
    "\n",
    "Constraints:\n",
    "\n",
    "    1 <= preorder.length <= 3000\n",
    "    inorder.length == preorder.length\n",
    "    -3000 <= preorder[i], inorder[i] <= 3000\n",
    "    preorder and inorder consist of unique values.\n",
    "    Each value of inorder also appears in preorder.\n",
    "    preorder is guaranteed to be the preorder traversal of the tree.\n",
    "    inorder is guaranteed to be the inorder traversal of the tree."
   ]
  },
  {
   "cell_type": "markdown",
   "metadata": {},
   "source": [
    "My Solution:"
   ]
  },
  {
   "cell_type": "code",
   "execution_count": null,
   "metadata": {},
   "outputs": [],
   "source": [
    "# Definition for a binary tree node.\n",
    "# class TreeNode:\n",
    "#     def __init__(self, val=0, left=None, right=None):\n",
    "#         self.val = val\n",
    "#         self.left = left\n",
    "#         self.right = right\n",
    "class Solution:\n",
    "    def buildTree(self, preorder: List[int], inorder: List[int]) -> TreeNode:\n",
    "        \n",
    "        def divide_interval(interval,element):\n",
    "            #print(interval,element)\n",
    "            index= interval.index(element)\n",
    "            #print(index)\n",
    "            left = interval[:index]\n",
    "            right = interval[index+1:]\n",
    "            return (left,right)\n",
    "        def buildsubtree(suborder):\n",
    "            if suborder == []:\n",
    "                return None\n",
    "            else:\n",
    "                val = preorder.pop(0)\n",
    "                #print(val)\n",
    "                left,right = divide_interval(suborder,val)\n",
    "                #print(left,right)\n",
    "                return TreeNode(val,left=buildsubtree(left),right = buildsubtree(right))\n",
    "        return buildsubtree(inorder)"
   ]
  },
  {
   "cell_type": "markdown",
   "metadata": {},
   "source": [
    "### Result\n",
    "Runtime: 140 ms, faster than 45.16% of Python3 online submissions for Construct Binary Tree from Preorder and Inorder Traversal.\n",
    "\n",
    "Memory Usage: 53.4 MB, less than 31.32% of Python3 online submissions for Construct Binary Tree from Preorder and Inorder Traversal."
   ]
  },
  {
   "cell_type": "markdown",
   "metadata": {},
   "source": [
    "Good Solution:"
   ]
  },
  {
   "cell_type": "code",
   "execution_count": null,
   "metadata": {},
   "outputs": [],
   "source": [
    "# Definition for a binary tree node.\n",
    "# class TreeNode:\n",
    "#     def __init__(self, val=0, left=None, right=None):\n",
    "#         self.val = val\n",
    "#         self.left = left\n",
    "#         self.right = right\n",
    "class Solution:\n",
    "    def buildTree(self, preorder: List[int], inorder: List[int]) -> TreeNode:\n",
    "\n",
    "        def array_to_tree(left, right):\n",
    "            nonlocal preorder_index\n",
    "            # if there are no elements to construct the tree\n",
    "            if left > right: return None\n",
    "\n",
    "            # select the preorder_index element as the root and increment it\n",
    "            root_value = preorder[preorder_index]\n",
    "            root = TreeNode(root_value)\n",
    "\n",
    "\n",
    "            preorder_index += 1\n",
    "\n",
    "            # build left and right subtree\n",
    "            # excluding inorder_index_map[root_value] element because it's the root\n",
    "            root.left = array_to_tree(left, inorder_index_map[root_value] - 1)\n",
    "            root.right = array_to_tree(inorder_index_map[root_value] + 1, right)\n",
    "\n",
    "            return root\n",
    "\n",
    "        preorder_index = 0\n",
    "\n",
    "        # build a hashmap to store value -> its index relations\n",
    "        inorder_index_map = {}\n",
    "        for index, value in enumerate(inorder):\n",
    "            inorder_index_map[value] = index\n",
    "\n",
    "        return array_to_tree(0, len(preorder) - 1)"
   ]
  },
  {
   "cell_type": "markdown",
   "metadata": {},
   "source": [
    "### Result\n",
    "Runtime: 56 ms, faster than 84.89% of Python3 online submissions for Construct Binary Tree from Preorder and Inorder Traversal.\n",
    "\n",
    "Memory Usage: 19.1 MB, less than 64.32% of Python3 online submissions for Construct Binary Tree from Preorder and Inorder Traversal."
   ]
  }
 ],
 "metadata": {
  "kernelspec": {
   "display_name": "Python 3",
   "language": "python",
   "name": "python3"
  },
  "language_info": {
   "codemirror_mode": {
    "name": "ipython",
    "version": 3
   },
   "file_extension": ".py",
   "mimetype": "text/x-python",
   "name": "python",
   "nbconvert_exporter": "python",
   "pygments_lexer": "ipython3",
   "version": "3.8.5"
  }
 },
 "nbformat": 4,
 "nbformat_minor": 4
}
