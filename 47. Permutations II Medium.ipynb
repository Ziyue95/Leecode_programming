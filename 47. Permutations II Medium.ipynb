{
 "cells": [
  {
   "cell_type": "markdown",
   "id": "5b77cd79",
   "metadata": {},
   "source": [
    "### BackTracking with index jump"
   ]
  },
  {
   "cell_type": "code",
   "execution_count": 10,
   "id": "31c9ed2b",
   "metadata": {},
   "outputs": [],
   "source": [
    "class Solution:\n",
    "    def permuteUnique(self, nums):\n",
    "        result = []\n",
    "        lenNums = len(nums)\n",
    "        nums.sort()\n",
    "        def backTracking(cur, subnums):\n",
    "            if len(cur) == lenNums:\n",
    "                result.append(cur[:])\n",
    "                return\n",
    "            subnums.sort()\n",
    "            for i in range(0, len(subnums)):\n",
    "                if i > 0 and subnums[i] == subnums[i - 1]:\n",
    "                    continue\n",
    "                subnums[i], subnums[0] = subnums[0], subnums[i]\n",
    "                cur.append(subnums[0])\n",
    "                backTracking(cur,subnums[1:])\n",
    "                subnums[i], subnums[0] = subnums[0], subnums[i]\n",
    "                cur.pop()\n",
    "            return\n",
    "        backTracking([],nums)\n",
    "        return result"
   ]
  },
  {
   "cell_type": "markdown",
   "id": "964ab2fc",
   "metadata": {},
   "source": [
    "### BackTracking with Counter"
   ]
  },
  {
   "cell_type": "code",
   "execution_count": null,
   "id": "8d753914",
   "metadata": {},
   "outputs": [],
   "source": [
    "class Solution:\n",
    "    def permuteUnique(self, nums):\n",
    "        result = []\n",
    "        #nums.sort()\n",
    "        counter = {}\n",
    "        for i in nums:\n",
    "            try:\n",
    "                counter[i] += 1\n",
    "            except:\n",
    "                counter[i] = 1\n",
    "        lenNums = len(nums)\n",
    "        \n",
    "        def backTracking(cur):\n",
    "            if len(cur) == lenNums:\n",
    "                result.append(cur[:])\n",
    "                return\n",
    "            for num in counter:\n",
    "                if counter[num] > 0:\n",
    "                    cur.append(num)\n",
    "                    counter[num] -= 1\n",
    "                    backTracking(cur)\n",
    "                    counter[num] += 1\n",
    "                    cur.pop()\n",
    "            return\n",
    "        backTracking([])\n",
    "        return result"
   ]
  }
 ],
 "metadata": {
  "kernelspec": {
   "display_name": "Python 3",
   "language": "python",
   "name": "python3"
  },
  "language_info": {
   "codemirror_mode": {
    "name": "ipython",
    "version": 3
   },
   "file_extension": ".py",
   "mimetype": "text/x-python",
   "name": "python",
   "nbconvert_exporter": "python",
   "pygments_lexer": "ipython3",
   "version": "3.8.8"
  }
 },
 "nbformat": 4,
 "nbformat_minor": 5
}
