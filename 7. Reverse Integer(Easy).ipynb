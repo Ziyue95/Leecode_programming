{
 "cells": [
  {
   "cell_type": "markdown",
   "metadata": {},
   "source": [
    "Given a signed 32-bit integer x, return x with its digits reversed. If reversing x causes the value to go outside the signed 32-bit integer range [-231, 231 - 1], then return 0.\n",
    "\n",
    "Assume the environment does not allow you to store 64-bit integers (signed or unsigned).\n",
    "\n",
    " \n",
    "\n",
    "Example 1:\n",
    "\n",
    "Input: x = 123\n",
    "    \n",
    "Output: 321\n",
    "    \n",
    "Example 2:\n",
    "\n",
    "Input: x = -123\n",
    "    \n",
    "Output: -321\n",
    "    \n",
    "Example 3:\n",
    "\n",
    "Input: x = 120\n",
    "    \n",
    "Output: 21\n",
    "    \n",
    "Example 4:\n",
    "\n",
    "Input: x = 0\n",
    "    \n",
    "Output: 0\n",
    " \n",
    "\n",
    "Constraints:\n",
    "\n",
    "-231 <= x <= 231 - 1"
   ]
  },
  {
   "cell_type": "markdown",
   "metadata": {},
   "source": [
    "My Solution: int(str) will remove leading 0s in the str"
   ]
  },
  {
   "cell_type": "code",
   "execution_count": 5,
   "metadata": {},
   "outputs": [
    {
     "name": "stdout",
     "output_type": "stream",
     "text": [
      "475\n",
      "23\n",
      "-87\n"
     ]
    }
   ],
   "source": [
    "class Solution:\n",
    "    def reverse(self, x: int) -> int:\n",
    "        number = \"\".join(reversed(list(str(abs(x)))))\n",
    "        #int(str) will remove leading 0s in the str\n",
    "        result = int(\"-\" + number) if x < 0 else int(number)\n",
    "        if -2**31 <= result <= (2**31)-1:\n",
    "            return result\n",
    "        else:\n",
    "            return 0\n",
    "        \n",
    "if __name__ == '__main__':\n",
    "    # begin\n",
    "    s = Solution()\n",
    "    print(s.reverse(574))  \n",
    "    print(s.reverse(320))  \n",
    "    print(s.reverse(-78))  "
   ]
  },
  {
   "cell_type": "markdown",
   "metadata": {},
   "source": [
    "### Result\n",
    "Runtime: 28 ms, faster than 86.61% of Python3 online submissions for Reverse Integer.\n",
    "\n",
    "Memory Usage: 14.3 MB, less than 45.93% of Python3 online submissions for Reverse Integer."
   ]
  },
  {
   "cell_type": "code",
   "execution_count": 8,
   "metadata": {},
   "outputs": [
    {
     "name": "stdout",
     "output_type": "stream",
     "text": [
      "475\n",
      "23\n",
      "-87\n"
     ]
    }
   ],
   "source": [
    "class Solution(object):\n",
    "    def reverse(self, x):\n",
    "        \"\"\"\n",
    "        :type x: int\n",
    "        :rtype: int\n",
    "        \"\"\"\n",
    "        rev = 0\n",
    "        sign = 1\n",
    "        \n",
    "        if x < 0:\n",
    "            sign = -1\n",
    "            \n",
    "        x = abs(x)\n",
    "        while x !=0 :\n",
    "            rev = rev * 10 + x%10\n",
    "            x //= 10\n",
    "\n",
    "        return sign*rev if rev < 2**31-1 else 0\n",
    "    \n",
    "if __name__ == '__main__':\n",
    "    # begin\n",
    "    s = Solution()\n",
    "    print(s.reverse(574))  \n",
    "    print(s.reverse(320))  \n",
    "    print(s.reverse(-78))  "
   ]
  },
  {
   "cell_type": "markdown",
   "metadata": {},
   "source": [
    "### Result\n",
    "Runtime: 28 ms, faster than 86.61% of Python3 online submissions for Reverse Integer.\n",
    "\n",
    "Memory Usage: 14.3 MB, less than 11.80% of Python3 online submissions for Reverse Integer."
   ]
  },
  {
   "cell_type": "code",
   "execution_count": 12,
   "metadata": {},
   "outputs": [
    {
     "data": {
      "text/plain": [
       "1.2148249593070517"
      ]
     },
     "execution_count": 12,
     "metadata": {},
     "output_type": "execute_result"
    }
   ],
   "source": [
    "import numpy as np\n",
    "np.exp(0.1946)"
   ]
  }
 ],
 "metadata": {
  "kernelspec": {
   "display_name": "Python 3",
   "language": "python",
   "name": "python3"
  },
  "language_info": {
   "codemirror_mode": {
    "name": "ipython",
    "version": 3
   },
   "file_extension": ".py",
   "mimetype": "text/x-python",
   "name": "python",
   "nbconvert_exporter": "python",
   "pygments_lexer": "ipython3",
   "version": "3.8.5"
  }
 },
 "nbformat": 4,
 "nbformat_minor": 4
}
