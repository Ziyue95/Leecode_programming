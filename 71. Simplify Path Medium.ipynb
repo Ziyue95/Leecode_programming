{
 "cells": [
  {
   "cell_type": "markdown",
   "metadata": {},
   "source": [
    "Given a string path, which is an absolute path (starting with a slash '/') to a file or directory in a Unix-style file system, convert it to the simplified canonical path.\n",
    "\n",
    "In a Unix-style file system, a period '.' refers to the current directory, a double period '..' refers to the directory up a level, and any multiple consecutive slashes (i.e. '//') are treated as a single slash '/'. For this problem, any other format of periods such as '...' are treated as file/directory names.\n",
    "\n",
    "The canonical path should have the following format:\n",
    "\n",
    "    The path starts with a single slash '/'.\n",
    "    Any two directories are separated by a single slash '/'.\n",
    "    The path does not end with a trailing '/'.\n",
    "    The path only contains the directories on the path from the root directory to the target file or directory (i.e., no period '.' or double period '..')\n",
    "Return the simplified canonical path.\n",
    "\n",
    " \n",
    "\n",
    "Example 1:\n",
    "\n",
    "    Input: path = \"/home/\"\n",
    "    Output: \"/home\"\n",
    "    Explanation: Note that there is no trailing slash after the last directory name.\n",
    "Example 2:\n",
    "\n",
    "    Input: path = \"/../\"\n",
    "    Output: \"/\"\n",
    "    Explanation: Going one level up from the root directory is a no-op, as the root level is the highest level you can go.\n",
    "Example 3:\n",
    "\n",
    "    Input: path = \"/home//foo/\"\n",
    "    Output: \"/home/foo\"\n",
    "    Explanation: In the canonical path, multiple consecutive slashes are replaced by a single one.\n",
    "Example 4:\n",
    "\n",
    "    Input: path = \"/a/./b/../../c/\"\n",
    "    Output: \"/c\"\n",
    " \n",
    "\n",
    "Constraints:\n",
    "\n",
    "    1 <= path.length <= 3000\n",
    "    path consists of English letters, digits, period '.', slash '/' or '_'.\n",
    "    path is a valid absolute Unix path."
   ]
  },
  {
   "cell_type": "markdown",
   "metadata": {},
   "source": [
    "My Solution:"
   ]
  },
  {
   "cell_type": "code",
   "execution_count": null,
   "metadata": {},
   "outputs": [],
   "source": [
    "class Solution:\n",
    "    def simplifyPath(self, path: str) -> str:\n",
    "        lvl_dirc = []\n",
    "        len_path = len(path)\n",
    "        index = 0\n",
    "        while index < len_path:\n",
    "            if path[index] == \"/\":\n",
    "                while index < len_path and path[index] == \"/\":\n",
    "                    index += 1\n",
    "                temp_dir = \"/\"\n",
    "                while index < len_path and path[index] != \"/\":\n",
    "                    temp_dir += path[index]\n",
    "                    index += 1\n",
    "                if temp_dir == \"/..\":\n",
    "                    if lvl_dirc:\n",
    "                        lvl_dirc = lvl_dirc[:-1]\n",
    "                elif temp_dir == \"/.\" or temp_dir == \"/\":\n",
    "                    pass\n",
    "                else:\n",
    "                    lvl_dirc += [temp_dir]\n",
    "        if not lvl_dirc:\n",
    "            return \"/\"\n",
    "        else:\n",
    "            output = \"\"\n",
    "            for dirs in lvl_dirc:\n",
    "                output += dirs\n",
    "            return output"
   ]
  },
  {
   "cell_type": "markdown",
   "metadata": {},
   "source": [
    "Runtime: 32 ms, faster than 67.75% of Python3 online submissions for Simplify Path.\n",
    "    \n",
    "Memory Usage: 14.4 MB, less than 44.25% of Python3 online submissions for Simplify Path."
   ]
  },
  {
   "cell_type": "markdown",
   "metadata": {},
   "source": [
    "Good Solution: using split and join"
   ]
  },
  {
   "cell_type": "code",
   "execution_count": 3,
   "metadata": {},
   "outputs": [
    {
     "data": {
      "text/plain": [
       "'a/b/c'"
      ]
     },
     "execution_count": 3,
     "metadata": {},
     "output_type": "execute_result"
    }
   ],
   "source": [
    "class Solution:\n",
    "    def simplifyPath(self, path: str) -> str:\n",
    "        \n",
    "        res = []\n",
    "        str_arr = path.split('/')\n",
    "        \n",
    "        for char in str_arr:\n",
    "            \n",
    "            if not char or char == '.':\n",
    "                continue\n",
    "            \n",
    "            elif char == '..':\n",
    "                if res:\n",
    "                    res.pop()\n",
    "                \n",
    "            else:\n",
    "                res.append(char)\n",
    "                \n",
    "                \n",
    "        return '/' + '/'.join(res)"
   ]
  }
 ],
 "metadata": {
  "kernelspec": {
   "display_name": "Python 3",
   "language": "python",
   "name": "python3"
  },
  "language_info": {
   "codemirror_mode": {
    "name": "ipython",
    "version": 3
   },
   "file_extension": ".py",
   "mimetype": "text/x-python",
   "name": "python",
   "nbconvert_exporter": "python",
   "pygments_lexer": "ipython3",
   "version": "3.8.5"
  }
 },
 "nbformat": 4,
 "nbformat_minor": 4
}
