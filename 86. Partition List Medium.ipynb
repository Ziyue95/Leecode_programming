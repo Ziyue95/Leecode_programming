{
 "cells": [
  {
   "cell_type": "markdown",
   "metadata": {},
   "source": [
    "Given the head of a linked list and a value x, partition it such that all nodes less than x come before nodes greater than or equal to x.\n",
    "\n",
    "You should preserve the original relative order of the nodes in each of the two partitions.\n",
    "\n",
    " \n",
    "\n",
    "Example 1:\n",
    "\n",
    "\n",
    "    Input: head = [1,4,3,2,5,2], x = 3\n",
    "    Output: [1,2,2,4,3,5]\n",
    "Example 2:\n",
    "    \n",
    "Input: head = [2,1], x = 2\n",
    "    Output: [1,2]\n",
    " \n",
    "\n",
    "Constraints:\n",
    "\n",
    "    The number of nodes in the list is in the range [0, 200].\n",
    "    -100 <= Node.val <= 100\n",
    "    -200 <= x <= 200"
   ]
  },
  {
   "cell_type": "markdown",
   "metadata": {},
   "source": [
    "My Solution:"
   ]
  },
  {
   "cell_type": "code",
   "execution_count": 4,
   "metadata": {},
   "outputs": [
    {
     "name": "stdout",
     "output_type": "stream",
     "text": [
      "[1, 2, 2, 4, 3, 5]\n",
      "[1, 2]\n"
     ]
    }
   ],
   "source": [
    "class ListNode(object):\n",
    "    def __init__(self, val=0, next=None):\n",
    "        self.val = val\n",
    "        self.next = next\n",
    "        \n",
    "def list_to_Node(lists):\n",
    "    poi = Node = ListNode(0,ListNode())\n",
    "    while len(lists) > 0:\n",
    "        poi = poi.next\n",
    "        poi.val = lists[0]\n",
    "        poi.next = ListNode()\n",
    "        lists = lists[1:]\n",
    "    poi.next = None\n",
    "    return Node.next\n",
    "\n",
    "def print_Node(Node):\n",
    "    lists = []\n",
    "    while Node is not None:\n",
    "        lists.append(Node.val)\n",
    "        Node = Node.next\n",
    "    print(lists)\n",
    "    \n",
    "class Solution:\n",
    "    def partition(self, head: ListNode, x: int) -> ListNode:\n",
    "        left = p1 = ListNode(-1,head)\n",
    "        right = p2 = ListNode(-1)\n",
    "        while p1.next is not None:\n",
    "            if p1.next.val < x:\n",
    "                #print(\"left\",p1.next.val)\n",
    "                p1 = p1.next\n",
    "            else:\n",
    "                #print(\"right\",p1.next.val)\n",
    "                p2.next = p1.next\n",
    "                p2 = p2.next\n",
    "                if p1.next.next is None:\n",
    "                    p1.next is None\n",
    "                    break\n",
    "                p1.next = p1.next.next\n",
    "        p2.next = None\n",
    "        p1.next = right.next\n",
    "        return left.next\n",
    "\n",
    "if __name__ == '__main__':\n",
    "    # begin\n",
    "    s = Solution()\n",
    "    print_Node(s.partition(list_to_Node([1,4,3,2,5,2]),3)) \n",
    "    print_Node(s.partition(list_to_Node([2,1]),2)) "
   ]
  },
  {
   "cell_type": "markdown",
   "metadata": {},
   "source": [
    "### Result\n",
    "Runtime: 32 ms, faster than 74.77% of Python3 online submissions for Partition List.\n",
    "\n",
    "Memory Usage: 14.3 MB, less than 61.87% of Python3 online submissions for Partition List."
   ]
  },
  {
   "cell_type": "markdown",
   "metadata": {},
   "source": [
    "Other Solution:"
   ]
  },
  {
   "cell_type": "code",
   "execution_count": null,
   "metadata": {},
   "outputs": [],
   "source": [
    "class Solution(object):\n",
    "    def partition(self, head, x):\n",
    "        \"\"\"\n",
    "        :type head: ListNode\n",
    "        :type x: int\n",
    "        :rtype: ListNode\n",
    "        \"\"\"\n",
    "\n",
    "        # before and after are the two pointers used to create two list\n",
    "        # before_head and after_head are used to save the heads of the two lists.\n",
    "        # All of these are initialized with the dummy nodes created.\n",
    "        before = before_head = ListNode(0)\n",
    "        after = after_head = ListNode(0)\n",
    "\n",
    "        while head:\n",
    "            # If the original list node is lesser than the given x,\n",
    "            # assign it to the before list.\n",
    "            if head.val < x:\n",
    "                before.next = head\n",
    "                before = before.next\n",
    "            else:\n",
    "                # If the original list node is greater or equal to the given x,\n",
    "                # assign it to the after list.\n",
    "                after.next = head\n",
    "                after = after.next\n",
    "\n",
    "            # move ahead in the original list\n",
    "            head = head.next\n",
    "\n",
    "        # Last node of \"after\" list would also be ending node of the reformed list\n",
    "        after.next = None\n",
    "        # Once all the nodes are correctly assigned to the two lists,\n",
    "        # combine them to form a single list which would be returned.\n",
    "        before.next = after_head.next\n",
    "\n",
    "        return before_head.next"
   ]
  },
  {
   "cell_type": "markdown",
   "metadata": {},
   "source": [
    "### Result\n",
    "Runtime: 28 ms, faster than 91.96% of Python3 online submissions for Partition List.\n",
    "\n",
    "Memory Usage: 14.4 MB, less than 30.25% of Python3 online submissions for Partition List."
   ]
  }
 ],
 "metadata": {
  "kernelspec": {
   "display_name": "Python 3",
   "language": "python",
   "name": "python3"
  },
  "language_info": {
   "codemirror_mode": {
    "name": "ipython",
    "version": 3
   },
   "file_extension": ".py",
   "mimetype": "text/x-python",
   "name": "python",
   "nbconvert_exporter": "python",
   "pygments_lexer": "ipython3",
   "version": "3.8.5"
  }
 },
 "nbformat": 4,
 "nbformat_minor": 4
}
