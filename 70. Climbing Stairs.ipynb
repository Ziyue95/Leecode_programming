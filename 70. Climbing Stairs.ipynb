{
 "cells": [
  {
   "cell_type": "markdown",
   "metadata": {},
   "source": [
    "### 70. Climbing Stairs\n",
    "You are climbing a stair case. It takes n steps to reach to the top.\n",
    "\n",
    "Each time you can either climb 1 or 2 steps. In how many distinct ways can you climb to the top?\n",
    "\n",
    "Example 1:\n",
    "\n",
    "Input: 2\n",
    "    \n",
    "Output: 2\n",
    "    \n",
    "Explanation: There are two ways to climb to the top.\n",
    "    \n",
    "1. 1 step + 1 step\n",
    "\n",
    "2. 2 steps\n",
    "\n",
    "Example 2:\n",
    "\n",
    "Input: 3\n",
    "    \n",
    "Output: 3\n",
    "    \n",
    "Explanation: There are three ways to climb to the top.\n",
    "    \n",
    "1. 1 step + 1 step + 1 step\n",
    "\n",
    "2. 1 step + 2 steps\n",
    "\n",
    "3. 2 steps + 1 step"
   ]
  },
  {
   "cell_type": "markdown",
   "metadata": {},
   "source": [
    "My Solution:"
   ]
  },
  {
   "cell_type": "code",
   "execution_count": 2,
   "metadata": {},
   "outputs": [],
   "source": [
    "class Solution(object):\n",
    "    def climbStairs(self, n):\n",
    "        \"\"\"\n",
    "        :type n: int\n",
    "        :rtype: int\n",
    "        \"\"\"\n",
    "        if n <= 3:\n",
    "            return n\n",
    "        new_sum,old_sum = 1,0\n",
    "        \n",
    "        while n >= 3:\n",
    "            new_sum,old_sum = new_sum + old_sum, new_sum\n",
    "            n-=1\n",
    "        return new_sum*2 + old_sum*1"
   ]
  },
  {
   "cell_type": "markdown",
   "metadata": {},
   "source": [
    "### Result\n",
    "Runtime: 16 ms, faster than 82.83% of Python online submissions for Climbing Stairs.\n",
    "    \n",
    "Memory Usage: 12.9 MB, less than 17.94% of Python online submissions for Climbing Stairs."
   ]
  },
  {
   "cell_type": "markdown",
   "metadata": {},
   "source": [
    "Good Solution:"
   ]
  },
  {
   "cell_type": "code",
   "execution_count": 3,
   "metadata": {},
   "outputs": [],
   "source": [
    "def climbStairs(self, n):\n",
    "        if n <= 1:\n",
    "            return 1\n",
    "        dp = [1] * 2\n",
    "        for i in range(2, n + 1):\n",
    "            dp[1], dp[0] = dp[1] + dp[0], dp[1]\n",
    "        return dp[1]"
   ]
  },
  {
   "cell_type": "code",
   "execution_count": null,
   "metadata": {},
   "outputs": [],
   "source": []
  }
 ],
 "metadata": {
  "kernelspec": {
   "display_name": "Python 3",
   "language": "python",
   "name": "python3"
  },
  "language_info": {
   "codemirror_mode": {
    "name": "ipython",
    "version": 3
   },
   "file_extension": ".py",
   "mimetype": "text/x-python",
   "name": "python",
   "nbconvert_exporter": "python",
   "pygments_lexer": "ipython3",
   "version": "3.7.3"
  }
 },
 "nbformat": 4,
 "nbformat_minor": 2
}
