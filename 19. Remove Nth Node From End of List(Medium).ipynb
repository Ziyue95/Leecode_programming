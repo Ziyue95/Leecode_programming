{
 "cells": [
  {
   "cell_type": "markdown",
   "metadata": {},
   "source": [
    "Given the head of a linked list, remove the nth node from the end of the list and return its head.\n",
    "\n",
    "Follow up: Could you do this in one pass?\n",
    "\n",
    "Example 1:\n",
    "\n",
    "    Input: head = [1,2,3,4,5], n = 2\n",
    "    Output: [1,2,3,5]\n",
    "        \n",
    "Example 2:\n",
    "\n",
    "    Input: head = [1], n = 1\n",
    "    Output: []\n",
    "        \n",
    "Example 3:\n",
    "\n",
    "    Input: head = [1,2], n = 1\n",
    "    Output: [1]\n",
    " \n",
    "\n",
    "Constraints:\n",
    "\n",
    "    The number of nodes in the list is sz.\n",
    "    1 <= sz <= 30\n",
    "    0 <= Node.val <= 100\n",
    "    1 <= n <= sz"
   ]
  },
  {
   "cell_type": "markdown",
   "metadata": {},
   "source": [
    "My Solution:"
   ]
  },
  {
   "cell_type": "code",
   "execution_count": null,
   "metadata": {},
   "outputs": [],
   "source": [
    "# Definition for singly-linked list.\n",
    "# class ListNode:\n",
    "#     def __init__(self, val=0, next=None):\n",
    "#         self.val = val\n",
    "#         self.next = next\n",
    "class Solution:\n",
    "    def removeNthFromEnd(self, head: ListNode, n: int) -> ListNode:\n",
    "        pointer_1 = pointer_2 = head\n",
    "        for i in range(n):\n",
    "            pointer_2 = pointer_2.next\n",
    "        if pointer_2 is None:\n",
    "            return pointer_1.next\n",
    "        else:\n",
    "            while pointer_2.next is not None:\n",
    "                pointer_1 = pointer_1.next\n",
    "                pointer_2 = pointer_2.next\n",
    "            pointer_1.next = pointer_1.next.next\n",
    "        return head"
   ]
  },
  {
   "cell_type": "markdown",
   "metadata": {},
   "source": [
    "### Result\n",
    "Runtime: 36 ms, faster than 47.08% of Python3 online submissions for Remove Nth Node From End of List.\n",
    "\n",
    "Memory Usage: 14.1 MB, less than 78.05% of Python3 online submissions for Remove Nth Node From End of List."
   ]
  },
  {
   "cell_type": "markdown",
   "metadata": {},
   "source": [
    "My Second Round Solution:"
   ]
  },
  {
   "cell_type": "code",
   "execution_count": null,
   "metadata": {},
   "outputs": [],
   "source": [
    "# Definition for singly-linked list.\n",
    "# class ListNode:\n",
    "#     def __init__(self, val=0, next=None):\n",
    "#         self.val = val\n",
    "#         self.next = next\n",
    "class Solution:\n",
    "    def removeNthFromEnd(self, head: ListNode, n: int) -> ListNode:\n",
    "        p1 = p2 = head\n",
    "        for i in range(n):\n",
    "            p2 = p2.next\n",
    "        if not p2:\n",
    "            return head.next\n",
    "        while p2.next:\n",
    "            p1 = p1.next\n",
    "            p2 = p2.next\n",
    "        p1.next = p1.next.next\n",
    "        return head"
   ]
  },
  {
   "cell_type": "markdown",
   "metadata": {},
   "source": [
    "Runtime: 36 ms, faster than 46.38% of Python3 online submissions for Remove Nth Node From End of List.\n",
    "    \n",
    "Memory Usage: 14.2 MB, less than 76.37% of Python3 online submissions for Remove Nth Node From End of List."
   ]
  }
 ],
 "metadata": {
  "kernelspec": {
   "display_name": "Python 3",
   "language": "python",
   "name": "python3"
  },
  "language_info": {
   "codemirror_mode": {
    "name": "ipython",
    "version": 3
   },
   "file_extension": ".py",
   "mimetype": "text/x-python",
   "name": "python",
   "nbconvert_exporter": "python",
   "pygments_lexer": "ipython3",
   "version": "3.8.5"
  }
 },
 "nbformat": 4,
 "nbformat_minor": 4
}
