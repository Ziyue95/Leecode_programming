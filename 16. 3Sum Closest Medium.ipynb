{
 "cells": [
  {
   "cell_type": "markdown",
   "metadata": {},
   "source": [
    "Given an array nums of n integers and an integer target, find three integers in nums such that the sum is closest to target. Return the sum of the three integers. You may assume that each input would have exactly one solution.\n",
    "\n",
    " \n",
    "\n",
    "Example 1:\n",
    "\n",
    "    Input: nums = [-1,2,1,-4], target = 1\n",
    "    Output: 2\n",
    "    Explanation: The sum that is closest to the target is 2. (-1 + 2 + 1 = 2).\n",
    " \n",
    "\n",
    "Constraints:\n",
    "\n",
    "    3 <= nums.length <= 10**3\n",
    "    -10**3 <= nums[i] <= 10**3\n",
    "    -10**4 <= target <= 10**4"
   ]
  },
  {
   "cell_type": "markdown",
   "metadata": {},
   "source": [
    "My Solution:"
   ]
  },
  {
   "cell_type": "code",
   "execution_count": null,
   "metadata": {},
   "outputs": [],
   "source": [
    "class Solution:\n",
    "    def threeSumClosest(self, nums: List[int], target: int) -> int:\n",
    "        nums = sorted(nums)\n",
    "        closest = nums[0] + nums[1] + nums[-1]\n",
    "        for first_pointer in range(len(nums)-2):\n",
    "            if first_pointer > 0 and nums[first_pointer] == nums[first_pointer-1]:\n",
    "                continue\n",
    "            second_pointer,third_pointer = first_pointer+1,len(nums)-1\n",
    "            while second_pointer < third_pointer:\n",
    "                sums = nums[first_pointer] + nums[second_pointer] + nums[third_pointer]\n",
    "                if sums == target:\n",
    "                    return target\n",
    "                elif sums < target:\n",
    "                    if abs(sums-target) < abs(closest-target):\n",
    "                        closest = sums\n",
    "                    second_pointer += 1\n",
    "                    while second_pointer < third_pointer and nums[second_pointer] == nums[second_pointer-1]:\n",
    "                        second_pointer += 1\n",
    "                else:\n",
    "                    if abs(sums-target) < abs(closest-target):\n",
    "                        closest = sums\n",
    "                    third_pointer -= 1\n",
    "                    while second_pointer < third_pointer and nums[third_pointer] == nums[third_pointer+1]:\n",
    "                        third_pointer -= 1\n",
    "                        \n",
    "        return closest"
   ]
  }
 ],
 "metadata": {
  "kernelspec": {
   "display_name": "Python 3",
   "language": "python",
   "name": "python3"
  },
  "language_info": {
   "codemirror_mode": {
    "name": "ipython",
    "version": 3
   },
   "file_extension": ".py",
   "mimetype": "text/x-python",
   "name": "python",
   "nbconvert_exporter": "python",
   "pygments_lexer": "ipython3",
   "version": "3.8.5"
  }
 },
 "nbformat": 4,
 "nbformat_minor": 4
}
