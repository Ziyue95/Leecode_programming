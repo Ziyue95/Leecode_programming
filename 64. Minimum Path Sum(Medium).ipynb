{
 "cells": [
  {
   "cell_type": "markdown",
   "metadata": {},
   "source": [
    "Given a m x n grid filled with non-negative numbers, find a path from top left to bottom right, which minimizes the sum of all numbers along its path.\n",
    "\n",
    "Note: You can only move either down or right at any point in time.\n",
    "\n",
    " \n",
    "\n",
    "Example 1:\n",
    "\n",
    "\n",
    "    Input: grid = [[1,3,1],[1,5,1],[4,2,1]]\n",
    "    Output: 7\n",
    "    Explanation: Because the path 1 → 3 → 1 → 1 → 1 minimizes the sum.\n",
    "Example 2:\n",
    "\n",
    "    Input: grid = [[1,2,3],[4,5,6]]\n",
    "    Output: 12\n",
    " \n",
    "\n",
    "Constraints:\n",
    "\n",
    "    m == grid.length\n",
    "    n == grid[i].length\n",
    "    1 <= m, n <= 200\n",
    "    0 <= grid[i][j] <= 100"
   ]
  },
  {
   "cell_type": "markdown",
   "metadata": {},
   "source": [
    "My Solution: Dynamic Programming"
   ]
  },
  {
   "cell_type": "code",
   "execution_count": null,
   "metadata": {},
   "outputs": [],
   "source": [
    "class Solution:\n",
    "    def minPathSum(self, grid):\n",
    "        m = len(grid)\n",
    "        n = len(grid[0])\n",
    "        for j in range(1,n):\n",
    "            grid[0][j] += grid[0][j-1]\n",
    "        for i in range(1,m):\n",
    "            grid[i][0] += grid[i-1][0]\n",
    "        for i in range(1,m):\n",
    "            for j in range(1,n):\n",
    "                grid[i][j] += min(grid[i-1][j],grid[i][j-1])\n",
    "        return grid[-1][-1]"
   ]
  },
  {
   "cell_type": "markdown",
   "metadata": {},
   "source": [
    "### Result\n",
    "Runtime: 92 ms, faster than 89.38% of Python3 online submissions for Minimum Path Sum.\n",
    "\n",
    "Memory Usage: 15.6 MB, less than 64.12% of Python3 online submissions for Minimum Path Sum."
   ]
  },
  {
   "cell_type": "markdown",
   "metadata": {},
   "source": [
    "Good Solution: Dynamic Programming (space comlexity O(n))"
   ]
  },
  {
   "cell_type": "code",
   "execution_count": null,
   "metadata": {},
   "outputs": [],
   "source": [
    "class Solution:\n",
    "    def minPathSum(self, grid):\n",
    "        m, n = len(grid), len(grid[0])\n",
    "        dp = [0] * n\n",
    "        for i in range(m):\n",
    "            dp[0] += grid[i][0]\n",
    "            for j in range(1, n):\n",
    "                dp[j] = (min(dp[j], dp[j-1]) or dp[j-1]) + grid[i][j]\n",
    "        return dp[-1]"
   ]
  },
  {
   "cell_type": "markdown",
   "metadata": {},
   "source": [
    "### Result\n",
    "Runtime: 88 ms, faster than 96.55% of Python3 online submissions for Minimum Path Sum.\n",
    "\n",
    "Memory Usage: 15.1 MB, less than 92.87% of Python3 online submissions for Minimum Path Sum."
   ]
  }
 ],
 "metadata": {
  "kernelspec": {
   "display_name": "Python 3",
   "language": "python",
   "name": "python3"
  },
  "language_info": {
   "codemirror_mode": {
    "name": "ipython",
    "version": 3
   },
   "file_extension": ".py",
   "mimetype": "text/x-python",
   "name": "python",
   "nbconvert_exporter": "python",
   "pygments_lexer": "ipython3",
   "version": "3.8.5"
  }
 },
 "nbformat": 4,
 "nbformat_minor": 4
}
