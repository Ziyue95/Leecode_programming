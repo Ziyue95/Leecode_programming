{
 "cells": [
  {
   "cell_type": "markdown",
   "metadata": {},
   "source": [
    "### 57. Insert Interval\n",
    "Given a set of non-overlapping intervals, insert a new interval into the intervals (merge if necessary).\n",
    "\n",
    "You may assume that the intervals were initially sorted according to their start times.\n",
    "\n",
    "Example 1:\n",
    "\n",
    "Input: intervals = [[1,3],[6,9]], newInterval = [2,5]\n",
    "    \n",
    "Output: [[1,5],[6,9]]\n",
    "    \n",
    "Example 2:\n",
    "\n",
    "Input: intervals = [[1,2],[3,5],[6,7],[8,10],[12,16]], newInterval = [4,8]\n",
    "    \n",
    "Output: [[1,2],[3,10],[12,16]]\n",
    "    \n",
    "Explanation: Because the new interval [4,8] overlaps with [3,5],[6,7],[8,10]."
   ]
  },
  {
   "cell_type": "markdown",
   "metadata": {},
   "source": [
    "My Solution:"
   ]
  },
  {
   "cell_type": "code",
   "execution_count": 2,
   "metadata": {},
   "outputs": [
    {
     "name": "stdout",
     "output_type": "stream",
     "text": [
      "[[1, 5], [6, 8]]\n",
      "[[1, 2], [3, 10], [12, 16]]\n"
     ]
    }
   ],
   "source": [
    "class Solution(object):\n",
    "    def insert(self, intervals, newInterval):\n",
    "        \"\"\"\n",
    "        :type intervals: List[Interval]\n",
    "        :type newInterval: Interval\n",
    "        :rtype: List[Interval]\n",
    "        \"\"\"\n",
    "        if intervals is None or len(intervals) == 0:\n",
    "            return [newInterval]\n",
    "        #intervals.sort(key=lambda x:x[0])\n",
    "        left_intervals = [inter for inter in intervals if inter[1] < newInterval[0]]\n",
    "        right_intervals = [inter for inter in intervals if inter[0] > newInterval[1]]\n",
    "        if len(right_intervals) > 0:\n",
    "            middle_intervals = intervals[len(left_intervals):-len(right_intervals)]\n",
    "        else:\n",
    "            middle_intervals = intervals[len(left_intervals):]\n",
    "        if len(middle_intervals) > 0:\n",
    "            new_left = min(newInterval[0],intervals[len(left_intervals)][0])\n",
    "            new_right = max(newInterval[1],middle_intervals[-1][1])\n",
    "            return left_intervals + [[new_left,new_right]] + right_intervals\n",
    "        else:\n",
    "            return left_intervals + [newInterval] + right_intervals\n",
    "if __name__ == '__main__':\n",
    "    # begin\n",
    "    s = Solution()\n",
    "    print(s.insert([[1,5]],[6,8])) \n",
    "    print(s.insert([[1,2],[3,5],[6,7],[8,10],[12,16]],[4,8])) "
   ]
  },
  {
   "cell_type": "markdown",
   "metadata": {},
   "source": [
    "My Solution 2:"
   ]
  },
  {
   "cell_type": "code",
   "execution_count": 1,
   "metadata": {},
   "outputs": [
    {
     "name": "stdout",
     "output_type": "stream",
     "text": [
      "[[1, 5], [6, 8]]\n",
      "[[1, 2], [3, 10], [12, 16]]\n"
     ]
    }
   ],
   "source": [
    "class Solution(object):\n",
    "    def insert(self, intervals, newInterval):\n",
    "        \"\"\"\n",
    "        :type intervals: List[Interval]\n",
    "        :type newInterval: Interval\n",
    "        :rtype: List[Interval]\n",
    "        \"\"\"\n",
    "        if intervals is None:\n",
    "            return [newInverval]\n",
    "        i = 0\n",
    "        while i<len(intervals) and newInterval[0] > intervals[i][1]:\n",
    "            i+=1\n",
    "        if i == len(intervals):\n",
    "            intervals.append(newInterval)\n",
    "            return intervals\n",
    "        if newInterval[0] < intervals[i][0] and newInterval[1] < intervals[i][0]:\n",
    "            intervals.insert(i, newInterval)\n",
    "            return intervals\n",
    "        intervals[i][0] = min(intervals[i][0],newInterval[0])\n",
    "        j = i\n",
    "        while j<len(intervals) and newInterval[1] > intervals[j][1]:\n",
    "            if j == i:\n",
    "                j+=1\n",
    "                continue\n",
    "            intervals.pop(j)\n",
    "        if i == len(intervals)-1:\n",
    "            intervals[i][1] = max(newInterval[1],intervals[i][1])\n",
    "            return intervals\n",
    "        else:\n",
    "            if i == j :\n",
    "                return intervals\n",
    "            elif newInterval[1] < intervals[j][0]:\n",
    "                intervals[i][1] = newInterval[1]\n",
    "                return intervals\n",
    "            else:\n",
    "                intervals[i][1] = intervals[j][1]\n",
    "                intervals.pop(j)\n",
    "                return intervals\n",
    "            \n",
    "if __name__ == '__main__':\n",
    "    # begin\n",
    "    s = Solution()\n",
    "    print(s.insert([[1,5]],[6,8])) \n",
    "    print(s.insert([[1,2],[3,5],[6,7],[8,10],[12,16]],[4,8])) "
   ]
  },
  {
   "cell_type": "code",
   "execution_count": null,
   "metadata": {},
   "outputs": [],
   "source": [
    "Good Solution 1:"
   ]
  },
  {
   "cell_type": "code",
   "execution_count": null,
   "metadata": {},
   "outputs": [],
   "source": [
    "def insert(self, intervals, newInterval):\n",
    "    s, e = newInterval.start, newInterval.end\n",
    "    left = [i for i in intervals if i.end < s]\n",
    "    right = [i for i in intervals if i.start > e]\n",
    "    if left + right != intervals:\n",
    "        s = min(s, intervals[len(left)].start)\n",
    "        e = max(e, intervals[~len(right)].end)\n",
    "    return left + [Interval(s, e)] + right"
   ]
  }
 ],
 "metadata": {
  "kernelspec": {
   "display_name": "Python 3",
   "language": "python",
   "name": "python3"
  },
  "language_info": {
   "codemirror_mode": {
    "name": "ipython",
    "version": 3
   },
   "file_extension": ".py",
   "mimetype": "text/x-python",
   "name": "python",
   "nbconvert_exporter": "python",
   "pygments_lexer": "ipython3",
   "version": "3.8.5"
  }
 },
 "nbformat": 4,
 "nbformat_minor": 2
}
