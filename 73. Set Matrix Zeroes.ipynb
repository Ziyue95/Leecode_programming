{
 "cells": [
  {
   "cell_type": "markdown",
   "metadata": {},
   "source": [
    "### 73. Set Matrix Zeroes\n",
    "Given an m x n matrix. If an element is 0, set its entire row and column to 0. Do it in-place.\n",
    "\n",
    "Follow up:\n",
    "\n",
    "A straight forward solution using O(mn) space is probably a bad idea.\n",
    "\n",
    "A simple improvement uses O(m + n) space, but still not the best solution.\n",
    "\n",
    "Could you devise a constant space solution?"
   ]
  },
  {
   "cell_type": "markdown",
   "metadata": {},
   "source": [
    "My solution:"
   ]
  },
  {
   "cell_type": "code",
   "execution_count": 1,
   "metadata": {},
   "outputs": [
    {
     "name": "stdout",
     "output_type": "stream",
     "text": [
      "[[1, 0, 1], [0, 0, 0], [1, 0, 1]]\n",
      "[[0, 0, 0, 0], [0, 4, 5, 0], [0, 3, 1, 0]]\n"
     ]
    }
   ],
   "source": [
    "class Solution(object):\n",
    "    def setZeroes(self, matrix):\n",
    "        \"\"\"\n",
    "        :type matrix: List[List[int]]\n",
    "        :rtype: None Do not return anything, modify matrix in-place instead.\n",
    "        \"\"\"\n",
    "        row_num = len(matrix)\n",
    "        col_num = len(matrix[0])\n",
    "        zero_row = []\n",
    "        zero_column = []\n",
    "        #global column_pointer\n",
    "        row_pointer = 0\n",
    "        while row_pointer < row_num:\n",
    "            column_pointer = 0\n",
    "            while column_pointer < col_num:\n",
    "                if matrix[row_pointer][column_pointer] == 0:\n",
    "                    if row_pointer not in zero_row:\n",
    "                        zero_row.append(row_pointer)\n",
    "                    if column_pointer not in zero_column:   \n",
    "                        zero_column.append(column_pointer)\n",
    "                column_pointer += 1\n",
    "            row_pointer += 1\n",
    "        row_index = list(range(len(matrix)))  \n",
    "        for i in zero_row:\n",
    "            matrix[i] = [0] * col_num\n",
    "            row_index.remove(i)\n",
    "        for i in row_index:\n",
    "            for j in zero_column:\n",
    "                matrix[i][j] = 0\n",
    "        return matrix\n",
    "    \n",
    "if __name__ == '__main__':\n",
    "    # begin\n",
    "    s = Solution()\n",
    "    print(s.setZeroes([[1,1,1],[1,0,1],[1,1,1]]))                     \n",
    "    print(s.setZeroes([[0,1,2,0],[3,4,5,2],[1,3,1,5]]))           "
   ]
  },
  {
   "cell_type": "markdown",
   "metadata": {},
   "source": [
    "### Result\n",
    "Runtime: 120 ms, faster than 71.51% of Python online submissions for Set Matrix Zeroes.\n",
    "    \n",
    "Memory Usage: 13.3 MB, less than 57.33% of Python online submissions for Set Matrix Zeroes."
   ]
  },
  {
   "cell_type": "markdown",
   "metadata": {},
   "source": [
    "Good result:"
   ]
  },
  {
   "cell_type": "code",
   "execution_count": null,
   "metadata": {},
   "outputs": [],
   "source": [
    "class Solution(object):\n",
    "    def setZeroes(self, matrix):\n",
    "        \"\"\"\n",
    "        :type matrix: List[List[int]]\n",
    "        :rtype: void Do not return anything, modify matrix in-place instead.\n",
    "        \"\"\"\n",
    "        R = len(matrix)\n",
    "        C = len(matrix[0])\n",
    "        rows, cols = set(), set()\n",
    "\n",
    "        # Essentially, we mark the rows and columns that are to be made zero\n",
    "        for i in range(R):\n",
    "            for j in range(C):\n",
    "                if matrix[i][j] == 0:\n",
    "                    rows.add(i)\n",
    "                    cols.add(j)\n",
    "\n",
    "        # Iterate over the array once again and using the rows and cols sets, update the elements\n",
    "        for i in range(R):\n",
    "            for j in range(C):\n",
    "                if i in rows or j in cols:\n",
    "                    matrix[i][j] = 0"
   ]
  },
  {
   "cell_type": "markdown",
   "metadata": {},
   "source": [
    "### Summary:\n",
    "Use set() function to remove duplicated elements in the list\n",
    "### Set operation\n",
    ".add() add element\n",
    "\n",
    ".remove() remove target element, will cause error if element not in set\n",
    "\n",
    ".discard() remove target element, will not cause error if element not in set\n",
    "\n",
    ".pop() remove and return an arbitrary value from a set\n",
    "\n",
    ".clear() remove all elements\n",
    "\n",
    "A.union(B) \n",
    "\n",
    "A.intersection(B)\n",
    "\n",
    "A.isdisjoint(b) return if A and B are disjoint\n",
    "\n",
    "A.difference(B) elements in A that are not in B\n",
    "\n",
    "A.symmetric_difference(B) All element in one of the sets but not both"
   ]
  },
  {
   "cell_type": "markdown",
   "metadata": {},
   "source": [
    "Good Result 2:"
   ]
  },
  {
   "cell_type": "code",
   "execution_count": 3,
   "metadata": {},
   "outputs": [],
   "source": [
    "class Solution(object):\n",
    "    def setZeroes(self, matrix):\n",
    "        \"\"\"\n",
    "        :type matrix: List[List[int]]\n",
    "        :rtype: void Do not return anything, modify matrix in-place instead.\n",
    "        \"\"\"\n",
    "        is_col = False\n",
    "        R = len(matrix)\n",
    "        C = len(matrix[0])\n",
    "        for i in range(R):\n",
    "            # Since first cell for both first row and first column is the same i.e. matrix[0][0]\n",
    "            # We can use an additional variable for either the first row/column.\n",
    "            # For this solution we are using an additional variable for the first column\n",
    "            # and using matrix[0][0] for the first row.\n",
    "            if matrix[i][0] == 0:\n",
    "                is_col = True\n",
    "            for j in range(1, C):\n",
    "                # If an element is zero, we set the first element of the corresponding row and column to 0\n",
    "                if matrix[i][j]  == 0:\n",
    "                    matrix[0][j] = 0\n",
    "                    matrix[i][0] = 0\n",
    "\n",
    "        # Iterate over the array once again and using the first row and first column, update the elements.\n",
    "        for i in range(1, R):\n",
    "            for j in range(1, C):\n",
    "                if not matrix[i][0] or not matrix[0][j]:\n",
    "                    matrix[i][j] = 0\n",
    "\n",
    "        # See if the first row needs to be set to zero as well\n",
    "        if matrix[0][0] == 0:\n",
    "            for j in range(C):\n",
    "                matrix[0][j] = 0\n",
    "\n",
    "        # See if the first column needs to be set to zero as well        \n",
    "        if is_col:\n",
    "            for i in range(R):\n",
    "                matrix[i][0] = 0"
   ]
  },
  {
   "cell_type": "markdown",
   "metadata": {},
   "source": [
    "### Summary\n",
    "Instead of storing the row/col index in lists, it directly use the first element in each row and column as a indicator. Once the indicator after first iteration is 0, the whole column/row will turn into 0 after the second iteration."
   ]
  }
 ],
 "metadata": {
  "kernelspec": {
   "display_name": "Python 3",
   "language": "python",
   "name": "python3"
  },
  "language_info": {
   "codemirror_mode": {
    "name": "ipython",
    "version": 3
   },
   "file_extension": ".py",
   "mimetype": "text/x-python",
   "name": "python",
   "nbconvert_exporter": "python",
   "pygments_lexer": "ipython3",
   "version": "3.7.3"
  }
 },
 "nbformat": 4,
 "nbformat_minor": 2
}
