{
 "cells": [
  {
   "cell_type": "markdown",
   "metadata": {},
   "source": [
    "### 12. Integer to Roman (Meidum)\n",
    "Roman numerals are represented by seven different symbols: I, V, X, L, C, D and M.\n",
    "\n",
    "    Symbol       Value\n",
    "    I             1\n",
    "    V             5\n",
    "    X             10\n",
    "    L             50\n",
    "    C             100\n",
    "    D             500\n",
    "    M             1000\n",
    "For example, two is written as II in Roman numeral, just two one's added together. Twelve is written as, XII, which is simply X + II.\n",
    "\n",
    "The number twenty seven is written as XXVII, which is XX + V + II.\n",
    "\n",
    "Roman numerals are usually written largest to smallest from left to right. However, the numeral for four is not IIII. Instead, the\n",
    "\n",
    "number four is written as IV. Because the one is before the five we subtract it making four. The same principle applies to the number\n",
    "\n",
    "nine, which is written as IX. There are six instances where subtraction is used:\n",
    "\n",
    "    I can be placed before V (5) and X (10) to make 4 and 9. \n",
    "    X can be placed before L (50) and C (100) to make 40 and 90. \n",
    "    C can be placed before D (500) and M (1000) to make 400 and 900.\n",
    "    Given an integer, convert it to a roman numeral. Input is guaranteed to be within the range from 1 to 3999.\n",
    "\n",
    "Example 1:\n",
    "\n",
    "    Input: 3\n",
    "    Output: \"III\"\n",
    "Example 2:\n",
    "\n",
    "    Input: 4\n",
    "    Output: \"IV\"\n",
    "Example 3:\n",
    "\n",
    "    Input: 9\n",
    "    Output: \"IX\"\n",
    "Example 4:\n",
    "\n",
    "    Input: 58\n",
    "    Output: \"LVIII\"\n",
    "    Explanation: L = 50, V = 5, III = 3.\n",
    "Example 5:\n",
    "\n",
    "    Input: 1994\n",
    "    Output: \"MCMXCIV\"\n",
    "    Explanation: M = 1000, CM = 900, XC = 90 and IV = 4."
   ]
  },
  {
   "cell_type": "code",
   "execution_count": 56,
   "metadata": {},
   "outputs": [
    {
     "name": "stdout",
     "output_type": "stream",
     "text": [
      "III\n",
      "IV\n",
      "IX\n",
      "LVIII\n",
      "MMMCDXCII\n"
     ]
    }
   ],
   "source": [
    "class Solution(object):\n",
    "    def intToRoman(self, num):\n",
    "        \"\"\"\n",
    "        :type num: int\n",
    "        :rtype: str\n",
    "        \"\"\"\n",
    "        Roman = \"\"\n",
    "        Rdict = {1000:\"M\",500:\"D\",100:\"C\",50:\"L\",10:\"X\",5:\"V\",1:\"I\"}\n",
    "        \n",
    "        for i in [1000,100,10,1]:\n",
    "            rad = num // i\n",
    "            if rad == 0:\n",
    "                continue\n",
    "            else:\n",
    "                num = num % i\n",
    "                if rad <=3 :\n",
    "                    Roman = Roman+Rdict[i]*rad\n",
    "                elif rad == 4:\n",
    "                    Roman = Roman+Rdict[i]\n",
    "                    Roman = Roman+Rdict[i*5]\n",
    "                elif rad == 5:\n",
    "                    Roman = Roman+Rdict[i*5]\n",
    "                elif 5 <rad <9:\n",
    "                    Roman = Roman+Rdict[i*5]\n",
    "                    Roman = Roman+Rdict[i]*(rad-5)\n",
    "                else:\n",
    "                    Roman = Roman+Rdict[i]\n",
    "                    Roman = Roman+Rdict[i*10]\n",
    "        return Roman\n",
    "    \n",
    "if __name__ == '__main__':\n",
    "    # begin\n",
    "    s = Solution()\n",
    "    print(s.intToRoman(3)) \n",
    "    print(s.intToRoman(4))\n",
    "    print(s.intToRoman(9)) \n",
    "    print(s.intToRoman(58))\n",
    "    print(s.intToRoman(3492)) "
   ]
  },
  {
   "cell_type": "markdown",
   "metadata": {},
   "source": [
    "### Result\n",
    "Runtime: 16 ms, faster than 100.00% of Python online submissions for Integer to Roman.\n",
    "    \n",
    "Memory Usage: 12.8 MB, less than 32.57% of Python online submissions for Integer to Roman."
   ]
  },
  {
   "cell_type": "markdown",
   "metadata": {},
   "source": [
    "#### Other Solution"
   ]
  },
  {
   "cell_type": "code",
   "execution_count": null,
   "metadata": {},
   "outputs": [],
   "source": [
    "class Solution(object):\n",
    "    def intToRoman(self, num):\n",
    "        values = [ 1000, 900, 500, 400, 100, 90, 50, 40, 10, 9, 5, 4, 1 ]\n",
    "        numerals = [ \"M\", \"CM\", \"D\", \"CD\", \"C\", \"XC\", \"L\", \"XL\", \"X\", \"IX\", \"V\", \"IV\", \"I\" ]\n",
    "        res = \"\"\n",
    "        for i, v in enumerate(values):\n",
    "            res += (num//v) * numerals[i]\n",
    "            num %= v\n",
    "        return res"
   ]
  }
 ],
 "metadata": {
  "kernelspec": {
   "display_name": "Python 3",
   "language": "python",
   "name": "python3"
  },
  "language_info": {
   "codemirror_mode": {
    "name": "ipython",
    "version": 3
   },
   "file_extension": ".py",
   "mimetype": "text/x-python",
   "name": "python",
   "nbconvert_exporter": "python",
   "pygments_lexer": "ipython3",
   "version": "3.8.5"
  }
 },
 "nbformat": 4,
 "nbformat_minor": 2
}
