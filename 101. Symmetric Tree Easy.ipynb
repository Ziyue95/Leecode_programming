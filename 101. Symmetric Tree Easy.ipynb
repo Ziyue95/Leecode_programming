{
 "cells": [
  {
   "cell_type": "markdown",
   "id": "913651c7",
   "metadata": {},
   "source": [
    "Given the root of a binary tree, check whether it is a mirror of itself (i.e., symmetric around its center).\n",
    "\n",
    " \n",
    "\n",
    "Example 1:\n",
    "\n",
    "\n",
    "    Input: root = [1,2,2,3,4,4,3]\n",
    "    Output: true\n",
    "Example 2:\n",
    "\n",
    "\n",
    "    Input: root = [1,2,2,null,3,null,3]\n",
    "    Output: false\n",
    " \n",
    "\n",
    "Constraints:\n",
    "\n",
    "    The number of nodes in the tree is in the range [1, 1000].\n",
    "    -100 <= Node.val <= 100"
   ]
  },
  {
   "cell_type": "markdown",
   "id": "7feac9c3",
   "metadata": {},
   "source": [
    "My Solution: Iteration + Stack & Queue"
   ]
  },
  {
   "cell_type": "code",
   "execution_count": null,
   "id": "da941f63",
   "metadata": {},
   "outputs": [],
   "source": [
    "# Definition for a binary tree node.\n",
    "# class TreeNode:\n",
    "#     def __init__(self, val=0, left=None, right=None):\n",
    "#         self.val = val\n",
    "#         self.left = left\n",
    "#         self.right = right\n",
    "class Solution:\n",
    "    def isSymmetric(self, root: TreeNode) -> bool:\n",
    "        \n",
    "        #compare root val and existence of left/right subtree\n",
    "        def compare_mirror_node(node_p,node_q):\n",
    "            if node_p.val != node_q.val or (node_p.left == None and node_q.right != None) or (node_p.left != None and node_q.right == None) or (node_p.right == None and node_q.left != None) or (node_p.right != None and node_q.left == None):\n",
    "                return False\n",
    "            return True\n",
    "        \n",
    "        queue_p,stack_q = [root],[root]\n",
    "        while queue_p:\n",
    "            next_level_p= []\n",
    "            while queue_p:\n",
    "                p = queue_p.pop(0)\n",
    "                q = stack_q.pop()\n",
    "                if not compare_mirror_node(p,q):\n",
    "                    #print(p.val,q.val)\n",
    "                    return False\n",
    "                if p.left:\n",
    "                    next_level_p += [p.left]\n",
    "                if p.right:\n",
    "                    next_level_p += [p.right]\n",
    "            queue_p,stack_q = next_level_p,next_level_p.copy()\n",
    "            #print([i.val for i in queue_p],\"&\",[i.val for i in stack_q])\n",
    "        return True"
   ]
  },
  {
   "cell_type": "markdown",
   "id": "a9e5593e",
   "metadata": {},
   "source": [
    "My Solution: recursion + DFS"
   ]
  },
  {
   "cell_type": "code",
   "execution_count": null,
   "id": "3bfe666d",
   "metadata": {},
   "outputs": [],
   "source": [
    "# Definition for a binary tree node.\n",
    "# class TreeNode:\n",
    "#     def __init__(self, val=0, left=None, right=None):\n",
    "#         self.val = val\n",
    "#         self.left = left\n",
    "#         self.right = right\n",
    "class Solution:\n",
    "    def isSymmetric(self, root: TreeNode) -> bool:\n",
    "        def isMirror(node1,node2):\n",
    "            if not node1 and not node2:\n",
    "                return True\n",
    "            elif not node1 or not node2:\n",
    "                return False\n",
    "            return (node1.val == node2.val) and isMirror(node1.left,node2.right) and isMirror(node1.right,node2.left)\n",
    "        return isMirror(root,root)"
   ]
  }
 ],
 "metadata": {
  "kernelspec": {
   "display_name": "Python 3",
   "language": "python",
   "name": "python3"
  },
  "language_info": {
   "codemirror_mode": {
    "name": "ipython",
    "version": 3
   },
   "file_extension": ".py",
   "mimetype": "text/x-python",
   "name": "python",
   "nbconvert_exporter": "python",
   "pygments_lexer": "ipython3",
   "version": "3.8.8"
  }
 },
 "nbformat": 4,
 "nbformat_minor": 5
}
