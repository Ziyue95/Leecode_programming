{
 "cells": [
  {
   "cell_type": "markdown",
   "metadata": {},
   "source": [
    "Given an input string (s) and a pattern (p), implement regular expression matching with support for '.' and '*' where: \n",
    "\n",
    "    '.' Matches any single character.\n",
    "    '*' Matches zero or more of the preceding element.\n",
    "    \n",
    "The matching should cover the entire input string (not partial).\n",
    "\n",
    " \n",
    "\n",
    "Example 1:\n",
    "\n",
    "Input: s = \"aa\", p = \"a\"\n",
    "    \n",
    "Output: false\n",
    "    \n",
    "Explanation: \"a\" does not match the entire string \"aa\".\n",
    "    \n",
    "Example 2:\n",
    "\n",
    "Input: s = \"aa\", p = \"a *\"\n",
    "    \n",
    "Output: true\n",
    "    \n",
    "Explanation: '*' means zero or more of the preceding element, 'a'. Therefore, by repeating 'a' once, it becomes \"aa\".\n",
    "    \n",
    "Example 3:\n",
    "\n",
    "Input: s = \"ab\", p = \".*\"\n",
    "    \n",
    "Output: true\n",
    "    \n",
    "Explanation: \".*\" means \"zero or more (*) of any character (.)\".\n",
    "    \n",
    "Example 4:\n",
    "\n",
    "Input: s = \"aab\", p = \"c * a * b\"\n",
    "    \n",
    "Output: true\n",
    "    \n",
    "Explanation: c can be repeated 0 times, a can be repeated 1 time. Therefore, it matches \"aab\".\n",
    "    \n",
    "Example 5:\n",
    "\n",
    "Input: s = \"mississippi\", p = \"mis * is * p *.\"\n",
    "    \n",
    "Output: false\n",
    " \n",
    "\n",
    "Constraints:\n",
    "\n",
    "    0 <= s.length <= 20\n",
    "    0 <= p.length <= 30\n",
    "    s contains only lowercase English letters.\n",
    "    p contains only lowercase English letters, '.', and '*'.\n",
    "    It is guaranteed for each appearance of the character '*', there will be a previous valid character to match."
   ]
  },
  {
   "cell_type": "markdown",
   "metadata": {},
   "source": [
    "My Solution: Recursion"
   ]
  },
  {
   "cell_type": "code",
   "execution_count": 1,
   "metadata": {},
   "outputs": [
    {
     "name": "stdout",
     "output_type": "stream",
     "text": [
      "False\n",
      "True\n",
      "True\n"
     ]
    }
   ],
   "source": [
    "class Solution(object):\n",
    "    def isMatch(self, s, p):\n",
    "        if not p: return not s\n",
    "        first_match = bool(s) and p[0] in [s[0],\".\"]\n",
    "        if len(p) >= 2 and p[1] == \"*\":\n",
    "            return self.isMatch(s,p[2:]) or first_match and self.isMatch(s[1:],p)\n",
    "\n",
    "        return first_match and self.isMatch(s[1:],p[1:])\n",
    "    \n",
    "if __name__ == '__main__':\n",
    "    # begin\n",
    "    s = Solution()\n",
    "    print(s.isMatch(\"aa\",\"a\")) \n",
    "    print(s.isMatch(\"aa\",\"a*\")) \n",
    "    print(s.isMatch(\"aab\",\"c*a*b\")) "
   ]
  },
  {
   "cell_type": "markdown",
   "metadata": {},
   "source": [
    "### Result\n",
    "Runtime: 1216 ms, faster than 21.08% of Python3 online submissions for Regular Expression Matching.\n",
    "\n",
    "Memory Usage: 14 MB, less than 98.44% of Python3 online submissions for Regular Expression Matching."
   ]
  },
  {
   "cell_type": "markdown",
   "metadata": {},
   "source": [
    "Dynammic Programming"
   ]
  },
  {
   "cell_type": "code",
   "execution_count": 3,
   "metadata": {},
   "outputs": [
    {
     "name": "stdout",
     "output_type": "stream",
     "text": [
      "False\n",
      "True\n",
      "True\n"
     ]
    }
   ],
   "source": [
    "class Solution(object):\n",
    "    def isMatch(self, s, p):\n",
    "        history = {}\n",
    "        def dp(i,j):\n",
    "            if (i,j) not in history:\n",
    "                if j == len(p):\n",
    "                    ans = i == len(s)\n",
    "                else:\n",
    "                    first_match = i < len(s) and p[j] in [s[i],\".\"]\n",
    "                    if j + 1 < len(p) and p[j+1] == \"*\":\n",
    "                        ans = dp(i,j+2) or first_match and dp(i+1,j)\n",
    "                    else:\n",
    "                        ans = first_match and dp(i+1,j+1)\n",
    "                history[i,j] = ans   \n",
    "            return history[i,j]\n",
    "        return dp(0,0)\n",
    "    \n",
    "if __name__ == '__main__':\n",
    "    # begin\n",
    "    s = Solution()\n",
    "    print(s.isMatch(\"aa\",\"a\")) \n",
    "    print(s.isMatch(\"aa\",\"a*\")) \n",
    "    print(s.isMatch(\"aab\",\"c*a*b\")) "
   ]
  },
  {
   "cell_type": "code",
   "execution_count": 10,
   "metadata": {},
   "outputs": [
    {
     "data": {
      "text/plain": [
       "[4, 3, 2, 1, 0]"
      ]
     },
     "execution_count": 10,
     "metadata": {},
     "output_type": "execute_result"
    }
   ],
   "source": [
    "list(reversed(range(5)))"
   ]
  },
  {
   "cell_type": "markdown",
   "metadata": {},
   "source": [
    "### Result\n",
    "Runtime: 36 ms, faster than 95.46% of Python3 online submissions for Regular Expression Matching.\n",
    "\n",
    "Memory Usage: 14.8 MB, less than 6.04% of Python3 online submissions for Regular Expression Matching."
   ]
  }
 ],
 "metadata": {
  "kernelspec": {
   "display_name": "Python 3",
   "language": "python",
   "name": "python3"
  },
  "language_info": {
   "codemirror_mode": {
    "name": "ipython",
    "version": 3
   },
   "file_extension": ".py",
   "mimetype": "text/x-python",
   "name": "python",
   "nbconvert_exporter": "python",
   "pygments_lexer": "ipython3",
   "version": "3.8.5"
  }
 },
 "nbformat": 4,
 "nbformat_minor": 4
}
