{
 "cells": [
  {
   "cell_type": "markdown",
   "metadata": {},
   "source": [
    "Given the head of a singly linked list where elements are sorted in ascending order, convert it to a height balanced BST.\n",
    "\n",
    "For this problem, a height-balanced binary tree is defined as a binary tree in which the depth of the two subtrees of every node never differ by more than 1.\n",
    "\n",
    " \n",
    "\n",
    "Example 1:\n",
    "\n",
    "\n",
    "    Input: head = [-10,-3,0,5,9]\n",
    "    Output: [0,-3,9,-10,null,5]\n",
    "    Explanation: One possible answer is [0,-3,9,-10,null,5], which represents the shown height balanced BST.\n",
    "Example 2:\n",
    "\n",
    "    Input: head = []\n",
    "    Output: []\n",
    "Example 3:\n",
    "\n",
    "    Input: head = [0]\n",
    "    Output: [0]\n",
    "Example 4:\n",
    "\n",
    "    Input: head = [1,3]\n",
    "    Output: [3,1]\n",
    " \n",
    "\n",
    "Constraints:\n",
    "\n",
    "    The number of nodes in head is in the range [0, 2 * 10**4].\n",
    "    -10**5 <= Node.val <= 10**5"
   ]
  },
  {
   "cell_type": "markdown",
   "metadata": {},
   "source": [
    "My Solution: Recursion, keep on cutting the original linked-list (complexity:O(nlogn)"
   ]
  },
  {
   "cell_type": "code",
   "execution_count": 1,
   "metadata": {},
   "outputs": [],
   "source": [
    "class ListNode:\n",
    "    def __init__(self, val=0, next=None):\n",
    "        self.val = val\n",
    "        self.next = next"
   ]
  },
  {
   "cell_type": "code",
   "execution_count": 7,
   "metadata": {},
   "outputs": [],
   "source": [
    "# Definition for singly-linked list.\n",
    "# class ListNode:\n",
    "#     def __init__(self, val=0, next=None):\n",
    "#         self.val = val\n",
    "#         self.next = next\n",
    "# Definition for a binary tree node.\n",
    "# class TreeNode:\n",
    "#     def __init__(self, val=0, left=None, right=None):\n",
    "#         self.val = val\n",
    "#         self.left = left\n",
    "#         self.right = right\n",
    "class Solution:\n",
    "    def sortedListToBST(self, head: ListNode) -> TreeNode:\n",
    "        if not head:\n",
    "            return \n",
    "        if not head.next:\n",
    "            return TreeNode(head.val)\n",
    "        # here we get the middle point,\n",
    "        # even case, like '1234', slow points to '2',\n",
    "        # '3' is root, '12' belongs to left, '4' is right\n",
    "        # odd case, like '12345', slow points to '2', '12'\n",
    "        # belongs to left, '3' is root, '45' belongs to right\n",
    "        slow, fast = head, head.next.next\n",
    "        while fast and fast.next:\n",
    "            fast = fast.next.next\n",
    "            slow = slow.next\n",
    "        # tmp points to root\n",
    "        tmp = slow.next\n",
    "        # cut down the left child\n",
    "        slow.next = None\n",
    "        root = TreeNode(tmp.val)\n",
    "        root.left = self.sortedListToBST(head)\n",
    "        root.right = self.sortedListToBST(tmp.next)\n",
    "        return root"
   ]
  },
  {
   "cell_type": "markdown",
   "metadata": {},
   "source": [
    "### Result\n",
    "Runtime: 136 ms, faster than 37.32% of Python3 online submissions for Convert Sorted List to Binary Search Tree.\n",
    "\n",
    "Memory Usage: 17.8 MB, less than 71.95% of Python3 online submissions for Convert Sorted List to Binary Search Tree."
   ]
  },
  {
   "cell_type": "markdown",
   "metadata": {},
   "source": [
    "### Other Solution:"
   ]
  },
  {
   "cell_type": "markdown",
   "metadata": {},
   "source": [
    "1. convert linked list to array"
   ]
  },
  {
   "cell_type": "code",
   "execution_count": null,
   "metadata": {},
   "outputs": [],
   "source": [
    "class Solution:\n",
    "    def sortedListToBST(self, head):\n",
    "        ls = []\n",
    "        while head:\n",
    "            ls.append(head.val)\n",
    "            head = head.next\n",
    "        return self.helper(ls, 0, len(ls)-1)\n",
    "\n",
    "    def helper(self, ls, start, end):\n",
    "        if start > end:\n",
    "            return None\n",
    "        if start == end:\n",
    "            return TreeNode(ls[start])\n",
    "        mid = (start+end) >> 1\n",
    "        root = TreeNode(ls[mid])\n",
    "        root.left = self.helper(ls, start, mid-1)\n",
    "        root.right = self.helper(ls, mid+1, end)\n",
    "        return root"
   ]
  },
  {
   "cell_type": "markdown",
   "metadata": {},
   "source": [
    "### Result\n",
    "Runtime: 128 ms, faster than 74.79% of Python3 online submissions for Convert Sorted List to Binary Search Tree.\n",
    "\n",
    "Memory Usage: 20.4 MB, less than 49.02% of Python3 online submissions for Convert Sorted List to Binary Search Tree."
   ]
  },
  {
   "cell_type": "markdown",
   "metadata": {},
   "source": [
    "2. bottom-up approach, O(n)"
   ]
  },
  {
   "cell_type": "code",
   "execution_count": null,
   "metadata": {},
   "outputs": [],
   "source": [
    "class Solution:\n",
    "    def sortedListToBST(self, head):\n",
    "        l, p = 0, head\n",
    "        while p:\n",
    "            l += 1\n",
    "            p = p.next\n",
    "        return self.convert([head], 0, l-1)\n",
    "\n",
    "    def convert(self, head, start, end):\n",
    "        if start > end:\n",
    "            return None\n",
    "        mid = (start + end) >> 1\n",
    "        l = self.convert(head, start, mid-1)\n",
    "        root = TreeNode(head[0].val)\n",
    "        root.left = l\n",
    "        head[0] = head[0].next \n",
    "        root.right = self.convert(head, mid+1, end)\n",
    "        return root"
   ]
  },
  {
   "cell_type": "markdown",
   "metadata": {},
   "source": [
    "### Result\n",
    "Runtime: 124 ms, faster than 87.47% of Python3 online submissions for Convert Sorted List to Binary Search Tree.\n",
    "\n",
    "Memory Usage: 20.4 MB, less than 32.04% of Python3 online submissions for Convert Sorted List to Binary Search Tree."
   ]
  },
  {
   "cell_type": "markdown",
   "metadata": {},
   "source": [
    "### Explain:\n",
    "    1.从每一个recursion来看，left_subtree对应的end比right_subtree对应的start都要小，保证了排序；\n",
    "    2.head是从小到大排列，并且在左排完后会丢掉最小那个元素，保证了从左到右从下到上排"
   ]
  },
  {
   "cell_type": "markdown",
   "metadata": {},
   "source": [
    "My version of bottom-up approach:"
   ]
  },
  {
   "cell_type": "code",
   "execution_count": null,
   "metadata": {},
   "outputs": [],
   "source": [
    "class Solution:\n",
    "    def sortedListToBST(self, head):\n",
    "        len_list, pointer = 0,head\n",
    "        while pointer:\n",
    "            pointer = pointer.next\n",
    "            len_list += 1\n",
    "        def helper(head,start,end):\n",
    "            if start > end:\n",
    "                return None\n",
    "            mid = (start + end) //2\n",
    "            l = helper(head,start,mid - 1)\n",
    "            print(head[0].val)\n",
    "            root = TreeNode(head[0].val)\n",
    "            head[0] = head[0].next\n",
    "            root.left = l\n",
    "            root.right = helper(head,mid+1,end)\n",
    "            return root\n",
    "        return helper([head],0,len_list-1)"
   ]
  },
  {
   "cell_type": "markdown",
   "metadata": {},
   "source": [
    "Other Version:"
   ]
  },
  {
   "cell_type": "markdown",
   "metadata": {},
   "source": [
    "Use self.node = head to treat head as a \"gl0obal\" linked-list that is permanently modified during each recursion"
   ]
  },
  {
   "cell_type": "code",
   "execution_count": null,
   "metadata": {},
   "outputs": [],
   "source": [
    "class Solution:\n",
    "    def sortedListToBST(self, head):\n",
    "        len_list, pointer = 0,head\n",
    "        while pointer:\n",
    "            pointer = pointer.next\n",
    "            len_list += 1\n",
    "        self.node = head\n",
    "        def helper(start,end):\n",
    "            if start > end:\n",
    "                return None\n",
    "            mid = (start + end) //2\n",
    "            l = helper(start,mid - 1)\n",
    "            root = TreeNode(self.node.val)\n",
    "            self.node = self.node.next\n",
    "            root.left = l\n",
    "            root.right = helper(mid+1,end)\n",
    "            return root\n",
    "        return helper(0,len_list-1)"
   ]
  },
  {
   "cell_type": "markdown",
   "metadata": {},
   "source": [
    "or"
   ]
  },
  {
   "cell_type": "code",
   "execution_count": null,
   "metadata": {},
   "outputs": [],
   "source": [
    "class Solution:\n",
    "    def sortedListToBST(self, head):\n",
    "        l, p = 0, head\n",
    "        while p:\n",
    "            l += 1\n",
    "            p = p.next\n",
    "        self.node = head\n",
    "        return self.convert(0, l-1)\n",
    "\n",
    "    def convert(self, start, end):\n",
    "        if start > end:\n",
    "            return None\n",
    "        mid = (start + end) >> 1\n",
    "        l = self.convert(start, mid-1)\n",
    "        root = TreeNode(self.node.val)\n",
    "        root.left = l\n",
    "        self.node = self.node.next \n",
    "        root.right = self.convert(mid+1, end)\n",
    "        return root"
   ]
  },
  {
   "cell_type": "markdown",
   "metadata": {},
   "source": [
    "#### Typical Wrong Answer:"
   ]
  },
  {
   "cell_type": "code",
   "execution_count": null,
   "metadata": {},
   "outputs": [],
   "source": [
    "class Solution:\n",
    "    def sortedListToBST(self, head):\n",
    "        len_list, pointer = 0,head\n",
    "        while pointer:\n",
    "            pointer = pointer.next\n",
    "            len_list += 1\n",
    "        def helper(head,start,end):\n",
    "            if start > end:\n",
    "                return None\n",
    "            mid = (start + end) //2\n",
    "            l = helper(head,start,mid - 1)\n",
    "            print(head.val)\n",
    "            root = TreeNode(head.val)\n",
    "            head = head.next\n",
    "            root.left = l\n",
    "            root.right = helper(head,mid+1,end)\n",
    "            return root\n",
    "        return helper(head,0,len_list-1)"
   ]
  },
  {
   "cell_type": "markdown",
   "metadata": {},
   "source": [
    "#### Explain:\n",
    "不同于正确答案直接更改list:[head]中元素head，错误答案中head=head.next在深层嵌套中并不会改变上一层嵌套的head（因为采用的赋值语句head=head），导致在最外层嵌套里head的第一个元素还是-10而不是我们想要的0"
   ]
  },
  {
   "cell_type": "markdown",
   "metadata": {},
   "source": [
    "类似的典型错误: Problem 108"
   ]
  },
  {
   "cell_type": "code",
   "execution_count": null,
   "metadata": {},
   "outputs": [],
   "source": [
    "class Solution:\n",
    "    def sortedArrayToBST(self, nums: List[int]) -> TreeNode:\n",
    "\n",
    "        len_list = len(nums)\n",
    "\n",
    "        def helper(nums,start,end):\n",
    "            if start > end:\n",
    "                return None\n",
    "            mid = (start + end) //2\n",
    "            l = helper(nums,start,mid - 1)\n",
    "            print(nums[0])\n",
    "            root = TreeNode(nums[0])\n",
    "            nums = nums[1:]\n",
    "            #nums.pop(0)\n",
    "            root.left = l\n",
    "            root.right = helper(nums,mid+1,end)\n",
    "            return root\n",
    "        return helper(nums,0,len_list-1)"
   ]
  },
  {
   "cell_type": "markdown",
   "metadata": {},
   "source": [
    "如果采用赋值语句nums = nums[1:]而不是直接改变nums的语句nums.pop(0)的话 会出现同样的错误"
   ]
  }
 ],
 "metadata": {
  "kernelspec": {
   "display_name": "Python 3",
   "language": "python",
   "name": "python3"
  },
  "language_info": {
   "codemirror_mode": {
    "name": "ipython",
    "version": 3
   },
   "file_extension": ".py",
   "mimetype": "text/x-python",
   "name": "python",
   "nbconvert_exporter": "python",
   "pygments_lexer": "ipython3",
   "version": "3.8.5"
  }
 },
 "nbformat": 4,
 "nbformat_minor": 4
}
