{
 "cells": [
  {
   "cell_type": "markdown",
   "metadata": {},
   "source": [
    "### 22. Generate Parentheses (Medium)\n",
    "\n",
    "Given n pairs of parentheses, write a function to generate all combinations of well-formed parentheses.\n",
    "\n",
    "For example, given n = 3, a solution set is:\n",
    "\n",
    "[\n",
    "  \"((()))\",\n",
    "  \"(()())\",\n",
    "  \"(())()\",\n",
    "  \"()(())\",\n",
    "  \"()()()\"\n",
    "]"
   ]
  },
  {
   "cell_type": "code",
   "execution_count": 15,
   "metadata": {},
   "outputs": [
    {
     "name": "stdout",
     "output_type": "stream",
     "text": [
      "['(())()()', '(()(()))', '(((())))', '((()()))', '()((()))', '(()()())', '()(()())', '()()(())', '(())(())', '()()()()', '((())())', '(()())()', '((()))()', '()(())()']\n"
     ]
    }
   ],
   "source": [
    "class Solution(object):\n",
    "    def generateParenthesis(self, n):\n",
    "        \"\"\"\n",
    "        :type n: int\n",
    "        :rtype: List[str]\n",
    "        \"\"\"\n",
    "        if n == 0:\n",
    "            return []\n",
    "        elif n == 1:\n",
    "            return [\"()\"]\n",
    "        else:\n",
    "            cases = []\n",
    "            for i in range(1,n//2+1):\n",
    "                if i == 1:\n",
    "                    for case in self.generateParenthesis(n-1):\n",
    "                        cases.extend([\"()\"+case,case+\"()\",\"(\"+case+\")\"])\n",
    "                else:\n",
    "                    for case in self.generateParenthesis(i):\n",
    "                        for case_2 in self.generateParenthesis(n-i):\n",
    "                            cases.extend([case_2+case,case+case_2])\n",
    "            #print(cases)\n",
    "            return list(set(cases))\n",
    "if __name__ == '__main__':\n",
    "    # begin\n",
    "    s = Solution()\n",
    "    print(s.generateParenthesis(4)) "
   ]
  },
  {
   "cell_type": "markdown",
   "metadata": {},
   "source": [
    "### Result\n",
    "Runtime: 24 ms, faster than 71.17% of Python online submissions for Generate Parentheses.\n",
    "    \n",
    "Memory Usage: 13.1 MB, less than 7.66% of Python online submissions for Generate Parentheses."
   ]
  }
 ],
 "metadata": {
  "kernelspec": {
   "display_name": "Python 3",
   "language": "python",
   "name": "python3"
  },
  "language_info": {
   "codemirror_mode": {
    "name": "ipython",
    "version": 3
   },
   "file_extension": ".py",
   "mimetype": "text/x-python",
   "name": "python",
   "nbconvert_exporter": "python",
   "pygments_lexer": "ipython3",
   "version": "3.8.8"
  }
 },
 "nbformat": 4,
 "nbformat_minor": 2
}
