{
 "cells": [
  {
   "cell_type": "markdown",
   "metadata": {},
   "source": [
    "Given the head of a linked list, rotate the list to the right by k places.\n",
    "\n",
    " \n",
    "\n",
    "Example 1:\n",
    "\n",
    "\n",
    "    Input: head = [1,2,3,4,5], k = 2\n",
    "    Output: [4,5,1,2,3]\n",
    "Example 2:\n",
    "\n",
    "\n",
    "    Input: head = [0,1,2], k = 4\n",
    "    Output: [2,0,1]\n",
    " \n",
    "\n",
    "Constraints:\n",
    "\n",
    "    The number of nodes in the list is in the range [0, 500].\n",
    "    -100 <= Node.val <= 100\n",
    "    0 <= k <= 2 * 10**9"
   ]
  },
  {
   "cell_type": "markdown",
   "metadata": {},
   "source": [
    "My Solution:"
   ]
  },
  {
   "cell_type": "code",
   "execution_count": null,
   "metadata": {},
   "outputs": [],
   "source": [
    "# Definition for singly-linked list.\n",
    "# class ListNode:\n",
    "#     def __init__(self, val=0, next=None):\n",
    "#         self.val = val\n",
    "#         self.next = next\n",
    "class Solution:\n",
    "    def rotateRight(self, head: ListNode, k: int) -> ListNode:\n",
    "        if not head:\n",
    "            return None\n",
    "        len_list = 0\n",
    "        p = head\n",
    "        while p:\n",
    "            len_list += 1\n",
    "            p=p.next\n",
    "        k = k % len_list\n",
    "        p1 = p2 = head\n",
    "        if k == 0:\n",
    "            return head\n",
    "        while k > 0:\n",
    "            p2 = p2.next\n",
    "            k -= 1\n",
    "        while p2.next:\n",
    "            p2 = p2.next\n",
    "            p1 = p1.next\n",
    "        first = p1.next\n",
    "        p1.next = None\n",
    "        p2.next = head\n",
    "        return first"
   ]
  },
  {
   "cell_type": "markdown",
   "metadata": {},
   "source": [
    "Runtime: 40 ms, faster than 41.56% of Python3 online submissions for Rotate List.\n",
    "    \n",
    "Memory Usage: 14 MB, less than 95.81% of Python3 online submissions for Rotate List."
   ]
  }
 ],
 "metadata": {
  "kernelspec": {
   "display_name": "Python 3",
   "language": "python",
   "name": "python3"
  },
  "language_info": {
   "codemirror_mode": {
    "name": "ipython",
    "version": 3
   },
   "file_extension": ".py",
   "mimetype": "text/x-python",
   "name": "python",
   "nbconvert_exporter": "python",
   "pygments_lexer": "ipython3",
   "version": "3.8.5"
  }
 },
 "nbformat": 4,
 "nbformat_minor": 4
}
