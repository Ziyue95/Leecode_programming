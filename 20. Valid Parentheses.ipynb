{
 "cells": [
  {
   "cell_type": "markdown",
   "metadata": {},
   "source": [
    "### 20. Valid Parentheses\n",
    "Given a string containing just the characters '(', ')', '{', '}', '[' and ']', determine if the input string is valid.\n",
    "\n",
    "An input string is valid if:\n",
    "\n",
    "1.Open brackets must be closed by the same type of brackets.\n",
    "\n",
    "2.Open brackets must be closed in the correct order.\n",
    "\n",
    "Note that an empty string is also considered valid.\n"
   ]
  },
  {
   "cell_type": "markdown",
   "metadata": {},
   "source": [
    "My solution"
   ]
  },
  {
   "cell_type": "code",
   "execution_count": 3,
   "metadata": {},
   "outputs": [
    {
     "data": {
      "text/plain": [
       "[1, 2]"
      ]
     },
     "execution_count": 3,
     "metadata": {},
     "output_type": "execute_result"
    }
   ],
   "source": [
    "a = [1,2,3]\n",
    "a.pop()\n",
    "a"
   ]
  },
  {
   "cell_type": "code",
   "execution_count": 1,
   "metadata": {},
   "outputs": [
    {
     "name": "stdout",
     "output_type": "stream",
     "text": [
      "False\n",
      "True\n",
      "False\n"
     ]
    }
   ],
   "source": [
    "class Solution(object):\n",
    "    def isValid(self, s):\n",
    "        \"\"\"\n",
    "        :type s: str\n",
    "        :rtype: bool\n",
    "        \"\"\"\n",
    "        brac_list = []\n",
    "        brac_map = {\"(\":1,\")\":-1,\"[\":2,\"]\":-2,\"{\":3,\"}\":-3}\n",
    "        for pointer,brac in enumerate(s):\n",
    "            if pointer == 0:\n",
    "                if brac_map[brac] > 0:\n",
    "                    brac_list.append(brac_map[brac])\n",
    "                else:\n",
    "                    return False\n",
    "            else:\n",
    "                new_ele = brac_map[brac]\n",
    "                if new_ele > 0:\n",
    "                    brac_list.append(brac_map[brac])\n",
    "                else:\n",
    "                    if brac_list == []:\n",
    "                        return False\n",
    "                    else:\n",
    "                        if new_ele == -1*brac_list[-1]:\n",
    "                            brac_list = brac_list[:-1]\n",
    "                        else:\n",
    "                            return False\n",
    "        if brac_list == []:\n",
    "            return True\n",
    "        else:\n",
    "            return False\n",
    "                    \n",
    "if __name__ == '__main__':\n",
    "    # begin\n",
    "    s = Solution()\n",
    "    print(s.isValid(\"()]\"))  \n",
    "    print(s.isValid(\"()[]{}\"))\n",
    "    print(s.isValid(\"(]\"))"
   ]
  },
  {
   "cell_type": "markdown",
   "metadata": {},
   "source": [
    "### Discussion\n",
    "Turing bracket into number before comparison makes the whole process become slower. But overall idea is correct"
   ]
  },
  {
   "cell_type": "markdown",
   "metadata": {},
   "source": [
    "#### My Solution 2:"
   ]
  },
  {
   "cell_type": "code",
   "execution_count": null,
   "metadata": {},
   "outputs": [],
   "source": [
    "class Solution(object):\n",
    "    def isValid(self, s):\n",
    "        if s == \"\":\n",
    "            return True\n",
    "        left_parenthese = []\n",
    "        for item in s:\n",
    "            if item in [\"(\",\"[\",\"{\"]:\n",
    "                left_parenthese.append(item)\n",
    "            else:\n",
    "                try:\n",
    "                    last = left_parenthese.pop()\n",
    "                    if item == \")\" and last != \"(\":\n",
    "                        return False\n",
    "                    elif item == \"]\" and last != \"[\":\n",
    "                        return False\n",
    "                    elif item == \"}\" and last != \"{\":\n",
    "                        return False\n",
    "                except:\n",
    "                    return False\n",
    "        if len(left_parenthese) == 0:\n",
    "            return True\n",
    "        else:\n",
    "            return False"
   ]
  },
  {
   "cell_type": "markdown",
   "metadata": {},
   "source": [
    "Good Solution:"
   ]
  },
  {
   "cell_type": "code",
   "execution_count": 2,
   "metadata": {},
   "outputs": [
    {
     "name": "stdout",
     "output_type": "stream",
     "text": [
      "False\n",
      "True\n",
      "False\n"
     ]
    }
   ],
   "source": [
    "class Solution(object):\n",
    "    def isValid(self, s):\n",
    "        \"\"\"\n",
    "        :type s: str\n",
    "        :rtype: bool\n",
    "        \"\"\"\n",
    "        if s is None:\n",
    "            return True\n",
    "        stack = []\n",
    "        for t in s:\n",
    "            if t == ')':\n",
    "                try:\n",
    "                    current = stack.pop()\n",
    "                    if current != '(':\n",
    "                        return False\n",
    "                except:\n",
    "                    return False\n",
    "            elif t == '}':\n",
    "                try:\n",
    "                    current = stack.pop()\n",
    "                    if current != '{':\n",
    "                        return False\n",
    "                except:\n",
    "                    return False\n",
    "            elif t == ']':\n",
    "                try:\n",
    "                    current = stack.pop()\n",
    "                    if current != '[':\n",
    "                        return False\n",
    "                except:\n",
    "                    return False\n",
    "            else:\n",
    "                stack.append(t)\n",
    "        if len(stack) == 0:\n",
    "            return True\n",
    "        else:\n",
    "            return False\n",
    "                    \n",
    "if __name__ == '__main__':\n",
    "    # begin\n",
    "    s = Solution()\n",
    "    print(s.isValid(\"()]\"))  \n",
    "    print(s.isValid(\"()[]{}\"))\n",
    "    print(s.isValid(\"(]\"))"
   ]
  },
  {
   "cell_type": "markdown",
   "metadata": {},
   "source": [
    "### Summary\n",
    "Good Solution dose not use Dictionary but use the combination of .pop() function and try to achieve the same functionality;\n",
    "\n",
    "Classify different situations making the code looks more complex but run faster."
   ]
  },
  {
   "cell_type": "markdown",
   "metadata": {},
   "source": [
    "Good Solution 2"
   ]
  },
  {
   "cell_type": "code",
   "execution_count": 3,
   "metadata": {},
   "outputs": [
    {
     "name": "stdout",
     "output_type": "stream",
     "text": [
      "False\n",
      "True\n",
      "False\n"
     ]
    }
   ],
   "source": [
    "class Solution(object):\n",
    "    def isValid(self, s):\n",
    "        stack = []\n",
    "        dict = {\"]\":\"[\", \"}\":\"{\", \")\":\"(\"}\n",
    "        for char in s:\n",
    "            if char in dict.values():\n",
    "                stack.append(char)\n",
    "            elif char in dict.keys():\n",
    "                if stack == [] or dict[char] != stack.pop():\n",
    "                    return False\n",
    "\n",
    "        return stack == []\n",
    "if __name__ == '__main__':\n",
    "    # begin\n",
    "    s = Solution()\n",
    "    print(s.isValid(\"()]\"))  \n",
    "    print(s.isValid(\"()[]{}\"))\n",
    "    print(s.isValid(\"(]\"))"
   ]
  },
  {
   "cell_type": "markdown",
   "metadata": {},
   "source": [
    "### Summary\n",
    "Call .pop() function and use values and keys property of dictionary"
   ]
  },
  {
   "cell_type": "markdown",
   "metadata": {},
   "source": [
    "### Summary\n",
    "Use list replace function"
   ]
  },
  {
   "cell_type": "markdown",
   "metadata": {},
   "source": [
    "Good Solution 3:"
   ]
  },
  {
   "cell_type": "code",
   "execution_count": null,
   "metadata": {},
   "outputs": [],
   "source": [
    "def isValid(self, s):\n",
    "    stack, match = [], {')': '(', ']': '[', '}': '{'}\n",
    "    for ch in s:\n",
    "        if ch in match:\n",
    "            if not (stack and stack.pop() == match[ch]):\n",
    "                return False\n",
    "        else:\n",
    "            stack.append(ch)\n",
    "    return not stack"
   ]
  }
 ],
 "metadata": {
  "kernelspec": {
   "display_name": "Python 3",
   "language": "python",
   "name": "python3"
  },
  "language_info": {
   "codemirror_mode": {
    "name": "ipython",
    "version": 3
   },
   "file_extension": ".py",
   "mimetype": "text/x-python",
   "name": "python",
   "nbconvert_exporter": "python",
   "pygments_lexer": "ipython3",
   "version": "3.8.5"
  }
 },
 "nbformat": 4,
 "nbformat_minor": 2
}
