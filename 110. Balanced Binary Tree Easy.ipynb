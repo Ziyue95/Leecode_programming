{
 "cells": [
  {
   "cell_type": "markdown",
   "id": "e4700e0a",
   "metadata": {},
   "source": [
    "Given a binary tree, determine if it is height-balanced.\n",
    "\n",
    "For this problem, a height-balanced binary tree is defined as:\n",
    "\n",
    "a binary tree in which the left and right subtrees of every node differ in height by no more than 1.\n",
    "\n",
    " \n",
    "\n",
    "Example 1:\n",
    "\n",
    "\n",
    "    Input: root = [3,9,20,null,null,15,7]\n",
    "    Output: true\n",
    "Example 2:\n",
    "\n",
    "\n",
    "    Input: root = [1,2,2,3,3,null,null,4,4]\n",
    "    Output: false\n",
    "Example 3:\n",
    "\n",
    "    Input: root = []\n",
    "    Output: true\n",
    " \n",
    "\n",
    "Constraints:\n",
    "\n",
    "    The number of nodes in the tree is in the range [0, 5000].\n",
    "    -10**4 <= Node.val <= 10**4"
   ]
  },
  {
   "cell_type": "markdown",
   "id": "9fc3b692",
   "metadata": {},
   "source": [
    "My Solution: Using DFS"
   ]
  },
  {
   "cell_type": "code",
   "execution_count": null,
   "id": "6c2746c0",
   "metadata": {},
   "outputs": [],
   "source": [
    "# Definition for a binary tree node.\n",
    "# class TreeNode:\n",
    "#     def __init__(self, val=0, left=None, right=None):\n",
    "#         self.val = val\n",
    "#         self.left = left\n",
    "#         self.right = right\n",
    "class Solution:\n",
    "    def isBalanced(self, root: TreeNode) -> bool:\n",
    "        if not root:\n",
    "            return True\n",
    "        leftDepth = self.getDepth(root.left)\n",
    "        rightDepth = self.getDepth(root.right)\n",
    "        if abs(leftDepth - rightDepth) <= 1:\n",
    "            return self.isBalanced(root.left) and self.isBalanced(root.right)\n",
    "        \n",
    "    def getDepth(self, root):\n",
    "        if not root:\n",
    "            return 0\n",
    "        return 1 + max(self.getDepth(root.left), self.getDepth(root.right))"
   ]
  },
  {
   "cell_type": "markdown",
   "id": "df583217",
   "metadata": {},
   "source": [
    "Runtime: 68 ms, faster than 24.13% of Python3 online submissions for Balanced Binary Tree.\n",
    "    \n",
    "Memory Usage: 18 MB, less than 76.65% of Python3 online submissions for Balanced Binary Tree."
   ]
  },
  {
   "cell_type": "code",
   "execution_count": null,
   "id": "4763ff1c",
   "metadata": {},
   "outputs": [],
   "source": [
    "# Definition for a binary tree node.\n",
    "# class TreeNode:\n",
    "#     def __init__(self, val=0, left=None, right=None):\n",
    "#         self.val = val\n",
    "#         self.left = left\n",
    "#         self.right = right\n",
    "class Solution:\n",
    "    def isBalanced(self, root: TreeNode) -> bool:\n",
    "        return self.getDepth(root) != -1\n",
    "        \n",
    "    def getDepth(self, root):\n",
    "        if not root:\n",
    "            return 0\n",
    "        leftDepth = self.getDepth(root.left)\n",
    "        rightDepth = self.getDepth(root.right)\n",
    "        if leftDepth == -1 or rightDepth == -1 or abs(leftDepth - rightDepth) > 1:\n",
    "            return -1\n",
    "        \n",
    "        return 1 + max(leftDepth, rightDepth)"
   ]
  },
  {
   "cell_type": "markdown",
   "id": "82dc6cce",
   "metadata": {},
   "source": [
    "Runtime: 48 ms, faster than 81.95% of Python3 online submissions for Balanced Binary Tree.\n",
    "    \n",
    "Memory Usage: 17.7 MB, less than 97.73% of Python3 online submissions for Balanced Binary Tree."
   ]
  }
 ],
 "metadata": {
  "kernelspec": {
   "display_name": "Python 3",
   "language": "python",
   "name": "python3"
  },
  "language_info": {
   "codemirror_mode": {
    "name": "ipython",
    "version": 3
   },
   "file_extension": ".py",
   "mimetype": "text/x-python",
   "name": "python",
   "nbconvert_exporter": "python",
   "pygments_lexer": "ipython3",
   "version": "3.8.8"
  }
 },
 "nbformat": 4,
 "nbformat_minor": 5
}
