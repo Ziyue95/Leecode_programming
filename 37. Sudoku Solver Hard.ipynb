{
 "cells": [
  {
   "cell_type": "code",
   "execution_count": 86,
   "id": "ccbfb5d2",
   "metadata": {},
   "outputs": [],
   "source": [
    "class Solution:\n",
    "    def solveSudoku(self, board: List[List[str]]) -> None:\n",
    "        \"\"\"\n",
    "        Do not return anything, modify board in-place instead.\n",
    "        \"\"\"\n",
    "        tmp = [[board[i][j] for j in range(len(board[0]))] for i in range(len(board))]\n",
    "        tmp_row = [{1,2,3,4,5,6,7,8,9} for _ in range(9)]\n",
    "        tmp_col = [{1,2,3,4,5,6,7,8,9} for _ in range(9)]\n",
    "        tmp_block = [[{1,2,3,4,5,6,7,8,9} for _ in range(3)] for _ in range(3)]\n",
    "        to_fill = []\n",
    "\n",
    "        for i in range(len(board)):\n",
    "            for j in range(len(board[0])):\n",
    "                if board[i][j] != \".\":\n",
    "                    val = int(board[i][j])\n",
    "                    tmp_row[i].remove(val)\n",
    "                    tmp_col[j].remove(val)\n",
    "                    tmp_block[i//3][j//3].remove(val)\n",
    "                else:\n",
    "                    to_fill.append([i,j])\n",
    "        \n",
    "        def dfs_fill(idx, matrix):\n",
    "            if idx == len(to_fill):\n",
    "                for i in range(len(matrix)):\n",
    "                    for j in range(len(matrix[0])):\n",
    "                        board[i][j] = matrix[i][j]\n",
    "                return\n",
    "                \n",
    "            i = to_fill[idx][0]\n",
    "            j = to_fill[idx][1]\n",
    "            possible_options = tmp_row[i].intersection(tmp_col[j].intersection(tmp_block[i//3][j//3]))\n",
    "            \n",
    "            for val in possible_options:\n",
    "                tmp_row[i].remove(val)\n",
    "                tmp_col[j].remove(val)\n",
    "                tmp_block[i//3][j//3].remove(val)\n",
    "                \n",
    "                matrix[i][j] = str(val)\n",
    "                dfs_fill(idx+1, matrix)\n",
    "                \n",
    "                tmp_row[i].add(val)\n",
    "                tmp_col[j].add(val)\n",
    "                tmp_block[i//3][j//3].add(val)\n",
    "        \n",
    "        dfs_fill(0, tmp)"
   ]
  }
 ],
 "metadata": {
  "kernelspec": {
   "display_name": "Python 3",
   "language": "python",
   "name": "python3"
  },
  "language_info": {
   "codemirror_mode": {
    "name": "ipython",
    "version": 3
   },
   "file_extension": ".py",
   "mimetype": "text/x-python",
   "name": "python",
   "nbconvert_exporter": "python",
   "pygments_lexer": "ipython3",
   "version": "3.8.8"
  }
 },
 "nbformat": 4,
 "nbformat_minor": 5
}
