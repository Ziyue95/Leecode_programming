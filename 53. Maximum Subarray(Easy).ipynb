{
 "cells": [
  {
   "cell_type": "markdown",
   "metadata": {},
   "source": [
    "Given an integer array nums, find the contiguous subarray (containing at least one number) which has the largest sum and return its sum.\n",
    "\n",
    " \n",
    "\n",
    "Example 1:\n",
    "\n",
    "    Input: nums = [-2,1,-3,4,-1,2,1,-5,4]\n",
    "    Output: 6\n",
    "    Explanation: [4,-1,2,1] has the largest sum = 6.\n",
    "Example 2:\n",
    "\n",
    "    Input: nums = [1]\n",
    "    Output: 1\n",
    "Example 3:\n",
    "\n",
    "    Input: nums = [5,4,-1,7,8]\n",
    "    Output: 23\n",
    " \n",
    "\n",
    "Constraints:\n",
    "\n",
    "    1 <= nums.length <= 3 * 10**4\n",
    "    -10**5 <= nums[i] <= 10**5"
   ]
  },
  {
   "cell_type": "markdown",
   "metadata": {},
   "source": [
    "Good Solution: 1.time O(n); space O(n)"
   ]
  },
  {
   "cell_type": "code",
   "execution_count": null,
   "metadata": {},
   "outputs": [],
   "source": [
    "class Solution:\n",
    "    def maxSubArray(self, nums: List[int]) -> int:\n",
    "        dp = [0]*len(nums)\n",
    "        for i,num in enumerate(nums):            \n",
    "            dp[i] = max(dp[i-1] + num, num)\n",
    "        return max(dp)"
   ]
  },
  {
   "cell_type": "markdown",
   "metadata": {},
   "source": [
    "### Result\n",
    "Runtime: 68 ms, faster than 44.68% of Python3 online submissions for Maximum Subarray.\n",
    "\n",
    "Memory Usage: 15.2 MB, less than 12.32% of Python3 online submissions for Maximum Subarray."
   ]
  },
  {
   "cell_type": "markdown",
   "metadata": {},
   "source": [
    "Good Solution: 2.time O(n); space O(1)"
   ]
  },
  {
   "cell_type": "code",
   "execution_count": null,
   "metadata": {},
   "outputs": [],
   "source": [
    "class Solution:\n",
    "    def maxSubArray(self, nums: List[int]) -> int:\n",
    "        max_sum = max_sum_consecutive = nums[0]\n",
    "        for num in nums[1:]:\n",
    "            max_sum_consecutive = max(max_sum_consecutive + num,num)\n",
    "            max_sum = max(max_sum,max_sum_consecutive)\n",
    "        return max_sum"
   ]
  },
  {
   "cell_type": "markdown",
   "metadata": {},
   "source": [
    "### Result\n",
    "Runtime: 64 ms, faster than 72.86% of Python3 online submissions for Maximum Subarray.\n",
    "\n",
    "Memory Usage: 14.9 MB, less than 79.59% of Python3 online submissions for Maximum Subarray."
   ]
  }
 ],
 "metadata": {
  "kernelspec": {
   "display_name": "Python 3",
   "language": "python",
   "name": "python3"
  },
  "language_info": {
   "codemirror_mode": {
    "name": "ipython",
    "version": 3
   },
   "file_extension": ".py",
   "mimetype": "text/x-python",
   "name": "python",
   "nbconvert_exporter": "python",
   "pygments_lexer": "ipython3",
   "version": "3.8.5"
  }
 },
 "nbformat": 4,
 "nbformat_minor": 4
}
