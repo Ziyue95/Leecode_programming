{
 "cells": [
  {
   "cell_type": "markdown",
   "metadata": {},
   "source": [
    "Given the head of a sorted linked list, delete all nodes that have duplicate numbers, leaving only distinct numbers from the original list. Return the linked list sorted as well.\n",
    "\n",
    " \n",
    "\n",
    "Example 1:\n",
    "\n",
    "\n",
    "    Input: head = [1,2,3,3,4,4,5]\n",
    "    Output: [1,2,5]\n",
    "Example 2:\n",
    "\n",
    "\n",
    "    Input: head = [1,1,1,2,3]\n",
    "    Output: [2,3]\n",
    " \n",
    "\n",
    "Constraints:\n",
    "\n",
    "    The number of nodes in the list is in the range [0, 300].\n",
    "    -100 <= Node.val <= 100\n",
    "    The list is guaranteed to be sorted in ascending order."
   ]
  },
  {
   "cell_type": "markdown",
   "metadata": {},
   "source": [
    "My Solution:"
   ]
  },
  {
   "cell_type": "code",
   "execution_count": 2,
   "metadata": {},
   "outputs": [
    {
     "name": "stdout",
     "output_type": "stream",
     "text": [
      "[4, 6]\n",
      "[1, 2, 5]\n"
     ]
    }
   ],
   "source": [
    "class ListNode(object):\n",
    "    def __init__(self, val=0, next=None):\n",
    "        self.val = val\n",
    "        self.next = next\n",
    "        \n",
    "def list_to_Node(lists):\n",
    "    poi = Node = ListNode(0,ListNode())\n",
    "    while len(lists) > 0:\n",
    "        poi = poi.next\n",
    "        poi.val = lists[0]\n",
    "        poi.next = ListNode()\n",
    "        lists = lists[1:]\n",
    "    poi.next = None\n",
    "    return Node.next\n",
    "\n",
    "def print_Node(Node):\n",
    "    lists = []\n",
    "    while Node is not None:\n",
    "        lists.append(Node.val)\n",
    "        Node = Node.next\n",
    "    print(lists)\n",
    "    \n",
    "class Solution:\n",
    "    def deleteDuplicates(self, head: ListNode) -> ListNode:\n",
    "        p1 = head\n",
    "        output = p0 = ListNode(-1)\n",
    "        if p1 is None or p1.next is None:\n",
    "            return p1\n",
    "        \n",
    "        while p1.next is not None:\n",
    "            check = p1.val\n",
    "            if p1.next.val != check:\n",
    "                p0.next = p1\n",
    "                p0 = p0.next\n",
    "                p1 = p1.next\n",
    "                continue\n",
    "            while p1.next is not None and p1.next.val == check:\n",
    "                p1=p1.next\n",
    "            if p1.next is None:\n",
    "                p0.next = None\n",
    "            else:\n",
    "                p1 = p1.next\n",
    "                if p1.next is None:\n",
    "                    p0.next = p1\n",
    "        return output.next\n",
    "    \n",
    "if __name__ == '__main__':\n",
    "    # begin\n",
    "    s = Solution()\n",
    "    print_Node(s.deleteDuplicates(list_to_Node([1,1,2,2,3,3,4,5,5,6]))) \n",
    "    print_Node(s.deleteDuplicates(list_to_Node([1,2,3,3,4,4,5])))"
   ]
  },
  {
   "cell_type": "markdown",
   "metadata": {},
   "source": [
    "### Result\n",
    "Runtime: 36 ms, faster than 90.66% of Python3 online submissions for Remove Duplicates from Sorted List II.\n",
    "\n",
    "Memory Usage: 14.4 MB, less than 28.53% of Python3 online submissions for Remove Duplicates from Sorted List II."
   ]
  },
  {
   "cell_type": "markdown",
   "metadata": {},
   "source": [
    "Other Solutions:"
   ]
  },
  {
   "cell_type": "code",
   "execution_count": null,
   "metadata": {},
   "outputs": [],
   "source": [
    "class Solution:\n",
    "    def deleteDuplicates(self, head: ListNode) -> ListNode:\n",
    "        # sentinel\n",
    "        sentinel = ListNode(0, head)\n",
    "\n",
    "        # predecessor = the last node \n",
    "        # before the sublist of duplicates\n",
    "        pred = sentinel\n",
    "        \n",
    "        while head:\n",
    "            # if it's a beginning of duplicates sublist \n",
    "            # skip all duplicates\n",
    "            if head.next and head.val == head.next.val:\n",
    "                # move till the end of duplicates sublist\n",
    "                while head.next and head.val == head.next.val:\n",
    "                    head = head.next\n",
    "                # skip all duplicates\n",
    "                pred.next = head.next \n",
    "            # otherwise, move predecessor\n",
    "            else:\n",
    "                pred = pred.next \n",
    "                \n",
    "            # move forward\n",
    "            head = head.next\n",
    "            \n",
    "        return sentinel.next"
   ]
  },
  {
   "cell_type": "markdown",
   "metadata": {},
   "source": [
    "### Result\n",
    "Runtime: 40 ms, faster than 70.73% of Python3 online submissions for Remove Duplicates from Sorted List II.\n",
    "\n",
    "Memory Usage: 14.1 MB, less than 84.09% of Python3 online submissions for Remove Duplicates from Sorted List II."
   ]
  }
 ],
 "metadata": {
  "kernelspec": {
   "display_name": "Python 3",
   "language": "python",
   "name": "python3"
  },
  "language_info": {
   "codemirror_mode": {
    "name": "ipython",
    "version": 3
   },
   "file_extension": ".py",
   "mimetype": "text/x-python",
   "name": "python",
   "nbconvert_exporter": "python",
   "pygments_lexer": "ipython3",
   "version": "3.8.5"
  }
 },
 "nbformat": 4,
 "nbformat_minor": 4
}
