{
 "cells": [
  {
   "cell_type": "markdown",
   "metadata": {},
   "source": [
    "There is an integer array nums sorted in non-decreasing order (not necessarily with distinct values).\n",
    "\n",
    "Before being passed to your function, nums is rotated at an unknown pivot index k (0 <= k < nums.length) such that the resulting array is [nums[k], nums[k+1], ..., nums[n-1], nums[0], nums[1], ..., nums[k-1]] (0-indexed). For example, [0,1,2,4,4,4,5,6,6,7] might be rotated at pivot index 5 and become [4,5,6,6,7,0,1,2,4,4].\n",
    "\n",
    "Given the array nums after the rotation and an integer target, return true if target is in nums, or false if it is not in nums.\n",
    "\n",
    " \n",
    "\n",
    "Example 1:\n",
    "\n",
    "    Input: nums = [2,5,6,0,0,1,2], target = 0\n",
    "    Output: true\n",
    "Example 2:\n",
    "\n",
    "    Input: nums = [2,5,6,0,0,1,2], target = 3\n",
    "    Output: false\n",
    " \n",
    "\n",
    "Constraints:\n",
    "\n",
    "    1 <= nums.length <= 5000\n",
    "    -10**4 <= nums[i] <= 10**4\n",
    "    nums is guaranteed to be rotated at some pivot.\n",
    "    -10**4 <= target <= 10**4"
   ]
  },
  {
   "cell_type": "markdown",
   "metadata": {},
   "source": [
    "My Solution: Binary search"
   ]
  },
  {
   "cell_type": "code",
   "execution_count": null,
   "metadata": {},
   "outputs": [],
   "source": [
    "class Solution:\n",
    "    def search(self, nums: List[int], target: int) -> int:\n",
    "        if nums is None:\n",
    "            return False\n",
    "        l,r = 0,len(nums)-1\n",
    "        while l<=r:\n",
    "            mid = (l+r)//2\n",
    "            if nums[mid] == target:\n",
    "                return True\n",
    "            # if rotate axis is right to the nums[mid]\n",
    "            if nums[mid] > nums[l]:\n",
    "                if nums[l] <= target <= nums[mid]:\n",
    "                    r=mid-1\n",
    "                else:\n",
    "                    l = mid + 1\n",
    "            # if rotate axis is left to the nums[mid]\n",
    "            elif nums[mid] < nums[l]:\n",
    "                if nums[mid] <= target <= nums[r]:\n",
    "                    l = mid + 1\n",
    "                else:\n",
    "                    r = mid -1\n",
    "            else:\n",
    "                if l<mid and min(nums[l:mid]) <= target <= max(nums[l:mid]):\n",
    "                    r = mid - 1\n",
    "                else:\n",
    "                    l = mid + 1\n",
    "        return False"
   ]
  },
  {
   "cell_type": "markdown",
   "metadata": {},
   "source": [
    "### Result"
   ]
  },
  {
   "cell_type": "markdown",
   "metadata": {},
   "source": [
    "Runtime: 52 ms, faster than 69.73% of Python3 online submissions for Search in Rotated Sorted Array II.\n",
    "    \n",
    "Memory Usage: 14.7 MB, less than 99.63% of Python3 online submissions for Search in Rotated Sorted Array II."
   ]
  },
  {
   "cell_type": "markdown",
   "metadata": {},
   "source": [
    "Other Solutions: Binary Search"
   ]
  },
  {
   "cell_type": "code",
   "execution_count": null,
   "metadata": {},
   "outputs": [],
   "source": [
    "class Solution:\n",
    "    def search(self, nums, target):\n",
    "        l, r = 0, len(nums)-1\n",
    "        while l <= r:\n",
    "            mid = l + (r-l)//2\n",
    "            if nums[mid] == target:\n",
    "                return True\n",
    "            while l < mid and nums[l] == nums[mid]: # tricky part\n",
    "                l += 1\n",
    "            # the first half is ordered\n",
    "            if nums[l] <= nums[mid]:\n",
    "                # target is in the first half\n",
    "                if nums[l] <= target < nums[mid]:\n",
    "                    r = mid - 1\n",
    "                else:\n",
    "                    l = mid + 1\n",
    "            # the second half is ordered\n",
    "            else:\n",
    "                # target is in the second half\n",
    "                if nums[mid] < target <= nums[r]:\n",
    "                    l = mid + 1\n",
    "                else:\n",
    "                    r = mid - 1\n",
    "        return False"
   ]
  },
  {
   "cell_type": "markdown",
   "metadata": {},
   "source": [
    "### Result\n",
    "Runtime: 52 ms, faster than 69.73% of Python3 online submissions for Search in Rotated Sorted Array II.\n",
    "\n",
    "Memory Usage: 14.9 MB, less than 84.46% of Python3 online submissions for Search in Rotated Sorted Array II."
   ]
  }
 ],
 "metadata": {
  "kernelspec": {
   "display_name": "Python 3",
   "language": "python",
   "name": "python3"
  },
  "language_info": {
   "codemirror_mode": {
    "name": "ipython",
    "version": 3
   },
   "file_extension": ".py",
   "mimetype": "text/x-python",
   "name": "python",
   "nbconvert_exporter": "python",
   "pygments_lexer": "ipython3",
   "version": "3.8.5"
  }
 },
 "nbformat": 4,
 "nbformat_minor": 4
}
