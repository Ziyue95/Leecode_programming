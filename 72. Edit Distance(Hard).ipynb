{
 "cells": [
  {
   "cell_type": "markdown",
   "metadata": {},
   "source": [
    "Given two strings word1 and word2, return the minimum number of operations required to convert word1 to word2.\n",
    "\n",
    "You have the following three operations permitted on a word:\n",
    "\n",
    "    Insert a character\n",
    "    Delete a character\n",
    "    Replace a character\n",
    " \n",
    "\n",
    "Example 1:\n",
    "\n",
    "    Input: word1 = \"horse\", word2 = \"ros\"\n",
    "    Output: 3\n",
    "    Explanation: \n",
    "    horse -> rorse (replace 'h' with 'r')\n",
    "    rorse -> rose (remove 'r')\n",
    "    rose -> ros (remove 'e')\n",
    "Example 2:\n",
    "\n",
    "    Input: word1 = \"intention\", word2 = \"execution\"\n",
    "    Output: 5\n",
    "    Explanation: \n",
    "    intention -> inention (remove 't')\n",
    "    inention -> enention (replace 'i' with 'e')\n",
    "    enention -> exention (replace 'n' with 'x')\n",
    "    exention -> exection (replace 'n' with 'c')\n",
    "    exection -> execution (insert 'u')\n",
    " \n",
    "\n",
    "Constraints:\n",
    "\n",
    "    0 <= word1.length, word2.length <= 500\n",
    "    word1 and word2 consist of lowercase English letters."
   ]
  },
  {
   "cell_type": "markdown",
   "metadata": {},
   "source": [
    "Good Solution: dynamic programming with space complexity O(n*m)"
   ]
  },
  {
   "cell_type": "code",
   "execution_count": null,
   "metadata": {},
   "outputs": [],
   "source": [
    "class Solution:\n",
    "    def minDistance(self, word1: str, word2: str) -> int:\n",
    "        m, n = len(word1), len(word2)\n",
    "        dp = [list(range(n+1))]+[[r+1]+[0]*n for r in range(m)]\n",
    "        for i in range(m):\n",
    "            for j in range(n):\n",
    "                dp[i+1][j+1] = dp[i][j] if word1[i]==word2[j] else min(dp[i][j], dp[i+1][j], dp[i][j+1]) + 1\n",
    "        return dp[m][n]"
   ]
  },
  {
   "cell_type": "markdown",
   "metadata": {},
   "source": [
    "### Result\n",
    "Runtime: 160 ms, faster than 75.57% of Python3 online submissions for Edit Distance.\n",
    "\n",
    "Memory Usage: 17.8 MB, less than 43.09% of Python3 online submissions for Edit Distance."
   ]
  },
  {
   "cell_type": "markdown",
   "metadata": {},
   "source": [
    "Dynamic programming with space complexity O(n)"
   ]
  },
  {
   "cell_type": "code",
   "execution_count": 6,
   "metadata": {},
   "outputs": [],
   "source": [
    "def minDistance(word1, word2):\n",
    "    m, n = len(word1), len(word2)  # switch word1 and word2 if m < n to ensure n ≤ m\n",
    "    curr = list(range(n+1))\n",
    "    for i in range(m):\n",
    "        prev, curr = curr, [i+1] + [0] * n\n",
    "        for j in range(n):\n",
    "            curr[j+1] = prev[j] if word1[i] == word2[j] else min(curr[j], prev[j], prev[j+1]) + 1\n",
    "    return curr[n]"
   ]
  },
  {
   "cell_type": "markdown",
   "metadata": {},
   "source": [
    "### Result\n",
    "Runtime: 128 ms, faster than 85.91% of Python3 online submissions for Edit Distance.\n",
    "\n",
    "Memory Usage: 14.2 MB, less than 99.17% of Python3 online submissions for Edit Distance."
   ]
  }
 ],
 "metadata": {
  "kernelspec": {
   "display_name": "Python 3",
   "language": "python",
   "name": "python3"
  },
  "language_info": {
   "codemirror_mode": {
    "name": "ipython",
    "version": 3
   },
   "file_extension": ".py",
   "mimetype": "text/x-python",
   "name": "python",
   "nbconvert_exporter": "python",
   "pygments_lexer": "ipython3",
   "version": "3.8.5"
  }
 },
 "nbformat": 4,
 "nbformat_minor": 4
}
