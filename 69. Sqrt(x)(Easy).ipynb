{
 "cells": [
  {
   "cell_type": "markdown",
   "metadata": {},
   "source": [
    "Given a non-negative integer x, compute and return the square root of x.\n",
    "\n",
    "Since the return type is an integer, the decimal digits are truncated, and only the integer part of the result is returned.\n",
    "\n",
    " \n",
    "\n",
    "Example 1:\n",
    "\n",
    "Input: x = 4\n",
    "    \n",
    "Output: 2\n",
    "    \n",
    "Example 2:\n",
    "\n",
    "Input: x = 8\n",
    "    \n",
    "Output: 2\n",
    "    \n",
    "Explanation: The square root of 8 is 2.82842..., and since the decimal part is truncated, 2 is returned.\n",
    " \n",
    "\n",
    "Constraints:\n",
    "\n",
    "0 <= x <= $2^{31}$ - 1"
   ]
  },
  {
   "cell_type": "markdown",
   "metadata": {},
   "source": [
    "My Solution:"
   ]
  },
  {
   "cell_type": "code",
   "execution_count": 4,
   "metadata": {},
   "outputs": [
    {
     "name": "stdout",
     "output_type": "stream",
     "text": [
      "100\n",
      "9\n"
     ]
    }
   ],
   "source": [
    "class Solution(object):\n",
    "    def mySqrt(self, x):\n",
    "        \"\"\"\n",
    "        :type x: int\n",
    "        :rtype: int\n",
    "        \"\"\"\n",
    "        start,mid,end = 0,x//2,x\n",
    "        while True:\n",
    "            if start*start == x:\n",
    "                return start\n",
    "            elif mid*mid == x:\n",
    "                return mid\n",
    "            elif end*end == x:\n",
    "                return end\n",
    "            else:\n",
    "                if mid*mid > x:\n",
    "                    if mid - start == 1:\n",
    "                        return start\n",
    "                    else:\n",
    "                        mid,end = (start+mid)//2,mid\n",
    "                elif mid*mid < x:\n",
    "                    if end - mid == 1:\n",
    "                        return mid\n",
    "                    else:\n",
    "                        start,mid = mid,(mid+end)//2\n",
    "                        \n",
    "if __name__ == '__main__':\n",
    "    # begin\n",
    "    s = Solution()\n",
    "    print(s.mySqrt(10086))\n",
    "    print(s.mySqrt(81))"
   ]
  },
  {
   "cell_type": "markdown",
   "metadata": {},
   "source": [
    "### Result"
   ]
  },
  {
   "cell_type": "markdown",
   "metadata": {},
   "source": [
    "Runtime: 36 ms, faster than 13.46% of Python online submissions for Sqrt(x).\n",
    "    \n",
    "Memory Usage: 13.5 MB, less than 34.00% of Python online submissions for Sqrt(x)."
   ]
  },
  {
   "cell_type": "markdown",
   "metadata": {},
   "source": [
    "Good Solution"
   ]
  },
  {
   "cell_type": "markdown",
   "metadata": {},
   "source": [
    "Binary Search:"
   ]
  },
  {
   "cell_type": "code",
   "execution_count": 5,
   "metadata": {},
   "outputs": [
    {
     "name": "stdout",
     "output_type": "stream",
     "text": [
      "100\n",
      "9\n"
     ]
    }
   ],
   "source": [
    "class Solution(object):\n",
    "    def mySqrt(self, x):\n",
    "        l, r = 0, x\n",
    "        while l <= r:\n",
    "            mid =(r+l)//2\n",
    "            if mid * mid <= x < (mid+1)*(mid+1):\n",
    "                return mid\n",
    "            elif x < mid * mid:\n",
    "                r = mid - 1\n",
    "            else:\n",
    "                l = mid + 1\n",
    "    \n",
    "if __name__ == '__main__':\n",
    "    # begin\n",
    "    s = Solution()\n",
    "    print(s.mySqrt(10086))\n",
    "    print(s.mySqrt(81))"
   ]
  },
  {
   "cell_type": "markdown",
   "metadata": {},
   "source": [
    "### Result"
   ]
  },
  {
   "cell_type": "markdown",
   "metadata": {},
   "source": [
    "Runtime: 16 ms, faster than 89.78% of Python online submissions for Sqrt(x).\n",
    "    \n",
    "Memory Usage: 13.4 MB, less than 34.00% of Python online submissions for Sqrt(x)."
   ]
  },
  {
   "cell_type": "markdown",
   "metadata": {},
   "source": [
    "Newton Method:"
   ]
  },
  {
   "cell_type": "code",
   "execution_count": 6,
   "metadata": {},
   "outputs": [
    {
     "name": "stdout",
     "output_type": "stream",
     "text": [
      "100\n",
      "9\n"
     ]
    }
   ],
   "source": [
    "class Solution(object):\n",
    "    def mySqrt(self, k):\n",
    "        \"\"\"\n",
    "        :type x: int\n",
    "        :rtype: int\n",
    "        \"\"\"\n",
    "        \n",
    "        #the sqrt of x should be less than (x+1)/2.0\n",
    "        x = (k + 1)/4.0\n",
    "        x2 = x * x\n",
    "        \n",
    "        diff = x2 - k\n",
    "        e = 0.5\n",
    "        \n",
    "        while diff < -e or diff > e:\n",
    "            x = x + (k - x2) / (2 * x)\n",
    "            x2 = x * x\n",
    "            diff = x2 - k\n",
    "        \n",
    "        return int(x)\n",
    "    \n",
    "if __name__ == '__main__':\n",
    "    # begin\n",
    "    s = Solution()\n",
    "    print(s.mySqrt(10086))\n",
    "    print(s.mySqrt(81))"
   ]
  },
  {
   "cell_type": "markdown",
   "metadata": {},
   "source": [
    "### Result"
   ]
  },
  {
   "cell_type": "markdown",
   "metadata": {},
   "source": [
    "Runtime: 16 ms, faster than 89.95% of Python online submissions for Sqrt(x).\n",
    "    \n",
    "Memory Usage: 13.3 MB, less than 64.00% of Python online submissions for Sqrt(x)."
   ]
  }
 ],
 "metadata": {
  "kernelspec": {
   "display_name": "Python 3",
   "language": "python",
   "name": "python3"
  },
  "language_info": {
   "codemirror_mode": {
    "name": "ipython",
    "version": 3
   },
   "file_extension": ".py",
   "mimetype": "text/x-python",
   "name": "python",
   "nbconvert_exporter": "python",
   "pygments_lexer": "ipython3",
   "version": "3.8.5"
  }
 },
 "nbformat": 4,
 "nbformat_minor": 4
}
