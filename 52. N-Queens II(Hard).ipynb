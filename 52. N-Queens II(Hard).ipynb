{
 "cells": [
  {
   "cell_type": "markdown",
   "metadata": {},
   "source": [
    "The n-queens puzzle is the problem of placing n queens on an n x n chessboard such that no two queens attack each other.\n",
    "\n",
    "Given an integer n, return the number of distinct solutions to the n-queens puzzle.\n",
    "\n",
    " \n",
    "\n",
    "Example 1:\n",
    "\n",
    "\n",
    "    Input: n = 4\n",
    "    Output: 2\n",
    "    Explanation: There are two distinct solutions to the 4-queens puzzle as shown.\n",
    "Example 2:\n",
    "\n",
    "    Input: n = 1\n",
    "    Output: 1\n",
    " \n",
    "\n",
    "Constraints:\n",
    "\n",
    "    1 <= n <= 9"
   ]
  },
  {
   "cell_type": "markdown",
   "metadata": {},
   "source": [
    "My Solution: Using Backtracking and Visited"
   ]
  },
  {
   "cell_type": "code",
   "execution_count": null,
   "metadata": {},
   "outputs": [],
   "source": [
    "class Solution:\n",
    "    def totalNQueens(self, n: int) -> int:\n",
    "        result = [0]\n",
    "        visited = [[False for _ in range(n)] for _ in range(n)]\n",
    "        self.findSolution(visited, 0, result)\n",
    "        return result[0]\n",
    "    def findSolution(self, visited, rowIndex, result):\n",
    "        if rowIndex == len(visited):\n",
    "            result[0] += 1\n",
    "            return\n",
    "        for pos in range(0,len(visited[0])):\n",
    "            if self.canPlaceQueen(visited, rowIndex, pos):\n",
    "                tempVisited = [visited[i][:] for i in range(len(visited))]\n",
    "                self.placeQueen(visited, rowIndex, pos)\n",
    "                self.findSolution(visited, rowIndex + 1, result)\n",
    "                visited = tempVisited\n",
    "        return\n",
    "    def canPlaceQueen(self, visited, rowIndex, pos):\n",
    "        return not visited[rowIndex][pos]\n",
    "    def placeQueen(self, visited, rowIndex, pos):\n",
    "        for i in range(0,len(visited[0])):\n",
    "            visited[rowIndex][i] = True\n",
    "        for i in range(0,len(visited)):\n",
    "            visited[i][pos] = True\n",
    "        for i in range(0,len(visited[0])):\n",
    "            row1 = rowIndex + pos - i\n",
    "            if row1 > 0 and row1 < len(visited):\n",
    "                visited[row1][i] = True\n",
    "            row2 = rowIndex - pos + i\n",
    "            if row2 > 0 and row2 < len(visited):\n",
    "                visited[row2][i] = True\n",
    "        return"
   ]
  },
  {
   "cell_type": "markdown",
   "metadata": {},
   "source": [
    "My Solutions 2: Using Backtracking"
   ]
  },
  {
   "cell_type": "code",
   "execution_count": null,
   "metadata": {},
   "outputs": [],
   "source": [
    "class Solution:\n",
    "    def totalNQueens(self, n: int) -> int:\n",
    "        def could_place(row,col):\n",
    "            return not (cols[col] + hill_diag[row + col] + dale_diag[row-col])\n",
    "        def place_queen(row,col):\n",
    "            queens_pos.append([row,col])\n",
    "            cols[col] = hill_diag[row + col] = dale_diag[row-col] = 1\n",
    "        def remove_queen(row,col):\n",
    "            queens_pos.remove([row,col])\n",
    "            cols[col] = hill_diag[row + col] = dale_diag[row-col] = 0\n",
    "        def add_solution():\n",
    "            sol = []\n",
    "            for _,col in sorted(queens_pos):\n",
    "                sol.append(\".\"*col+\"Q\"+\".\"*(n-col-1))\n",
    "            solutions.append(sol)\n",
    "        def back_tracking(row):\n",
    "            # Annotate global inside function\n",
    "            global nums\n",
    "            for col in range(n):\n",
    "                if could_place(row,col):\n",
    "                    place_queen(row,col)\n",
    "                    if row + 1 == n:\n",
    "                        nums += 1\n",
    "                    else:\n",
    "                        back_tracking(row + 1)\n",
    "                    remove_queen(row,col)\n",
    "            \n",
    "            \n",
    "        cols = [0]*n\n",
    "        hill_diag = [0]*(2*n-1)\n",
    "        dale_diag = [0]*(2*n-1)\n",
    "        queens_pos = []\n",
    "        # Annotate global outside function\n",
    "        global nums\n",
    "        nums = 0\n",
    "        back_tracking(0)\n",
    "        return nums"
   ]
  },
  {
   "cell_type": "markdown",
   "metadata": {},
   "source": [
    "### Result\n",
    "Runtime: 64 ms, faster than 52.32% of Python3 online submissions for N-Queens II.\n",
    "\n",
    "Memory Usage: 14 MB, less than 96.39% of Python3 online submissions for N-Queens II."
   ]
  },
  {
   "cell_type": "markdown",
   "metadata": {},
   "source": [
    "Good Solutions: Using Backtracking but not actually placing the queens."
   ]
  },
  {
   "cell_type": "code",
   "execution_count": null,
   "metadata": {},
   "outputs": [],
   "source": [
    "class Solution:\n",
    "    def totalNQueens(self, n):\n",
    "        def backtrack(row, diagonals, anti_diagonals, cols):\n",
    "            # Base case - N queens have been placed\n",
    "            if row == n:\n",
    "                return 1\n",
    "\n",
    "            solutions = 0\n",
    "            for col in range(n):\n",
    "                curr_diagonal = row - col\n",
    "                curr_anti_diagonal = row + col\n",
    "                # If the queen is not placeable\n",
    "                if (col in cols \n",
    "                      or curr_diagonal in diagonals \n",
    "                      or curr_anti_diagonal in anti_diagonals):\n",
    "                    continue\n",
    "\n",
    "                # \"Add\" the queen to the board\n",
    "                cols.add(col)\n",
    "                diagonals.add(curr_diagonal)\n",
    "                anti_diagonals.add(curr_anti_diagonal)\n",
    "\n",
    "                # Move on to the next row with the updated board state\n",
    "                solutions += backtrack(row + 1, diagonals, anti_diagonals, cols)\n",
    "\n",
    "                # \"Remove\" the queen from the board since we have already\n",
    "                # explored all valid paths using the above function call\n",
    "                cols.remove(col)\n",
    "                diagonals.remove(curr_diagonal)\n",
    "                anti_diagonals.remove(curr_anti_diagonal)\n",
    "\n",
    "            return solutions\n",
    "\n",
    "        return backtrack(0, set(), set(), set())"
   ]
  },
  {
   "cell_type": "markdown",
   "metadata": {},
   "source": [
    "### Result\n",
    "Runtime: 44 ms, faster than 91.24% of Python3 online submissions for N-Queens II.\n",
    "\n",
    "Memory Usage: 14.2 MB, less than 64.82% of Python3 online submissions for N-Queens II."
   ]
  }
 ],
 "metadata": {
  "kernelspec": {
   "display_name": "Python 3",
   "language": "python",
   "name": "python3"
  },
  "language_info": {
   "codemirror_mode": {
    "name": "ipython",
    "version": 3
   },
   "file_extension": ".py",
   "mimetype": "text/x-python",
   "name": "python",
   "nbconvert_exporter": "python",
   "pygments_lexer": "ipython3",
   "version": "3.8.8"
  }
 },
 "nbformat": 4,
 "nbformat_minor": 4
}
