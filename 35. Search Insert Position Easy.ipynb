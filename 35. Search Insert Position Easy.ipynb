{
 "cells": [
  {
   "cell_type": "markdown",
   "metadata": {},
   "source": [
    "Given a sorted array of distinct integers and a target value, return the index if the target is found. If not, return the index where it would be if it were inserted in order.\n",
    "\n",
    "You must write an algorithm with O(log n) runtime complexity.\n",
    "\n",
    " \n",
    "\n",
    "Example 1:\n",
    "\n",
    "    Input: nums = [1,3,5,6], target = 5\n",
    "    Output: 2\n",
    "Example 2:\n",
    "\n",
    "    Input: nums = [1,3,5,6], target = 2\n",
    "    Output: 1\n",
    "Example 3:\n",
    "\n",
    "    Input: nums = [1,3,5,6], target = 7\n",
    "    Output: 4\n",
    "Example 4:\n",
    "\n",
    "    Input: nums = [1,3,5,6], target = 0\n",
    "    Output: 0\n",
    "Example 5:\n",
    "\n",
    "    Input: nums = [1], target = 0\n",
    "    Output: 0\n",
    " \n",
    "\n",
    "Constraints:\n",
    "\n",
    "    1 <= nums.length <= 10**4\n",
    "    -10**4 <= nums[i] <= 10**4\n",
    "    nums contains distinct values sorted in ascending order.\n",
    "    -10**4 <= target <= 10**4"
   ]
  },
  {
   "cell_type": "markdown",
   "metadata": {},
   "source": [
    "My Solution:"
   ]
  },
  {
   "cell_type": "code",
   "execution_count": null,
   "metadata": {},
   "outputs": [],
   "source": [
    "class Solution:\n",
    "    def searchInsert(self, nums: List[int], target: int) -> int:\n",
    "        if not nums:\n",
    "            return 0\n",
    "        left, right = 0, len(nums) - 1\n",
    "        while right >= left:\n",
    "            mid = (right + left)//2\n",
    "            if nums[mid] == target:\n",
    "                return mid\n",
    "            if right == left:\n",
    "                if nums[left] < target:\n",
    "                    return left + 1\n",
    "                else:\n",
    "                    return left\n",
    "            elif nums[mid] > target:\n",
    "                if right - left == 1:\n",
    "                    return left\n",
    "                right = mid - 1\n",
    "            else:\n",
    "                left = mid + 1\n",
    "                "
   ]
  },
  {
   "cell_type": "markdown",
   "metadata": {},
   "source": [
    "Runtime: 40 ms, faster than 97.18% of Python3 online submissions for Search Insert Position.\n",
    "    \n",
    "Memory Usage: 15.1 MB, less than 20.04% of Python3 online submissions for Search Insert Position."
   ]
  }
 ],
 "metadata": {
  "kernelspec": {
   "display_name": "Python 3",
   "language": "python",
   "name": "python3"
  },
  "language_info": {
   "codemirror_mode": {
    "name": "ipython",
    "version": 3
   },
   "file_extension": ".py",
   "mimetype": "text/x-python",
   "name": "python",
   "nbconvert_exporter": "python",
   "pygments_lexer": "ipython3",
   "version": "3.8.5"
  }
 },
 "nbformat": 4,
 "nbformat_minor": 4
}
