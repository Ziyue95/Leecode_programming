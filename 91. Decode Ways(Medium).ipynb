{
 "cells": [
  {
   "cell_type": "markdown",
   "metadata": {},
   "source": [
    "A message containing letters from A-Z can be encoded into numbers using the following mapping:\n",
    "\n",
    "'A' -> \"1\"\n",
    "\n",
    "'B' -> \"2\"\n",
    "\n",
    "...\n",
    "\n",
    "'Z' -> \"26\"\n",
    "\n",
    "To decode an encoded message, all the digits must be grouped then mapped back into letters using the reverse of the mapping above (there may be multiple ways). For example, \"11106\" can be mapped into:\n",
    "\n",
    "\"AAJF\" with the grouping (1 1 10 6)\n",
    "\n",
    "\"KJF\" with the grouping (11 10 6)\n",
    "\n",
    "Note that the grouping (1 11 06) is invalid because \"06\" cannot be mapped into 'F' since \"6\" is different from \"06\".\n",
    "\n",
    "Given a string s containing only digits, return the number of ways to decode it.\n",
    "\n",
    "The answer is guaranteed to fit in a 32-bit integer.\n",
    "\n",
    " \n",
    "\n",
    "Example 1:\n",
    "\n",
    "Input: s = \"12\"\n",
    "    \n",
    "Output: 2\n",
    "    \n",
    "Explanation: \"12\" could be decoded as \"AB\" (1 2) or \"L\" (12).\n",
    "    \n",
    "Example 2:\n",
    "\n",
    "Input: s = \"226\"\n",
    "    \n",
    "Output: 3\n",
    "    \n",
    "Explanation: \"226\" could be decoded as \"BZ\" (2 26), \"VF\" (22 6), or \"BBF\" (2 2 6).\n",
    "    \n",
    "Example 3:\n",
    "\n",
    "Input: s = \"0\"\n",
    "    \n",
    "Output: 0\n",
    "    \n",
    "Explanation: There is no character that is mapped to a number starting with 0. The only valid mappings with 0 are 'J' -> \"10\" and 'T' -> \"20\", neither of which start with 0.\n",
    "Hence, there are no valid ways to decode this since all digits need to be mapped.\n",
    "Example 4:\n",
    "\n",
    "Input: s = \"06\"\n",
    "    \n",
    "Output: 0\n",
    "    \n",
    "Explanation: \"06\" cannot be mapped to \"F\" because of the leading zero (\"6\" is different from \"06\").\n",
    " \n",
    "\n",
    "Constraints:\n",
    "\n",
    "1 <= s.length <= 100\n",
    "\n",
    "s contains only digits and may contain leading zero(s)."
   ]
  },
  {
   "cell_type": "markdown",
   "metadata": {},
   "source": [
    "Good Solution:"
   ]
  },
  {
   "cell_type": "markdown",
   "metadata": {},
   "source": [
    "Using Dynamic programming:"
   ]
  },
  {
   "cell_type": "code",
   "execution_count": 11,
   "metadata": {},
   "outputs": [
    {
     "name": "stdout",
     "output_type": "stream",
     "text": [
      "2\n",
      "3\n",
      "0\n"
     ]
    }
   ],
   "source": [
    "class Solution:\n",
    "    def numDecodings(self, s):\n",
    "        if not s:\n",
    "            return 0\n",
    "\n",
    "        dp = [0 for x in range(len(s) + 1)]\n",
    "        dp[0] = 1\n",
    "        dp[1] = 1 if 0 < int(s[0]) <= 9 else 0\n",
    "\n",
    "        for i in range(2, len(s) + 1):\n",
    "            if 0 < int(s[i-1:i]) <= 9:\n",
    "                dp[i] += dp[i - 1]\n",
    "            if s[i-2:i][0] != '0' and int(s[i-2:i]) <= 26:\n",
    "                dp[i] += dp[i - 2]\n",
    "        return dp[len(s)]\n",
    "    \n",
    "if __name__ == '__main__':\n",
    "    # begin\n",
    "    s = Solution()\n",
    "    print(s.numDecodings(\"12\"))\n",
    "    print(s.numDecodings(\"226\"))\n",
    "    print(s.numDecodings(\"06\")  )  "
   ]
  },
  {
   "cell_type": "markdown",
   "metadata": {},
   "source": [
    "### Result\n",
    "Runtime: 28 ms, faster than 87.35% of Python3 online submissions for Decode Ways.\n",
    "\n",
    "Memory Usage: 14.4 MB, less than 21.84% of Python3 online submissions for Decode Ways."
   ]
  }
 ],
 "metadata": {
  "kernelspec": {
   "display_name": "Python 3",
   "language": "python",
   "name": "python3"
  },
  "language_info": {
   "codemirror_mode": {
    "name": "ipython",
    "version": 3
   },
   "file_extension": ".py",
   "mimetype": "text/x-python",
   "name": "python",
   "nbconvert_exporter": "python",
   "pygments_lexer": "ipython3",
   "version": "3.8.5"
  }
 },
 "nbformat": 4,
 "nbformat_minor": 4
}
