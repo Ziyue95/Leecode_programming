{
 "cells": [
  {
   "cell_type": "markdown",
   "id": "8ac7b471",
   "metadata": {},
   "source": [
    "You are given the root of a binary search tree (BST), where exactly two nodes of the tree were swapped by mistake. Recover the tree without changing its structure.\n",
    "\n",
    "Follow up: A solution using O(n) space is pretty straight forward. Could you devise a constant space solution?\n",
    "    \n",
    "Example 1:\n",
    "\n",
    "\n",
    "    Input: root = [1,3,null,null,2]\n",
    "    Output: [3,1,null,null,2]\n",
    "    Explanation: 3 cannot be a left child of 1 because 3 > 1. Swapping 1 and 3 makes the BST valid.\n",
    "Example 2:\n",
    "\n",
    "\n",
    "    Input: root = [3,1,4,null,null,2]\n",
    "    Output: [2,1,4,null,null,3]\n",
    "    Explanation: 2 cannot be in the right subtree of 3 because 2 < 3. Swapping 2 and 3 makes the BST valid.\n",
    " \n",
    "\n",
    "Constraints:\n",
    "\n",
    "    The number of nodes in the tree is in the range [2, 1000].\n",
    "    -2**31 <= Node.val <= 2**31 - 1"
   ]
  },
  {
   "cell_type": "markdown",
   "id": "0329fe0b",
   "metadata": {},
   "source": [
    "My Solution: Use in-order_traveral as generator"
   ]
  },
  {
   "cell_type": "code",
   "execution_count": null,
   "id": "e27d975c",
   "metadata": {},
   "outputs": [],
   "source": [
    "# Definition for a binary tree node.\n",
    "# class TreeNode:\n",
    "#     def __init__(self, val=0, left=None, right=None):\n",
    "#         self.val = val\n",
    "#         self.left = left\n",
    "#         self.right = right\n",
    "class Solution:\n",
    "    def recoverTree(self, root: TreeNode) -> None:\n",
    "        def in_order_traversal(root):\n",
    "            stack,node = [],root\n",
    "            while node or stack:\n",
    "                while node:\n",
    "                    stack.append(node)\n",
    "                    node = node.left\n",
    "                node = stack.pop()\n",
    "                yield node\n",
    "                node = node.right\n",
    "        time = 0\n",
    "        prev = None\n",
    "        store = []\n",
    "        for curr in in_order_traversal(root):\n",
    "            if prev and prev.val > curr.val:\n",
    "                if time == 0:\n",
    "                    store.append(prev)\n",
    "                    store.append(curr)\n",
    "                    time += 1\n",
    "                else:\n",
    "                    store.append(prev)\n",
    "                    store.append(curr)\n",
    "                    time += 1\n",
    "            prev = curr\n",
    "        #when flip happens on adjacent node\n",
    "        if time == 1:\n",
    "            store[0].val,store[1].val = store[1].val,store[0].val\n",
    "        #when flip happens on far-away node\n",
    "        else:\n",
    "            sorted_store = sorted(store,key=lambda x:x.val)\n",
    "            sorted_val = [i.val for i in sorted_store]\n",
    "            for index in range(len(store)):\n",
    "                store[index].val = sorted_val[index]"
   ]
  },
  {
   "cell_type": "markdown",
   "id": "43722e5e",
   "metadata": {},
   "source": [
    "Good Solution:"
   ]
  },
  {
   "cell_type": "code",
   "execution_count": 6,
   "id": "643a46dd",
   "metadata": {},
   "outputs": [],
   "source": [
    "# Definition for a binary tree node.\n",
    "# class TreeNode:\n",
    "#     def __init__(self, val=0, left=None, right=None):\n",
    "#         self.val = val\n",
    "#         self.left = left\n",
    "#         self.right = right\n",
    "class Solution:\n",
    "    def recoverTree(self, root: TreeNode) -> None:\n",
    "        \"\"\"\n",
    "        Do not return anything, modify root in-place instead.\n",
    "        \"\"\"\n",
    "        # get in-order traversal, sort, check the difference\n",
    "        container = []\n",
    "        def traverse(node):\n",
    "            if not node:\n",
    "                return\n",
    "            traverse(node.left)\n",
    "            container.append((node.val, node))\n",
    "            traverse(node.right)\n",
    "        traverse(root)\n",
    "        target = sorted(container,key = lambda x: x[0])\n",
    "        for i in range(len(container)):\n",
    "            currNode, targetNode = container[i][1], target[i][1]\n",
    "            if currNode != targetNode:\n",
    "                currNode.val, targetNode.val = targetNode.val, currNode.val\n",
    "                break"
   ]
  },
  {
   "cell_type": "markdown",
   "id": "d645be6b",
   "metadata": {},
   "source": [
    "Other Solution: "
   ]
  },
  {
   "cell_type": "code",
   "execution_count": null,
   "id": "1880ad04",
   "metadata": {},
   "outputs": [],
   "source": [
    "class Solution:\n",
    "    def recoverTree(self, root: TreeNode) -> None:\n",
    "        def morrisInOrder(root):\n",
    "            while root:\n",
    "                if not root.left:\n",
    "                    yield root\n",
    "                    root = root.right\n",
    "                else:    \n",
    "                    prev = root.left\n",
    "                    while prev.right and prev.right != root:\n",
    "                        prev = prev.right\n",
    "                    if not prev.right:\n",
    "                        prev.right = root\n",
    "                        root = root.left\n",
    "                    else:\n",
    "                        yield root\n",
    "                        prev.right = None\n",
    "                        root = root.right\n",
    "        prev, first, second = None, None, None\n",
    "        for curr in morrisInOrder(root):\n",
    "            if prev and prev.val > curr.val:\n",
    "                if not first:\n",
    "                    first = prev\n",
    "                second = curr\n",
    "            prev = curr\n",
    "        first.val, second.val = second.val, first.val "
   ]
  },
  {
   "cell_type": "code",
   "execution_count": 10,
   "id": "c3ec825e",
   "metadata": {},
   "outputs": [],
   "source": [
    "class TreeNode:\n",
    "    def __init__(self, val=0, left=None, right=None):\n",
    "        self.val = val\n",
    "        self.left = left\n",
    "        self.right = right"
   ]
  },
  {
   "cell_type": "code",
   "execution_count": 11,
   "id": "71a440e8",
   "metadata": {},
   "outputs": [],
   "source": [
    "a = TreeNode(1, TreeNode(2),TreeNode(3))"
   ]
  },
  {
   "cell_type": "code",
   "execution_count": 16,
   "id": "d7d141de",
   "metadata": {},
   "outputs": [],
   "source": [
    "a.left = a"
   ]
  },
  {
   "cell_type": "code",
   "execution_count": 21,
   "id": "54554fd1",
   "metadata": {},
   "outputs": [
    {
     "data": {
      "text/plain": [
       "[1, 2, 3]"
      ]
     },
     "execution_count": 21,
     "metadata": {},
     "output_type": "execute_result"
    }
   ],
   "source": [
    "sorted([3,1,2])"
   ]
  }
 ],
 "metadata": {
  "kernelspec": {
   "display_name": "Python 3",
   "language": "python",
   "name": "python3"
  },
  "language_info": {
   "codemirror_mode": {
    "name": "ipython",
    "version": 3
   },
   "file_extension": ".py",
   "mimetype": "text/x-python",
   "name": "python",
   "nbconvert_exporter": "python",
   "pygments_lexer": "ipython3",
   "version": "3.8.8"
  }
 },
 "nbformat": 4,
 "nbformat_minor": 5
}
