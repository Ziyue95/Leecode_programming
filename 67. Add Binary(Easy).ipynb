{
 "cells": [
  {
   "cell_type": "markdown",
   "metadata": {},
   "source": [
    "Given two binary strings a and b, return their sum as a binary string.\n",
    "\n",
    "Example 1:\n",
    "\n",
    "Input: a = \"11\", b = \"1\"\n",
    "    \n",
    "Output: \"100\"\n",
    "    \n",
    "Example 2:\n",
    "\n",
    "Input: a = \"1010\", b = \"1011\"\n",
    "    \n",
    "Output: \"10101\"\n",
    " \n",
    "Constraints:\n",
    "\n",
    "1 <= a.length, b.length <= 104\n",
    "\n",
    "a and b consist only of '0' or '1' characters.\n",
    "\n",
    "Each string does not contain leading zeros except for the zero itself.\n"
   ]
  },
  {
   "cell_type": "markdown",
   "metadata": {},
   "source": [
    "My Solution:"
   ]
  },
  {
   "cell_type": "code",
   "execution_count": 13,
   "metadata": {},
   "outputs": [
    {
     "name": "stdout",
     "output_type": "stream",
     "text": [
      "100\n",
      "10101\n"
     ]
    }
   ],
   "source": [
    "class Solution(object):\n",
    "    def addBinary(self, a, b):\n",
    "        \"\"\"\n",
    "        :type a: str\n",
    "        :type b: str\n",
    "        :rtype: str\n",
    "        \"\"\"\n",
    "        if a == \"0\":\n",
    "            return b\n",
    "        if b == \"0\":\n",
    "            return a\n",
    "        list_a = list(a)\n",
    "        list_b = list(b)\n",
    "        sum_a_b = []\n",
    "        plus = 0\n",
    "        while list_a != [] and list_b != []:\n",
    "            sums = int(list_a.pop())+int(list_b.pop())+plus \n",
    "            if sums == 0:\n",
    "                sum_a_b.insert(0,\"0\")\n",
    "                plus = 0\n",
    "            elif sums == 1:\n",
    "                sum_a_b.insert(0,\"1\")\n",
    "                plus = 0\n",
    "            elif sums == 2:\n",
    "                sum_a_b.insert(0,\"0\")\n",
    "                plus = 1    \n",
    "            else:\n",
    "                sum_a_b.insert(0,\"1\")\n",
    "                plus = 1\n",
    "        if list_b != []:\n",
    "            list_a = list_b\n",
    "        while list_a != []: \n",
    "            if plus == 0:\n",
    "                sum_a_b = list_a + sum_a_b\n",
    "                return \"\".join(sum_a_b)\n",
    "            sum1 = list_a.pop()\n",
    "            if sum1 == \"0\":\n",
    "                sum_a_b.insert(0,\"1\")\n",
    "                plus = 0\n",
    "            elif sum1 == \"1\":\n",
    "                sum_a_b.insert(0,\"0\")\n",
    "                plus = 1\n",
    "        if plus == 1:\n",
    "            sum_a_b.insert(0,\"1\")\n",
    "        \n",
    "        return \"\".join(sum_a_b)\n",
    "    \n",
    "if __name__ == '__main__':\n",
    "    # begin\n",
    "    s = Solution()\n",
    "    print(s.addBinary(\"11\",\"1\"))\n",
    "    print(s.addBinary(\"1010\",\"1011\"))    "
   ]
  },
  {
   "cell_type": "markdown",
   "metadata": {},
   "source": [
    "### Result"
   ]
  },
  {
   "cell_type": "markdown",
   "metadata": {},
   "source": [
    "Runtime: 44 ms, faster than 5.78% of Python online submissions for Add Binary.\n",
    "    \n",
    "Memory Usage: 13.7 MB, less than 5.96% of Python online submissions for Add Binary."
   ]
  },
  {
   "cell_type": "markdown",
   "metadata": {},
   "source": [
    "Good Solution:"
   ]
  },
  {
   "cell_type": "code",
   "execution_count": 1,
   "metadata": {},
   "outputs": [
    {
     "name": "stdout",
     "output_type": "stream",
     "text": [
      "100\n",
      "10101\n"
     ]
    }
   ],
   "source": [
    "class Solution:\n",
    "    def addBinary(self, a, b):\n",
    "        res = ''\n",
    "        carry = 0\n",
    "        \n",
    "        aA = list(a)\n",
    "        bA = list(b)\n",
    "         \n",
    "        while aA or bA or carry:\n",
    "            if aA:\n",
    "                carry += int(aA.pop())\n",
    "            if bA:\n",
    "                carry += int(bA.pop())\n",
    "            \n",
    "            res = str(carry%2) + res\n",
    "            \n",
    "            carry //= 2\n",
    "                \n",
    "        return res\n",
    "        \n",
    "if __name__ == '__main__':\n",
    "    # begin\n",
    "    s = Solution()\n",
    "    print(s.addBinary(\"11\",\"1\"))\n",
    "    print(s.addBinary(\"1010\",\"1011\"))    "
   ]
  },
  {
   "cell_type": "code",
   "execution_count": 2,
   "metadata": {},
   "outputs": [
    {
     "name": "stdout",
     "output_type": "stream",
     "text": [
      "100\n",
      "10101\n"
     ]
    }
   ],
   "source": [
    "class Solution(object):\n",
    "    def addBinary(self, a, b):\n",
    "        i, j, carry, res = len(a)-1, len(b)-1, 0, \"\"\n",
    "        while i >= 0 or j >= 0 or carry:\n",
    "            if i >= 0:\n",
    "                carry += int(a[i])\n",
    "                i -= 1\n",
    "            if j >= 0:\n",
    "                carry += int(b[j])\n",
    "                j -= 1\n",
    "            res = str(carry%2) + res\n",
    "            carry //= 2\n",
    "        return res        \n",
    "    \n",
    "if __name__ == '__main__':\n",
    "    # begin\n",
    "    s = Solution()\n",
    "    print(s.addBinary(\"11\",\"1\"))\n",
    "    print(s.addBinary(\"1010\",\"1011\"))  "
   ]
  }
 ],
 "metadata": {
  "kernelspec": {
   "display_name": "Python 3",
   "language": "python",
   "name": "python3"
  },
  "language_info": {
   "codemirror_mode": {
    "name": "ipython",
    "version": 3
   },
   "file_extension": ".py",
   "mimetype": "text/x-python",
   "name": "python",
   "nbconvert_exporter": "python",
   "pygments_lexer": "ipython3",
   "version": "3.8.5"
  }
 },
 "nbformat": 4,
 "nbformat_minor": 4
}
