{
 "cells": [
  {
   "cell_type": "markdown",
   "id": "832cb155",
   "metadata": {},
   "source": [
    "Given the root of a binary tree, return the bottom-up level order traversal of its nodes' values. (i.e., from left to right, level by level from leaf to root).\n",
    "\n",
    " \n",
    "\n",
    "Example 1:\n",
    "\n",
    "\n",
    "    Input: root = [3,9,20,null,null,15,7]\n",
    "    Output: [[15,7],[9,20],[3]]\n",
    "Example 2:\n",
    "\n",
    "    Input: root = [1]\n",
    "    Output: [[1]]\n",
    "Example 3:\n",
    "\n",
    "    Input: root = []\n",
    "    Output: []\n",
    " \n",
    "\n",
    "Constraints:\n",
    "\n",
    "    The number of nodes in the tree is in the range [0, 2000].\n",
    "    -1000 <= Node.val <= 1000"
   ]
  },
  {
   "cell_type": "markdown",
   "id": "05994eb9",
   "metadata": {},
   "source": [
    "My Solution:"
   ]
  },
  {
   "cell_type": "code",
   "execution_count": null,
   "id": "f3639f37",
   "metadata": {},
   "outputs": [],
   "source": [
    "# Definition for a binary tree node.\n",
    "# class TreeNode:\n",
    "#     def __init__(self, val=0, left=None, right=None):\n",
    "#         self.val = val\n",
    "#         self.left = left\n",
    "#         self.right = right\n",
    "class Solution:\n",
    "    def levelOrderBottom(self, root: TreeNode) -> List[List[int]]:\n",
    "        all_stacks = []\n",
    "        if not root:\n",
    "            return all_stacks\n",
    "        root_queue = [root]\n",
    "        while root_queue:\n",
    "            next_roots = []\n",
    "            current_stack = []\n",
    "            while root_queue:\n",
    "                root = root_queue.pop(0)\n",
    "                current_stack += [root.val]\n",
    "                if root.left:\n",
    "                    next_roots+=[root.left]\n",
    "                if root.right:\n",
    "                    next_roots+=[root.right]\n",
    "            all_stacks = [current_stack] + all_stacks\n",
    "            root_queue = next_roots\n",
    "        return all_stacks"
   ]
  },
  {
   "cell_type": "markdown",
   "id": "9132e1e7",
   "metadata": {},
   "source": [
    "Runtime: 36 ms, faster than 54.64% of Python3 online submissions for Binary Tree Level Order Traversal II.\n",
    "    \n",
    "Memory Usage: 14.6 MB, less than 68.19% of Python3 online submissions for Binary Tree Level Order Traversal II."
   ]
  }
 ],
 "metadata": {
  "kernelspec": {
   "display_name": "Python 3",
   "language": "python",
   "name": "python3"
  },
  "language_info": {
   "codemirror_mode": {
    "name": "ipython",
    "version": 3
   },
   "file_extension": ".py",
   "mimetype": "text/x-python",
   "name": "python",
   "nbconvert_exporter": "python",
   "pygments_lexer": "ipython3",
   "version": "3.8.8"
  }
 },
 "nbformat": 4,
 "nbformat_minor": 5
}
