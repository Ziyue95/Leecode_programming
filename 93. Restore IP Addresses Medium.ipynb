{
 "cells": [
  {
   "cell_type": "markdown",
   "metadata": {},
   "source": [
    "Given a string s containing only digits, return all possible valid IP addresses that can be obtained from s. You can return them in any order.\n",
    "\n",
    "A valid IP address consists of exactly four integers, each integer is between 0 and 255, separated by single dots and cannot have leading zeros. For example, \"0.1.2.201\" and \"192.168.1.1\" are valid IP addresses and \"0.011.255.245\", \"192.168.1.312\" and \"192.168@1.1\" are invalid IP addresses. \n",
    "\n",
    " \n",
    "\n",
    "Example 1:\n",
    "\n",
    "    Input: s = \"25525511135\"\n",
    "    Output: [\"255.255.11.135\",\"255.255.111.35\"]\n",
    "Example 2:\n",
    "\n",
    "    Input: s = \"0000\"\n",
    "    Output: [\"0.0.0.0\"]\n",
    "Example 3:\n",
    "\n",
    "    Input: s = \"1111\"\n",
    "    Output: [\"1.1.1.1\"]\n",
    "Example 4:\n",
    "\n",
    "    Input: s = \"010010\"\n",
    "    Output: [\"0.10.0.10\",\"0.100.1.0\"]\n",
    "Example 5:\n",
    "\n",
    "    Input: s = \"101023\"\n",
    "    Output: [\"1.0.10.23\",\"1.0.102.3\",\"10.1.0.23\",\"10.10.2.3\",\"101.0.2.3\"]\n",
    " \n",
    "\n",
    "Constraints:\n",
    "\n",
    "    0 <= s.length <= 3000\n",
    "    s consists of digits only."
   ]
  },
  {
   "cell_type": "markdown",
   "metadata": {},
   "source": [
    "My Solution: Using dfs"
   ]
  },
  {
   "cell_type": "code",
   "execution_count": null,
   "metadata": {},
   "outputs": [],
   "source": [
    "class Solution:\n",
    "    def restoreIpAddresses(self, s: str) -> List[str]:\n",
    "        len_s = len(s)\n",
    "        Valid_IPS = []\n",
    "        def dfs(rounds,start,prev):\n",
    "            if start == len_s and rounds == 4:\n",
    "                print(prev)\n",
    "                Valid_IPS.append(prev[:-1])\n",
    "                return\n",
    "            if rounds == 4 or start == len_s:\n",
    "                return\n",
    "            \n",
    "            if s[start] == \"0\":\n",
    "                dfs(rounds+1,start+1,prev+\"0.\")\n",
    "                return\n",
    "            nex = start\n",
    "            sums = int(s[nex])\n",
    "            while nex < len_s and sums <= 255:                \n",
    "                dfs(rounds+1,nex+1,prev+s[start:nex+1]+\".\")\n",
    "                nex += 1\n",
    "                if nex < len_s:\n",
    "                    sums = sums*10 + int(s[nex])\n",
    "                \n",
    "        dfs(0,0,\"\")\n",
    "        return Valid_IPS"
   ]
  },
  {
   "cell_type": "markdown",
   "metadata": {},
   "source": [
    "### Result\n",
    "Runtime: 32 ms, faster than 81.77% of Python3 online submissions for Restore IP Addresses.\n",
    "\n",
    "Memory Usage: 14.2 MB, less than 65.10% of Python3 online submissions for Restore IP Addresses."
   ]
  }
 ],
 "metadata": {
  "kernelspec": {
   "display_name": "Python 3",
   "language": "python",
   "name": "python3"
  },
  "language_info": {
   "codemirror_mode": {
    "name": "ipython",
    "version": 3
   },
   "file_extension": ".py",
   "mimetype": "text/x-python",
   "name": "python",
   "nbconvert_exporter": "python",
   "pygments_lexer": "ipython3",
   "version": "3.8.5"
  }
 },
 "nbformat": 4,
 "nbformat_minor": 4
}
