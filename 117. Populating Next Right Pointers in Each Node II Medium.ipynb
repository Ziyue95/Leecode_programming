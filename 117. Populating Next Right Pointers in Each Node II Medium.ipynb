{
 "cells": [
  {
   "cell_type": "markdown",
   "id": "3b6ff012",
   "metadata": {},
   "source": [
    "My Solution: BFS"
   ]
  },
  {
   "cell_type": "code",
   "execution_count": null,
   "id": "cd80422e",
   "metadata": {},
   "outputs": [],
   "source": [
    "\"\"\"\n",
    "# Definition for a Node.\n",
    "class Node:\n",
    "    def __init__(self, val: int = 0, left: 'Node' = None, right: 'Node' = None, next: 'Node' = None):\n",
    "        self.val = val\n",
    "        self.left = left\n",
    "        self.right = right\n",
    "        self.next = next\n",
    "\"\"\"\n",
    "\n",
    "class Solution:\n",
    "    def connect(self, root: 'Node') -> 'Node':\n",
    "        if not root:\n",
    "            return root\n",
    "        queue = [root]\n",
    "        while queue:\n",
    "            nextQueue = []\n",
    "            while queue:\n",
    "                node = queue.pop(0)\n",
    "                if queue:\n",
    "                    node.next = queue[0]\n",
    "                if node.left:\n",
    "                    nextQueue.append(node.left)\n",
    "                if node.right:\n",
    "                    nextQueue.append(node.right)\n",
    "            queue = nextQueue\n",
    "        return root"
   ]
  },
  {
   "cell_type": "markdown",
   "id": "89b3cb06",
   "metadata": {},
   "source": [
    "Runtime: 52 ms, faster than 52.57% of Python3 online submissions for Populating Next Right Pointers in Each Node II.\n",
    "    \n",
    "Memory Usage: 15.4 MB, less than 49.07% of Python3 online submissions for Populating Next Right Pointers in Each Node II."
   ]
  }
 ],
 "metadata": {
  "kernelspec": {
   "display_name": "Python 3",
   "language": "python",
   "name": "python3"
  },
  "language_info": {
   "codemirror_mode": {
    "name": "ipython",
    "version": 3
   },
   "file_extension": ".py",
   "mimetype": "text/x-python",
   "name": "python",
   "nbconvert_exporter": "python",
   "pygments_lexer": "ipython3",
   "version": "3.8.8"
  }
 },
 "nbformat": 4,
 "nbformat_minor": 5
}
