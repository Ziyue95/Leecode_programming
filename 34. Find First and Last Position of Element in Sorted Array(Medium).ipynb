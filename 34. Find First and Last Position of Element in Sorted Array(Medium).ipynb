{
 "cells": [
  {
   "cell_type": "markdown",
   "metadata": {},
   "source": [
    "Given an array of integers nums sorted in ascending order, find the starting and ending position of a given target value.\n",
    "\n",
    "If target is not found in the array, return [-1, -1].\n",
    "\n",
    "Follow up: Could you write an algorithm with O(log n) runtime complexity?\n",
    "\n",
    " \n",
    "\n",
    "Example 1:\n",
    "\n",
    "    Input: nums = [5,7,7,8,8,10], target = 8\n",
    "    Output: [3,4]\n",
    "Example 2:\n",
    "\n",
    "    Input: nums = [5,7,7,8,8,10], target = 6\n",
    "    Output: [-1,-1]\n",
    "Example 3:\n",
    "\n",
    "    Input: nums = [], target = 0\n",
    "    Output: [-1,-1]\n",
    " \n",
    "\n",
    "Constraints:\n",
    "\n",
    "    0 <= nums.length <= 10**5\n",
    "    -10**9 <= nums[i] <= 10**9\n",
    "    nums is a non-decreasing array.\n",
    "    -10**9 <= target <= 10**9"
   ]
  },
  {
   "cell_type": "code",
   "execution_count": 1,
   "metadata": {},
   "outputs": [
    {
     "name": "stdout",
     "output_type": "stream",
     "text": [
      "4\n"
     ]
    }
   ],
   "source": [
    "if not []:\n",
    "    print(4)"
   ]
  },
  {
   "cell_type": "markdown",
   "metadata": {},
   "source": [
    "My Solution:"
   ]
  },
  {
   "cell_type": "code",
   "execution_count": null,
   "metadata": {},
   "outputs": [],
   "source": [
    "class Solution:\n",
    "    def searchRange(self, nums: List[int], target: int) -> List[int]:\n",
    "        if nums is None:\n",
    "            return [-1,-1]\n",
    "        l,r = 0,len(nums)-1\n",
    "        found = 0\n",
    "        while l <= r:\n",
    "            mid = (l+r)//2\n",
    "            if nums[mid] == target:\n",
    "                found = 1\n",
    "                break\n",
    "            elif nums[mid] < target:\n",
    "                l = mid + 1 #l will be on the left or at the left edge of target interval\n",
    "            elif nums[mid] > target:\n",
    "                r = mid - 1 #r will be on the right or at the right edge of target interval\n",
    "        if found == 0:\n",
    "            return [-1,-1]\n",
    "        else:\n",
    "            l1,l2,r1,r2 = l,l,r,r\n",
    "            while l1 <= r1:\n",
    "                p1 = (l1+r1)//2\n",
    "                if nums[p1] == target and (p1 == 0 or nums[p1-1] < target):\n",
    "                    break\n",
    "                else:\n",
    "                    if nums[p1-1] == target:\n",
    "                        r1 = p1 - 1\n",
    "                    elif nums[p1] < target:\n",
    "                        l1 = p1 + 1\n",
    "            while l2 <= r2:\n",
    "                p2 = (l2+r2)//2\n",
    "                if nums[p2] == target and (p2 == len(nums)-1 or nums[p2+1] > target):\n",
    "                    return [p1,p2]\n",
    "                else:\n",
    "                    if nums[p2+1] == target:\n",
    "                        l2 = p2 + 1\n",
    "                    elif nums[p2] > target:\n",
    "                        r2 = p2 - 1"
   ]
  },
  {
   "cell_type": "markdown",
   "metadata": {},
   "source": [
    "### Result\n",
    "Runtime: 76 ms, faster than 96.71% of Python3 online submissions for Find First and Last Position of Element in Sorted Array.\n",
    "\n",
    "Memory Usage: 15.4 MB, less than 49.27% of Python3 online submissions for Find First and Last Position of Element in Sorted Array."
   ]
  },
  {
   "cell_type": "markdown",
   "metadata": {},
   "source": [
    "Good Solution:"
   ]
  },
  {
   "cell_type": "code",
   "execution_count": null,
   "metadata": {},
   "outputs": [],
   "source": [
    "class Solution:\n",
    "    def searchRange(self, nums, target):\n",
    "        def binarySearchLeft(A, x):\n",
    "            left, right = 0, len(A) - 1\n",
    "            while left <= right:\n",
    "                mid = (left + right) // 2\n",
    "                if x > A[mid]: left = mid + 1\n",
    "                else: right = mid - 1\n",
    "            return left\n",
    "\n",
    "        def binarySearchRight(A, x):\n",
    "            left, right = 0, len(A) - 1\n",
    "            while left <= right:\n",
    "                mid = (left + right) // 2\n",
    "                if x >= A[mid]: left = mid + 1\n",
    "                else: right = mid - 1\n",
    "            return right\n",
    "\n",
    "        left, right = binarySearchLeft(nums, target), binarySearchRight(nums, target)\n",
    "        return (left, right) if left <= right else [-1, -1]"
   ]
  },
  {
   "cell_type": "markdown",
   "metadata": {},
   "source": [
    "### Result\n",
    "Runtime: 80 ms, faster than 88.17% of Python3 online submissions for Find First and Last Position of Element in Sorted Array.\n",
    "\n",
    "Memory Usage: 15.3 MB, less than 95.41% of Python3 online submissions for Find First and Last Position of Element in Sorted Array."
   ]
  }
 ],
 "metadata": {
  "kernelspec": {
   "display_name": "Python 3",
   "language": "python",
   "name": "python3"
  },
  "language_info": {
   "codemirror_mode": {
    "name": "ipython",
    "version": 3
   },
   "file_extension": ".py",
   "mimetype": "text/x-python",
   "name": "python",
   "nbconvert_exporter": "python",
   "pygments_lexer": "ipython3",
   "version": "3.8.5"
  }
 },
 "nbformat": 4,
 "nbformat_minor": 4
}
