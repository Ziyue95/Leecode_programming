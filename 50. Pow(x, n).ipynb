{
 "cells": [
  {
   "cell_type": "markdown",
   "metadata": {},
   "source": [
    "### 50. Pow(x, n)\n",
    "Implement pow(x, n), which calculates x raised to the power n (i.e. xn).\n",
    "\n",
    "Example 1:\n",
    "\n",
    "Input: x = 2.00000, n = 10\n",
    "    \n",
    "Output: 1024.00000\n",
    "    \n",
    "Example 2:\n",
    "\n",
    "Input: x = 2.10000, n = 3\n",
    "    \n",
    "Output: 9.26100\n",
    "    \n",
    "Example 3:\n",
    "\n",
    "Input: x = 2.00000, n = -2\n",
    "    \n",
    "Output: 0.25000\n",
    "    \n",
    "Explanation: $2^{-2}$ = 1/$2^2$ = 1/4 = 0.25\n",
    " \n",
    "\n",
    "Constraints:\n",
    "\n",
    "-100.0 < x < 100.0\n",
    "\n",
    "-$2^{31}$ <= n <= $2^{31}$-1"
   ]
  },
  {
   "cell_type": "markdown",
   "metadata": {},
   "source": [
    "My Solution:"
   ]
  },
  {
   "cell_type": "code",
   "execution_count": 1,
   "metadata": {},
   "outputs": [],
   "source": [
    "class Solution(object):\n",
    "    def myPow(self, x, n):\n",
    "        \"\"\"\n",
    "        :type x: float\n",
    "        :type n: int\n",
    "        :rtype: float\n",
    "        \"\"\"\n",
    "        if n == 0:\n",
    "            return 1\n",
    "        if n<0 : \n",
    "            return 1/self.myPow(x,-n)\n",
    "        if n > 0:\n",
    "            return x*self.myPow(x,n-1)"
   ]
  },
  {
   "cell_type": "markdown",
   "metadata": {},
   "source": [
    "### Summary\n",
    "Complexity is n which is too slow"
   ]
  },
  {
   "cell_type": "markdown",
   "metadata": {},
   "source": [
    "Solution with complexity log(n):"
   ]
  },
  {
   "cell_type": "code",
   "execution_count": 2,
   "metadata": {},
   "outputs": [],
   "source": [
    "class Solution(object):\n",
    "    def myPow(self, a, b):\n",
    "        if b == 0: return 1\n",
    "        if b < 0: return 1.0 / self.myPow(a, -b)\n",
    "        half = self.myPow(a, b // 2)\n",
    "        if b % 2 == 0:\n",
    "            return half * half\n",
    "        else:\n",
    "            return half * half * a"
   ]
  },
  {
   "cell_type": "markdown",
   "metadata": {},
   "source": [
    "### Summary\n",
    "Use dichotomy to reduce complextity"
   ]
  },
  {
   "cell_type": "markdown",
   "metadata": {},
   "source": [
    "Good Solution :"
   ]
  },
  {
   "cell_type": "code",
   "execution_count": 3,
   "metadata": {},
   "outputs": [],
   "source": [
    "class Solution(object):\n",
    "    def myPow(self, x, n):\n",
    "        if n == 0:\n",
    "            return 1\n",
    "        res ,curr = 1, abs(n)\n",
    "        while curr > 0:\n",
    "            if curr & 1 == 1:\n",
    "                res *= x\n",
    "            curr >>= 1\n",
    "            x *= x\n",
    "        if n < 0:\n",
    "            return 1 / res\n",
    "        return  res"
   ]
  },
  {
   "cell_type": "markdown",
   "metadata": {},
   "source": [
    "### Summary:\n",
    "Iteration is faster than recursion\n",
    "\n",
    "curr & 1 == 1 is faster than curr % 2 == 1; curr >>= 1 is faster than curr = curr // 2"
   ]
  },
  {
   "cell_type": "markdown",
   "metadata": {},
   "source": [
    "### The Operators:\n",
    "#### x << y\n",
    "Returns x with the bits shifted to the left by y places (and new bits on the right-hand-side are zeros). This is the same as multiplying x by 2**y.\n",
    "\n",
    "#### x >> y\n",
    "Returns x with the bits shifted to the right by y places. This is the same as //'ing x by 2**y.\n",
    "\n",
    "#### x & y\n",
    "Does a \"bitwise and\". Each bit of the output is 1 if the corresponding bit of x AND of y is 1, otherwise it's 0.\n",
    "\n",
    "#### x | y\n",
    "Does a \"bitwise or\". Each bit of the output is 0 if the corresponding bit of x AND of y is 0, otherwise it's 1.\n",
    "\n",
    "#### ~ x\n",
    "Returns the complement of x - the number you get by switching each 1 for a 0 and each 0 for a 1. This is the same as -x - 1.\n",
    "\n",
    "#### x ^ y\n",
    "Does a \"bitwise exclusive or\". Each bit of the output is the same as the corresponding bit in x if that bit in y is 0, and it's the complement of the bit in x if that bit in y is 1."
   ]
  }
 ],
 "metadata": {
  "kernelspec": {
   "display_name": "Python 3",
   "language": "python",
   "name": "python3"
  },
  "language_info": {
   "codemirror_mode": {
    "name": "ipython",
    "version": 3
   },
   "file_extension": ".py",
   "mimetype": "text/x-python",
   "name": "python",
   "nbconvert_exporter": "python",
   "pygments_lexer": "ipython3",
   "version": "3.8.5"
  }
 },
 "nbformat": 4,
 "nbformat_minor": 2
}
