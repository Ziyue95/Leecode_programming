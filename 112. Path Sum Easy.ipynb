{
 "cells": [
  {
   "cell_type": "markdown",
   "metadata": {},
   "source": [
    "Given the root of a binary tree and an integer targetSum, return true if the tree has a root-to-leaf path such that adding up all the values along the path equals targetSum.\n",
    "\n",
    "A leaf is a node with no children.\n",
    "\n",
    " \n",
    "\n",
    "Example 1:\n",
    "\n",
    "\n",
    "    Input: root = [5,4,8,11,null,13,4,7,2,null,null,null,1], targetSum = 22\n",
    "    Output: true\n",
    "Example 2:\n",
    "\n",
    "\n",
    "    Input: root = [1,2,3], targetSum = 5\n",
    "    Output: false\n",
    "Example 3:\n",
    "\n",
    "    Input: root = [1,2], targetSum = 0\n",
    "    Output: false\n",
    " \n",
    "\n",
    "Constraints:\n",
    "\n",
    "    The number of nodes in the tree is in the range [0, 5000].\n",
    "    -1000 <= Node.val <= 1000\n",
    "    -1000 <= targetSum <= 1000"
   ]
  },
  {
   "cell_type": "markdown",
   "metadata": {},
   "source": [
    "My Solution:"
   ]
  },
  {
   "cell_type": "code",
   "execution_count": null,
   "metadata": {},
   "outputs": [],
   "source": [
    "# Definition for a binary tree node.\n",
    "# class TreeNode:\n",
    "#     def __init__(self, val=0, left=None, right=None):\n",
    "#         self.val = val\n",
    "#         self.left = left\n",
    "#         self.right = right\n",
    "class Solution:\n",
    "    def hasPathSum(self, root: TreeNode, targetSum: int) -> bool:\n",
    "        if not root:\n",
    "            return False\n",
    "        def helper(root,targetSum):\n",
    "            if not root:\n",
    "                return targetSum == 0\n",
    "            if not root.left:\n",
    "                return helper(root.right,targetSum-root.val)\n",
    "            elif not root.right:\n",
    "                return helper(root.left,targetSum-root.val)\n",
    "            else:\n",
    "                return helper(root.left,targetSum-root.val) or helper(root.right,targetSum-root.val)\n",
    "        return helper(root,targetSum)"
   ]
  },
  {
   "cell_type": "markdown",
   "metadata": {},
   "source": [
    "### Result\n",
    "Runtime: 36 ms, faster than 93.58% of Python3 online submissions for Path Sum.\n",
    "\n",
    "Memory Usage: 15.7 MB, less than 89.90% of Python3 online submissions for Path Sum."
   ]
  },
  {
   "cell_type": "markdown",
   "metadata": {},
   "source": [
    "### Other Solutions:"
   ]
  },
  {
   "cell_type": "markdown",
   "metadata": {},
   "source": [
    "1. DFS Recursively"
   ]
  },
  {
   "cell_type": "code",
   "execution_count": 7,
   "metadata": {},
   "outputs": [],
   "source": [
    "class Solution:\n",
    "    def hasPathSum(self, root, sum):\n",
    "        res = []\n",
    "        self.dfs(root, sum, res)\n",
    "        return any(res)\n",
    "\n",
    "    def dfs(self, root, target, res):\n",
    "        if root:\n",
    "            if not root.left and not root.right and root.val == target:\n",
    "                res.append(True)\n",
    "            if root.left:\n",
    "                self.dfs(root.left, target-root.val, res)\n",
    "            if root.right:\n",
    "                self.dfs(root.right, target-root.val, res)"
   ]
  },
  {
   "cell_type": "markdown",
   "metadata": {},
   "source": [
    "2. DFS with stack"
   ]
  },
  {
   "cell_type": "code",
   "execution_count": 8,
   "metadata": {},
   "outputs": [],
   "source": [
    "class Solution:\n",
    "    def hasPathSum(self, root, sum):\n",
    "        if not root:\n",
    "            return False\n",
    "        stack = [(root, root.val)]\n",
    "        while stack:\n",
    "            curr, val = stack.pop()\n",
    "            if not curr.left and not curr.right and val == sum:\n",
    "                return True\n",
    "            if curr.right:\n",
    "                stack.append((curr.right, val+curr.right.val))\n",
    "            if curr.left:\n",
    "                stack.append((curr.left, val+curr.left.val))\n",
    "        return False"
   ]
  },
  {
   "cell_type": "markdown",
   "metadata": {},
   "source": [
    "3. DFS with queue"
   ]
  },
  {
   "cell_type": "code",
   "execution_count": null,
   "metadata": {},
   "outputs": [],
   "source": [
    "def hasPathSum(self, root, sum):\n",
    "    if not root:\n",
    "        return False\n",
    "    queue = [(root, sum-root.val)]\n",
    "    while queue:\n",
    "        curr, val = queue.pop(0)\n",
    "        if not curr.left and not curr.right and val == 0:\n",
    "            return True\n",
    "        if curr.left:\n",
    "            queue.append((curr.left, val-curr.left.val))\n",
    "        if curr.right:\n",
    "            queue.append((curr.right, val-curr.right.val))\n",
    "    return False"
   ]
  },
  {
   "cell_type": "code",
   "execution_count": null,
   "metadata": {},
   "outputs": [],
   "source": [
    "def hasPathSum1(self, root, sum):\n",
    "    if not root:\n",
    "        return False\n",
    "    if not root.left and not root.right and root.val == sum:\n",
    "        return True\n",
    "    return self.hasPathSum(root.left, sum-root.val) or self.hasPathSum(root.right, sum-root.val)"
   ]
  }
 ],
 "metadata": {
  "kernelspec": {
   "display_name": "Python 3",
   "language": "python",
   "name": "python3"
  },
  "language_info": {
   "codemirror_mode": {
    "name": "ipython",
    "version": 3
   },
   "file_extension": ".py",
   "mimetype": "text/x-python",
   "name": "python",
   "nbconvert_exporter": "python",
   "pygments_lexer": "ipython3",
   "version": "3.8.5"
  }
 },
 "nbformat": 4,
 "nbformat_minor": 4
}
