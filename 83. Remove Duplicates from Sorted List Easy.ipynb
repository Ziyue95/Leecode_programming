{
 "cells": [
  {
   "cell_type": "markdown",
   "metadata": {},
   "source": [
    "Given the head of a sorted linked list, delete all duplicates such that each element appears only once. Return the linked list sorted as well.\n",
    "\n",
    " \n",
    "\n",
    "Example 1:\n",
    "\n",
    "\n",
    "    Input: head = [1,1,2]\n",
    "    Output: [1,2]\n",
    "Example 2:\n",
    "\n",
    "\n",
    "    Input: head = [1,1,2,3,3]\n",
    "    Output: [1,2,3]\n",
    " \n",
    "\n",
    "Constraints:\n",
    "\n",
    "    The number of nodes in the list is in the range [0, 300].\n",
    "    -100 <= Node.val <= 100\n",
    "    The list is guaranteed to be sorted in ascending order."
   ]
  },
  {
   "cell_type": "markdown",
   "metadata": {},
   "source": [
    "My Solution:"
   ]
  },
  {
   "cell_type": "code",
   "execution_count": 31,
   "metadata": {},
   "outputs": [
    {
     "name": "stdout",
     "output_type": "stream",
     "text": [
      "[1, 2, 3, 4, 5, 6]\n"
     ]
    }
   ],
   "source": [
    "class ListNode(object):\n",
    "    def __init__(self, val=0, next=None):\n",
    "        self.val = val\n",
    "        self.next = next\n",
    "        \n",
    "def list_to_Node(lists):\n",
    "    poi = Node = ListNode(0,ListNode())\n",
    "    while len(lists) > 0:\n",
    "        poi = poi.next\n",
    "        poi.val = lists[0]\n",
    "        poi.next = ListNode()\n",
    "        lists = lists[1:]\n",
    "    poi.next = None\n",
    "    return Node.next\n",
    "\n",
    "def print_Node(Node):\n",
    "    lists = []\n",
    "    while Node is not None:\n",
    "        lists.append(Node.val)\n",
    "        Node = Node.next\n",
    "    print(lists)\n",
    "    \n",
    "class Solution:\n",
    "    def deleteDuplicates(self, head: ListNode) -> ListNode:\n",
    "        p1,p2 = head,head\n",
    "        while p2 is not None:\n",
    "            p2 = p2.next\n",
    "            while p2 is not None and p2.val == p1.val:\n",
    "                p2 = p2.next\n",
    "            p1.next = p2\n",
    "            p1 = p1.next\n",
    "        return head\n",
    "\n",
    "if __name__ == '__main__':\n",
    "    # begin\n",
    "    s = Solution()\n",
    "    print_Node(s.deleteDuplicates(list_to_Node([1,1,2,2,3,3,4,5,5,6]))) "
   ]
  },
  {
   "cell_type": "markdown",
   "metadata": {},
   "source": [
    "### Result\n",
    "Runtime: 36 ms, faster than 92.55% of Python3 online submissions for Remove Duplicates from Sorted List.\n",
    "    \n",
    "Memory Usage: 14.3 MB, less than 58.90% of Python3 online submissions for Remove Duplicates from Sorted List."
   ]
  },
  {
   "cell_type": "markdown",
   "metadata": {},
   "source": [
    "Other Solutions:"
   ]
  },
  {
   "cell_type": "code",
   "execution_count": 33,
   "metadata": {},
   "outputs": [],
   "source": [
    "class Solution:\n",
    "    def deleteDuplicates(self, head):\n",
    "        cur = head\n",
    "        while cur:\n",
    "            while cur.next and cur.next.val == cur.val:\n",
    "                cur.next = cur.next.next     # skip duplicated node\n",
    "            cur = cur.next     # not duplicate of current node, move to next node\n",
    "        return head"
   ]
  },
  {
   "cell_type": "markdown",
   "metadata": {},
   "source": [
    "### Result\n",
    "Runtime: 44 ms, faster than 48.24% of Python3 online submissions for Remove Duplicates from Sorted List.\n",
    "\n",
    "Memory Usage: 14.3 MB, less than 28.21% of Python3 online submissions for Remove Duplicates from Sorted List."
   ]
  }
 ],
 "metadata": {
  "kernelspec": {
   "display_name": "Python 3",
   "language": "python",
   "name": "python3"
  },
  "language_info": {
   "codemirror_mode": {
    "name": "ipython",
    "version": 3
   },
   "file_extension": ".py",
   "mimetype": "text/x-python",
   "name": "python",
   "nbconvert_exporter": "python",
   "pygments_lexer": "ipython3",
   "version": "3.8.5"
  }
 },
 "nbformat": 4,
 "nbformat_minor": 4
}
