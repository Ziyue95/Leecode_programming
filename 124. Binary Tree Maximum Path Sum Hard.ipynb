{
 "cells": [
  {
   "cell_type": "markdown",
   "id": "e01e8b68",
   "metadata": {},
   "source": [
    "Good Solution: Recursion with Memory"
   ]
  },
  {
   "cell_type": "code",
   "execution_count": null,
   "id": "418a78bc",
   "metadata": {},
   "outputs": [],
   "source": [
    "# Definition for a binary tree node.\n",
    "# class TreeNode:\n",
    "#     def __init__(self, val=0, left=None, right=None):\n",
    "#         self.val = val\n",
    "#         self.left = left\n",
    "#         self.right = right\n",
    "class Solution:\n",
    "    def maxPathSum(self, root: TreeNode) -> int:\n",
    "        global maxSum\n",
    "        maxSum = float(\"-inf\")\n",
    "        \n",
    "        def maxSumPath(root):\n",
    "            global maxSum\n",
    "            \n",
    "            if root is None:\n",
    "                return 0\n",
    "            leftMax = maxSumPath(root.left)\n",
    "            rightMax = maxSumPath(root.right)\n",
    "            maxRootSum = root.val + max(0, max(leftMax,rightMax))\n",
    "            maxSum = max(maxSum, max(maxRootSum, root.val + leftMax + rightMax))\n",
    "            return maxRootSum\n",
    "        \n",
    "        maxSumPath(root)\n",
    "        return maxSum"
   ]
  },
  {
   "cell_type": "markdown",
   "id": "a71e6196",
   "metadata": {},
   "source": [
    "Runtime: 92 ms, faster than 46.83% of Python3 online submissions for Binary Tree Maximum Path Sum.\n",
    "    \n",
    "Memory Usage: 21.8 MB, less than 35.02% of Python3 online submissions for Binary Tree Maximum Path Sum."
   ]
  }
 ],
 "metadata": {
  "kernelspec": {
   "display_name": "Python 3",
   "language": "python",
   "name": "python3"
  },
  "language_info": {
   "codemirror_mode": {
    "name": "ipython",
    "version": 3
   },
   "file_extension": ".py",
   "mimetype": "text/x-python",
   "name": "python",
   "nbconvert_exporter": "python",
   "pygments_lexer": "ipython3",
   "version": "3.8.8"
  }
 },
 "nbformat": 4,
 "nbformat_minor": 5
}
