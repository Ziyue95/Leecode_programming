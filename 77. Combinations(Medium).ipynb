{
 "cells": [
  {
   "cell_type": "markdown",
   "metadata": {},
   "source": [
    "Given two integers n and k, return all possible combinations of k numbers out of the range [1, n].\n",
    "\n",
    "You may return the answer in any order.\n",
    "\n",
    "Example 1:\n",
    "\n",
    "Input: n = 4, k = 2\n",
    "    \n",
    "Output:\n",
    "    \n",
    "[\n",
    "  [2,4],\n",
    "  [3,4],\n",
    "  [2,3],\n",
    "  [1,2],\n",
    "  [1,3],\n",
    "  [1,4],\n",
    "]\n",
    "\n",
    "Example 2:\n",
    "\n",
    "Input: n = 1, k = 1\n",
    "    \n",
    "Output: [[1]]\n",
    " \n",
    "\n",
    "Constraints:\n",
    "\n",
    "1 <= n <= 20\n",
    "\n",
    "1 <= k <= n"
   ]
  },
  {
   "cell_type": "markdown",
   "metadata": {},
   "source": [
    "My Solution:"
   ]
  },
  {
   "cell_type": "code",
   "execution_count": 3,
   "metadata": {},
   "outputs": [
    {
     "name": "stdout",
     "output_type": "stream",
     "text": [
      "[[1]]\n",
      "[[1, 2], [1, 3], [1, 4], [2, 3], [2, 4], [3, 4]]\n",
      "[[1, 2, 3], [1, 2, 4], [1, 2, 5], [1, 3, 4], [1, 3, 5], [1, 4, 5], [2, 3, 4], [2, 3, 5], [2, 4, 5], [3, 4, 5]]\n"
     ]
    }
   ],
   "source": [
    "class Solution(object):\n",
    "    def combine(self, n, k):\n",
    "        \"\"\"\n",
    "        :type n: int\n",
    "        :type k: int\n",
    "        :rtype: List[List[int]]\n",
    "        \"\"\"\n",
    "        def combine_from_m(m,n,k):\n",
    "            if n == m+k-1:\n",
    "                return [list(range(m,m+k))]\n",
    "            if k == 1:\n",
    "                 return [[i] for i in range(m,n+1)]\n",
    "            all_combs = []\n",
    "            for i in range(m,n-k+2):\n",
    "                all_combs.extend([[i] + item for item in combine_from_m(i+1,n,k-1)])\n",
    "            return all_combs\n",
    "        return combine_from_m(1,n,k)\n",
    "    \n",
    "if __name__ == '__main__':\n",
    "    # begin\n",
    "    s = Solution()\n",
    "    print(s.combine(1,1))\n",
    "    print(s.combine(4,2))\n",
    "    print(s.combine(5,3))"
   ]
  },
  {
   "cell_type": "markdown",
   "metadata": {},
   "source": [
    "### Result"
   ]
  },
  {
   "cell_type": "markdown",
   "metadata": {},
   "source": [
    "Runtime: 88 ms, faster than 81.67% of Python online submissions for Combinations.\n",
    "    \n",
    "Memory Usage: 15.2 MB, less than 28.71% of Python online submissions for Combinations."
   ]
  },
  {
   "cell_type": "markdown",
   "metadata": {},
   "source": [
    "Good Solutions:"
   ]
  },
  {
   "cell_type": "markdown",
   "metadata": {},
   "source": [
    "Using Back Tracking algorithm:"
   ]
  },
  {
   "cell_type": "code",
   "execution_count": 4,
   "metadata": {},
   "outputs": [
    {
     "name": "stdout",
     "output_type": "stream",
     "text": [
      "[[1]]\n",
      "[[1, 2], [1, 3], [1, 4], [2, 3], [2, 4], [3, 4]]\n",
      "[[1, 2, 3], [1, 2, 4], [1, 2, 5], [1, 3, 4], [1, 3, 5], [1, 4, 5], [2, 3, 4], [2, 3, 5], [2, 4, 5], [3, 4, 5]]\n"
     ]
    }
   ],
   "source": [
    "class Solution(object):\n",
    "    def combine(self, n, k):   \n",
    "        solution = []\n",
    "        \n",
    "        def backtracking(start,prev_path,remain):\n",
    "            if remain == 0:\n",
    "                #have to use copy() method since prev_path is changed by pop\n",
    "                solution.append(prev_path[:])\n",
    "            for i in range(start,n+1):\n",
    "                prev_path.append(i)\n",
    "                backtracking(i+1,prev_path,remain-1)\n",
    "                prev_path.pop()\n",
    "                \n",
    "        backtracking(1,[],k)   \n",
    "        return solution\n",
    "    \n",
    "if __name__ == '__main__':\n",
    "    # begin\n",
    "    s = Solution()\n",
    "    print(s.combine(1,1))\n",
    "    print(s.combine(4,2))\n",
    "    print(s.combine(5,3))"
   ]
  },
  {
   "cell_type": "markdown",
   "metadata": {},
   "source": [
    "### Result"
   ]
  },
  {
   "cell_type": "markdown",
   "metadata": {},
   "source": [
    "Runtime: 460 ms, faster than 67.55% of Python3 online submissions for Combinations.\n",
    "    \n",
    "Memory Usage: 15.5 MB, less than 93.14% of Python3 online submissions for Combinations."
   ]
  }
 ],
 "metadata": {
  "kernelspec": {
   "display_name": "Python 3",
   "language": "python",
   "name": "python3"
  },
  "language_info": {
   "codemirror_mode": {
    "name": "ipython",
    "version": 3
   },
   "file_extension": ".py",
   "mimetype": "text/x-python",
   "name": "python",
   "nbconvert_exporter": "python",
   "pygments_lexer": "ipython3",
   "version": "3.8.5"
  }
 },
 "nbformat": 4,
 "nbformat_minor": 4
}
