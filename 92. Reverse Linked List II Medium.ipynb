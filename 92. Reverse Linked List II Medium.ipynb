{
 "cells": [
  {
   "cell_type": "markdown",
   "metadata": {},
   "source": [
    "Given the head of a singly linked list and two integers left and right where left <= right, reverse the nodes of the list from position left to position right, and return the reversed list.\n",
    "\n",
    " \n",
    "\n",
    "Example 1:\n",
    "\n",
    "\n",
    "    Input: head = [1,2,3,4,5], left = 2, right = 4\n",
    "    Output: [1,4,3,2,5]\n",
    "Example 2:\n",
    "\n",
    "    Input: head = [5], left = 1, right = 1\n",
    "    Output: [5]\n",
    " \n",
    "\n",
    "Constraints:\n",
    "\n",
    "    The number of nodes in the list is n.\n",
    "    1 <= n <= 500\n",
    "    -500 <= Node.val <= 500\n",
    "    1 <= left <= right <= n"
   ]
  },
  {
   "cell_type": "markdown",
   "metadata": {},
   "source": [
    "My Solution:"
   ]
  },
  {
   "cell_type": "code",
   "execution_count": null,
   "metadata": {},
   "outputs": [],
   "source": [
    "# Definition for singly-linked list.\n",
    "# class ListNode:\n",
    "#     def __init__(self, val=0, next=None):\n",
    "#         self.val = val\n",
    "#         self.next = next\n",
    "class Solution:\n",
    "    def reverseBetween(self, head: ListNode, left: int, right: int) -> ListNode:\n",
    "        if left == right:\n",
    "            return head\n",
    "        prev = p1 = p2 = head = ListNode(-1,head)\n",
    "        diff = right - left\n",
    "        while left > 0:\n",
    "            p1 = p1.next\n",
    "            p2 = p2.next\n",
    "            if left > 1:\n",
    "                prev = prev.next\n",
    "            left -= 1\n",
    "        while diff > 0:\n",
    "            p2 = p2.next\n",
    "            diff -= 1\n",
    "        reversed_list = ListNode(p1.val,p2.next)\n",
    "        while p1 != p2:\n",
    "            reversed_list = ListNode(p1.next.val,reversed_list)\n",
    "            p1 = p1.next\n",
    "        prev.next = reversed_list\n",
    "        return head.next\n",
    "            "
   ]
  },
  {
   "cell_type": "markdown",
   "metadata": {},
   "source": [
    "Runtime: 40 ms, faster than 5.17% of Python3 online submissions for Reverse Linked List II.\n",
    "    \n",
    "Memory Usage: 14.3 MB, less than 70.78% of Python3 online submissions for Reverse Linked List II."
   ]
  },
  {
   "cell_type": "code",
   "execution_count": null,
   "metadata": {},
   "outputs": [],
   "source": []
  }
 ],
 "metadata": {
  "kernelspec": {
   "display_name": "Python 3",
   "language": "python",
   "name": "python3"
  },
  "language_info": {
   "codemirror_mode": {
    "name": "ipython",
    "version": 3
   },
   "file_extension": ".py",
   "mimetype": "text/x-python",
   "name": "python",
   "nbconvert_exporter": "python",
   "pygments_lexer": "ipython3",
   "version": "3.8.5"
  }
 },
 "nbformat": 4,
 "nbformat_minor": 4
}
