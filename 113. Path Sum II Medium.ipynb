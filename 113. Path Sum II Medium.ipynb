{
 "cells": [
  {
   "cell_type": "markdown",
   "id": "64b66874",
   "metadata": {},
   "source": [
    "Given the root of a binary tree and an integer targetSum, return all root-to-leaf paths where each path's sum equals targetSum.\n",
    "\n",
    "A leaf is a node with no children.\n",
    "\n",
    " \n",
    "\n",
    "Example 1:\n",
    "\n",
    "\n",
    "    Input: root = [5,4,8,11,null,13,4,7,2,null,null,5,1], targetSum = 22\n",
    "    Output: [[5,4,11,2],[5,8,4,5]]\n",
    "Example 2:\n",
    "\n",
    "\n",
    "    Input: root = [1,2,3], targetSum = 5\n",
    "    Output: []\n",
    "Example 3:\n",
    "\n",
    "    Input: root = [1,2], targetSum = 0\n",
    "    Output: []\n",
    " \n",
    "\n",
    "Constraints:\n",
    "\n",
    "    The number of nodes in the tree is in the range [0, 5000].\n",
    "    -1000 <= Node.val <= 1000\n",
    "    -1000 <= targetSum <= 1000"
   ]
  },
  {
   "cell_type": "markdown",
   "id": "64afe406",
   "metadata": {},
   "source": [
    "My Solution: Using in-oder traversal"
   ]
  },
  {
   "cell_type": "code",
   "execution_count": null,
   "id": "1bd80e71",
   "metadata": {},
   "outputs": [],
   "source": [
    "# Definition for a binary tree node.\n",
    "# class TreeNode:\n",
    "#     def __init__(self, val=0, left=None, right=None):\n",
    "#         self.val = val\n",
    "#         self.left = left\n",
    "#         self.right = right\n",
    "class Solution:\n",
    "    def pathSum(self, root: TreeNode, targetSum: int) -> List[List[int]]:\n",
    "        def is_leaf(node):\n",
    "            return True if not node.left and not node.right else False \n",
    "        All_paths = []\n",
    "        stack = []\n",
    "        path = []\n",
    "        while root or stack:\n",
    "            while root:\n",
    "                path += [root.val]\n",
    "                stack.append((root,path.copy()))\n",
    "                root = root.left\n",
    "            root,path = stack.pop()\n",
    "            if is_leaf(root) and sum(path) == targetSum:\n",
    "                All_paths.append(path)\n",
    "            root = root.right\n",
    "        return All_paths"
   ]
  },
  {
   "cell_type": "markdown",
   "id": "0890848b",
   "metadata": {},
   "source": [
    "Runtime: 52 ms, faster than 24.70% of Python3 online submissions for Path Sum II.\n",
    "    \n",
    "Memory Usage: 18.9 MB, less than 42.33% of Python3 online submissions for Path Sum II."
   ]
  },
  {
   "cell_type": "code",
   "execution_count": null,
   "id": "08065789",
   "metadata": {},
   "outputs": [],
   "source": []
  }
 ],
 "metadata": {
  "kernelspec": {
   "display_name": "Python 3",
   "language": "python",
   "name": "python3"
  },
  "language_info": {
   "codemirror_mode": {
    "name": "ipython",
    "version": 3
   },
   "file_extension": ".py",
   "mimetype": "text/x-python",
   "name": "python",
   "nbconvert_exporter": "python",
   "pygments_lexer": "ipython3",
   "version": "3.8.8"
  }
 },
 "nbformat": 4,
 "nbformat_minor": 5
}
