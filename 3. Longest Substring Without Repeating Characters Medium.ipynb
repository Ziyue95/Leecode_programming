{
 "cells": [
  {
   "cell_type": "markdown",
   "metadata": {},
   "source": [
    "Given a string s, find the length of the longest substring without repeating characters.\n",
    "\n",
    " \n",
    "\n",
    "Example 1:\n",
    "\n",
    "    Input: s = \"abcabcbb\"\n",
    "    Output: 3\n",
    "    Explanation: The answer is \"abc\", with the length of 3.\n",
    "Example 2:\n",
    "\n",
    "    Input: s = \"bbbbb\"\n",
    "    Output: 1\n",
    "    Explanation: The answer is \"b\", with the length of 1.\n",
    "Example 3:\n",
    "\n",
    "    Input: s = \"pwwkew\"\n",
    "    Output: 3\n",
    "    Explanation: The answer is \"wke\", with the length of 3.\n",
    "    Notice that the answer must be a substring, \"pwke\" is a subsequence and not a substring.\n",
    "Example 4:\n",
    "\n",
    "    Input: s = \"\"\n",
    "    Output: 0\n",
    " \n",
    "\n",
    "Constraints:\n",
    "\n",
    "    0 <= s.length <= 5 * 10**4\n",
    "    s consists of English letters, digits, symbols and spaces."
   ]
  },
  {
   "cell_type": "markdown",
   "metadata": {},
   "source": [
    "My Solution:"
   ]
  },
  {
   "cell_type": "code",
   "execution_count": null,
   "metadata": {},
   "outputs": [],
   "source": [
    "class Solution:\n",
    "    def lengthOfLongestSubstring(self, s: str) -> int:\n",
    "        current_string = \"\"\n",
    "        longest = 0\n",
    "        for i in s:\n",
    "            if i not in current_string:\n",
    "                current_string += i\n",
    "            else:\n",
    "                longest = max(longest,len(current_string))\n",
    "                current_string = current_string[current_string.index(i)+1:] + i\n",
    "        longest = max(longest,len(current_string))\n",
    "        return longest"
   ]
  },
  {
   "cell_type": "markdown",
   "metadata": {},
   "source": [
    "### Result\n",
    "Runtime: 44 ms, faster than 98.59% of Python3 online submissions for Longest Substring Without Repeating Characters.\n",
    "\n",
    "Memory Usage: 14.3 MB, less than 54.84% of Python3 online submissions for Longest Substring Without Repeating Characters."
   ]
  }
 ],
 "metadata": {
  "kernelspec": {
   "display_name": "Python 3",
   "language": "python",
   "name": "python3"
  },
  "language_info": {
   "codemirror_mode": {
    "name": "ipython",
    "version": 3
   },
   "file_extension": ".py",
   "mimetype": "text/x-python",
   "name": "python",
   "nbconvert_exporter": "python",
   "pygments_lexer": "ipython3",
   "version": "3.8.5"
  }
 },
 "nbformat": 4,
 "nbformat_minor": 4
}
