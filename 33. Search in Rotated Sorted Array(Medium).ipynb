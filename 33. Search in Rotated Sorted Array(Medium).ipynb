{
 "cells": [
  {
   "cell_type": "markdown",
   "metadata": {},
   "source": [
    "There is an integer array nums sorted in ascending order (with distinct values).\n",
    "\n",
    "Prior to being passed to your function, nums is rotated at an unknown pivot index k (0 <= k < nums.length) such that the resulting array is [nums[k], nums[k+1], ..., nums[n-1], nums[0], nums[1], ..., nums[k-1]] (0-indexed). For example, [0,1,2,4,5,6,7] might be rotated at pivot index 3 and become [4,5,6,7,0,1,2].\n",
    "\n",
    "Given the array nums after the rotation and an integer target, return the index of target if it is in nums, or -1 if it is not in nums.\n",
    "\n",
    " \n",
    "\n",
    "Example 1:\n",
    "\n",
    "    Input: nums = [4,5,6,7,0,1,2], target = 0\n",
    "    Output: 4\n",
    "Example 2:\n",
    "\n",
    "    Input: nums = [4,5,6,7,0,1,2], target = 3\n",
    "    Output: -1\n",
    "Example 3:\n",
    "\n",
    "    Input: nums = [1], target = 0\n",
    "    Output: -1\n",
    " \n",
    "\n",
    "Constraints:\n",
    "\n",
    "    1 <= nums.length <= 5000\n",
    "    -10**4 <= nums[i] <= 10**4\n",
    "    All values of nums are unique.\n",
    "    nums is guaranteed to be rotated at some pivot.\n",
    "    -10**4 <= target <= 10**4"
   ]
  },
  {
   "cell_type": "markdown",
   "metadata": {},
   "source": [
    "My Solution:"
   ]
  },
  {
   "cell_type": "code",
   "execution_count": null,
   "metadata": {},
   "outputs": [],
   "source": [
    "class Solution:\n",
    "    def search(self, nums: List[int], target: int) -> int:\n",
    "        if nums is None:\n",
    "            return -1\n",
    "        l,r = 0,len(nums)-1\n",
    "        while l<=r:\n",
    "            mid = (l+r)//2\n",
    "            if nums[mid] == target:\n",
    "                return mid\n",
    "            # if rotate axis is right to the nums[mid]\n",
    "            if nums[mid] >= nums[l]:\n",
    "                if nums[l] <= target <= nums[mid]:\n",
    "                    r=mid-1\n",
    "                else:\n",
    "                    l = mid + 1\n",
    "            # if rotate axis is left to the nums[mid]\n",
    "            else:\n",
    "                if nums[mid] <= target <= nums[r]:\n",
    "                    l = mid + 1\n",
    "                else:\n",
    "                    r = mid -1\n",
    "        return -1"
   ]
  },
  {
   "cell_type": "markdown",
   "metadata": {},
   "source": [
    "### Result\n",
    "Runtime: 40 ms, faster than 69.68% of Python3 online submissions for Search in Rotated Sorted Array.\n",
    "\n",
    "Memory Usage: 14.7 MB, less than 22.06% of Python3 online submissions for Search in Rotated Sorted Array."
   ]
  }
 ],
 "metadata": {
  "kernelspec": {
   "display_name": "Python 3",
   "language": "python",
   "name": "python3"
  },
  "language_info": {
   "codemirror_mode": {
    "name": "ipython",
    "version": 3
   },
   "file_extension": ".py",
   "mimetype": "text/x-python",
   "name": "python",
   "nbconvert_exporter": "python",
   "pygments_lexer": "ipython3",
   "version": "3.8.5"
  }
 },
 "nbformat": 4,
 "nbformat_minor": 4
}
